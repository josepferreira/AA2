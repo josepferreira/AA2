{
 "cells": [
  {
   "cell_type": "markdown",
   "metadata": {},
   "source": [
    "## Carregamento dos dados\n",
    "\n",
    "* **Foi ser necessário carregar por fases, visto que são muitos dados**"
   ]
  },
  {
   "cell_type": "code",
   "execution_count": 1,
   "metadata": {},
   "outputs": [],
   "source": [
    "import pandas as pd"
   ]
  },
  {
   "cell_type": "markdown",
   "metadata": {},
   "source": [
    "### Função que verifica a existencia de valores nulos e conta-os por coluna. Para além disso junta as linhas completas"
   ]
  },
  {
   "cell_type": "code",
   "execution_count": 2,
   "metadata": {},
   "outputs": [],
   "source": [
    "def processa_chunk(ms, valores, ds):\n",
    "    if(valores is None): valores = ms.isnull().sum()\n",
    "    else: valores += ms.isnull().sum()\n",
    "        \n",
    "    if(ds is None): ds = ms.dropna()\n",
    "    else: ds = pd.concat([ds,ms.dropna()],ignore_index=True)\n",
    "    print('feito')\n",
    "    return (valores, ds)"
   ]
  },
  {
   "cell_type": "code",
   "execution_count": 3,
   "metadata": {},
   "outputs": [
    {
     "name": "stdout",
     "output_type": "stream",
     "text": [
      "feito\n",
      "feito\n",
      "feito\n",
      "feito\n",
      "feito\n",
      "feito\n",
      "feito\n",
      "feito\n",
      "feito\n",
      "feito\n",
      "feito\n",
      "feito\n",
      "feito\n",
      "feito\n",
      "feito\n",
      "feito\n",
      "feito\n",
      "feito\n"
     ]
    }
   ],
   "source": [
    "chunksize = 0.5 * (10 ** 6)\n",
    "nlinhas = 0\n",
    "valores = None\n",
    "ds = None\n",
    "for ms in pd.read_csv('../train.csv', low_memory=False, chunksize = chunksize):\n",
    "    nlinhas += ms.shape[0]\n",
    "    (valores, ds) = processa_chunk(ms, valores, ds)"
   ]
  },
  {
   "cell_type": "markdown",
   "metadata": {},
   "source": [
    "#### Transforma o número de valores nulos em percentagem"
   ]
  },
  {
   "cell_type": "code",
   "execution_count": 4,
   "metadata": {},
   "outputs": [],
   "source": [
    "valores\n",
    "percentagem = valores / nlinhas"
   ]
  },
  {
   "cell_type": "markdown",
   "metadata": {},
   "source": [
    "#### Remove as que têm 0 valores nulos"
   ]
  },
  {
   "cell_type": "code",
   "execution_count": 5,
   "metadata": {},
   "outputs": [],
   "source": [
    "type(percentagem)\n",
    "percentagem = percentagem[percentagem != 0]"
   ]
  },
  {
   "cell_type": "markdown",
   "metadata": {},
   "source": [
    "#### Divide as colunas em percentagem de valores nulos:\n",
    "\n",
    "- 0% a 25%: baixa\n",
    "- 25% a 50%: média baixa\n",
    "- 50% a 75%: média alta\n",
    "- 75% a 100%: alta"
   ]
  },
  {
   "cell_type": "code",
   "execution_count": 6,
   "metadata": {},
   "outputs": [],
   "source": [
    "alta = percentagem[percentagem >= 0.75]\n",
    "mediaAlta = percentagem[(percentagem >= 0.5) & (percentagem < 0.75)]\n",
    "mediaBaixa = percentagem[(percentagem >= 0.25) & (percentagem < 0.5)]\n",
    "baixa = percentagem[percentagem < 0.25]"
   ]
  },
  {
   "cell_type": "code",
   "execution_count": 7,
   "metadata": {
    "scrolled": true
   },
   "outputs": [
    {
     "data": {
      "text/plain": [
       "DefaultBrowsersIdentifier     0.951416\n",
       "PuaMode                       0.999741\n",
       "Census_ProcessorClass         0.995894\n",
       "Census_IsFlightingInternal    0.830440\n",
       "dtype: float64"
      ]
     },
     "execution_count": 7,
     "metadata": {},
     "output_type": "execute_result"
    }
   ],
   "source": [
    "alta"
   ]
  },
  {
   "cell_type": "code",
   "execution_count": 8,
   "metadata": {
    "scrolled": true
   },
   "outputs": [
    {
     "data": {
      "text/plain": [
       "Census_InternalBatteryType    0.710468\n",
       "Census_ThresholdOptIn         0.635245\n",
       "Census_IsWIMBootEnabled       0.634390\n",
       "dtype: float64"
      ]
     },
     "execution_count": 8,
     "metadata": {},
     "output_type": "execute_result"
    }
   ],
   "source": [
    "mediaAlta"
   ]
  },
  {
   "cell_type": "code",
   "execution_count": 9,
   "metadata": {},
   "outputs": [
    {
     "data": {
      "text/plain": [
       "OrganizationIdentifier    0.308415\n",
       "SmartScreen               0.356108\n",
       "dtype: float64"
      ]
     },
     "execution_count": 9,
     "metadata": {},
     "output_type": "execute_result"
    }
   ],
   "source": [
    "mediaBaixa"
   ]
  },
  {
   "cell_type": "code",
   "execution_count": 10,
   "metadata": {},
   "outputs": [
    {
     "data": {
      "text/plain": [
       "RtpStateBitfield                                     0.003622\n",
       "AVProductStatesIdentifier                            0.004060\n",
       "AVProductsInstalled                                  0.004060\n",
       "AVProductsEnabled                                    0.004060\n",
       "CityIdentifier                                       0.036475\n",
       "GeoNameIdentifier                                    0.000024\n",
       "OsBuildLab                                           0.000002\n",
       "IsProtected                                          0.004040\n",
       "SMode                                                0.060277\n",
       "IeVerIdentifier                                      0.006601\n",
       "Firewall                                             0.010239\n",
       "UacLuaenable                                         0.001215\n",
       "Census_OEMNameIdentifier                             0.010702\n",
       "Census_OEMModelIdentifier                            0.011459\n",
       "Census_ProcessorCoreCount                            0.004630\n",
       "Census_ProcessorManufacturerIdentifier               0.004631\n",
       "Census_ProcessorModelIdentifier                      0.004634\n",
       "Census_PrimaryDiskTotalCapacity                      0.005943\n",
       "Census_PrimaryDiskTypeName                           0.001440\n",
       "Census_SystemVolumeTotalCapacity                     0.005941\n",
       "Census_TotalPhysicalRAM                              0.009027\n",
       "Census_ChassisTypeName                               0.000070\n",
       "Census_InternalPrimaryDiagonalDisplaySizeInInches    0.005283\n",
       "Census_InternalPrimaryDisplayResolutionHorizontal    0.005267\n",
       "Census_InternalPrimaryDisplayResolutionVertical      0.005267\n",
       "Census_PowerPlatformRoleName                         0.000006\n",
       "Census_InternalBatteryNumberOfCharges                0.030124\n",
       "Census_OSInstallLanguageIdentifier                   0.006735\n",
       "Census_IsFlightsDisabled                             0.017993\n",
       "Census_FirmwareManufacturerIdentifier                0.020541\n",
       "Census_FirmwareVersionIdentifier                     0.017949\n",
       "Census_IsVirtualDevice                               0.001788\n",
       "Census_IsAlwaysOnAlwaysConnectedCapable              0.007997\n",
       "Wdft_IsGamer                                         0.034014\n",
       "Wdft_RegionIdentifier                                0.034014\n",
       "dtype: float64"
      ]
     },
     "execution_count": 10,
     "metadata": {},
     "output_type": "execute_result"
    }
   ],
   "source": [
    "baixa"
   ]
  },
  {
   "cell_type": "markdown",
   "metadata": {},
   "source": [
    "### Verifica quantas linhas completas existem no dataset"
   ]
  },
  {
   "cell_type": "code",
   "execution_count": 11,
   "metadata": {},
   "outputs": [
    {
     "data": {
      "text/html": [
       "<div>\n",
       "<style scoped>\n",
       "    .dataframe tbody tr th:only-of-type {\n",
       "        vertical-align: middle;\n",
       "    }\n",
       "\n",
       "    .dataframe tbody tr th {\n",
       "        vertical-align: top;\n",
       "    }\n",
       "\n",
       "    .dataframe thead th {\n",
       "        text-align: right;\n",
       "    }\n",
       "</style>\n",
       "<table border=\"1\" class=\"dataframe\">\n",
       "  <thead>\n",
       "    <tr style=\"text-align: right;\">\n",
       "      <th></th>\n",
       "      <th>MachineIdentifier</th>\n",
       "      <th>ProductName</th>\n",
       "      <th>EngineVersion</th>\n",
       "      <th>AppVersion</th>\n",
       "      <th>AvSigVersion</th>\n",
       "      <th>IsBeta</th>\n",
       "      <th>RtpStateBitfield</th>\n",
       "      <th>IsSxsPassiveMode</th>\n",
       "      <th>DefaultBrowsersIdentifier</th>\n",
       "      <th>AVProductStatesIdentifier</th>\n",
       "      <th>...</th>\n",
       "      <th>Census_FirmwareVersionIdentifier</th>\n",
       "      <th>Census_IsSecureBootEnabled</th>\n",
       "      <th>Census_IsWIMBootEnabled</th>\n",
       "      <th>Census_IsVirtualDevice</th>\n",
       "      <th>Census_IsTouchEnabled</th>\n",
       "      <th>Census_IsPenCapable</th>\n",
       "      <th>Census_IsAlwaysOnAlwaysConnectedCapable</th>\n",
       "      <th>Wdft_IsGamer</th>\n",
       "      <th>Wdft_RegionIdentifier</th>\n",
       "      <th>HasDetections</th>\n",
       "    </tr>\n",
       "  </thead>\n",
       "  <tbody>\n",
       "  </tbody>\n",
       "</table>\n",
       "<p>0 rows × 83 columns</p>\n",
       "</div>"
      ],
      "text/plain": [
       "Empty DataFrame\n",
       "Columns: [MachineIdentifier, ProductName, EngineVersion, AppVersion, AvSigVersion, IsBeta, RtpStateBitfield, IsSxsPassiveMode, DefaultBrowsersIdentifier, AVProductStatesIdentifier, AVProductsInstalled, AVProductsEnabled, HasTpm, CountryIdentifier, CityIdentifier, OrganizationIdentifier, GeoNameIdentifier, LocaleEnglishNameIdentifier, Platform, Processor, OsVer, OsBuild, OsSuite, OsPlatformSubRelease, OsBuildLab, SkuEdition, IsProtected, AutoSampleOptIn, PuaMode, SMode, IeVerIdentifier, SmartScreen, Firewall, UacLuaenable, Census_MDC2FormFactor, Census_DeviceFamily, Census_OEMNameIdentifier, Census_OEMModelIdentifier, Census_ProcessorCoreCount, Census_ProcessorManufacturerIdentifier, Census_ProcessorModelIdentifier, Census_ProcessorClass, Census_PrimaryDiskTotalCapacity, Census_PrimaryDiskTypeName, Census_SystemVolumeTotalCapacity, Census_HasOpticalDiskDrive, Census_TotalPhysicalRAM, Census_ChassisTypeName, Census_InternalPrimaryDiagonalDisplaySizeInInches, Census_InternalPrimaryDisplayResolutionHorizontal, Census_InternalPrimaryDisplayResolutionVertical, Census_PowerPlatformRoleName, Census_InternalBatteryType, Census_InternalBatteryNumberOfCharges, Census_OSVersion, Census_OSArchitecture, Census_OSBranch, Census_OSBuildNumber, Census_OSBuildRevision, Census_OSEdition, Census_OSSkuName, Census_OSInstallTypeName, Census_OSInstallLanguageIdentifier, Census_OSUILocaleIdentifier, Census_OSWUAutoUpdateOptionsName, Census_IsPortableOperatingSystem, Census_GenuineStateName, Census_ActivationChannel, Census_IsFlightingInternal, Census_IsFlightsDisabled, Census_FlightRing, Census_ThresholdOptIn, Census_FirmwareManufacturerIdentifier, Census_FirmwareVersionIdentifier, Census_IsSecureBootEnabled, Census_IsWIMBootEnabled, Census_IsVirtualDevice, Census_IsTouchEnabled, Census_IsPenCapable, Census_IsAlwaysOnAlwaysConnectedCapable, Wdft_IsGamer, Wdft_RegionIdentifier, HasDetections]\n",
       "Index: []\n",
       "\n",
       "[0 rows x 83 columns]"
      ]
     },
     "execution_count": 11,
     "metadata": {},
     "output_type": "execute_result"
    }
   ],
   "source": [
    "ds"
   ]
  }
 ],
 "metadata": {
  "kernelspec": {
   "display_name": "Python 3",
   "language": "python",
   "name": "python3"
  },
  "language_info": {
   "codemirror_mode": {
    "name": "ipython",
    "version": 3
   },
   "file_extension": ".py",
   "mimetype": "text/x-python",
   "name": "python",
   "nbconvert_exporter": "python",
   "pygments_lexer": "ipython3",
   "version": "3.6.7"
  }
 },
 "nbformat": 4,
 "nbformat_minor": 2
}
