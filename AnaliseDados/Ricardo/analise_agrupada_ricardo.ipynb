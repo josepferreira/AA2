{
 "cells": [
  {
   "cell_type": "markdown",
   "metadata": {},
   "source": [
    "- **PuaMode** - Pua Enabled mode from the service\n",
    "- **SMode** - This field is set to true when the device is known to be in 'S Mode', as in, Windows 10 S mode, where only Microsoft Store apps can be installed\n",
    "- **IeVerIdentifier** - NA\n",
    "- **SmartScreen** - This is the SmartScreen enabled string value from registry. This is obtained by checking in order, HKLM\\SOFTWARE\\Policies\\Microsoft\\Windows\\System\\SmartScreenEnabled and HKLM\\SOFTWARE\\Microsoft\\Windows\\CurrentVersion\\Explorer\\SmartScreenEnabled. If the value exists but is blank, the value \"ExistsNotSet\" is sent in telemetry.\n",
    "- **Firewall** - This attribute is true (1) for Windows 8.1 and above if windows firewall is enabled, as reported by the service.\n",
    "- **UacLuaenable** - This attribute reports whether or not the \"administrator in Admin Approval Mode\" user type is disabled or enabled in UAC. The value reported is obtained by reading the regkey HKLM\\SOFTWARE\\Microsoft\\Windows\\CurrentVersion\\Policies\\System\\EnableLUA.\n",
    "- **Census_MDC2FormFactor** - A grouping based on a combination of Device Census level hardware characteristics. The logic used to define Form Factor is rooted in business and industry standards and aligns with how people think about their device. (Examples: Smartphone, Small Tablet, All in One, Convertible...)\n",
    "- **Census_DeviceFamily** - AKA DeviceClass. Indicates the type of device that an edition of the OS is intended for. Example values: Windows.Desktop, Windows.Mobile, and iOS.Phone\n",
    "- **Census_OEMNameIdentifier** - NA\n",
    "- **Census_OEMModelIdentifier** - NA\n",
    "- **Census_ProcessorCoreCount** - Number of logical cores in the processor\n",
    "- **Census_ProcessorManufacturerIdentifier** - NA\n",
    "- **Census_ProcessorModelIdentifier** - NA\n",
    "- **Census_ProcessorClass** - A classification of processors into high/medium/low. Initially used for Pricing Level SKU. No longer maintained and updated\n",
    "- **Census_PrimaryDiskTotalCapacity** - Amount of disk space on primary disk of the machine in MB\n",
    "- **Census_PrimaryDiskTypeName** - Friendly name of Primary Disk Type - HDD or SSD\n",
    "- **Census_SystemVolumeTotalCapacity** - The size of the partition that the System volume is installed on in MB\n",
    "- **Census_HasOpticalDiskDrive** - True indicates that the machine has an optical disk drive (CD/DVD)\n",
    "- **Census_TotalPhysicalRAM** - Retrieves the physical RAM in MB\n",
    "- **Census_ChassisTypeName** - Retrieves a numeric representation of what type of chassis the machine has. A value of 0 means xx\n",
    "- **Census_InternalPrimaryDiagonalDisplaySizeInInches** - Retrieves the physical diagonal length in inches of the primary display\n",
    "- **Census_InternalPrimaryDisplayResolutionHorizontal** - Retrieves the number of pixels in the horizontal direction of the internal display.\n",
    "- **Census_InternalPrimaryDisplayResolutionVertical** - Retrieves the number of pixels in the vertical direction of the internal display\n",
    "- **Census_PowerPlatformRoleName** - Indicates the OEM preferred power management profile. This value helps identify the basic form factor of the device\n",
    "- **Census_InternalBatteryType** - NA\n",
    "- **Census_InternalBatteryNumberOfCharges** - NA\n",
    "- **Census_OSVersion** - Numeric OS version Example - 10.0.10130.0"
   ]
  },
  {
   "cell_type": "code",
   "execution_count": 44,
   "metadata": {},
   "outputs": [],
   "source": [
    "import pandas as pd\n",
    "\n",
    "def processa_chunk(ms, valores):\n",
    "    if(valores is None):\n",
    "        valores = {}\n",
    "        for v in ms.columns:\n",
    "            valores.update({v: ms[v].value_counts(dropna=False)})\n",
    "    else:\n",
    "        for v in ms.columns:\n",
    "            valores[v] =  pd.concat([valores[v],ms[v].value_counts(dropna=False)]).groupby(level=0).sum()\n",
    "    return valores"
   ]
  },
  {
   "cell_type": "code",
   "execution_count": 45,
   "metadata": {},
   "outputs": [],
   "source": [
    "meio = ['PuaMode',\n",
    "       'SMode', 'IeVerIdentifier', 'SmartScreen', 'Firewall', 'UacLuaenable',\n",
    "       'Census_MDC2FormFactor', 'Census_DeviceFamily',\n",
    "       'Census_OEMNameIdentifier', 'Census_OEMModelIdentifier',\n",
    "       'Census_ProcessorCoreCount', 'Census_ProcessorManufacturerIdentifier',\n",
    "       'Census_ProcessorModelIdentifier', 'Census_ProcessorClass',\n",
    "       'Census_PrimaryDiskTotalCapacity', 'Census_PrimaryDiskTypeName',\n",
    "       'Census_SystemVolumeTotalCapacity', 'Census_HasOpticalDiskDrive',\n",
    "       'Census_TotalPhysicalRAM', 'Census_ChassisTypeName',\n",
    "       'Census_InternalPrimaryDiagonalDisplaySizeInInches',\n",
    "       'Census_InternalPrimaryDisplayResolutionHorizontal',\n",
    "       'Census_InternalPrimaryDisplayResolutionVertical',\n",
    "       'Census_PowerPlatformRoleName', 'Census_InternalBatteryType',\n",
    "       'Census_InternalBatteryNumberOfCharges', 'Census_OSVersion']\n"
   ]
  },
  {
   "cell_type": "code",
   "execution_count": 46,
   "metadata": {},
   "outputs": [],
   "source": [
    "valores = None\n",
    "ms = pd.read_csv('../../../sample_train.csv', low_memory=False)\n",
    "nLinhas = ms.shape[0]\n",
    "valores = processa_chunk(ms,valores)"
   ]
  },
  {
   "cell_type": "code",
   "execution_count": 47,
   "metadata": {},
   "outputs": [
    {
     "data": {
      "text/plain": [
       "(600000, 27)"
      ]
     },
     "execution_count": 47,
     "metadata": {},
     "output_type": "execute_result"
    }
   ],
   "source": [
    "ms = ms[meio]\n",
    "ms.shape"
   ]
  },
  {
   "cell_type": "code",
   "execution_count": 48,
   "metadata": {},
   "outputs": [
    {
     "name": "stdout",
     "output_type": "stream",
     "text": [
      "Percentagem de NAs: \n",
      "PuaMode: 99.97716666666666%\n",
      "SMode: 6.0155%\n",
      "IeVerIdentifier: 0.6641666666666667%\n",
      "SmartScreen: 35.611333333333334%\n",
      "Firewall: 1.0311666666666666%\n",
      "UacLuaenable: 0.1175%\n",
      "Census_OEMNameIdentifier: 1.0676666666666668%\n",
      "Census_OEMModelIdentifier: 1.1478333333333333%\n",
      "Census_ProcessorCoreCount: 0.4821666666666667%\n",
      "Census_ProcessorManufacturerIdentifier: 0.4821666666666667%\n",
      "Census_ProcessorModelIdentifier: 0.4821666666666667%\n",
      "Census_ProcessorClass: 99.58683333333333%\n",
      "Census_PrimaryDiskTotalCapacity: 0.6208333333333333%\n",
      "Census_PrimaryDiskTypeName: 0.14833333333333334%\n",
      "Census_SystemVolumeTotalCapacity: 0.6206666666666667%\n",
      "Census_TotalPhysicalRAM: 0.9355%\n",
      "Census_ChassisTypeName: 0.0075%\n",
      "Census_InternalPrimaryDiagonalDisplaySizeInInches: 0.5431666666666667%\n",
      "Census_InternalPrimaryDisplayResolutionHorizontal: 0.5421666666666667%\n",
      "Census_InternalPrimaryDisplayResolutionVertical: 0.5421666666666667%\n",
      "Census_PowerPlatformRoleName: 0.0008333333333333334%\n",
      "Census_InternalBatteryType: 71.05283333333334%\n",
      "Census_InternalBatteryNumberOfCharges: 3.0425%\n"
     ]
    }
   ],
   "source": [
    "### ver os valores nulos\n",
    "print(\"Percentagem de NAs: \")\n",
    "for col in ms:    \n",
    "    percent_missing = ms[col].isnull().sum() * 100 / nLinhas\n",
    "    if (percent_missing > 0):\n",
    "        print(str(col) + \": \" + str(percent_missing)+ \"%\")"
   ]
  },
  {
   "cell_type": "code",
   "execution_count": 49,
   "metadata": {},
   "outputs": [
    {
     "name": "stdout",
     "output_type": "stream",
     "text": [
      "A coluna PuaMode tem: 2 valores diferentes\n",
      "A coluna SMode tem: 3 valores diferentes\n",
      "A coluna IeVerIdentifier tem: 190 valores diferentes\n",
      "A coluna SmartScreen tem: 14 valores diferentes\n",
      "A coluna Firewall tem: 3 valores diferentes\n",
      "A coluna UacLuaenable tem: 8 valores diferentes\n",
      "A coluna Census_MDC2FormFactor tem: 12 valores diferentes\n",
      "A coluna Census_DeviceFamily tem: 3 valores diferentes\n",
      "A coluna Census_OEMNameIdentifier tem: 1665 valores diferentes\n",
      "A coluna Census_OEMModelIdentifier tem: 45095 valores diferentes\n",
      "A coluna Census_ProcessorCoreCount tem: 29 valores diferentes\n",
      "A coluna Census_ProcessorManufacturerIdentifier tem: 5 valores diferentes\n",
      "A coluna Census_ProcessorModelIdentifier tem: 2332 valores diferentes\n",
      "A coluna Census_ProcessorClass tem: 4 valores diferentes\n",
      "A coluna Census_PrimaryDiskTotalCapacity tem: 1194 valores diferentes\n",
      "A coluna Census_PrimaryDiskTypeName tem: 5 valores diferentes\n",
      "A coluna Census_SystemVolumeTotalCapacity tem: 158821 valores diferentes\n",
      "A coluna Census_HasOpticalDiskDrive tem: 2 valores diferentes\n",
      "A coluna Census_TotalPhysicalRAM tem: 627 valores diferentes\n",
      "A coluna Census_ChassisTypeName tem: 36 valores diferentes\n",
      "A coluna Census_InternalPrimaryDiagonalDisplaySizeInInches tem: 509 valores diferentes\n",
      "A coluna Census_InternalPrimaryDisplayResolutionHorizontal tem: 540 valores diferentes\n",
      "A coluna Census_InternalPrimaryDisplayResolutionVertical tem: 569 valores diferentes\n",
      "A coluna Census_PowerPlatformRoleName tem: 10 valores diferentes\n",
      "A coluna Census_InternalBatteryType tem: 31 valores diferentes\n",
      "A coluna Census_InternalBatteryNumberOfCharges tem: 5948 valores diferentes\n",
      "A coluna Census_OSVersion tem: 305 valores diferentes\n"
     ]
    }
   ],
   "source": [
    "### ver o tipo e a diversidade de valores\n",
    "for col in ms:\n",
    "    nome = ms[col].unique()\n",
    "    print(\"A coluna \" + str(col) + \" tem: \" + str(len(nome)) + \" valores diferentes\")  "
   ]
  },
  {
   "cell_type": "code",
   "execution_count": 69,
   "metadata": {},
   "outputs": [
    {
     "data": {
      "text/plain": [
       "600000"
      ]
     },
     "execution_count": 69,
     "metadata": {},
     "output_type": "execute_result"
    }
   ],
   "source": [
    "ms = pd.read_csv('../../../sample_train.csv', low_memory=False)\n",
    "ms.shape[0]"
   ]
  },
  {
   "cell_type": "code",
   "execution_count": 64,
   "metadata": {},
   "outputs": [],
   "source": [
    "import scipy.stats as stats\n",
    "from scipy.stats import chi2_contingency\n",
    "import gc\n",
    "def TestIndependence(colX,colY, alpha=0.05):\n",
    "    aux = pd.crosstab(ms[colY].astype(str),ms[colX].astype(str)) \n",
    "    _, p, _, _ = stats.chi2_contingency(aux.values)\n",
    "        \n",
    "    del aux\n",
    "    gc.collect()\n",
    "    return p"
   ]
  },
  {
   "cell_type": "markdown",
   "metadata": {},
   "source": [
    "### Resumo da análise às variáveis\n",
    "\n",
    "#### Variáveis a serem removidas:\n",
    "- Nulos:\n",
    "    - **PuaMode**: 99.98% dos valores são nulos\n",
    "    - **Census_ProcessorClass**: 99.59% dos valores são nulos e parece apresentar uma correlação muito elevada com o atributo \"Census_ProcessorCoreCount\"\n",
    "- Muitos valores distintos:\n",
    "    - **IeVerIdentifier**: Muitos valores distintos não agrupaveis (189)\n",
    "    - **Census_OEMNameIdentifier**: Muitos valores distintos não agrupaveis (1664)\n",
    "    - **Census_OEMModelIdentifier**: Muitos valores distintos não agrupaveis (45095)\n",
    "    - **Census_ProcessorModelIdentifier**: Muitos valores distintos não agrupaveis (2331) e o atributo que identifica o fabricante parece ser mais interessante que o modelo do processador em si\n",
    "    \n",
    "#### Variáveis para alterar os valores NaN:\n",
    "- (06.02% NaN) - **SMode**: substituir os missing por \"0\"\n",
    "- (35.61% NaN) - **SmartScreen**: substituir os NaN pelo valor mais frequente (\"RequireAdmin\") ou \"Off\"?\n",
    "- (01.03% NaN) - **Firewall**: substituir os NaN pelo valor mais frequente - \"1\" - (serviço ativo)\n",
    "- (00.12% NaN) - **UacLuaenable**: substituir os NaN pelo valor mais frequente - \"1\" - (serviço ativo)\n",
    "- (00.48% NaN) - **Census_ProcessorCoreCount**: substituir os NaN pela média dos restantes valores\n",
    "- (00.48% NaN) - **Census_ProcessorManufacturerIdentifier**: substituir os NaN pelo valor mais frequente - \"5\"\n",
    "- (00.62% NaN) - **Census_PrimaryDiskTotalCapacity**: substituir os NaN pela média dos restantes valores\n",
    "- (00.15% NaN) - **Census_PrimaryDiskTypeName**: substituir os NaN pelo valor mais frequente - \"HDD\"\n",
    "- (00.62% NaN) - **Census_SystemVolumeTotalCapacity**: substituir os NaN pela média dos restantes valores\n",
    "- (00.94% NaN) - **Census_TotalPhysicalRAM**: substituir os NaN pela média dos restantes valores\n",
    "- (00.01% NaN) - **Census_ChassisTypeName**: substituir os NaN pelo valor mais frequente - \"Notebook\"\n",
    "- (00.54% NaN) - **Census_InternalPrimaryDiagonalDisplaySizeInInches**: substituir os NaN pela média dos restantes valores\n",
    "- (00.54% NaN) - **Census_InternalPrimaryDisplayResolutionHorizontal**: substituir os NaN pela média dos restantes\n",
    "- (00.54% NaN) - **Census_InternalPrimaryDisplayResolutionVertical**: substituir os NaN pela média dos restantes\n",
    "- (0.001% NaN) - **Census_ChassisTypeName**: substituir os valores missing pelo valor mais frequente - \"Mobile\"\n",
    "- (71.05% NaN) - **Census_InternalBatteryType**: vale a pena substituir os NaN?\n",
    "- (03.04% NaN) - **Census_InternalBatteryNumberOfCharges**: substituir os NaN pela média dos restantes valores\n",
    "\n",
    "#### Variáveis para agrupar valores:\n",
    "- **SmartScreen**: agrupar [\"on\", \"On\"] -> \"On\"  e [\"off\", \"Off\", \"OFF\"] -> \"Off\"\n",
    "- **UacLuaenable**: agrupar todos os valores >= \"1\" em \"1\" (este atributo é um booleano)\n",
    "- **Census_DeviceFamily**: agrupar [\"Windows.Desktop\", \"Windows\"] -> \"Windows.Desktop\"\n",
    "- **Census_InternalBatteryType**: se ficar, agrupar [todos os que começam por \"li\"] -> \"li\"\n",
    "- **Census_OSVersion**: agrupar pelo terceiro campo [\"10.0.17134.228\", \"10.0.17134.165\"] -> \"10.0.17134\"\n",
    "\n",
    "#### Variáveis que aparentam possuir relações entre si:\n",
    "- *Census_MDC2FormFactor*, *Census_ChassisTypeName*, \n",
    "- *Census_PrimaryDiskTotalCapacity*, *Census_SystemVolumeTotalCapacity*\n",
    "- *Census_InternalPrimaryDiagonalDisplaySizeInInches*, *Census_InternalPrimaryDisplayResolutionHorizontal*, *Census_InternalPrimaryDisplayResolutionVertical*"
   ]
  },
  {
   "cell_type": "markdown",
   "metadata": {},
   "source": [
    "### Tratar valores nulos\n",
    "\n"
   ]
  },
  {
   "cell_type": "code",
   "execution_count": 70,
   "metadata": {},
   "outputs": [
    {
     "data": {
      "text/plain": [
       "2.6241612885210675e-07"
      ]
     },
     "execution_count": 70,
     "metadata": {},
     "output_type": "execute_result"
    }
   ],
   "source": [
    "TestIndependence(\"Census_HasOpticalDiskDrive\",\"Census_DeviceFamily\")"
   ]
  },
  {
   "cell_type": "code",
   "execution_count": 66,
   "metadata": {},
   "outputs": [
    {
     "data": {
      "text/plain": [
       "0.0"
      ]
     },
     "execution_count": 66,
     "metadata": {},
     "output_type": "execute_result"
    }
   ],
   "source": [
    "TestIndependence('Census_MDC2FormFactor','Census_PowerPlatformRoleName')"
   ]
  },
  {
   "cell_type": "code",
   "execution_count": 67,
   "metadata": {},
   "outputs": [
    {
     "data": {
      "text/plain": [
       "0.0"
      ]
     },
     "execution_count": 67,
     "metadata": {},
     "output_type": "execute_result"
    }
   ],
   "source": [
    "TestIndependence('Census_PowerPlatformRoleName','Census_ChassisTypeName')"
   ]
  },
  {
   "cell_type": "code",
   "execution_count": 68,
   "metadata": {},
   "outputs": [
    {
     "data": {
      "text/plain": [
       "0.0"
      ]
     },
     "execution_count": 68,
     "metadata": {},
     "output_type": "execute_result"
    }
   ],
   "source": [
    "TestIndependence('Census_ProcessorManufacturerIdentifier','SmartScreen')"
   ]
  },
  {
   "cell_type": "code",
   "execution_count": null,
   "metadata": {},
   "outputs": [],
   "source": []
  }
 ],
 "metadata": {
  "kernelspec": {
   "display_name": "Python 3",
   "language": "python",
   "name": "python3"
  },
  "language_info": {
   "codemirror_mode": {
    "name": "ipython",
    "version": 3
   },
   "file_extension": ".py",
   "mimetype": "text/x-python",
   "name": "python",
   "nbconvert_exporter": "python",
   "pygments_lexer": "ipython3",
   "version": "3.6.7"
  }
 },
 "nbformat": 4,
 "nbformat_minor": 2
}
