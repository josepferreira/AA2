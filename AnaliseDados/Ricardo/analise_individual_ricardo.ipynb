{
 "cells": [
  {
   "cell_type": "markdown",
   "metadata": {},
   "source": [
    "- **PuaMode** - Pua Enabled mode from the service\n",
    "- **SMode** - This field is set to true when the device is known to be in 'S Mode', as in, Windows 10 S mode, where only Microsoft Store apps can be installed\n",
    "- **IeVerIdentifier** - NA\n",
    "- **SmartScreen** - This is the SmartScreen enabled string value from registry. This is obtained by checking in order, HKLM\\SOFTWARE\\Policies\\Microsoft\\Windows\\System\\SmartScreenEnabled and HKLM\\SOFTWARE\\Microsoft\\Windows\\CurrentVersion\\Explorer\\SmartScreenEnabled. If the value exists but is blank, the value \"ExistsNotSet\" is sent in telemetry.\n",
    "- **Firewall** - This attribute is true (1) for Windows 8.1 and above if windows firewall is enabled, as reported by the service.\n",
    "- **UacLuaenable** - This attribute reports whether or not the \"administrator in Admin Approval Mode\" user type is disabled or enabled in UAC. The value reported is obtained by reading the regkey HKLM\\SOFTWARE\\Microsoft\\Windows\\CurrentVersion\\Policies\\System\\EnableLUA.\n",
    "- **Census_MDC2FormFactor** - A grouping based on a combination of Device Census level hardware characteristics. The logic used to define Form Factor is rooted in business and industry standards and aligns with how people think about their device. (Examples: Smartphone, Small Tablet, All in One, Convertible...)\n",
    "- **Census_DeviceFamily** - AKA DeviceClass. Indicates the type of device that an edition of the OS is intended for. Example values: Windows.Desktop, Windows.Mobile, and iOS.Phone\n",
    "- **Census_OEMNameIdentifier** - NA\n",
    "- **Census_OEMModelIdentifier** - NA\n",
    "- **Census_ProcessorCoreCount** - Number of logical cores in the processor\n",
    "- **Census_ProcessorManufacturerIdentifier** - NA\n",
    "- **Census_ProcessorModelIdentifier** - NA\n",
    "- **Census_ProcessorClas**s - A classification of processors into high/medium/low. Initially used for Pricing Level SKU. No longer maintained and updated\n",
    "- **Census_PrimaryDiskTotalCapacity** - Amount of disk space on primary disk of the machine in MB\n",
    "- **Census_PrimaryDiskTypeName** - Friendly name of Primary Disk Type - HDD or SSD\n",
    "- **Census_SystemVolumeTotalCapacity** - The size of the partition that the System volume is installed on in MB\n",
    "- **Census_HasOpticalDiskDrive** - True indicates that the machine has an optical disk drive (CD/DVD)\n",
    "- **Census_TotalPhysicalRAM** - Retrieves the physical RAM in MB\n",
    "- **Census_ChassisTypeName** - Retrieves a numeric representation of what type of chassis the machine has. A value of 0 means xx\n",
    "- **Census_InternalPrimaryDiagonalDisplaySizeInInches** - Retrieves the physical diagonal length in inches of the primary display\n",
    "- **Census_InternalPrimaryDisplayResolutionHorizontal** - Retrieves the number of pixels in the horizontal direction of the internal display.\n",
    "- **Census_InternalPrimaryDisplayResolutionVertical** - Retrieves the number of pixels in the vertical direction of the internal display\n",
    "- **Census_PowerPlatformRoleName** - Indicates the OEM preferred power management profile. This value helps identify the basic form factor of the device\n",
    "- **Census_InternalBatteryType** - NA\n",
    "- **Census_InternalBatteryNumberOfCharges** - NA\n",
    "- **Census_OSVersion** - Numeric OS version Example - 10.0.10130.0"
   ]
  },
  {
   "cell_type": "code",
   "execution_count": 1,
   "metadata": {},
   "outputs": [],
   "source": [
    "import pandas as pd\n",
    "\n",
    "def processa_chunk(ms, valores):\n",
    "    if(valores is None):\n",
    "        valores = {}\n",
    "        for v in ms.columns:\n",
    "            valores.update({v: ms[v].value_counts(dropna=False)})\n",
    "    else:\n",
    "        for v in ms.columns:\n",
    "            valores[v] =  pd.concat([valores[v],ms[v].value_counts(dropna=False)]).groupby(level=0).sum()\n",
    "    return valores"
   ]
  },
  {
   "cell_type": "code",
   "execution_count": 2,
   "metadata": {},
   "outputs": [],
   "source": [
    "valores = None\n",
    "ms = pd.read_csv('../../../sample_train.csv', low_memory=False)\n",
    "nLinhas = ms.shape[0]\n",
    "valores = processa_chunk(ms,valores)"
   ]
  },
  {
   "cell_type": "markdown",
   "metadata": {},
   "source": [
    "### Análise aos 27 atributos do meio, um por um"
   ]
  },
  {
   "cell_type": "code",
   "execution_count": 31,
   "metadata": {},
   "outputs": [
    {
     "name": "stdout",
     "output_type": "stream",
     "text": [
      "(600000, 83)\n"
     ]
    },
    {
     "ename": "ValueError",
     "evalue": "could not convert string to float: '79f6880b5ccc72bf3d3c9dedfa487cf0'",
     "output_type": "error",
     "traceback": [
      "\u001b[0;31m---------------------------------------------------------------------------\u001b[0m",
      "\u001b[0;31mValueError\u001b[0m                                Traceback (most recent call last)",
      "\u001b[0;32m<ipython-input-31-c76fd8cb891e>\u001b[0m in \u001b[0;36m<module>\u001b[0;34m()\u001b[0m\n\u001b[1;32m      4\u001b[0m \u001b[0mprint\u001b[0m \u001b[0;34m(\u001b[0m\u001b[0mms\u001b[0m\u001b[0;34m.\u001b[0m\u001b[0mshape\u001b[0m\u001b[0;34m)\u001b[0m\u001b[0;34m\u001b[0m\u001b[0;34m\u001b[0m\u001b[0m\n\u001b[1;32m      5\u001b[0m \u001b[0msel\u001b[0m \u001b[0;34m=\u001b[0m \u001b[0mVarianceThreshold\u001b[0m\u001b[0;34m(\u001b[0m\u001b[0mthreshold\u001b[0m\u001b[0;34m=\u001b[0m\u001b[0;36m20\u001b[0m\u001b[0;34m)\u001b[0m\u001b[0;34m\u001b[0m\u001b[0;34m\u001b[0m\u001b[0m\n\u001b[0;32m----> 6\u001b[0;31m \u001b[0mfilt\u001b[0m \u001b[0;34m=\u001b[0m \u001b[0msel\u001b[0m\u001b[0;34m.\u001b[0m\u001b[0mfit_transform\u001b[0m\u001b[0;34m(\u001b[0m\u001b[0mms\u001b[0m\u001b[0;34m)\u001b[0m\u001b[0;34m\u001b[0m\u001b[0;34m\u001b[0m\u001b[0m\n\u001b[0m\u001b[1;32m      7\u001b[0m \u001b[0mprint\u001b[0m \u001b[0;34m(\u001b[0m\u001b[0mfilt\u001b[0m\u001b[0;34m.\u001b[0m\u001b[0mshape\u001b[0m\u001b[0;34m)\u001b[0m\u001b[0;34m\u001b[0m\u001b[0;34m\u001b[0m\u001b[0m\n\u001b[1;32m      8\u001b[0m \u001b[0;34m\u001b[0m\u001b[0m\n",
      "\u001b[0;32m/home/ricardo/.local/lib/python3.6/site-packages/sklearn/base.py\u001b[0m in \u001b[0;36mfit_transform\u001b[0;34m(self, X, y, **fit_params)\u001b[0m\n\u001b[1;32m    462\u001b[0m         \u001b[0;32mif\u001b[0m \u001b[0my\u001b[0m \u001b[0;32mis\u001b[0m \u001b[0;32mNone\u001b[0m\u001b[0;34m:\u001b[0m\u001b[0;34m\u001b[0m\u001b[0;34m\u001b[0m\u001b[0m\n\u001b[1;32m    463\u001b[0m             \u001b[0;31m# fit method of arity 1 (unsupervised transformation)\u001b[0m\u001b[0;34m\u001b[0m\u001b[0;34m\u001b[0m\u001b[0;34m\u001b[0m\u001b[0m\n\u001b[0;32m--> 464\u001b[0;31m             \u001b[0;32mreturn\u001b[0m \u001b[0mself\u001b[0m\u001b[0;34m.\u001b[0m\u001b[0mfit\u001b[0m\u001b[0;34m(\u001b[0m\u001b[0mX\u001b[0m\u001b[0;34m,\u001b[0m \u001b[0;34m**\u001b[0m\u001b[0mfit_params\u001b[0m\u001b[0;34m)\u001b[0m\u001b[0;34m.\u001b[0m\u001b[0mtransform\u001b[0m\u001b[0;34m(\u001b[0m\u001b[0mX\u001b[0m\u001b[0;34m)\u001b[0m\u001b[0;34m\u001b[0m\u001b[0;34m\u001b[0m\u001b[0m\n\u001b[0m\u001b[1;32m    465\u001b[0m         \u001b[0;32melse\u001b[0m\u001b[0;34m:\u001b[0m\u001b[0;34m\u001b[0m\u001b[0;34m\u001b[0m\u001b[0m\n\u001b[1;32m    466\u001b[0m             \u001b[0;31m# fit method of arity 2 (supervised transformation)\u001b[0m\u001b[0;34m\u001b[0m\u001b[0;34m\u001b[0m\u001b[0;34m\u001b[0m\u001b[0m\n",
      "\u001b[0;32m/home/ricardo/.local/lib/python3.6/site-packages/sklearn/feature_selection/variance_threshold.py\u001b[0m in \u001b[0;36mfit\u001b[0;34m(self, X, y)\u001b[0m\n\u001b[1;32m     62\u001b[0m         \u001b[0mself\u001b[0m\u001b[0;34m\u001b[0m\u001b[0;34m\u001b[0m\u001b[0m\n\u001b[1;32m     63\u001b[0m         \"\"\"\n\u001b[0;32m---> 64\u001b[0;31m         \u001b[0mX\u001b[0m \u001b[0;34m=\u001b[0m \u001b[0mcheck_array\u001b[0m\u001b[0;34m(\u001b[0m\u001b[0mX\u001b[0m\u001b[0;34m,\u001b[0m \u001b[0;34m(\u001b[0m\u001b[0;34m'csr'\u001b[0m\u001b[0;34m,\u001b[0m \u001b[0;34m'csc'\u001b[0m\u001b[0;34m)\u001b[0m\u001b[0;34m,\u001b[0m \u001b[0mdtype\u001b[0m\u001b[0;34m=\u001b[0m\u001b[0mnp\u001b[0m\u001b[0;34m.\u001b[0m\u001b[0mfloat64\u001b[0m\u001b[0;34m)\u001b[0m\u001b[0;34m\u001b[0m\u001b[0;34m\u001b[0m\u001b[0m\n\u001b[0m\u001b[1;32m     65\u001b[0m \u001b[0;34m\u001b[0m\u001b[0m\n\u001b[1;32m     66\u001b[0m         \u001b[0;32mif\u001b[0m \u001b[0mhasattr\u001b[0m\u001b[0;34m(\u001b[0m\u001b[0mX\u001b[0m\u001b[0;34m,\u001b[0m \u001b[0;34m\"toarray\"\u001b[0m\u001b[0;34m)\u001b[0m\u001b[0;34m:\u001b[0m   \u001b[0;31m# sparse matrix\u001b[0m\u001b[0;34m\u001b[0m\u001b[0;34m\u001b[0m\u001b[0m\n",
      "\u001b[0;32m/home/ricardo/.local/lib/python3.6/site-packages/sklearn/utils/validation.py\u001b[0m in \u001b[0;36mcheck_array\u001b[0;34m(array, accept_sparse, accept_large_sparse, dtype, order, copy, force_all_finite, ensure_2d, allow_nd, ensure_min_samples, ensure_min_features, warn_on_dtype, estimator)\u001b[0m\n\u001b[1;32m    525\u001b[0m             \u001b[0;32mtry\u001b[0m\u001b[0;34m:\u001b[0m\u001b[0;34m\u001b[0m\u001b[0;34m\u001b[0m\u001b[0m\n\u001b[1;32m    526\u001b[0m                 \u001b[0mwarnings\u001b[0m\u001b[0;34m.\u001b[0m\u001b[0msimplefilter\u001b[0m\u001b[0;34m(\u001b[0m\u001b[0;34m'error'\u001b[0m\u001b[0;34m,\u001b[0m \u001b[0mComplexWarning\u001b[0m\u001b[0;34m)\u001b[0m\u001b[0;34m\u001b[0m\u001b[0;34m\u001b[0m\u001b[0m\n\u001b[0;32m--> 527\u001b[0;31m                 \u001b[0marray\u001b[0m \u001b[0;34m=\u001b[0m \u001b[0mnp\u001b[0m\u001b[0;34m.\u001b[0m\u001b[0masarray\u001b[0m\u001b[0;34m(\u001b[0m\u001b[0marray\u001b[0m\u001b[0;34m,\u001b[0m \u001b[0mdtype\u001b[0m\u001b[0;34m=\u001b[0m\u001b[0mdtype\u001b[0m\u001b[0;34m,\u001b[0m \u001b[0morder\u001b[0m\u001b[0;34m=\u001b[0m\u001b[0morder\u001b[0m\u001b[0;34m)\u001b[0m\u001b[0;34m\u001b[0m\u001b[0;34m\u001b[0m\u001b[0m\n\u001b[0m\u001b[1;32m    528\u001b[0m             \u001b[0;32mexcept\u001b[0m \u001b[0mComplexWarning\u001b[0m\u001b[0;34m:\u001b[0m\u001b[0;34m\u001b[0m\u001b[0;34m\u001b[0m\u001b[0m\n\u001b[1;32m    529\u001b[0m                 raise ValueError(\"Complex data not supported\\n\"\n",
      "\u001b[0;32m/home/ricardo/.local/lib/python3.6/site-packages/numpy/core/numeric.py\u001b[0m in \u001b[0;36masarray\u001b[0;34m(a, dtype, order)\u001b[0m\n\u001b[1;32m    536\u001b[0m \u001b[0;34m\u001b[0m\u001b[0m\n\u001b[1;32m    537\u001b[0m     \"\"\"\n\u001b[0;32m--> 538\u001b[0;31m     \u001b[0;32mreturn\u001b[0m \u001b[0marray\u001b[0m\u001b[0;34m(\u001b[0m\u001b[0ma\u001b[0m\u001b[0;34m,\u001b[0m \u001b[0mdtype\u001b[0m\u001b[0;34m,\u001b[0m \u001b[0mcopy\u001b[0m\u001b[0;34m=\u001b[0m\u001b[0;32mFalse\u001b[0m\u001b[0;34m,\u001b[0m \u001b[0morder\u001b[0m\u001b[0;34m=\u001b[0m\u001b[0morder\u001b[0m\u001b[0;34m)\u001b[0m\u001b[0;34m\u001b[0m\u001b[0;34m\u001b[0m\u001b[0m\n\u001b[0m\u001b[1;32m    539\u001b[0m \u001b[0;34m\u001b[0m\u001b[0m\n\u001b[1;32m    540\u001b[0m \u001b[0;34m\u001b[0m\u001b[0m\n",
      "\u001b[0;31mValueError\u001b[0m: could not convert string to float: '79f6880b5ccc72bf3d3c9dedfa487cf0'"
     ]
    }
   ],
   "source": [
    "from pandas.api.types import is_numeric_dtype\n",
    "from sklearn.feature_selection import VarianceThreshold\n",
    "\n",
    "print (ms.shape)\n",
    "sel = VarianceThreshold(threshold=20)\n",
    "filt = sel.fit_transform(ms)\n",
    "print (filt.shape)\n",
    "\n",
    "def analisa_coluna(coluna):\n",
    "    percent_missing = coluna.isnull().sum() * 100 / nLinhas\n",
    "    print(\"Percentagem NAs: \" + str(percent_missing))\n",
    "\n",
    "    nome = coluna.unique()\n",
    "    print(\"Valores diferentes: \" + str(len(nome))) \n",
    "\n",
    "    print(\"É numérico? \" + str(is_numeric_dtype(coluna)))"
   ]
  },
  {
   "cell_type": "code",
   "execution_count": 4,
   "metadata": {},
   "outputs": [
    {
     "name": "stdout",
     "output_type": "stream",
     "text": [
      "Percentagem NAs: 99.97716666666666\n",
      "Valores diferentes: 2\n",
      "É numérico? False\n"
     ]
    }
   ],
   "source": [
    "coluna = ms['PuaMode']\n",
    "\n",
    "analisa_coluna(coluna)\n",
    "\n",
    "#valores['PuaMode']"
   ]
  },
  {
   "cell_type": "code",
   "execution_count": 5,
   "metadata": {},
   "outputs": [
    {
     "name": "stdout",
     "output_type": "stream",
     "text": [
      "Percentagem NAs: 6.0155\n",
      "Valores diferentes: 3\n",
      "É numérico? True\n"
     ]
    }
   ],
   "source": [
    "coluna = ms['SMode']\n",
    "\n",
    "analisa_coluna(coluna)\n",
    "\n",
    "#valores['SMode']"
   ]
  },
  {
   "cell_type": "code",
   "execution_count": 6,
   "metadata": {},
   "outputs": [
    {
     "name": "stdout",
     "output_type": "stream",
     "text": [
      "Percentagem NAs: 0.6641666666666667\n",
      "Valores diferentes: 190\n",
      "É numérico? True\n"
     ]
    }
   ],
   "source": [
    "coluna = ms['IeVerIdentifier']\n",
    "\n",
    "analisa_coluna(coluna)\n",
    "\n",
    "#valores['IeVerIdentifier']"
   ]
  },
  {
   "cell_type": "code",
   "execution_count": 7,
   "metadata": {},
   "outputs": [
    {
     "name": "stdout",
     "output_type": "stream",
     "text": [
      "Percentagem NAs: 35.611333333333334\n",
      "Valores diferentes: 14\n",
      "É numérico? False\n"
     ]
    }
   ],
   "source": [
    "coluna = ms['SmartScreen']\n",
    "\n",
    "analisa_coluna(coluna)\n",
    "\n",
    "#valores['SmartScreen']"
   ]
  },
  {
   "cell_type": "code",
   "execution_count": 8,
   "metadata": {},
   "outputs": [
    {
     "name": "stdout",
     "output_type": "stream",
     "text": [
      "Percentagem NAs: 1.0311666666666666\n",
      "Valores diferentes: 3\n",
      "É numérico? True\n"
     ]
    }
   ],
   "source": [
    "coluna = ms['Firewall']\n",
    "\n",
    "analisa_coluna(coluna)\n",
    "\n",
    "#valores['Firewall']"
   ]
  },
  {
   "cell_type": "code",
   "execution_count": 9,
   "metadata": {},
   "outputs": [
    {
     "name": "stdout",
     "output_type": "stream",
     "text": [
      "Percentagem NAs: 0.1175\n",
      "Valores diferentes: 8\n",
      "É numérico? True\n"
     ]
    }
   ],
   "source": [
    "coluna = ms['UacLuaenable']\n",
    "\n",
    "analisa_coluna(coluna)\n",
    "\n",
    "#valores['UacLuaenable']"
   ]
  },
  {
   "cell_type": "code",
   "execution_count": 10,
   "metadata": {},
   "outputs": [
    {
     "name": "stdout",
     "output_type": "stream",
     "text": [
      "Percentagem NAs: 0.0\n",
      "Valores diferentes: 12\n",
      "É numérico? False\n"
     ]
    }
   ],
   "source": [
    "coluna = ms['Census_MDC2FormFactor']\n",
    "\n",
    "analisa_coluna(coluna)\n",
    "\n",
    "#valores['Census_MDC2FormFactor']"
   ]
  },
  {
   "cell_type": "code",
   "execution_count": 11,
   "metadata": {},
   "outputs": [
    {
     "name": "stdout",
     "output_type": "stream",
     "text": [
      "Percentagem NAs: 0.0\n",
      "Valores diferentes: 3\n",
      "É numérico? False\n"
     ]
    }
   ],
   "source": [
    "coluna = ms['Census_DeviceFamily']\n",
    "\n",
    "analisa_coluna(coluna)\n",
    "\n",
    "#valores['Census_DeviceFamily']"
   ]
  },
  {
   "cell_type": "code",
   "execution_count": 12,
   "metadata": {},
   "outputs": [
    {
     "name": "stdout",
     "output_type": "stream",
     "text": [
      "Percentagem NAs: 1.0676666666666668\n",
      "Valores diferentes: 1665\n",
      "É numérico? True\n"
     ]
    }
   ],
   "source": [
    "coluna = ms['Census_OEMNameIdentifier']\n",
    "\n",
    "analisa_coluna(coluna)\n",
    "\n",
    "#valores['Census_OEMNameIdentifier']"
   ]
  },
  {
   "cell_type": "code",
   "execution_count": 13,
   "metadata": {},
   "outputs": [
    {
     "name": "stdout",
     "output_type": "stream",
     "text": [
      "Percentagem NAs: 1.1478333333333333\n",
      "Valores diferentes: 45095\n",
      "É numérico? True\n"
     ]
    }
   ],
   "source": [
    "coluna = ms['Census_OEMModelIdentifier']\n",
    "\n",
    "analisa_coluna(coluna)\n",
    "\n",
    "#valores['Census_OEMModelIdentifier']"
   ]
  },
  {
   "cell_type": "code",
   "execution_count": 14,
   "metadata": {},
   "outputs": [
    {
     "name": "stdout",
     "output_type": "stream",
     "text": [
      "Percentagem NAs: 0.4821666666666667\n",
      "Valores diferentes: 29\n",
      "É numérico? True\n"
     ]
    }
   ],
   "source": [
    "coluna = ms['Census_ProcessorCoreCount']\n",
    "\n",
    "analisa_coluna(coluna)\n",
    "\n",
    "#valores['Census_ProcessorCoreCount']"
   ]
  },
  {
   "cell_type": "code",
   "execution_count": 15,
   "metadata": {},
   "outputs": [
    {
     "name": "stdout",
     "output_type": "stream",
     "text": [
      "Percentagem NAs: 0.4821666666666667\n",
      "Valores diferentes: 5\n",
      "É numérico? True\n"
     ]
    }
   ],
   "source": [
    "coluna = ms['Census_ProcessorManufacturerIdentifier']\n",
    "\n",
    "analisa_coluna(coluna)\n",
    "\n",
    "#valores['Census_ProcessorManufacturerIdentifier']"
   ]
  },
  {
   "cell_type": "code",
   "execution_count": 16,
   "metadata": {},
   "outputs": [
    {
     "name": "stdout",
     "output_type": "stream",
     "text": [
      "Percentagem NAs: 0.4821666666666667\n",
      "Valores diferentes: 2332\n",
      "É numérico? True\n"
     ]
    }
   ],
   "source": [
    "coluna = ms['Census_ProcessorModelIdentifier']\n",
    "\n",
    "analisa_coluna(coluna)\n",
    "\n",
    "#valores['Census_ProcessorModelIdentifier']"
   ]
  },
  {
   "cell_type": "code",
   "execution_count": 17,
   "metadata": {},
   "outputs": [
    {
     "name": "stdout",
     "output_type": "stream",
     "text": [
      "Percentagem NAs: 99.58683333333333\n",
      "Valores diferentes: 4\n",
      "É numérico? False\n"
     ]
    }
   ],
   "source": [
    "coluna = ms['Census_ProcessorClass']\n",
    "\n",
    "analisa_coluna(coluna)\n",
    "\n",
    "#valores['Census_ProcessorClass']"
   ]
  },
  {
   "cell_type": "code",
   "execution_count": 18,
   "metadata": {},
   "outputs": [
    {
     "name": "stdout",
     "output_type": "stream",
     "text": [
      "Percentagem NAs: 0.6208333333333333\n",
      "Valores diferentes: 1194\n",
      "É numérico? True\n"
     ]
    }
   ],
   "source": [
    "coluna = ms['Census_PrimaryDiskTotalCapacity']\n",
    "\n",
    "analisa_coluna(coluna)\n",
    "\n",
    "#valores['Census_PrimaryDiskTotalCapacity']"
   ]
  },
  {
   "cell_type": "code",
   "execution_count": 19,
   "metadata": {},
   "outputs": [
    {
     "name": "stdout",
     "output_type": "stream",
     "text": [
      "Percentagem NAs: 0.14833333333333334\n",
      "Valores diferentes: 5\n",
      "É numérico? False\n"
     ]
    }
   ],
   "source": [
    "coluna = ms['Census_PrimaryDiskTypeName']\n",
    "\n",
    "analisa_coluna(coluna)\n",
    "\n",
    "#valores['Census_PrimaryDiskTypeName']"
   ]
  },
  {
   "cell_type": "code",
   "execution_count": 20,
   "metadata": {},
   "outputs": [
    {
     "name": "stdout",
     "output_type": "stream",
     "text": [
      "Percentagem NAs: 0.6206666666666667\n",
      "Valores diferentes: 158821\n",
      "É numérico? True\n"
     ]
    }
   ],
   "source": [
    "coluna = ms['Census_SystemVolumeTotalCapacity']\n",
    "\n",
    "analisa_coluna(coluna)\n",
    "\n",
    "#valores['Census_SystemVolumeTotalCapacity']"
   ]
  },
  {
   "cell_type": "code",
   "execution_count": 21,
   "metadata": {},
   "outputs": [
    {
     "name": "stdout",
     "output_type": "stream",
     "text": [
      "Percentagem NAs: 0.0\n",
      "Valores diferentes: 2\n",
      "É numérico? True\n"
     ]
    }
   ],
   "source": [
    "coluna = ms['Census_HasOpticalDiskDrive']\n",
    "\n",
    "analisa_coluna(coluna)\n",
    "\n",
    "#valores['Census_HasOpticalDiskDrive']"
   ]
  },
  {
   "cell_type": "code",
   "execution_count": 22,
   "metadata": {},
   "outputs": [
    {
     "name": "stdout",
     "output_type": "stream",
     "text": [
      "Percentagem NAs: 0.9355\n",
      "Valores diferentes: 627\n",
      "É numérico? True\n"
     ]
    }
   ],
   "source": [
    "coluna = ms['Census_TotalPhysicalRAM']\n",
    "\n",
    "analisa_coluna(coluna)\n",
    "\n",
    "#valores['Census_TotalPhysicalRAM']"
   ]
  },
  {
   "cell_type": "code",
   "execution_count": 23,
   "metadata": {},
   "outputs": [
    {
     "name": "stdout",
     "output_type": "stream",
     "text": [
      "Percentagem NAs: 0.0075\n",
      "Valores diferentes: 36\n",
      "É numérico? False\n"
     ]
    }
   ],
   "source": [
    "coluna = ms['Census_ChassisTypeName']\n",
    "\n",
    "analisa_coluna(coluna)\n",
    "\n",
    "#valores['Census_ChassisTypeName']"
   ]
  },
  {
   "cell_type": "code",
   "execution_count": 24,
   "metadata": {},
   "outputs": [
    {
     "name": "stdout",
     "output_type": "stream",
     "text": [
      "Percentagem NAs: 0.5431666666666667\n",
      "Valores diferentes: 509\n",
      "É numérico? True\n"
     ]
    }
   ],
   "source": [
    "coluna = ms['Census_InternalPrimaryDiagonalDisplaySizeInInches']\n",
    "\n",
    "analisa_coluna(coluna)\n",
    "\n",
    "#valores['Census_InternalPrimaryDiagonalDisplaySizeInInches']"
   ]
  },
  {
   "cell_type": "code",
   "execution_count": 25,
   "metadata": {},
   "outputs": [
    {
     "name": "stdout",
     "output_type": "stream",
     "text": [
      "Percentagem NAs: 0.5421666666666667\n",
      "Valores diferentes: 540\n",
      "É numérico? True\n"
     ]
    }
   ],
   "source": [
    "coluna = ms['Census_InternalPrimaryDisplayResolutionHorizontal']\n",
    "\n",
    "analisa_coluna(coluna)\n",
    "\n",
    "#valores['Census_InternalPrimaryDisplayResolutionHorizontal']"
   ]
  },
  {
   "cell_type": "code",
   "execution_count": 26,
   "metadata": {},
   "outputs": [
    {
     "name": "stdout",
     "output_type": "stream",
     "text": [
      "Percentagem NAs: 0.5421666666666667\n",
      "Valores diferentes: 569\n",
      "É numérico? True\n"
     ]
    }
   ],
   "source": [
    "coluna = ms['Census_InternalPrimaryDisplayResolutionVertical']\n",
    "\n",
    "analisa_coluna(coluna)\n",
    "\n",
    "#valores['Census_InternalPrimaryDisplayResolutionVertical']"
   ]
  },
  {
   "cell_type": "code",
   "execution_count": 27,
   "metadata": {},
   "outputs": [
    {
     "name": "stdout",
     "output_type": "stream",
     "text": [
      "Percentagem NAs: 0.0008333333333333334\n",
      "Valores diferentes: 10\n",
      "É numérico? False\n"
     ]
    }
   ],
   "source": [
    "coluna = ms['Census_PowerPlatformRoleName']\n",
    "\n",
    "analisa_coluna(coluna)\n",
    "\n",
    "#valores['Census_PowerPlatformRoleName']"
   ]
  },
  {
   "cell_type": "code",
   "execution_count": 28,
   "metadata": {},
   "outputs": [
    {
     "name": "stdout",
     "output_type": "stream",
     "text": [
      "Percentagem NAs: 71.05283333333334\n",
      "Valores diferentes: 31\n",
      "É numérico? False\n"
     ]
    }
   ],
   "source": [
    "coluna = ms['Census_InternalBatteryType']\n",
    "\n",
    "analisa_coluna(coluna)\n",
    "\n",
    "#valores['Census_InternalBatteryType']"
   ]
  },
  {
   "cell_type": "code",
   "execution_count": 29,
   "metadata": {},
   "outputs": [
    {
     "name": "stdout",
     "output_type": "stream",
     "text": [
      "Percentagem NAs: 3.0425\n",
      "Valores diferentes: 5948\n",
      "É numérico? True\n"
     ]
    }
   ],
   "source": [
    "coluna = ms['Census_InternalBatteryNumberOfCharges']\n",
    "\n",
    "analisa_coluna(coluna)\n",
    "\n",
    "#valores['Census_InternalBatteryNumberOfCharges']"
   ]
  },
  {
   "cell_type": "code",
   "execution_count": 30,
   "metadata": {},
   "outputs": [
    {
     "name": "stdout",
     "output_type": "stream",
     "text": [
      "Percentagem NAs: 0.0\n",
      "Valores diferentes: 305\n",
      "É numérico? False\n"
     ]
    }
   ],
   "source": [
    "coluna = ms['Census_OSVersion']\n",
    "\n",
    "analisa_coluna(coluna)\n",
    "\n",
    "#valores['Census_OSVersion']"
   ]
  },
  {
   "cell_type": "code",
   "execution_count": null,
   "metadata": {},
   "outputs": [],
   "source": []
  },
  {
   "cell_type": "code",
   "execution_count": null,
   "metadata": {},
   "outputs": [],
   "source": []
  }
 ],
 "metadata": {
  "kernelspec": {
   "display_name": "Python 3",
   "language": "python",
   "name": "python3"
  },
  "language_info": {
   "codemirror_mode": {
    "name": "ipython",
    "version": 3
   },
   "file_extension": ".py",
   "mimetype": "text/x-python",
   "name": "python",
   "nbconvert_exporter": "python",
   "pygments_lexer": "ipython3",
   "version": "3.6.7"
  }
 },
 "nbformat": 4,
 "nbformat_minor": 2
}
