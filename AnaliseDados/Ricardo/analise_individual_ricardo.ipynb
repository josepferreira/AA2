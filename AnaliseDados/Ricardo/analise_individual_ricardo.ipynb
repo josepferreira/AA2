{
 "cells": [
  {
   "cell_type": "markdown",
   "metadata": {},
   "source": [
    "- **PuaMode** - Pua Enabled mode from the service\n",
    "- **SMode** - This field is set to true when the device is known to be in 'S Mode', as in, Windows 10 S mode, where only Microsoft Store apps can be installed\n",
    "- **IeVerIdentifier** - NA\n",
    "- **SmartScreen** - This is the SmartScreen enabled string value from registry. This is obtained by checking in order, HKLM\\SOFTWARE\\Policies\\Microsoft\\Windows\\System\\SmartScreenEnabled and HKLM\\SOFTWARE\\Microsoft\\Windows\\CurrentVersion\\Explorer\\SmartScreenEnabled. If the value exists but is blank, the value \"ExistsNotSet\" is sent in telemetry.\n",
    "- **Firewall** - This attribute is true (1) for Windows 8.1 and above if windows firewall is enabled, as reported by the service.\n",
    "- **UacLuaenable** - This attribute reports whether or not the \"administrator in Admin Approval Mode\" user type is disabled or enabled in UAC. The value reported is obtained by reading the regkey HKLM\\SOFTWARE\\Microsoft\\Windows\\CurrentVersion\\Policies\\System\\EnableLUA.\n",
    "- **Census_MDC2FormFactor** - A grouping based on a combination of Device Census level hardware characteristics. The logic used to define Form Factor is rooted in business and industry standards and aligns with how people think about their device. (Examples: Smartphone, Small Tablet, All in One, Convertible...)\n",
    "- **Census_DeviceFamily** - AKA DeviceClass. Indicates the type of device that an edition of the OS is intended for. Example values: Windows.Desktop, Windows.Mobile, and iOS.Phone\n",
    "- **Census_OEMNameIdentifier** - NA\n",
    "- **Census_OEMModelIdentifier** - NA\n",
    "- **Census_ProcessorCoreCount** - Number of logical cores in the processor\n",
    "- **Census_ProcessorManufacturerIdentifier** - NA\n",
    "- **Census_ProcessorModelIdentifier** - NA\n",
    "- **Census_ProcessorClas**s - A classification of processors into high/medium/low. Initially used for Pricing Level SKU. No longer maintained and updated\n",
    "- **Census_PrimaryDiskTotalCapacity** - Amount of disk space on primary disk of the machine in MB\n",
    "- **Census_PrimaryDiskTypeName** - Friendly name of Primary Disk Type - HDD or SSD\n",
    "- **Census_SystemVolumeTotalCapacity** - The size of the partition that the System volume is installed on in MB\n",
    "- **Census_HasOpticalDiskDrive** - True indicates that the machine has an optical disk drive (CD/DVD)\n",
    "- **Census_TotalPhysicalRAM** - Retrieves the physical RAM in MB\n",
    "- **Census_ChassisTypeName** - Retrieves a numeric representation of what type of chassis the machine has. A value of 0 means xx\n",
    "- **Census_InternalPrimaryDiagonalDisplaySizeInInches** - Retrieves the physical diagonal length in inches of the primary display\n",
    "- **Census_InternalPrimaryDisplayResolutionHorizontal** - Retrieves the number of pixels in the horizontal direction of the internal display.\n",
    "- **Census_InternalPrimaryDisplayResolutionVertical** - Retrieves the number of pixels in the vertical direction of the internal display\n",
    "- **Census_PowerPlatformRoleName** - Indicates the OEM preferred power management profile. This value helps identify the basic form factor of the device\n",
    "- **Census_InternalBatteryType** - NA\n",
    "- **Census_InternalBatteryNumberOfCharges** - NA\n",
    "- **Census_OSVersion** - Numeric OS version Example - 10.0.10130.0"
   ]
  },
  {
   "cell_type": "code",
   "execution_count": 1,
   "metadata": {},
   "outputs": [],
   "source": [
    "import pandas as pd\n",
    "\n",
    "def processa_chunk(ms, valores):\n",
    "    if(valores is None):\n",
    "        valores = {}\n",
    "        for v in ms.columns:\n",
    "            valores.update({v: ms[v].value_counts(dropna=False)})\n",
    "    else:\n",
    "        for v in ms.columns:\n",
    "            valores[v] =  pd.concat([valores[v],ms[v].value_counts(dropna=False)]).groupby(level=0).sum()\n",
    "    return valores"
   ]
  },
  {
   "cell_type": "code",
   "execution_count": 2,
   "metadata": {},
   "outputs": [],
   "source": [
    "valores = None\n",
    "ms = pd.read_csv('../../../sample_train.csv', low_memory=False)\n",
    "nLinhas = ms.shape[0]\n",
    "valores = processa_chunk(ms,valores)"
   ]
  },
  {
   "cell_type": "markdown",
   "metadata": {},
   "source": [
    "### Análise aos 27 atributos do meio, um por um"
   ]
  },
  {
   "cell_type": "code",
   "execution_count": 33,
   "metadata": {},
   "outputs": [],
   "source": [
    "from pandas.api.types import is_numeric_dtype\n",
    "\n",
    "def analisa_coluna(coluna):\n",
    "    percent_missing = coluna.isnull().sum() * 100 / nLinhas\n",
    "    print(\"Percentagem NAs: \" + str(percent_missing))\n",
    "    \n",
    "    print(\"É numérico? \" + str(is_numeric_dtype(coluna)))\n",
    "    \n",
    "    nome = coluna.unique()\n",
    "    print(\"Valores diferentes: \" + str(len(nome))) \n",
    "\n",
    "    print(nome)\n",
    "    "
   ]
  },
  {
   "cell_type": "code",
   "execution_count": 61,
   "metadata": {},
   "outputs": [
    {
     "name": "stdout",
     "output_type": "stream",
     "text": [
      "Percentagem NAs: 99.97716666666666\n",
      "É numérico? False\n",
      "Valores diferentes: 2\n",
      "[nan 'on']\n"
     ]
    }
   ],
   "source": [
    "coluna = ms['PuaMode']\n",
    "\n",
    "analisa_coluna(coluna)"
   ]
  },
  {
   "cell_type": "code",
   "execution_count": 62,
   "metadata": {},
   "outputs": [
    {
     "name": "stdout",
     "output_type": "stream",
     "text": [
      "Percentagem NAs: 6.0155\n",
      "É numérico? True\n",
      "Valores diferentes: 3\n",
      "[ 0. nan  1.]\n"
     ]
    }
   ],
   "source": [
    "coluna = ms['SMode']\n",
    "\n",
    "analisa_coluna(coluna)"
   ]
  },
  {
   "cell_type": "code",
   "execution_count": 63,
   "metadata": {},
   "outputs": [
    {
     "name": "stdout",
     "output_type": "stream",
     "text": [
      "Percentagem NAs: 0.6641666666666667\n",
      "É numérico? True\n",
      "Valores diferentes: 190\n",
      "[137.  98. 117. 135. 108. 333. 103. 111.  73.  96.  nan  94. 107.  71.\n",
      " 176.  76.  53.  81. 323. 280. 114.  74. 105.  41.  64.  84.  87.  78.\n",
      "  68. 335. 196. 282. 320. 334. 186. 145.  88. 326. 337. 332. 194. 331.\n",
      "  92.  44.  82.  90.  49. 307.  85. 190. 302.  42.  91. 288.  50. 201.\n",
      " 364.  45.  72. 327.  86. 152.  46. 325.  66. 315. 312. 180. 205. 178.\n",
      " 185. 284. 102. 163. 169.  77. 295. 297.  52. 199. 329.  65. 322. 311.\n",
      " 147.  48. 153. 338. 277. 303. 287. 308. 318. 324. 158. 328. 296. 305.\n",
      " 309. 162.  62.  63. 154. 275. 224. 383.  47. 347.  61. 316.  51.  21.\n",
      " 336. 313. 319. 306. 429. 292. 388. 304. 300. 182.   1.  79. 317. 321.\n",
      " 220.  58. 281. 218.  34. 156.  39. 290.  59.  55. 314.  89. 294. 289.\n",
      "  60. 395. 151. 298. 174. 348. 406.  57. 381. 171. 384. 428.  16. 168.\n",
      " 378. 109. 187. 142. 427. 362. 358. 330. 369. 212.   9.  11. 350. 398.\n",
      " 390. 349. 166. 140. 150. 278.  56. 283. 299. 177. 143. 376. 345. 173.\n",
      " 293.  14. 211. 291. 382. 279. 146. 202.]\n"
     ]
    }
   ],
   "source": [
    "coluna = ms['IeVerIdentifier']\n",
    "\n",
    "analisa_coluna(coluna)"
   ]
  },
  {
   "cell_type": "code",
   "execution_count": 64,
   "metadata": {},
   "outputs": [
    {
     "name": "stdout",
     "output_type": "stream",
     "text": [
      "Percentagem NAs: 35.611333333333334\n",
      "É numérico? False\n",
      "Valores diferentes: 14\n",
      "[nan 'RequireAdmin' 'ExistsNotSet' 'Warn' 'Off' 'Prompt' 'Block' 'on'\n",
      " 'off' 'On' '&#x01;' '&#x02;' '0' 'OFF']\n"
     ]
    }
   ],
   "source": [
    "coluna = ms['SmartScreen']\n",
    "\n",
    "analisa_coluna(coluna)"
   ]
  },
  {
   "cell_type": "code",
   "execution_count": 65,
   "metadata": {},
   "outputs": [
    {
     "name": "stdout",
     "output_type": "stream",
     "text": [
      "Percentagem NAs: 1.0311666666666666\n",
      "É numérico? True\n",
      "Valores diferentes: 3\n",
      "[ 1.  0. nan]\n"
     ]
    }
   ],
   "source": [
    "coluna = ms['Firewall']\n",
    "\n",
    "analisa_coluna(coluna)"
   ]
  },
  {
   "cell_type": "code",
   "execution_count": 66,
   "metadata": {},
   "outputs": [
    {
     "name": "stdout",
     "output_type": "stream",
     "text": [
      "Percentagem NAs: 0.1175\n",
      "É numérico? True\n",
      "Valores diferentes: 8\n",
      "[1.0000000e+00           nan 0.0000000e+00 4.8000000e+01 4.9000000e+01\n",
      " 6.3570620e+06 1.6777216e+07 2.0000000e+00]\n"
     ]
    }
   ],
   "source": [
    "coluna = ms['UacLuaenable']\n",
    "\n",
    "analisa_coluna(coluna)"
   ]
  },
  {
   "cell_type": "code",
   "execution_count": 67,
   "metadata": {},
   "outputs": [
    {
     "name": "stdout",
     "output_type": "stream",
     "text": [
      "Percentagem NAs: 0.0\n",
      "É numérico? False\n",
      "Valores diferentes: 12\n",
      "['Notebook' 'Convertible' 'Desktop' 'AllInOne' 'SmallServer' 'Detachable'\n",
      " 'LargeTablet' 'SmallTablet' 'PCOther' 'MediumServer' 'LargeServer'\n",
      " 'ServerOther']\n"
     ]
    }
   ],
   "source": [
    "coluna = ms['Census_MDC2FormFactor']\n",
    "\n",
    "analisa_coluna(coluna)"
   ]
  },
  {
   "cell_type": "code",
   "execution_count": 68,
   "metadata": {},
   "outputs": [
    {
     "name": "stdout",
     "output_type": "stream",
     "text": [
      "Percentagem NAs: 0.0\n",
      "É numérico? False\n",
      "Valores diferentes: 3\n",
      "['Windows.Desktop' 'Windows.Server' 'Windows']\n"
     ]
    }
   ],
   "source": [
    "coluna = ms['Census_DeviceFamily']\n",
    "\n",
    "analisa_coluna(coluna)"
   ]
  },
  {
   "cell_type": "code",
   "execution_count": 69,
   "metadata": {},
   "outputs": [
    {
     "name": "stdout",
     "output_type": "stream",
     "text": [
      "Percentagem NAs: 1.0676666666666668\n",
      "É numérico? True\n",
      "Valores diferentes: 1665\n",
      "[2668.  585. 2102. ... 2382.  514. 2429.]\n"
     ]
    }
   ],
   "source": [
    "coluna = ms['Census_OEMNameIdentifier']\n",
    "\n",
    "analisa_coluna(coluna)"
   ]
  },
  {
   "cell_type": "code",
   "execution_count": 70,
   "metadata": {},
   "outputs": [
    {
     "name": "stdout",
     "output_type": "stream",
     "text": [
      "Percentagem NAs: 1.1478333333333333\n",
      "É numérico? True\n",
      "Valores diferentes: 45095\n",
      "[ 62683. 171395. 189318. ... 314043. 325966.  33714.]\n"
     ]
    }
   ],
   "source": [
    "coluna = ms['Census_OEMModelIdentifier']\n",
    "\n",
    "analisa_coluna(coluna)"
   ]
  },
  {
   "cell_type": "code",
   "execution_count": 71,
   "metadata": {},
   "outputs": [
    {
     "name": "stdout",
     "output_type": "stream",
     "text": [
      "Percentagem NAs: 0.4821666666666667\n",
      "É numérico? True\n",
      "Valores diferentes: 29\n",
      "[ 4.  2.  8.  6. nan 12. 16.  1. 20.  5.  3. 28. 24. 32. 48. 10. 36. 40.\n",
      " 56. 14. 88.  7. 64. 44. 72. 50. 30. 18. 80.]\n"
     ]
    }
   ],
   "source": [
    "coluna = ms['Census_ProcessorCoreCount']\n",
    "\n",
    "analisa_coluna(coluna)"
   ]
  },
  {
   "cell_type": "code",
   "execution_count": 72,
   "metadata": {},
   "outputs": [
    {
     "name": "stdout",
     "output_type": "stream",
     "text": [
      "Percentagem NAs: 0.4821666666666667\n",
      "É numérico? True\n",
      "Valores diferentes: 5\n",
      "[ 5.  1. nan 10.  3.]\n"
     ]
    }
   ],
   "source": [
    "coluna = ms['Census_ProcessorManufacturerIdentifier']\n",
    "\n",
    "analisa_coluna(coluna)"
   ]
  },
  {
   "cell_type": "code",
   "execution_count": 73,
   "metadata": {},
   "outputs": [
    {
     "name": "stdout",
     "output_type": "stream",
     "text": [
      "Percentagem NAs: 0.4821666666666667\n",
      "É numérico? True\n",
      "Valores diferentes: 2332\n",
      "[2574. 2697. 2011. ... 3689. 3141.  461.]\n"
     ]
    }
   ],
   "source": [
    "coluna = ms['Census_ProcessorModelIdentifier']\n",
    "\n",
    "analisa_coluna(coluna)"
   ]
  },
  {
   "cell_type": "code",
   "execution_count": 74,
   "metadata": {},
   "outputs": [
    {
     "name": "stdout",
     "output_type": "stream",
     "text": [
      "Percentagem NAs: 99.58683333333333\n",
      "É numérico? False\n",
      "Valores diferentes: 4\n",
      "[nan 'mid' 'low' 'high']\n"
     ]
    }
   ],
   "source": [
    "coluna = ms['Census_ProcessorClass']\n",
    "\n",
    "analisa_coluna(coluna)"
   ]
  },
  {
   "cell_type": "code",
   "execution_count": 75,
   "metadata": {},
   "outputs": [
    {
     "name": "stdout",
     "output_type": "stream",
     "text": [
      "Percentagem NAs: 0.6208333333333333\n",
      "É numérico? True\n",
      "Valores diferentes: 1194\n",
      "[ 476940.  244198.  715404. ... 1812339.  715418.  139488.]\n"
     ]
    }
   ],
   "source": [
    "coluna = ms['Census_PrimaryDiskTotalCapacity']\n",
    "\n",
    "analisa_coluna(coluna)"
   ]
  },
  {
   "cell_type": "code",
   "execution_count": 76,
   "metadata": {},
   "outputs": [
    {
     "name": "stdout",
     "output_type": "stream",
     "text": [
      "Percentagem NAs: 0.14833333333333334\n",
      "É numérico? False\n",
      "Valores diferentes: 5\n",
      "['HDD' 'SSD' 'Unspecified' 'UNKNOWN' nan]\n"
     ]
    }
   ],
   "source": [
    "coluna = ms['Census_PrimaryDiskTypeName']\n",
    "\n",
    "analisa_coluna(coluna)"
   ]
  },
  {
   "cell_type": "code",
   "execution_count": 77,
   "metadata": {},
   "outputs": [
    {
     "name": "stdout",
     "output_type": "stream",
     "text": [
      "Percentagem NAs: 0.6206666666666667\n",
      "É numérico? True\n",
      "Valores diferentes: 158821\n",
      "[ 69500. 127527. 632302. ... 444569. 198452. 146487.]\n"
     ]
    }
   ],
   "source": [
    "coluna = ms['Census_SystemVolumeTotalCapacity']\n",
    "\n",
    "analisa_coluna(coluna)"
   ]
  },
  {
   "cell_type": "code",
   "execution_count": 78,
   "metadata": {},
   "outputs": [
    {
     "name": "stdout",
     "output_type": "stream",
     "text": [
      "Percentagem NAs: 0.0\n",
      "É numérico? True\n",
      "Valores diferentes: 2\n",
      "[0 1]\n"
     ]
    }
   ],
   "source": [
    "coluna = ms['Census_HasOpticalDiskDrive']\n",
    "\n",
    "analisa_coluna(coluna)"
   ]
  },
  {
   "cell_type": "code",
   "execution_count": 79,
   "metadata": {},
   "outputs": [
    {
     "name": "stdout",
     "output_type": "stream",
     "text": [
      "Percentagem NAs: 0.9355\n",
      "É numérico? True\n",
      "Valores diferentes: 627\n",
      "[4.09600e+03 8.19200e+03 2.04800e+03 6.14400e+03 1.63840e+04         nan\n",
      " 1.22880e+04 3.07200e+03 1.02400e+03 1.02400e+04 3.27680e+04 3.58400e+03\n",
      " 5.12000e+03 6.55360e+04 2.04700e+03 4.09500e+03 1.62960e+04 2.56000e+03\n",
      " 2.45760e+04 7.16800e+03 8.19600e+03 4.19600e+03 2.00800e+03 2.04800e+04\n",
      " 4.09600e+04 8.19100e+03 1.43360e+04 6.19700e+03 1.53600e+03 5.04400e+03\n",
      " 8.70400e+03 2.18000e+03 1.63760e+04 4.08500e+03 9.83040e+04 8.17500e+03\n",
      " 1.63820e+04 8.04400e+03 1.01400e+03 2.86720e+04 3.99900e+03 4.09400e+03\n",
      " 1.02300e+03 6.01400e+03 5.99900e+03 8.51400e+03 1.63670e+04 8.09200e+03\n",
      " 3.07100e+03 4.01200e+03 1.74080e+04 1.44700e+03 3.92500e+03 7.85200e+03\n",
      " 2.94200e+03 4.91520e+04 1.59990e+04 1.31072e+05 8.00000e+03 1.04290e+04\n",
      " 5.11800e+03 3.58300e+03 3.99600e+03 3.32800e+03 2.15040e+04 2.99900e+03\n",
      " 3.04700e+03 2.04600e+03 3.00000e+03 3.32600e+03 4.60800e+03 6.14300e+03\n",
      " 8.07800e+03 3.05400e+03 1.63750e+04 6.00000e+03 1.79000e+03 9.00000e+03\n",
      " 1.60000e+04 5.12000e+02 2.85280e+04 1.12310e+04 8.04700e+03 3.57500e+03\n",
      " 4.25600e+03 2.62144e+05 3.00600e+03 2.19600e+03 1.14688e+05 1.94460e+04\n",
      " 4.04800e+03 9.21600e+03 2.25280e+04 3.54500e+03 2.03200e+03 8.06000e+03\n",
      " 6.04700e+03 2.45400e+03 1.21810e+04 6.13500e+03 3.51900e+03 1.52700e+03\n",
      " 8.78000e+03 6.01600e+03 8.18300e+03 4.00000e+03 5.63200e+03 2.04400e+03\n",
      " 1.84320e+04 2.50000e+03 3.08400e+03 6.20800e+03 3.31700e+03 5.11900e+03\n",
      " 5.10600e+03 2.03900e+03 8.19200e+04 1.08800e+04 3.07000e+03 1.89900e+03\n",
      " 1.98200e+03 4.09700e+03 3.93216e+05 1.28000e+03 4.01000e+03 8.19000e+03\n",
      " 3.79400e+03 2.79500e+03 4.01500e+03 7.37280e+04 3.27760e+04 6.13800e+03\n",
      " 4.08800e+03 3.93800e+03 3.06600e+03 5.79200e+03 3.99100e+03 9.16200e+03\n",
      " 4.82100e+03 3.10000e+03 1.00000e+03 2.30400e+03 1.12630e+04 8.18400e+03\n",
      " 4.00800e+03 2.55900e+03 2.04200e+03 7.62000e+02 3.92800e+03 6.12000e+03\n",
      " 3.60600e+03 3.10400e+03 8.10900e+03 3.81900e+03 5.73300e+03 6.14400e+04\n",
      " 3.31800e+03 6.15900e+03 1.62730e+04 1.99900e+03 1.22790e+04 4.11200e+03\n",
      " 4.38800e+03 1.62840e+04 8.18700e+03 1.92800e+03 8.12700e+03 7.63700e+03\n",
      " 1.37030e+04 1.21800e+04 1.50000e+04 7.99900e+03 8.09600e+03 2.51200e+03\n",
      " 5.04700e+03 1.79100e+03 2.98800e+03 3.67200e+03 2.70400e+03 1.63830e+04\n",
      " 7.89300e+03 7.03100e+03 4.02400e+03 2.58400e+03 2.03800e+03 7.12100e+03\n",
      " 1.02380e+04 3.26900e+04 2.81400e+03 4.08600e+03 6.45110e+04 3.66200e+03\n",
      " 3.19900e+03 6.03100e+03 4.48800e+03 6.08700e+03 2.81600e+03 1.49100e+03\n",
      " 5.78100e+03 1.33120e+04 2.35200e+03 1.63460e+04 4.10000e+03 3.31100e+03\n",
      " 2.45660e+04 3.10300e+03 1.32336e+05 4.70800e+03 1.12640e+04 4.22400e+03\n",
      " 5.06500e+03 2.01200e+03 3.92400e+03 1.67936e+05 2.03700e+03 2.61900e+03\n",
      " 5.73440e+04 7.64400e+03 5.00000e+03 1.62980e+04 4.19200e+03 3.68640e+04\n",
      " 3.19800e+03 2.00000e+03 4.09200e+03 5.47900e+03 6.12200e+03 1.20530e+04\n",
      " 4.05700e+03 3.99000e+03 1.07960e+04 1.30820e+04 1.50000e+03 3.98300e+03\n",
      " 1.15640e+04 9.90000e+03 1.59000e+03 8.07500e+03 8.13400e+03 3.86300e+03\n",
      " 3.58200e+03 5.31500e+03 3.00700e+03 3.31900e+03 6.55280e+04 8.15500e+03\n",
      " 6.03000e+03 1.96608e+05 1.06790e+04 6.01900e+03 6.65600e+03 8.30000e+03\n",
      " 1.01300e+03 2.02400e+03 6.20700e+03 3.98900e+03 2.66400e+03 4.04700e+03\n",
      " 1.99990e+04 1.22870e+04 3.09600e+03 4.71040e+04 6.18900e+03 9.22400e+03\n",
      " 1.62670e+04 4.14100e+03 3.93200e+03 1.34300e+03 4.09800e+03 1.20000e+03\n",
      " 3.90500e+03 4.05500e+03 8.07900e+03 8.08500e+03 3.31500e+03 3.32400e+03\n",
      " 1.79200e+03 1.04700e+03 8.07600e+03 7.01200e+03 5.05100e+03 1.61550e+04\n",
      " 8.77900e+03 8.09400e+03 1.53180e+04 3.83900e+03 4.07900e+03 8.18900e+03\n",
      " 6.96320e+04 6.00300e+03 2.89400e+03 8.02400e+03 8.20800e+03 7.16700e+03\n",
      " 9.39100e+03 6.15400e+03 2.90800e+03 3.77900e+03 1.24300e+03 6.04400e+03\n",
      " 3.32700e+03 5.99400e+03 6.71744e+05 7.64000e+03 8.19500e+03 4.01400e+03\n",
      " 3.98000e+03 3.56400e+03 1.01150e+04 4.39100e+03 1.63060e+04 2.80400e+03\n",
      " 2.66240e+04 2.41280e+04 6.14200e+03 6.27200e+03 8.09500e+03 2.09600e+03\n",
      " 1.07480e+04 4.99900e+03 2.45740e+04 7.55200e+03 3.83800e+03 1.21280e+04\n",
      " 4.05200e+03 1.94000e+03 3.11700e+03 1.47100e+03 1.00000e+04 2.54700e+03\n",
      " 3.51800e+03 4.03800e+03 5.57200e+03 1.89500e+03 7.60700e+03 7.00000e+02\n",
      " 3.06200e+03 1.62900e+03 1.66700e+03 2.61500e+03 1.62770e+04 1.05920e+04\n",
      " 8.16800e+03 8.12900e+03 2.41100e+03 4.09100e+03 3.07200e+04 4.08200e+03\n",
      " 8.09800e+03 5.27500e+03 2.32400e+03 9.99900e+03 1.01330e+04 8.12800e+03\n",
      " 3.11800e+03 8.06700e+03 4.50560e+04 4.10800e+03 1.01500e+03 3.85100e+03\n",
      " 5.24288e+05 2.51900e+03 2.08400e+03 3.49900e+03 6.07600e+03 3.11300e+03\n",
      " 3.79700e+03 4.07200e+03 3.27670e+04 5.03000e+03 1.02390e+04 5.88700e+03\n",
      " 4.06100e+03 4.12800e+03 6.06400e+03 2.02800e+03 1.00950e+04 4.06800e+03\n",
      " 7.43500e+04 8.96000e+02 4.22700e+03 2.87900e+03 1.55200e+03 2.70700e+03\n",
      " 2.71100e+03 1.62750e+04 6.38800e+03 3.76500e+03 1.25430e+04 1.96600e+03\n",
      " 3.95900e+03 9.17504e+05 2.55400e+03 2.04000e+03 8.16400e+03 6.19100e+03\n",
      " 1.75550e+04 3.27190e+04 1.99200e+03 1.26400e+03 6.06800e+03 3.09500e+03\n",
      " 3.55000e+03 1.22800e+04 1.42300e+03 1.60810e+04 3.79500e+03 8.15700e+03\n",
      " 8.38400e+03 1.22830e+04 4.39200e+03 4.08700e+03 8.00400e+03 1.53500e+03\n",
      " 2.43000e+03 1.62710e+04 1.92100e+03 2.09500e+03 4.66100e+03 1.64000e+04\n",
      " 2.86710e+04 2.25900e+03 6.08100e+03 1.08110e+04 1.48400e+03 1.19700e+03\n",
      " 4.05900e+03 6.09300e+03 7.68000e+03 1.96700e+03 1.94560e+04 3.99700e+03\n",
      " 6.03700e+03 2.09200e+03 2.93700e+03 2.19100e+03 6.00800e+03 6.10500e+03\n",
      " 6.11400e+03 2.25700e+03 2.25180e+04 4.35200e+03 1.09880e+04 8.12200e+03\n",
      " 1.96200e+03 7.78240e+04 2.02300e+03 7.23200e+03 3.07100e+04 1.60000e+03\n",
      " 1.97600e+03 3.49800e+03 6.14100e+03 8.72400e+03 8.13800e+03 8.62200e+03\n",
      " 8.17600e+03 7.93500e+03 1.20000e+04 5.36900e+03 3.48900e+03 6.13200e+03\n",
      " 1.71520e+04 1.21600e+04 3.43300e+03 3.57400e+03 2.45700e+03 3.82000e+03\n",
      " 6.05800e+03 1.22780e+04 5.80800e+03 6.05600e+03 6.51400e+03 3.96000e+03\n",
      " 5.32400e+03 3.02400e+03 2.44890e+04 8.32000e+03 2.06950e+04 4.06200e+03\n",
      " 1.91900e+03 5.98000e+03 9.58000e+02 5.85000e+03 8.14200e+03 6.73100e+03\n",
      " 5.40300e+03 4.40000e+03 3.08300e+03 6.07700e+03 4.70400e+03 1.62760e+04\n",
      " 1.91800e+03 2.20000e+04 2.01300e+03 1.62880e+04 6.02700e+03 8.09100e+03\n",
      " 4.42900e+03 8.10500e+03 6.71300e+03 2.81500e+03 3.01300e+03 7.89100e+03\n",
      " 3.98200e+03 1.85100e+03 4.08400e+03 2.20300e+03 9.21500e+03 2.83500e+03\n",
      " 3.29900e+03 1.27800e+03 6.99900e+03 5.02600e+03 6.07900e+03 4.86300e+03\n",
      " 6.09700e+03 3.27600e+04 3.06400e+03 8.13500e+03 1.59900e+03 2.00900e+03\n",
      " 2.90600e+03 3.98800e+03 3.94500e+03 1.90000e+03 6.08400e+03 6.13400e+03\n",
      " 4.10300e+03 3.03600e+03 8.01500e+03 8.15600e+03 2.96960e+04 1.01120e+04\n",
      " 6.13600e+03 2.54760e+04 1.60800e+03 3.51400e+03 4.16000e+03 5.40400e+03\n",
      " 5.78560e+04 2.04500e+03 3.22800e+03 4.11100e+03 6.19200e+03 8.13700e+03\n",
      " 2.45670e+04 3.17600e+03 1.21880e+04 4.01300e+03 1.15880e+04 3.30000e+03\n",
      " 1.00160e+04 8.06300e+03 8.38300e+03 2.30000e+04 2.33600e+03 4.03400e+03\n",
      " 7.13200e+03 5.30400e+03 8.10600e+03 3.34800e+03 3.06900e+03 1.17260e+04\n",
      " 1.08050e+04 3.90400e+03 7.89200e+03 1.62700e+04 8.04000e+03 2.06400e+03\n",
      " 1.98100e+03 3.19100e+03 3.01100e+03 8.19400e+03 8.15200e+03 4.01100e+03\n",
      " 1.74900e+03 1.15200e+03 7.89000e+03 3.06300e+03 2.19500e+03 2.37100e+03\n",
      " 4.08000e+03 3.27210e+04 1.20240e+04 1.97500e+03 4.06000e+03 5.52900e+03\n",
      " 1.35500e+03 1.22110e+04 4.01800e+03 8.08600e+03 8.09000e+03 3.05200e+03\n",
      " 3.78700e+03 2.13900e+03 1.68500e+03 4.03200e+03 6.02800e+03 1.34160e+04\n",
      " 2.07100e+03 5.68200e+03 4.48300e+03 2.24400e+03 4.07100e+03 8.07200e+03\n",
      " 2.57600e+03 4.50000e+03 5.23400e+03 4.99200e+03 7.75800e+03 2.94300e+03\n",
      " 1.98300e+03 1.63410e+04 8.05600e+03 3.82400e+03 6.65100e+03 8.06100e+03\n",
      " 1.55500e+03 1.95700e+03 4.53300e+03 2.44200e+03 2.62108e+05 9.34600e+03\n",
      " 1.48680e+04 1.77900e+03 1.50600e+03]\n"
     ]
    }
   ],
   "source": [
    "coluna = ms['Census_TotalPhysicalRAM']\n",
    "\n",
    "analisa_coluna(coluna)"
   ]
  },
  {
   "cell_type": "code",
   "execution_count": 80,
   "metadata": {},
   "outputs": [
    {
     "name": "stdout",
     "output_type": "stream",
     "text": [
      "Percentagem NAs: 0.0075\n",
      "É numérico? False\n",
      "Valores diferentes: 36\n",
      "['Notebook' 'Desktop' 'Laptop' 'AllinOne' 'Portable' 'Convertible' 'Other'\n",
      " 'UNKNOWN' 'Detachable' 'MiniTower' 'LowProfileDesktop'\n",
      " 'MainServerChassis' 'HandHeld' 'Tower' 'SpaceSaving' 'LunchBox' 'Tablet'\n",
      " '30' 'MultisystemChassis' 'MiniPC' '32' 'RackMountChassis' 'Unknown' nan\n",
      " 'SealedCasePC' 'StickPC' 'SubNotebook' 'BusExpansionChassis' 'Blade'\n",
      " 'PizzaBox' '0' '35' '28' 'ExpansionChassis' '31' '88']\n"
     ]
    }
   ],
   "source": [
    "coluna = ms['Census_ChassisTypeName']\n",
    "\n",
    "analisa_coluna(coluna)"
   ]
  },
  {
   "cell_type": "code",
   "execution_count": 81,
   "metadata": {},
   "outputs": [
    {
     "name": "stdout",
     "output_type": "stream",
     "text": [
      "Percentagem NAs: 0.5431666666666667\n",
      "É numérico? True\n",
      "Valores diferentes: 509\n",
      "[ 15.5  13.9  11.6  14.   21.9  23.   12.7  15.3  23.8  21.5  21.7  16.3\n",
      "  43.   10.1  15.7  24.   18.5  28.8  13.3  20.   15.6  12.3  13.5  17.2\n",
      "  15.4  15.   34.1  23.5  22.   17.3   nan  17.   13.2  27.    8.8  19.1\n",
      "   8.   27.2  12.6  19.5  14.1  10.8  23.1  10.3  20.7  19.4  20.1  23.6\n",
      "  21.6  18.7  52.   18.4  19.   11.5  18.9  46.   17.1  10.   19.7  16.2\n",
      "  23.4  26.9  12.5  27.3  15.9  20.8  72.3   9.4  17.5  39.8  37.6  32.\n",
      "  12.1  22.3  22.4  12.    9.9  31.5  23.7  54.6  45.8  20.4  14.5  24.7\n",
      "  14.7  28.9  19.9  35.   14.9  24.1  24.2  26.1  22.2   6.9  31.7  10.6\n",
      "  12.2  12.9  13.4  14.6  40.   25.    8.3  17.7  28.6  61.6  10.4  31.4\n",
      "  23.3  14.8   9.7  20.6  18.6  16.7  10.5  15.2  16.8  23.2  64.5  31.6\n",
      "  74.9  21.2  65.   24.5  22.9  21.1  16.6   9.   46.1  24.9  11.4  37.\n",
      "  40.2  12.8  57.5  57.8  45.2  18.1  17.9  29.8  34.8  22.7  50.1  27.9\n",
      "  39.5  48.6  26.6   9.8  19.3  19.2  31.2  16.   54.3  15.8  14.2  64.\n",
      "  47.8   8.1  21.   20.2  23.9   7.   36.1  10.9  21.8  89.9  21.4  19.6\n",
      "  12.4  21.3  16.4  17.6  27.6  42.1  13.8  55.   49.   61.7  49.5  13.\n",
      "  40.1   9.1  18.2  14.4  30.6  35.4  11.9   6.   45.9  39.9   8.9  11.7\n",
      "  47.4  33.1  60.9  45.   41.3  52.2  60.1  26.   27.5  55.7  11.1  17.4\n",
      "  25.8  11.   11.8  64.2  20.9  25.1  13.1  13.7  72.   42.   49.4  66.9\n",
      "  69.   25.6  61.2  26.4   7.2  27.8  42.5  18.3  50.6  38.3  39.  115.6\n",
      "  22.5  38.4  29.5  60.   22.6  39.7  63.7  30.9  22.8  20.5  29.   38.5\n",
      "  15.1  30.2  74.3  41.9  24.3  36.6  22.1   7.8  25.5  48.   34.3  38.7\n",
      "  32.1  13.6  19.8  17.8  43.2  28.5  45.6  59.4  16.1  49.7  10.2  34.\n",
      "  14.3  70.1   7.9  18.8  55.1   8.4  37.3 142.   45.1  16.9  18.   50.\n",
      "  85.8  58.2   6.7  48.9  54.9  48.5  24.4  30.5  11.3   5.5  10.7  72.2\n",
      "   8.7   8.6  46.8  33.9  35.1  63.5  37.5  47.6  72.1  44.6  20.3  69.6\n",
      "  27.7  26.7  42.9  26.3  24.8  49.6  34.2  95.2  36.9   7.1  29.3  28.\n",
      "  30.4  75.4  83.5  38.6  25.7  29.1  57.6  84.6  25.2 106.5  30.   64.7\n",
      "  51.9  28.4  44.9  71.2  29.4  99.9  43.4  35.9  41.6  45.4  89.1   8.2\n",
      "  36.   41.4  26.5  16.5   5.8  48.1  44.4  73.   26.2  43.8  47.2  30.1\n",
      "  46.9  68.9  46.2  50.7   9.5  28.7  61.   27.4  78.5   9.6  44.5  69.5\n",
      "  74.6  63.   30.3  28.3  34.9  39.4  32.7  75.1  29.7  32.3  25.4   7.6\n",
      "  42.3  95.3  29.6  38.8  59.2  54.8  41.   55.2  29.2  53.5  42.6  65.8\n",
      "  47.   35.8  35.3  45.7  51.2  41.8  86.7  56.8   9.3  46.3  62.5  47.9\n",
      "  24.6  50.4  52.1  38.9  39.3  31.1  26.8  47.7 100.   46.7  83.6  27.1\n",
      "  34.4   8.5  57.7   7.7  37.2  75.   43.9  40.4  61.1 109.7  61.8  84.4\n",
      "  95.1  35.6  75.8  93.5  90.   51.4  33.4  66.5  61.9  48.3  43.3  32.6\n",
      " 122.1  80.   44.1  36.7  49.2  41.7  59.5  32.9  25.9  31.9  51.8   6.8\n",
      "   7.3  56.   49.1  32.8  71.6  78.7  76.5  52.5  49.8  38.1  58.   29.9\n",
      "  65.7  65.2  70.   41.2  59.1  30.7  50.5  33.2  53.9  34.5  33.5  56.7\n",
      "  84.   34.6  52.4  48.4  64.6  84.1  60.2  64.1  33.8  30.8  43.6  50.2\n",
      "   9.2  11.2  68.3  61.3  42.2  37.9  39.2  42.7  42.4  54.5  43.1 102.6\n",
      "  33.3  49.9 116.7  50.3  44.2 100.6   4.9  40.3  45.5  36.8  54.4  31.3\n",
      "  42.8  44.   51.6  71.4  70.8]\n"
     ]
    }
   ],
   "source": [
    "coluna = ms['Census_InternalPrimaryDiagonalDisplaySizeInInches']\n",
    "\n",
    "analisa_coluna(coluna)"
   ]
  },
  {
   "cell_type": "code",
   "execution_count": 82,
   "metadata": {},
   "outputs": [
    {
     "name": "stdout",
     "output_type": "stream",
     "text": [
      "Percentagem NAs: 0.5421666666666667\n",
      "É numérico? True\n",
      "Valores diferentes: 540\n",
      "[ 1.366e+03  1.920e+03  1.680e+03  8.000e+02  1.600e+03  7.680e+02\n",
      "  1.280e+03  1.360e+03  2.560e+03  1.024e+03  2.736e+03  3.000e+03\n",
      "        nan  2.160e+03  1.440e+03  3.200e+03  1.080e+03  3.840e+03\n",
      "  2.256e+03  1.144e+03  1.227e+03  3.440e+03  6.000e+02  6.400e+02\n",
      "  1.824e+03  1.368e+03  1.536e+03  1.400e+03  1.786e+03  2.304e+03\n",
      "  2.880e+03  1.502e+03  1.152e+03  1.882e+03  2.048e+03  1.776e+03\n",
      "  1.692e+03  1.462e+03  9.000e+02  1.200e+03  1.768e+03  4.096e+03\n",
      "  1.630e+03  3.360e+03  8.240e+02  1.625e+03  1.364e+03  1.800e+03\n",
      "  1.050e+03  5.755e+03  3.814e+03  1.894e+03  2.197e+03 -1.000e+00\n",
      "  1.303e+03  1.745e+03  9.820e+02  5.120e+03  1.240e+03  9.600e+03\n",
      "  1.708e+03  1.064e+03  4.500e+03  1.495e+03  5.760e+03  1.594e+03\n",
      "  1.922e+03  1.842e+03  1.301e+03  2.166e+03  3.240e+03  3.246e+03\n",
      "  1.873e+03  1.262e+03  1.675e+03  1.079e+03  2.754e+03  1.299e+03\n",
      "  1.489e+03  4.320e+03  1.862e+03  1.716e+03  1.590e+03  1.273e+03\n",
      "  1.289e+03  1.616e+03  1.632e+03  1.683e+03  1.149e+03  1.785e+03\n",
      "  1.034e+03  1.646e+03  1.728e+03  1.029e+03  1.184e+03  1.291e+03\n",
      "  1.176e+03  1.656e+03  1.350e+03  3.004e+03  2.318e+03  2.240e+03\n",
      "  1.182e+03  8.970e+02  1.362e+03  1.264e+03  1.396e+03  1.186e+03\n",
      "  4.800e+02  2.000e+03  1.916e+03  1.156e+03  1.943e+03  1.216e+03\n",
      "  1.904e+03  1.856e+03  1.855e+03  1.648e+03  1.210e+03  1.883e+03\n",
      "  1.294e+03  2.400e+03  6.400e+03  1.596e+03  1.660e+03  1.638e+03\n",
      "  2.178e+03  1.432e+03  2.154e+03  1.353e+03  1.868e+03  1.666e+03\n",
      "  8.480e+02  1.154e+03  9.600e+02  1.302e+03  1.918e+03  3.008e+03\n",
      "  1.851e+03  1.388e+03  1.022e+03  1.698e+03  7.200e+02  5.010e+03\n",
      "  1.014e+03  3.836e+03  2.266e+03  1.334e+03  2.674e+03  1.288e+03\n",
      "  1.610e+03  9.750e+02  1.732e+03  1.140e+03  1.439e+03  1.609e+03\n",
      "  1.218e+03  2.156e+03  5.120e+02  4.200e+03  2.868e+03  1.706e+03\n",
      "  1.076e+03  1.281e+03  6.880e+03  2.648e+03  2.062e+03  1.853e+03\n",
      "  1.059e+03  1.792e+03  1.736e+03  2.715e+03  1.344e+03  1.870e+03\n",
      "  1.654e+03  2.360e+03  2.238e+03  1.820e+03  3.336e+03  9.410e+02\n",
      "  1.274e+03  2.306e+03  1.657e+03  1.884e+03  1.726e+03  1.431e+03\n",
      "  1.691e+03  1.701e+03  1.804e+03  3.618e+03  1.293e+03  2.596e+03\n",
      "  1.914e+03  1.451e+03  1.096e+03  3.834e+03  1.615e+03  1.453e+03\n",
      "  3.236e+03  3.180e+03  1.310e+03  1.338e+03  1.781e+03  1.398e+03\n",
      "  1.243e+03  1.909e+03  1.738e+03  1.715e+03  2.640e+03  1.311e+03\n",
      "  5.040e+03  1.501e+03  1.554e+03  1.330e+03  1.356e+03  6.980e+02\n",
      "  1.518e+03  1.217e+03  6.240e+02  1.346e+03  1.000e+03  4.098e+03\n",
      "  3.486e+03  1.662e+03  2.425e+03  9.640e+02  1.504e+03  1.690e+03\n",
      "  1.352e+03  1.327e+03  1.023e+03  1.331e+03  4.174e+03  1.483e+03\n",
      "  2.978e+03  1.877e+03  2.504e+03  1.321e+03  1.442e+03  1.336e+03\n",
      "  1.436e+03  1.196e+03  2.226e+03  2.368e+03  7.400e+02  2.076e+03\n",
      "  3.390e+03  1.020e+03  1.783e+03  1.889e+03  1.054e+03  2.670e+03\n",
      "  1.426e+03  7.680e+03  6.910e+02  2.524e+03  1.139e+03  2.556e+03\n",
      "  1.104e+03  1.228e+03  1.674e+03  4.618e+03  2.250e+03  2.192e+03\n",
      "  1.088e+03  1.881e+03  1.162e+03  2.398e+03  3.950e+03  1.318e+03\n",
      "  2.364e+03  2.340e+03  1.249e+03  3.890e+03  1.670e+03  8.680e+02\n",
      "  2.732e+03  1.380e+03  1.211e+03  8.460e+02  1.456e+03  1.167e+03\n",
      "  1.481e+03  1.403e+03  1.893e+03  9.960e+02  1.571e+03  1.704e+03\n",
      "  9.580e+02  1.644e+03  9.870e+02  1.025e+03  2.096e+03  2.501e+03\n",
      "  2.644e+03  1.152e+04  1.828e+03  1.229e+03  1.233e+03  2.414e+03\n",
      "  1.256e+03  3.266e+03  3.056e+03  1.848e+03  1.287e+03  1.063e+03\n",
      "  3.200e+02  1.835e+03  7.240e+02  1.306e+03  1.697e+03  2.794e+03\n",
      "  7.370e+02  2.862e+03  1.409e+03  3.462e+03  1.598e+03  1.122e+03\n",
      "  2.362e+03  1.232e+03  1.852e+03  1.348e+03  1.412e+03  1.490e+03\n",
      "  1.373e+03  1.604e+03  1.623e+03  1.711e+03  1.560e+03  1.335e+03\n",
      "  2.552e+03  1.226e+03  1.826e+03  1.134e+03  1.766e+03  1.626e+03\n",
      "  1.913e+03  1.810e+03  1.238e+03  1.424e+03  2.483e+03  1.016e+03\n",
      "  1.290e+03  2.138e+03  1.207e+03  7.490e+02  2.764e+03  1.155e+03\n",
      "  1.378e+03  2.712e+03  1.221e+03  1.214e+03  2.511e+03  1.679e+03\n",
      "  2.056e+03  1.815e+03  1.613e+03  2.312e+03  1.550e+03  1.636e+03\n",
      "  1.250e+03  2.559e+03  1.476e+03  1.844e+03  1.018e+03  2.490e+03\n",
      "  2.994e+03  9.720e+02  1.170e+03  1.547e+03  1.382e+03  9.850e+02\n",
      "  9.390e+02  1.880e+03  1.752e+03  6.670e+02  5.920e+03  2.236e+03\n",
      "  1.754e+03  1.608e+03  1.629e+03  1.215e+03  2.876e+03  5.970e+03\n",
      "  1.322e+03  2.394e+03  1.822e+03  1.514e+03  3.636e+03  1.591e+03\n",
      "  2.278e+03  1.203e+03  1.970e+03  2.184e+03  1.575e+03  1.446e+03\n",
      "  1.112e+03  1.839e+03  1.276e+03  1.676e+03  9.760e+02  1.418e+03\n",
      "  2.774e+03  9.480e+02  1.270e+03  1.703e+03  1.369e+03  1.138e+03\n",
      "  1.147e+03  1.160e+03  1.284e+03  3.346e+03  2.472e+03  1.606e+03\n",
      "  2.430e+03  7.840e+02  1.717e+03  1.562e+03  8.920e+02  1.487e+03\n",
      "  1.268e+03  1.780e+03  1.508e+03  1.266e+03  1.864e+03  2.694e+03\n",
      "  1.146e+03  2.023e+03  1.168e+03  1.658e+03  1.246e+03  1.900e+03\n",
      "  1.239e+03  1.258e+03  4.126e+03  2.382e+03  2.486e+03  1.320e+03\n",
      "  1.866e+03  9.140e+02  1.642e+03  1.129e+03  1.197e+03  1.515e+03\n",
      "  3.772e+03  2.396e+03  1.269e+03  1.083e+03  1.058e+03  1.255e+03\n",
      "  2.481e+03  2.220e+03  2.326e+03  1.700e+03  3.124e+03  1.589e+03\n",
      "  1.300e+03  2.503e+03  1.420e+03  2.418e+03  1.328e+03  1.639e+03\n",
      "  1.601e+03  2.426e+03  2.356e+03  2.225e+03  1.790e+03  1.078e+03\n",
      "  4.130e+03  1.087e+03  1.365e+03  1.486e+03  1.603e+03  1.685e+03\n",
      "  1.592e+03  1.410e+03  1.181e+03  1.161e+03  1.532e+03  1.190e+03\n",
      "  1.082e+03  2.264e+03  2.551e+03  9.570e+02  1.498e+03  4.622e+03\n",
      "  1.684e+03  1.114e+03  2.305e+03  1.171e+03  1.202e+03  1.278e+03\n",
      "  1.387e+03  2.190e+03  1.408e+03  1.771e+03  3.354e+03  1.464e+03\n",
      "  3.312e+03  1.710e+03  1.224e+03  1.584e+03  1.178e+03  9.920e+02\n",
      "  1.664e+03  1.125e+03  2.924e+03  1.187e+03  6.810e+02  1.220e+03\n",
      "  1.158e+03  1.620e+03  1.871e+03  3.376e+03  1.031e+03  2.666e+03\n",
      "  1.308e+03  1.248e+03  1.374e+03  1.254e+03  1.696e+03  1.520e+03\n",
      "  1.533e+03  2.294e+03  2.634e+03  1.860e+03  3.388e+03  1.108e+03\n",
      "  1.345e+03  1.561e+03  2.874e+03  1.522e+03  5.940e+02  4.080e+03\n",
      "  1.188e+03  2.786e+03  1.605e+03  1.557e+03  2.512e+03  2.804e+03]\n"
     ]
    }
   ],
   "source": [
    "coluna = ms['Census_InternalPrimaryDisplayResolutionHorizontal']\n",
    "\n",
    "analisa_coluna(coluna)"
   ]
  },
  {
   "cell_type": "code",
   "execution_count": 83,
   "metadata": {},
   "outputs": [
    {
     "name": "stdout",
     "output_type": "stream",
     "text": [
      "Percentagem NAs: 0.5421666666666667\n",
      "É numérico? True\n",
      "Valores diferentes: 569\n",
      "[ 7.680e+02  1.080e+03  1.050e+03  6.000e+02  9.000e+02  1.366e+03\n",
      "  8.000e+02  7.200e+02  1.824e+03  2.000e+03  1.024e+03        nan\n",
      "  1.280e+03  1.440e+03  1.200e+03  1.800e+03  1.920e+03  9.520e+02\n",
      "  9.750e+02  2.160e+03  1.504e+03  7.970e+02  1.600e+03  8.470e+02\n",
      "  4.800e+02  1.026e+03  2.048e+03  9.600e+02  1.004e+03  2.736e+03\n",
      "  9.450e+02  1.106e+03  8.640e+02  1.058e+03  1.536e+03  1.000e+03\n",
      "  1.014e+03  5.760e+02  6.750e+02  9.760e+02  9.920e+02  2.304e+03\n",
      "  9.020e+02  1.152e+03  6.480e+02  2.100e+03  6.420e+02  9.570e+02\n",
      "  8.030e+02  7.240e+02  1.680e+03  1.001e+03  2.021e+03  2.400e+03\n",
      "  9.430e+02  8.560e+02  1.137e+03 -1.000e+00  1.081e+03  7.470e+02\n",
      "  3.900e+02  9.630e+02  8.820e+02  5.250e+02  2.880e+03  4.000e+02\n",
      "  3.000e+03  7.310e+02  1.135e+03  1.036e+03  6.550e+02  7.190e+02\n",
      "  1.269e+03  6.200e+02  1.338e+03  6.810e+02  6.640e+02  1.011e+03\n",
      "  7.760e+02  9.580e+02  5.820e+02  1.570e+03  6.690e+02  9.790e+02\n",
      "  1.048e+03  9.370e+02  1.990e+03  9.800e+02  1.232e+03  4.320e+03\n",
      "  8.830e+02  7.650e+02  7.900e+02  8.590e+02  9.620e+02  1.574e+03\n",
      "  9.970e+02  9.560e+02  1.922e+03  5.990e+02  1.003e+03  1.142e+03\n",
      "  8.050e+02  1.041e+03  7.820e+02  1.095e+03  1.054e+03  6.430e+02\n",
      "  1.704e+03  1.550e+03  6.660e+02  7.490e+02  1.118e+03  1.890e+03\n",
      "  6.560e+02  9.850e+02  1.901e+03  9.770e+02  2.764e+03  1.066e+03\n",
      "  9.670e+02  1.097e+03  6.630e+02  1.064e+03  6.540e+02  6.400e+02\n",
      "  9.930e+02  2.560e+03  7.850e+02  1.620e+03  8.460e+02  5.690e+02\n",
      "  9.280e+02  6.150e+02  6.840e+02  9.680e+02  1.392e+03  1.009e+03\n",
      "  1.015e+03  8.790e+02  3.840e+03  1.242e+03  8.980e+02  1.250e+03\n",
      "  3.600e+03  7.340e+02  1.008e+03  7.700e+02  1.027e+03  1.390e+03\n",
      "  8.420e+02  1.358e+03  1.339e+03  7.910e+02  6.110e+02  1.408e+03\n",
      "  9.740e+02  2.063e+03  7.300e+02  9.270e+02  9.500e+02  6.850e+02\n",
      "  1.692e+03  6.620e+02  1.284e+03  1.345e+03  7.720e+02  7.670e+02\n",
      "  6.720e+02  9.410e+02  1.047e+03  1.518e+03  7.620e+02  2.574e+03\n",
      "  7.630e+02  1.859e+03  2.005e+03  1.010e+03  1.236e+03  6.220e+02\n",
      "  1.672e+03  1.458e+03  6.570e+02  1.968e+03  6.650e+02  9.830e+02\n",
      "  9.510e+02  1.160e+03  7.350e+02  1.346e+03  3.840e+02  9.910e+02\n",
      "  2.800e+03  9.400e+02  1.678e+03  6.340e+02  6.940e+02  6.890e+02\n",
      "  9.710e+02  1.302e+03  1.092e+03  1.879e+03  7.690e+02  1.527e+03\n",
      "  7.000e+02  7.950e+02  6.830e+02  1.328e+03  1.540e+03  1.013e+03\n",
      "  1.785e+03  7.060e+02  8.990e+02  8.390e+02  3.200e+03  6.730e+02\n",
      "  1.344e+03  1.874e+03  1.400e+03  9.540e+02  1.398e+03  9.420e+02\n",
      "  9.470e+02  7.930e+02  1.818e+03  1.023e+03  9.660e+02  1.314e+03\n",
      "  2.036e+03  7.960e+02  1.556e+03  9.390e+02  8.870e+02  7.750e+02\n",
      "  8.890e+02  9.890e+02  8.530e+02  8.170e+02  2.024e+03  9.810e+02\n",
      "  9.330e+02  1.162e+03  1.846e+03  7.640e+02  9.820e+02  8.770e+02\n",
      "  2.194e+03  8.300e+02  1.025e+03  1.368e+03  8.380e+02  1.870e+03\n",
      "  5.290e+02  9.250e+02  7.660e+02  1.516e+03  8.070e+02  2.188e+03\n",
      "  5.520e+02  9.980e+02  9.180e+02  9.840e+02  8.200e+02  4.410e+02\n",
      "  1.087e+03  7.860e+02  1.028e+03  1.895e+03  8.780e+02  6.710e+02\n",
      "  7.090e+02  7.080e+02  1.380e+03  6.970e+02  7.070e+02  7.500e+02\n",
      "  8.100e+02  1.379e+03  2.618e+03  1.079e+03  7.830e+02  1.430e+03\n",
      "  1.034e+03  1.554e+03  5.400e+02  7.030e+02  1.494e+03  6.670e+02\n",
      "  8.130e+02  8.090e+02  8.340e+02  1.020e+03  1.093e+03  1.002e+03\n",
      "  8.650e+02  1.560e+03  5.670e+02  9.360e+02  9.150e+02  1.298e+03\n",
      "  2.140e+03  1.123e+03  1.104e+03  1.072e+03  1.845e+03  8.930e+02\n",
      "  1.342e+03  5.330e+02  1.348e+03  1.287e+03  6.900e+02  1.946e+03\n",
      "  1.076e+03  7.360e+02  2.658e+03  9.120e+02  1.500e+03  1.644e+03\n",
      "  7.460e+02  9.990e+02  1.334e+03  2.428e+03  9.720e+02  1.568e+03\n",
      "  9.780e+02  8.430e+02  2.182e+03  1.016e+03  7.920e+02  6.510e+02\n",
      "  7.780e+02  1.055e+03  8.690e+02  8.110e+02  8.940e+02  6.100e+02\n",
      "  1.019e+03  9.200e+02  7.990e+02  9.960e+02  9.860e+02  1.350e+03\n",
      "  8.860e+02  7.400e+02  1.370e+03  1.394e+03  7.540e+02  6.350e+02\n",
      "  8.630e+02  6.520e+02  6.700e+02  8.080e+02  1.894e+03  9.460e+02\n",
      "  1.068e+03  9.730e+02  1.212e+03  1.030e+03  9.070e+02  7.840e+02\n",
      "  8.320e+02  2.400e+02  6.390e+02  5.430e+02  6.250e+02  9.050e+02\n",
      "  9.590e+02  1.482e+03  6.790e+02  1.090e+03  9.610e+02  1.668e+03\n",
      "  8.750e+02  9.240e+02  6.580e+02  1.931e+03  1.204e+03  1.067e+03\n",
      "  7.320e+02  5.340e+02  9.210e+02  8.010e+02  8.670e+02  8.720e+02\n",
      "  1.310e+03  1.119e+03  9.260e+02  8.040e+02  8.220e+02  1.618e+03\n",
      "  1.094e+03  8.280e+02  6.590e+02  8.350e+02  9.550e+02  1.360e+03\n",
      "  1.452e+03  1.254e+03  6.980e+02  7.870e+02  1.864e+03  6.320e+02\n",
      "  5.940e+02  5.620e+02  6.800e+02  6.070e+02  6.190e+02  1.249e+03\n",
      "  1.070e+03  1.286e+03  1.134e+03  1.862e+03  7.980e+02  1.283e+03\n",
      "  1.022e+03  1.282e+03  9.130e+02  9.300e+02  9.310e+02  1.478e+03\n",
      "  1.969e+03  6.240e+02  6.500e+02  7.390e+02  1.065e+03  8.500e+02\n",
      "  9.010e+02  1.337e+03  8.900e+02  9.700e+02  9.440e+02  6.960e+02\n",
      "  1.594e+03  9.380e+02  1.572e+03  6.870e+02  1.432e+03  9.220e+02\n",
      "  1.281e+03  6.260e+02  2.544e+03  1.353e+03  6.760e+02  1.292e+03\n",
      "  7.940e+02  1.040e+03  1.638e+03  9.940e+02  1.636e+03  1.233e+03\n",
      "  7.600e+02  8.260e+02  1.796e+03  3.500e+02  8.210e+02  2.000e+02\n",
      "  1.548e+03  6.820e+02  7.270e+02  9.140e+02  9.110e+02  1.103e+03\n",
      "  7.790e+02  1.978e+03  1.510e+03  1.546e+03  1.335e+03  1.237e+03\n",
      "  6.680e+02  8.400e+02  1.567e+03  1.300e+03  1.218e+03  1.007e+03\n",
      "  7.580e+02  1.005e+03  1.127e+03  1.994e+03  7.880e+02  8.800e+02\n",
      "  8.950e+02  6.930e+02  7.810e+02  2.122e+03  7.440e+02  6.470e+02\n",
      "  9.190e+02  7.800e+02  1.484e+03  1.670e+03  1.172e+03  6.770e+02\n",
      "  1.021e+03  6.020e+02  1.414e+03  2.378e+03  1.652e+03  8.450e+02\n",
      "  9.080e+02  1.227e+03  1.374e+03  7.120e+02  1.382e+03  2.548e+03\n",
      "  1.294e+03  7.040e+02  1.542e+03  1.512e+03  1.299e+03  1.195e+03\n",
      "  1.110e+03  1.330e+03  1.834e+03  6.290e+02  4.120e+02  1.876e+03\n",
      "  1.456e+03  2.596e+03  9.170e+02  8.880e+02  1.049e+03  1.077e+03\n",
      "  9.530e+02  8.710e+02  1.576e+03  1.059e+03  8.850e+02  2.748e+03\n",
      "  8.970e+02  1.136e+03  1.436e+03  1.272e+03  1.468e+03  2.598e+03\n",
      "  1.099e+03  2.112e+03  1.315e+03  6.860e+02  6.370e+02  1.006e+03\n",
      "  1.290e+03  8.600e+02  1.934e+03  1.852e+03  1.069e+03  1.974e+03\n",
      "  7.250e+02  8.700e+02  1.098e+03  1.369e+03  6.440e+02  8.120e+02\n",
      "  1.378e+03  9.870e+02  1.032e+03  7.420e+02  1.088e+03  9.290e+02\n",
      "  8.840e+02  1.376e+03  3.240e+03  1.976e+03  1.434e+03  8.370e+02\n",
      "  9.230e+02  1.676e+03  1.684e+03  7.480e+02  1.544e+03]\n"
     ]
    }
   ],
   "source": [
    "coluna = ms['Census_InternalPrimaryDisplayResolutionVertical']\n",
    "\n",
    "analisa_coluna(coluna)"
   ]
  },
  {
   "cell_type": "code",
   "execution_count": 84,
   "metadata": {},
   "outputs": [
    {
     "name": "stdout",
     "output_type": "stream",
     "text": [
      "Percentagem NAs: 0.0008333333333333334\n",
      "É numérico? False\n",
      "Valores diferentes: 10\n",
      "['Mobile' 'Desktop' 'Slate' 'Workstation' 'UNKNOWN' 'SOHOServer'\n",
      " 'EnterpriseServer' 'AppliancePC' nan 'PerformanceServer']\n"
     ]
    }
   ],
   "source": [
    "coluna = ms['Census_PowerPlatformRoleName']\n",
    "\n",
    "analisa_coluna(coluna)"
   ]
  },
  {
   "cell_type": "code",
   "execution_count": 85,
   "metadata": {},
   "outputs": [
    {
     "name": "stdout",
     "output_type": "stream",
     "text": [
      "Percentagem NAs: 71.05283333333334\n",
      "É numérico? False\n",
      "Valores diferentes: 31\n",
      "[nan 'lion' 'li-i' 'lip' '#' 'liio' 'real' 'li p' 'li' 'bq20' 'nimh'\n",
      " 'lgi0' 'batt' 'pbac' '4cel' 'vbox' 'unkn' 'ithi' 'lipo' 'pad0' 'lhp0'\n",
      " 'a132' 'lio' 'virt' 'bad' 'lit' '4lio' 'lipp' 'ram' 'ca48' 'p-sn']\n"
     ]
    }
   ],
   "source": [
    "coluna = ms['Census_InternalBatteryType']\n",
    "\n",
    "analisa_coluna(coluna)"
   ]
  },
  {
   "cell_type": "code",
   "execution_count": 86,
   "metadata": {},
   "outputs": [
    {
     "name": "stdout",
     "output_type": "stream",
     "text": [
      "Percentagem NAs: 3.0425\n",
      "É numérico? True\n",
      "Valores diferentes: 5948\n",
      "[0.0000000e+00 4.2949673e+09 8.0000000e+00 ... 5.4397000e+04 3.3000000e+03\n",
      " 1.4664000e+04]\n"
     ]
    }
   ],
   "source": [
    "coluna = ms['Census_InternalBatteryNumberOfCharges']\n",
    "\n",
    "analisa_coluna(coluna)"
   ]
  },
  {
   "cell_type": "code",
   "execution_count": 87,
   "metadata": {},
   "outputs": [
    {
     "name": "stdout",
     "output_type": "stream",
     "text": [
      "Percentagem NAs: 0.0\n",
      "É numérico? False\n",
      "Valores diferentes: 305\n",
      "['10.0.17134.165' '10.0.14393.2189' '10.0.16299.431' '10.0.16299.125'\n",
      " '10.0.17134.112' '10.0.17134.1' '10.0.15063.1155' '10.0.16299.547'\n",
      " '10.0.17134.254' '10.0.10586.494' '10.0.17134.228' '10.0.17134.285'\n",
      " '10.0.17134.137' '10.0.14393.953' '10.0.16299.248' '10.0.15063.483'\n",
      " '10.0.15063.1088' '10.0.15063.1206' '10.0.10586.1045' '10.0.17134.191'\n",
      " '10.0.15063.1266' '10.0.14393.1944' '10.0.16299.492' '10.0.15063.966'\n",
      " '10.0.14393.351' '10.0.15063.909' '10.0.16299.611' '10.0.15063.786'\n",
      " '10.0.15063.1324' '10.0.16299.192' '10.0.16299.371' '10.0.14393.2125'\n",
      " '10.0.15063.632' '10.0.10586.0' '10.0.17733.1000' '10.0.14393.447'\n",
      " '10.0.16299.64' '10.0.15063.608' '10.0.10586.218' '10.0.17134.286'\n",
      " '10.0.16299.334' '10.0.10240.17443' '10.0.16299.15' '10.0.16299.522'\n",
      " '10.0.14393.2007' '10.0.10586.164' '10.0.16299.665' '10.0.10586.753'\n",
      " '10.0.17134.48' '10.0.16299.309' '10.0.10586.1176' '10.0.17134.167'\n",
      " '10.0.10586.1106' '10.0.16299.551' '10.0.15063.0' '10.0.15063.850'\n",
      " '10.0.10240.16384' '10.0.14393.693' '10.0.10586.545' '10.0.16299.98'\n",
      " '10.0.14393.2214' '10.0.15063.540' '10.0.14393.1715' '10.0.15063.674'\n",
      " '10.0.15063.413' '10.0.15063.726' '10.0.14393.105' '10.0.14393.1480'\n",
      " '10.0.10240.17889' '10.0.14393.576' '10.0.14393.5' '10.0.14393.2430'\n",
      " '10.0.10586.589' '10.0.17134.81' '10.0.14393.1358' '10.0.14393.1593'\n",
      " '10.0.14393.2312' '10.0.16299.214' '10.0.14393.2068' '10.0.16299.666'\n",
      " '10.0.10586.713' '10.0.10586.420' '10.0.15063.332' '10.0.14393.1198'\n",
      " '10.0.14393.1770' '10.0.10240.17946' '10.0.14393.970' '10.0.10586.104'\n",
      " '10.0.14393.321' '10.0.17755.1' '10.0.14393.1884' '10.0.14393.0'\n",
      " '10.0.10586.962' '10.0.10586.122' '10.0.14393.2395' '10.0.15063.877'\n",
      " '10.0.14393.82' '10.0.15063.1029' '10.0.10586.36' '10.0.10586.318'\n",
      " '10.0.17746.1000' '10.0.17639.1000' '10.0.10586.839' '10.0.16299.637'\n",
      " '10.0.10586.14' '10.0.14393.187' '10.0.14393.222' '10.0.16299.579'\n",
      " '10.0.17134.319' '10.0.15063.250' '10.0.15063.729' '10.0.10586.873'\n",
      " '10.0.14393.2339' '10.0.15063.138' '10.0.10240.16405' '10.0.17754.1'\n",
      " '10.0.16299.19' '10.0.15063.296' '10.0.15063.447' '10.0.16299.251'\n",
      " '10.0.16299.402' '10.0.10240.16683' '10.0.15063.1182' '10.0.14393.1066'\n",
      " '10.0.10586.3' '10.0.10240.17236' '10.0.14393.1914' '10.0.14393.2248'\n",
      " '10.0.15063.1209' '10.0.10240.16601' '10.0.10586.633' '10.0.17751.1'\n",
      " '10.0.10240.16487' '10.0.10586.916' '10.0.14393.2396' '10.0.16299.461'\n",
      " '10.0.14393.2457' '10.0.14393.2273' '10.0.14393.726' '10.0.10586.29'\n",
      " '10.0.15063.1356' '10.0.10240.17319' '10.0.17758.4' '10.0.15063.1235'\n",
      " '10.0.10240.16463' '10.0.10586.71' '10.0.15063.502' '10.0.15063.1292'\n",
      " '10.0.10240.17071' '10.0.14393.2368' '10.0.10586.1007' '10.0.10586.679'\n",
      " '10.0.17666.1000' '10.0.14393.2155' '10.0.14393.479' '10.0.10586.446'\n",
      " '10.0.10240.17113' '10.0.10240.16413' '10.0.10240.17976'\n",
      " '10.0.10240.17918' '10.0.15063.1058' '10.0.15063.1112' '10.0.14393.10'\n",
      " '10.0.16299.696' '10.0.14393.2035' '10.0.17738.1000' '10.0.17763.1'\n",
      " '10.0.17735.1000' '10.0.17744.1001' '10.0.14393.2363' '10.0.17133.1'\n",
      " '10.0.17692.1004' '10.0.15063.13' '10.0.10586.338' '10.0.14393.1378'\n",
      " '10.0.10586.63' '10.0.17760.1' '10.0.15055.0' '10.0.10240.16725'\n",
      " '10.0.17134.5' '10.0.10240.17394' '10.0.14393.51' '10.0.10240.17914'\n",
      " '10.0.17650.1001' '10.0.17744.1004' '10.0.10240.17190' '10.0.17672.1000'\n",
      " '10.0.17758.1' '10.0.10586.17' '10.0.10240.16397' '10.0.14393.969'\n",
      " '10.0.15063.994' '10.0.14393.2485' '10.0.17686.1003' '10.0.17744.1003'\n",
      " '10.0.17692.1000' '10.0.10240.17831' '10.0.10240.17024' '10.0.14393.2515'\n",
      " '10.0.10240.17861' '10.0.17741.1000' '10.0.10240.16942' '10.0.17677.1000'\n",
      " '10.0.18242.1000' '10.0.14393.2097' '10.0.10240.17738' '10.0.10240.17146'\n",
      " '10.0.10240.16854' '10.0.15063.11' '10.0.10586.112' '10.0.14393.3'\n",
      " '10.0.14946.1000' '10.0.10240.16520' '10.0.10240.17797'\n",
      " '10.0.10240.16430' '10.0.10240.16549' '10.0.16299.491' '10.0.10240.17354'\n",
      " '10.0.10586.11' '10.0.10240.17202' '10.0.10240.16433' '10.0.15063.936'\n",
      " '10.0.14393.1537' '10.0.10240.16445' '10.0.14393.577' '10.0.10240.16771'\n",
      " '10.0.17723.1000' '10.0.10586.1417' '10.0.17713.1002' '10.0.15063.448'\n",
      " '10.0.10240.16387' '10.0.10240.16566' '10.0.15063.1154'\n",
      " '10.0.10240.16394' '10.0.15063.330' '10.0.14393.67' '10.0.10586.456'\n",
      " '10.0.17134.83' '10.0.14474.228' '10.0.16299.194' '10.0.18237.1000'\n",
      " '10.0.10240.16644' '10.0.10565.41736' '10.0.10240.16590' '10.0.17115.1'\n",
      " '10.0.10240.17709' '10.0.14393.223' '10.0.10586.499' '10.0.10586.105'\n",
      " '10.0.17618.1000' '10.0.18234.1000' '10.0.14393.594' '10.0.17682.1000'\n",
      " '10.0.10240.17488' '10.0.14393.103' '10.0.14366.0' '10.0.17711.1000'\n",
      " '10.0.17133.73' '10.0.15063.675' '10.0.10586.842' '10.0.10240.17770'\n",
      " '10.0.14390.0' '10.0.14393.1532' '10.0.15063.242' '10.0.15063.14'\n",
      " '10.0.10586.79' '10.0.17661.1001' '10.0.10240.17673' '10.0.10240.16732'\n",
      " '10.0.14931.1000' '10.0.10240.16389' '10.0.14986.1001' '10.0.14421.191'\n",
      " '10.0.14393.1797' '10.0.14466.228' '6.3.9600.19102' '10.0.16299.0'\n",
      " '10.0.17747.1000' '10.0.14951.1000' '10.0.17627.1000' '10.0.14915.1000'\n",
      " '10.0.14393.729' '10.0.14332.1001' '10.0.17730.1000' '10.0.10586.639'\n",
      " '10.0.7601.112' '10.0.14393.1230' '10.0.14971.1000' '10.0.10240.16500'\n",
      " '10.0.14393.1613' '10.0.17025.1000' '10.0.17655.1000' '10.0.10240.17643'\n",
      " '10.0.10240.17533' '10.0.15048.0' '10.0.16299.201' '10.0.17634.1000'\n",
      " '10.0.17730.1001' '10.0.17074.1002' '10.0.10586.1540' '10.0.14936.1000'\n",
      " '10.0.10240.17609' '10.0.14295.1005' '10.0.16193.1001' '10.0.17761.1']\n"
     ]
    }
   ],
   "source": [
    "coluna = ms['Census_OSVersion']\n",
    "\n",
    "analisa_coluna(coluna)"
   ]
  },
  {
   "cell_type": "code",
   "execution_count": null,
   "metadata": {},
   "outputs": [],
   "source": []
  },
  {
   "cell_type": "code",
   "execution_count": null,
   "metadata": {},
   "outputs": [],
   "source": []
  },
  {
   "cell_type": "code",
   "execution_count": null,
   "metadata": {},
   "outputs": [],
   "source": []
  }
 ],
 "metadata": {
  "kernelspec": {
   "display_name": "Python 3",
   "language": "python",
   "name": "python3"
  },
  "language_info": {
   "codemirror_mode": {
    "name": "ipython",
    "version": 3
   },
   "file_extension": ".py",
   "mimetype": "text/x-python",
   "name": "python",
   "nbconvert_exporter": "python",
   "pygments_lexer": "ipython3",
   "version": "3.6.7"
  }
 },
 "nbformat": 4,
 "nbformat_minor": 2
}
