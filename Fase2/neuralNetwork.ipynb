{
 "cells": [
  {
   "cell_type": "code",
   "execution_count": 2,
   "metadata": {
    "scrolled": true
   },
   "outputs": [],
   "source": [
    "import pandas as pd\n",
    "numericos = ['AVProductsInstalled',\n",
    "'AVProductsEnabled',\n",
    "'Census_ProcessorCoreCount',\n",
    "'Census_PrimaryDiskTotalCapacity',\n",
    "'Census_SystemVolumeTotalCapacity',\n",
    "'Census_TotalPhysicalRAM',\n",
    "'Census_InternalPrimaryDiagonalDisplaySizeInInches',\n",
    "'Census_InternalPrimaryDisplayResolutionHorizontal',\n",
    "'Census_InternalPrimaryDisplayResolutionVertical',\n",
    "'Census_InternalBatteryNumberOfCharges']\n",
    "dtype = {}\n",
    "for df in pd.read_csv('final_sembat.csv',low_memory=False,chunksize=10):\n",
    "    for var in df.columns:\n",
    "        if var not in numericos:\n",
    "            dtype[var] = 'int8'\n",
    "    break"
   ]
  },
  {
   "cell_type": "code",
   "execution_count": 3,
   "metadata": {},
   "outputs": [
    {
     "name": "stdout",
     "output_type": "stream",
     "text": [
      "1\n",
      "2\n",
      "3\n",
      "4\n",
      "5\n",
      "6\n",
      "7\n",
      "8\n",
      "9\n",
      "10\n",
      "11\n",
      "12\n"
     ]
    }
   ],
   "source": [
    "import pandas as pd\n",
    "auxPred = pd.DataFrame()\n",
    "i = 0\n",
    "for tp in pd.read_csv('final_sembat.csv',low_memory=False,chunksize=50000,dtype=dtype):\n",
    "    if i == 0:\n",
    "        auxPred = pd.concat([auxPred,tp])\n",
    "    else:\n",
    "        auxPred = pd.concat([auxPred,tp],ignore_index=True)\n",
    "    i+=1\n",
    "    print(i)"
   ]
  },
  {
   "cell_type": "code",
   "execution_count": 13,
   "metadata": {},
   "outputs": [],
   "source": [
    "from\tkeras import\tmodels,\tlayers\n",
    "\n",
    "model=models.Sequential()\n",
    "model.add(layers.Dense(16,\tactivation='relu',\tinput_shape=(auxPred.shape[1]-1,)))\n",
    "model.add(layers.Dense(16,\tactivation='relu'))\n",
    "model.add(layers.Dense(1,\tactivation='sigmoid'))"
   ]
  },
  {
   "cell_type": "code",
   "execution_count": 14,
   "metadata": {},
   "outputs": [],
   "source": [
    "model.compile(optimizer='rmsprop',\n",
    "loss='binary_crossentropy',\n",
    "metrics=['accuracy'])"
   ]
  },
  {
   "cell_type": "code",
   "execution_count": 16,
   "metadata": {},
   "outputs": [],
   "source": [
    "trainX = auxPred.loc[:499999, auxPred.columns != 'HasDetections']\n",
    "valX = auxPred.loc[500000:549999, auxPred.columns != 'HasDetections']\n",
    "testX = auxPred.loc[550000:599999, auxPred.columns != 'HasDetections']\n",
    "trainY = auxPred.loc[:499999,'HasDetections']\n",
    "valY = auxPred.loc[500000:549999,'HasDetections']\n",
    "testY = auxPred.loc[550000:599999,'HasDetections']"
   ]
  },
  {
   "cell_type": "code",
   "execution_count": 17,
   "metadata": {
    "scrolled": true
   },
   "outputs": [
    {
     "name": "stdout",
     "output_type": "stream",
     "text": [
      "WARNING:tensorflow:From /home/pc/.local/lib/python3.6/site-packages/tensorflow/python/ops/math_ops.py:3066: to_int32 (from tensorflow.python.ops.math_ops) is deprecated and will be removed in a future version.\n",
      "Instructions for updating:\n",
      "Use tf.cast instead.\n",
      "Train on 500000 samples, validate on 50000 samples\n",
      "Epoch 1/5\n",
      "500000/500000 [==============================] - 23s 46us/step - loss: 7.9672 - acc: 0.5003 - val_loss: 7.9766 - val_acc: 0.4997\n",
      "Epoch 2/5\n",
      "500000/500000 [==============================] - 19s 38us/step - loss: 7.9672 - acc: 0.5002 - val_loss: 7.9766 - val_acc: 0.4997\n",
      "Epoch 3/5\n",
      "500000/500000 [==============================] - 19s 38us/step - loss: 7.9672 - acc: 0.5002 - val_loss: 7.9766 - val_acc: 0.4997\n",
      "Epoch 4/5\n",
      "500000/500000 [==============================] - 19s 38us/step - loss: 7.9672 - acc: 0.5002 - val_loss: 7.9766 - val_acc: 0.4997\n",
      "Epoch 5/5\n",
      "500000/500000 [==============================] - 19s 37us/step - loss: 7.9672 - acc: 0.5002 - val_loss: 7.9766 - val_acc: 0.4997\n"
     ]
    }
   ],
   "source": [
    "history =\tmodel.fit(trainX,\n",
    "trainY,\n",
    "epochs=5,\n",
    "batch_size=512,\n",
    "validation_data=(valX,\tvalY))"
   ]
  },
  {
   "cell_type": "code",
   "execution_count": null,
   "metadata": {},
   "outputs": [],
   "source": [
    "from sklearn.metrics import roc_curve, auc\n",
    "pred = model.predict(testX)\n",
    "false_positive_rate, true_positive_rate, thresholds = roc_curve(testY, pred)\n",
    "score = auc(false_positive_rate, true_positive_rate)"
   ]
  }
 ],
 "metadata": {
  "kernelspec": {
   "display_name": "Python 3",
   "language": "python",
   "name": "python3"
  },
  "language_info": {
   "codemirror_mode": {
    "name": "ipython",
    "version": 3
   },
   "file_extension": ".py",
   "mimetype": "text/x-python",
   "name": "python",
   "nbconvert_exporter": "python",
   "pygments_lexer": "ipython3",
   "version": "3.6.7"
  }
 },
 "nbformat": 4,
 "nbformat_minor": 2
}
