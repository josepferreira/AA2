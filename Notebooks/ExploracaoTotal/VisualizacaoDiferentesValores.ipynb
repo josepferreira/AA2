{
 "cells": [
  {
   "cell_type": "code",
   "execution_count": 1,
   "metadata": {},
   "outputs": [],
   "source": [
    "import pandas as pd"
   ]
  },
  {
   "cell_type": "code",
   "execution_count": 2,
   "metadata": {},
   "outputs": [],
   "source": [
    "def processa_chunk(ms, unico):\n",
    "    if(unico is None):\n",
    "        unico = {}\n",
    "        for v in ms.columns:\n",
    "            unico.update({v:set()})\n",
    "    for v in ms.columns:\n",
    "        unico[v].update(ms[v].unique())\n",
    "    return unico"
   ]
  },
  {
   "cell_type": "code",
   "execution_count": 3,
   "metadata": {},
   "outputs": [
    {
     "name": "stdout",
     "output_type": "stream",
     "text": [
      "0\n",
      "1\n",
      "2\n",
      "3\n",
      "4\n",
      "5\n",
      "6\n",
      "7\n",
      "8\n",
      "9\n",
      "10\n",
      "11\n",
      "12\n",
      "13\n",
      "14\n",
      "15\n",
      "16\n",
      "17\n"
     ]
    }
   ],
   "source": [
    "chunksize = 0.5 * (10 ** 6)\n",
    "unico = None\n",
    "i = 0\n",
    "for ms in pd.read_csv('../../train.csv', low_memory=False, chunksize = chunksize):\n",
    "    print(i)\n",
    "    i += 1\n",
    "    unico = processa_chunk(ms,unico)"
   ]
  },
  {
   "cell_type": "code",
   "execution_count": 4,
   "metadata": {},
   "outputs": [],
   "source": [
    "for key, value in unico.items():\n",
    "    unico[key] = len(value)"
   ]
  },
  {
   "cell_type": "code",
   "execution_count": 5,
   "metadata": {
    "scrolled": true
   },
   "outputs": [
    {
     "data": {
      "text/plain": [
       "MachineIdentifier                          8921483\n",
       "ProductName                                      6\n",
       "EngineVersion                                   70\n",
       "AppVersion                                     110\n",
       "AvSigVersion                                  8531\n",
       "IsBeta                                           2\n",
       "RtpStateBitfield                                25\n",
       "IsSxsPassiveMode                                 2\n",
       "DefaultBrowsersIdentifier                     2035\n",
       "AVProductStatesIdentifier                    28988\n",
       "HasTpm                                           2\n",
       "CountryIdentifier                              222\n",
       "CityIdentifier                              107384\n",
       "OrganizationIdentifier                          67\n",
       "GeoNameIdentifier                              310\n",
       "LocaleEnglishNameIdentifier                    276\n",
       "Platform                                         4\n",
       "Processor                                        3\n",
       "OsVer                                           58\n",
       "OsBuild                                         76\n",
       "OsSuite                                         14\n",
       "OsPlatformSubRelease                             9\n",
       "OsBuildLab                                     664\n",
       "SkuEdition                                       8\n",
       "IsProtected                                     20\n",
       "AutoSampleOptIn                                  2\n",
       "PuaMode                                          3\n",
       "SMode                                           20\n",
       "IeVerIdentifier                                321\n",
       "SmartScreen                                     22\n",
       "                                            ...   \n",
       "Census_InternalBatteryType                      79\n",
       "Census_OSVersion                               469\n",
       "Census_OSArchitecture                            3\n",
       "Census_OSBranch                                 32\n",
       "Census_OSBuildNumber                           165\n",
       "Census_OSBuildRevision                         285\n",
       "Census_OSEdition                                33\n",
       "Census_OSSkuName                                30\n",
       "Census_OSInstallTypeName                         9\n",
       "Census_OSInstallLanguageIdentifier              57\n",
       "Census_OSUILocaleIdentifier                    147\n",
       "Census_OSWUAutoUpdateOptionsName                 6\n",
       "Census_IsPortableOperatingSystem                 2\n",
       "Census_GenuineStateName                          5\n",
       "Census_ActivationChannel                         6\n",
       "Census_IsFlightingInternal                      20\n",
       "Census_IsFlightsDisabled                        20\n",
       "Census_FlightRing                               10\n",
       "Census_ThresholdOptIn                           20\n",
       "Census_FirmwareManufacturerIdentifier          730\n",
       "Census_FirmwareVersionIdentifier             50512\n",
       "Census_IsSecureBootEnabled                       2\n",
       "Census_IsWIMBootEnabled                         20\n",
       "Census_IsVirtualDevice                          20\n",
       "Census_IsTouchEnabled                            2\n",
       "Census_IsPenCapable                              2\n",
       "Census_IsAlwaysOnAlwaysConnectedCapable         20\n",
       "Wdft_IsGamer                                    20\n",
       "Wdft_RegionIdentifier                           33\n",
       "HasDetections                                    2\n",
       "Length: 73, dtype: int64"
      ]
     },
     "execution_count": 5,
     "metadata": {},
     "output_type": "execute_result"
    }
   ],
   "source": [
    "unico = pd.Series(unico)\n",
    "unico = unico.drop(labels = ['AVProductsInstalled',\n",
    "'AVProductsEnabled',\n",
    "'Census_ProcessorCoreCount',\n",
    "'Census_PrimaryDiskTotalCapacity',\n",
    "'Census_SystemVolumeTotalCapacity',\n",
    "'Census_TotalPhysicalRAM',\n",
    "'Census_InternalPrimaryDiagonalDisplaySizeInInches',\n",
    "'Census_InternalPrimaryDisplayResolutionHorizontal',\n",
    "'Census_InternalPrimaryDisplayResolutionVertical',\n",
    "'Census_InternalBatteryNumberOfCharges'])\n",
    "unico"
   ]
  },
  {
   "cell_type": "code",
   "execution_count": 6,
   "metadata": {},
   "outputs": [
    {
     "name": "stdout",
     "output_type": "stream",
     "text": [
      "18\n"
     ]
    },
    {
     "data": {
      "text/plain": [
       "IsBeta                              2\n",
       "IsSxsPassiveMode                    2\n",
       "HasTpm                              2\n",
       "Platform                            4\n",
       "Processor                           3\n",
       "AutoSampleOptIn                     2\n",
       "PuaMode                             3\n",
       "Census_DeviceFamily                 3\n",
       "Census_ProcessorClass               4\n",
       "Census_PrimaryDiskTypeName          5\n",
       "Census_HasOpticalDiskDrive          2\n",
       "Census_OSArchitecture               3\n",
       "Census_IsPortableOperatingSystem    2\n",
       "Census_GenuineStateName             5\n",
       "Census_IsSecureBootEnabled          2\n",
       "Census_IsTouchEnabled               2\n",
       "Census_IsPenCapable                 2\n",
       "HasDetections                       2\n",
       "dtype: int64"
      ]
     },
     "execution_count": 6,
     "metadata": {},
     "output_type": "execute_result"
    }
   ],
   "source": [
    "unicoM6 = unico[unico < 6]\n",
    "print(len(unicoM6))\n",
    "unicoM6"
   ]
  },
  {
   "cell_type": "code",
   "execution_count": 7,
   "metadata": {},
   "outputs": [
    {
     "name": "stdout",
     "output_type": "stream",
     "text": [
      "8\n"
     ]
    },
    {
     "data": {
      "text/plain": [
       "ProductName                          6\n",
       "OsPlatformSubRelease                 9\n",
       "SkuEdition                           8\n",
       "Census_PowerPlatformRoleName        11\n",
       "Census_OSInstallTypeName             9\n",
       "Census_OSWUAutoUpdateOptionsName     6\n",
       "Census_ActivationChannel             6\n",
       "Census_FlightRing                   10\n",
       "dtype: int64"
      ]
     },
     "execution_count": 7,
     "metadata": {},
     "output_type": "execute_result"
    }
   ],
   "source": [
    "unicoM12 = unico[(unico < 12) & (unico >= 6)]\n",
    "print(len(unicoM12))\n",
    "unicoM12"
   ]
  },
  {
   "cell_type": "code",
   "execution_count": 8,
   "metadata": {},
   "outputs": [
    {
     "name": "stdout",
     "output_type": "stream",
     "text": [
      "2\n"
     ]
    },
    {
     "data": {
      "text/plain": [
       "OsSuite                  14\n",
       "Census_MDC2FormFactor    13\n",
       "dtype: int64"
      ]
     },
     "execution_count": 8,
     "metadata": {},
     "output_type": "execute_result"
    }
   ],
   "source": [
    "unicoM20 = unico[(unico < 20) & (unico >= 12)]\n",
    "print(len(unicoM20))\n",
    "unicoM20"
   ]
  },
  {
   "cell_type": "code",
   "execution_count": 9,
   "metadata": {},
   "outputs": [
    {
     "name": "stdout",
     "output_type": "stream",
     "text": [
      "18\n"
     ]
    },
    {
     "data": {
      "text/plain": [
       "RtpStateBitfield                           25\n",
       "IsProtected                                20\n",
       "SMode                                      20\n",
       "SmartScreen                                22\n",
       "Firewall                                   20\n",
       "UacLuaenable                               29\n",
       "Census_ProcessorManufacturerIdentifier     25\n",
       "Census_OSBranch                            32\n",
       "Census_OSEdition                           33\n",
       "Census_OSSkuName                           30\n",
       "Census_IsFlightingInternal                 20\n",
       "Census_IsFlightsDisabled                   20\n",
       "Census_ThresholdOptIn                      20\n",
       "Census_IsWIMBootEnabled                    20\n",
       "Census_IsVirtualDevice                     20\n",
       "Census_IsAlwaysOnAlwaysConnectedCapable    20\n",
       "Wdft_IsGamer                               20\n",
       "Wdft_RegionIdentifier                      33\n",
       "dtype: int64"
      ]
     },
     "execution_count": 9,
     "metadata": {},
     "output_type": "execute_result"
    }
   ],
   "source": [
    "unicoM40 = unico[(unico < 40) & (unico >= 20)]\n",
    "print(len(unicoM40))\n",
    "unicoM40"
   ]
  },
  {
   "cell_type": "code",
   "execution_count": 10,
   "metadata": {},
   "outputs": [
    {
     "name": "stdout",
     "output_type": "stream",
     "text": [
      "15\n"
     ]
    },
    {
     "data": {
      "text/plain": [
       "EngineVersion                          70\n",
       "AppVersion                            110\n",
       "CountryIdentifier                     222\n",
       "OrganizationIdentifier                 67\n",
       "GeoNameIdentifier                     310\n",
       "LocaleEnglishNameIdentifier           276\n",
       "OsVer                                  58\n",
       "OsBuild                                76\n",
       "IeVerIdentifier                       321\n",
       "Census_ChassisTypeName                 53\n",
       "Census_InternalBatteryType             79\n",
       "Census_OSBuildNumber                  165\n",
       "Census_OSBuildRevision                285\n",
       "Census_OSInstallLanguageIdentifier     57\n",
       "Census_OSUILocaleIdentifier           147\n",
       "dtype: int64"
      ]
     },
     "execution_count": 10,
     "metadata": {},
     "output_type": "execute_result"
    }
   ],
   "source": [
    "unicoM450 = unico[(unico < 450) & (unico >= 40)]\n",
    "print(len(unicoM450))\n",
    "unicoM450"
   ]
  },
  {
   "cell_type": "code",
   "execution_count": 11,
   "metadata": {},
   "outputs": [
    {
     "name": "stdout",
     "output_type": "stream",
     "text": [
      "12\n"
     ]
    },
    {
     "data": {
      "text/plain": [
       "MachineIdentifier                        8921483\n",
       "AvSigVersion                                8531\n",
       "DefaultBrowsersIdentifier                   2035\n",
       "AVProductStatesIdentifier                  28988\n",
       "CityIdentifier                            107384\n",
       "OsBuildLab                                   664\n",
       "Census_OEMNameIdentifier                    3850\n",
       "Census_OEMModelIdentifier                 175383\n",
       "Census_ProcessorModelIdentifier             3446\n",
       "Census_OSVersion                             469\n",
       "Census_FirmwareManufacturerIdentifier        730\n",
       "Census_FirmwareVersionIdentifier           50512\n",
       "dtype: int64"
      ]
     },
     "execution_count": 11,
     "metadata": {},
     "output_type": "execute_result"
    }
   ],
   "source": [
    "unicoMM450 = unico[(unico >= 450)]\n",
    "print(len(unicoMM450))\n",
    "unicoMM450"
   ]
  },
  {
   "cell_type": "code",
   "execution_count": 12,
   "metadata": {},
   "outputs": [
    {
     "data": {
      "text/plain": [
       "9306342"
      ]
     },
     "execution_count": 12,
     "metadata": {},
     "output_type": "execute_result"
    }
   ],
   "source": [
    "unico.sum()"
   ]
  },
  {
   "cell_type": "code",
   "execution_count": 13,
   "metadata": {
    "scrolled": true
   },
   "outputs": [
    {
     "data": {
      "text/plain": [
       "521"
      ]
     },
     "execution_count": 13,
     "metadata": {},
     "output_type": "execute_result"
    }
   ],
   "source": [
    "unicoM12.sum()+unicoM20.sum()+unicoM40.sum()"
   ]
  },
  {
   "cell_type": "code",
   "execution_count": 14,
   "metadata": {
    "scrolled": true
   },
   "outputs": [
    {
     "data": {
      "text/plain": [
       "2296"
      ]
     },
     "execution_count": 14,
     "metadata": {},
     "output_type": "execute_result"
    }
   ],
   "source": [
    "unicoM450.sum()"
   ]
  },
  {
   "cell_type": "code",
   "execution_count": 22,
   "metadata": {
    "scrolled": true
   },
   "outputs": [
    {
     "data": {
      "text/plain": [
       "10394"
      ]
     },
     "execution_count": 22,
     "metadata": {},
     "output_type": "execute_result"
    }
   ],
   "source": [
    "cenas = unicoMM450.index.tolist()\n",
    "for x in ['MachineIdentifier',\n",
    "              'DefaultBrowsersIdentifier', 'AVProductStatesIdentifier',\n",
    "              'CityIdentifier', 'Census_OEMNameIdentifier', 'Census_OEMModelIdentifier', 'Census_ProcessorModelIdentifier', \n",
    "              'Census_FirmwareVersionIdentifier']:\n",
    "    cenas.remove(x)\n",
    "cenas\n",
    "unicoMM450[cenas].sum()"
   ]
  }
 ],
 "metadata": {
  "kernelspec": {
   "display_name": "Python 3",
   "language": "python",
   "name": "python3"
  },
  "language_info": {
   "codemirror_mode": {
    "name": "ipython",
    "version": 3
   },
   "file_extension": ".py",
   "mimetype": "text/x-python",
   "name": "python",
   "nbconvert_exporter": "python",
   "pygments_lexer": "ipython3",
   "version": "3.6.7"
  }
 },
 "nbformat": 4,
 "nbformat_minor": 2
}
