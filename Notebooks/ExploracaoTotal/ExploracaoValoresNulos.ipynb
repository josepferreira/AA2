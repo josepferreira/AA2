{
 "cells": [
  {
   "cell_type": "markdown",
   "metadata": {},
   "source": [
    "## Carregamento dos dados\n",
    "\n",
    "* **Foi ser necessário carregar por fases, visto que são muitos dados**"
   ]
  },
  {
   "cell_type": "code",
   "execution_count": 1,
   "metadata": {},
   "outputs": [],
   "source": [
    "import pandas as pd"
   ]
  },
  {
   "cell_type": "markdown",
   "metadata": {},
   "source": [
    "### Função que verifica a existencia de valores nulos e conta-os por coluna. Para além disso junta as linhas completas"
   ]
  },
  {
   "cell_type": "code",
   "execution_count": 2,
   "metadata": {},
   "outputs": [],
   "source": [
    "def processa_chunk(ms, valores, ds):\n",
    "    if(valores is None): valores = ms.isnull().sum()\n",
    "    else: valores += ms.isnull().sum()\n",
    "        \n",
    "    if(ds is None): ds = ms.dropna()\n",
    "    else: ds = pd.concat([ds,ms.dropna()],ignore_index=True)\n",
    "    print('feito')\n",
    "    return (valores, ds)"
   ]
  },
  {
   "cell_type": "code",
   "execution_count": 3,
   "metadata": {},
   "outputs": [
    {
     "name": "stdout",
     "output_type": "stream",
     "text": [
      "feito\n",
      "feito\n",
      "feito\n",
      "feito\n",
      "feito\n",
      "feito\n",
      "feito\n",
      "feito\n",
      "feito\n",
      "feito\n",
      "feito\n",
      "feito\n",
      "feito\n",
      "feito\n",
      "feito\n",
      "feito\n",
      "feito\n",
      "feito\n"
     ]
    }
   ],
   "source": [
    "chunksize = 0.5 * (10 ** 6)\n",
    "nlinhas = 0\n",
    "valores = None\n",
    "ds = None\n",
    "for ms in pd.read_csv('../../../train.csv', low_memory=False, chunksize = chunksize):\n",
    "    nlinhas += ms.shape[0]\n",
    "    (valores, ds) = processa_chunk(ms, valores, ds)\n",
    "\n",
    "#ms = pd.read_csv('../../sample_train.csv', low_memory=False)\n",
    "#(valores, ds) = processa_chunk(ms, valores, ds)"
   ]
  },
  {
   "cell_type": "code",
   "execution_count": 4,
   "metadata": {},
   "outputs": [
    {
     "data": {
      "text/plain": [
       "8921483"
      ]
     },
     "execution_count": 4,
     "metadata": {},
     "output_type": "execute_result"
    }
   ],
   "source": [
    "nlinhas"
   ]
  },
  {
   "cell_type": "markdown",
   "metadata": {},
   "source": [
    "#### Transforma o número de valores nulos em percentagem"
   ]
  },
  {
   "cell_type": "code",
   "execution_count": 5,
   "metadata": {},
   "outputs": [],
   "source": [
    "valores\n",
    "percentagem = valores / nlinhas"
   ]
  },
  {
   "cell_type": "markdown",
   "metadata": {},
   "source": [
    "#### Remove as que têm 0 valores nulos"
   ]
  },
  {
   "cell_type": "code",
   "execution_count": 6,
   "metadata": {},
   "outputs": [],
   "source": [
    "type(percentagem)\n",
    "percentagem = percentagem[percentagem != 0]"
   ]
  },
  {
   "cell_type": "markdown",
   "metadata": {},
   "source": [
    "#### Divide as colunas em percentagem de valores nulos:\n",
    "\n",
    "- 0% a 25%: baixa\n",
    "- 25% a 50%: média baixa\n",
    "- 50% a 75%: média alta\n",
    "- 75% a 100%: alta"
   ]
  },
  {
   "cell_type": "code",
   "execution_count": 7,
   "metadata": {},
   "outputs": [],
   "source": [
    "alta = percentagem[percentagem >= 0.75]\n",
    "mediaAlta = percentagem[(percentagem >= 0.5) & (percentagem < 0.75)]\n",
    "mediaBaixa = percentagem[(percentagem >= 0.25) & (percentagem < 0.5)]\n",
    "baixa = percentagem[percentagem < 0.25]"
   ]
  },
  {
   "cell_type": "code",
   "execution_count": 8,
   "metadata": {
    "scrolled": true
   },
   "outputs": [
    {
     "data": {
      "text/plain": [
       "DefaultBrowsersIdentifier     0.951416\n",
       "PuaMode                       0.999741\n",
       "Census_ProcessorClass         0.995894\n",
       "Census_IsFlightingInternal    0.830440\n",
       "dtype: float64"
      ]
     },
     "execution_count": 8,
     "metadata": {},
     "output_type": "execute_result"
    }
   ],
   "source": [
    "alta"
   ]
  },
  {
   "cell_type": "code",
   "execution_count": 9,
   "metadata": {
    "scrolled": true
   },
   "outputs": [
    {
     "data": {
      "text/plain": [
       "Census_InternalBatteryType    0.710468\n",
       "Census_ThresholdOptIn         0.635245\n",
       "Census_IsWIMBootEnabled       0.634390\n",
       "dtype: float64"
      ]
     },
     "execution_count": 9,
     "metadata": {},
     "output_type": "execute_result"
    }
   ],
   "source": [
    "mediaAlta"
   ]
  },
  {
   "cell_type": "code",
   "execution_count": 10,
   "metadata": {},
   "outputs": [
    {
     "data": {
      "text/plain": [
       "OrganizationIdentifier    0.308415\n",
       "SmartScreen               0.356108\n",
       "dtype: float64"
      ]
     },
     "execution_count": 10,
     "metadata": {},
     "output_type": "execute_result"
    }
   ],
   "source": [
    "mediaBaixa"
   ]
  },
  {
   "cell_type": "code",
   "execution_count": 11,
   "metadata": {},
   "outputs": [
    {
     "data": {
      "text/plain": [
       "RtpStateBitfield                                     0.003622\n",
       "AVProductStatesIdentifier                            0.004060\n",
       "AVProductsInstalled                                  0.004060\n",
       "AVProductsEnabled                                    0.004060\n",
       "CityIdentifier                                       0.036475\n",
       "GeoNameIdentifier                                    0.000024\n",
       "OsBuildLab                                           0.000002\n",
       "IsProtected                                          0.004040\n",
       "SMode                                                0.060277\n",
       "IeVerIdentifier                                      0.006601\n",
       "Firewall                                             0.010239\n",
       "UacLuaenable                                         0.001215\n",
       "Census_OEMNameIdentifier                             0.010702\n",
       "Census_OEMModelIdentifier                            0.011459\n",
       "Census_ProcessorCoreCount                            0.004630\n",
       "Census_ProcessorManufacturerIdentifier               0.004631\n",
       "Census_ProcessorModelIdentifier                      0.004634\n",
       "Census_PrimaryDiskTotalCapacity                      0.005943\n",
       "Census_PrimaryDiskTypeName                           0.001440\n",
       "Census_SystemVolumeTotalCapacity                     0.005941\n",
       "Census_TotalPhysicalRAM                              0.009027\n",
       "Census_ChassisTypeName                               0.000070\n",
       "Census_InternalPrimaryDiagonalDisplaySizeInInches    0.005283\n",
       "Census_InternalPrimaryDisplayResolutionHorizontal    0.005267\n",
       "Census_InternalPrimaryDisplayResolutionVertical      0.005267\n",
       "Census_PowerPlatformRoleName                         0.000006\n",
       "Census_InternalBatteryNumberOfCharges                0.030124\n",
       "Census_OSInstallLanguageIdentifier                   0.006735\n",
       "Census_IsFlightsDisabled                             0.017993\n",
       "Census_FirmwareManufacturerIdentifier                0.020541\n",
       "Census_FirmwareVersionIdentifier                     0.017949\n",
       "Census_IsVirtualDevice                               0.001788\n",
       "Census_IsAlwaysOnAlwaysConnectedCapable              0.007997\n",
       "Wdft_IsGamer                                         0.034014\n",
       "Wdft_RegionIdentifier                                0.034014\n",
       "dtype: float64"
      ]
     },
     "execution_count": 11,
     "metadata": {},
     "output_type": "execute_result"
    }
   ],
   "source": [
    "baixa"
   ]
  },
  {
   "cell_type": "markdown",
   "metadata": {},
   "source": [
    "### Verifica quantas linhas completas existem no dataset"
   ]
  },
  {
   "cell_type": "code",
   "execution_count": null,
   "metadata": {},
   "outputs": [],
   "source": [
    "ds"
   ]
  },
  {
   "cell_type": "code",
   "execution_count": null,
   "metadata": {
    "scrolled": true
   },
   "outputs": [],
   "source": [
    "ms[ms['HasDetections']  == 0].shape"
   ]
  },
  {
   "cell_type": "code",
   "execution_count": null,
   "metadata": {},
   "outputs": [],
   "source": [
    "ms[ms['HasDetections']  == 1].shape"
   ]
  },
  {
   "cell_type": "code",
   "execution_count": null,
   "metadata": {},
   "outputs": [],
   "source": [
    "msN = ms[['AVProductsInstalled',\n",
    "'AVProductsEnabled',\n",
    "'Census_ProcessorCoreCount',\n",
    "'Census_PrimaryDiskTotalCapacity',\n",
    "'Census_SystemVolumeTotalCapacity',\n",
    "'Census_TotalPhysicalRAM',\n",
    "'Census_InternalPrimaryDiagonalDisplaySizeInInches',\n",
    "'Census_InternalPrimaryDisplayResolutionHorizontal',\n",
    "'Census_InternalPrimaryDisplayResolutionVertical',\n",
    "'Census_InternalBatteryNumberOfCharges']]"
   ]
  },
  {
   "cell_type": "code",
   "execution_count": null,
   "metadata": {
    "scrolled": false
   },
   "outputs": [],
   "source": [
    "print(msN.shape)\n",
    "import seaborn as sns\n",
    "import numpy as np\n",
    "cmap = sns.diverging_palette(220, 10, as_cmap=True)\n",
    "mask = np.zeros_like(msN.corr(), dtype=np.bool)\n",
    "mask[np.triu_indices_from(mask)] = True\n",
    "sns.heatmap(msN.corr(), cmap=cmap, mask=mask)"
   ]
  }
 ],
 "metadata": {
  "kernelspec": {
   "display_name": "Python 3",
   "language": "python",
   "name": "python3"
  },
  "language_info": {
   "codemirror_mode": {
    "name": "ipython",
    "version": 3
   },
   "file_extension": ".py",
   "mimetype": "text/x-python",
   "name": "python",
   "nbconvert_exporter": "python",
   "pygments_lexer": "ipython3",
   "version": "3.6.7"
  }
 },
 "nbformat": 4,
 "nbformat_minor": 2
}
