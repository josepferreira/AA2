{
 "cells": [
  {
   "cell_type": "code",
   "execution_count": 1,
   "metadata": {},
   "outputs": [],
   "source": [
    "import pandas as pd"
   ]
  },
  {
   "cell_type": "code",
   "execution_count": 2,
   "metadata": {},
   "outputs": [],
   "source": [
    "ms = pd.read_csv('../../sample_train.csv', low_memory=False)"
   ]
  },
  {
   "cell_type": "markdown",
   "metadata": {},
   "source": [
    "### Variáveis eliminados por excesso de NAs"
   ]
  },
  {
   "cell_type": "code",
   "execution_count": 3,
   "metadata": {},
   "outputs": [
    {
     "data": {
      "text/plain": [
       "PuaMode                      0.999772\n",
       "DefaultBrowsersIdentifier    0.951490\n",
       "Census_ProcessorClass        0.995868\n",
       "dtype: float64"
      ]
     },
     "execution_count": 3,
     "metadata": {},
     "output_type": "execute_result"
    }
   ],
   "source": [
    "ms[['PuaMode','DefaultBrowsersIdentifier','Census_ProcessorClass']].isna().sum() / ms.shape[0]"
   ]
  },
  {
   "cell_type": "markdown",
   "metadata": {},
   "source": [
    "### Variáveis eliminadas por excesso de valores\n",
    "Porque está o organization identifier? No máximo estaria em risco não?"
   ]
  },
  {
   "cell_type": "code",
   "execution_count": 4,
   "metadata": {},
   "outputs": [
    {
     "data": {
      "text/plain": [
       "CityIdentifier                      40323\n",
       "AVProductStatesIdentifier            6100\n",
       "Census_OEMNameIdentifier             1664\n",
       "Census_OEMModelIdentifier           45094\n",
       "Census_ProcessorModelIdentifier      2331\n",
       "Census_FirmwareVersionIdentifier    25074\n",
       "OsBuildLab                            472\n",
       "dtype: int64"
      ]
     },
     "execution_count": 4,
     "metadata": {},
     "output_type": "execute_result"
    }
   ],
   "source": [
    "ms[['CityIdentifier',\n",
    "'AVProductStatesIdentifier',\n",
    "'Census_OEMNameIdentifier',\n",
    "'Census_OEMModelIdentifier',\n",
    "'Census_ProcessorModelIdentifier',\n",
    "'Census_FirmwareVersionIdentifier',\n",
    "'OsBuildLab']].nunique()"
   ]
  },
  {
   "cell_type": "markdown",
   "metadata": {},
   "source": [
    "### Variáveis em risco de serem eliminadas por um excesso de atributos"
   ]
  },
  {
   "cell_type": "code",
   "execution_count": 5,
   "metadata": {
    "scrolled": true
   },
   "outputs": [
    {
     "data": {
      "text/plain": [
       "CountryIdentifier                        222\n",
       "IeVerIdentifier                          189\n",
       "Census_OSBuildNumber                      64\n",
       "Census_OSBuildRevision                   239\n",
       "Census_OSUILocaleIdentifier               94\n",
       "GeoNameIdentifier                        266\n",
       "LocaleEnglishNameIdentifier              241\n",
       "Census_FirmwareManufacturerIdentifier    314\n",
       "dtype: int64"
      ]
     },
     "execution_count": 5,
     "metadata": {},
     "output_type": "execute_result"
    }
   ],
   "source": [
    "ms[['CountryIdentifier','IeVerIdentifier',\n",
    "    'Census_OSBuildNumber','Census_OSBuildRevision',\n",
    "    'Census_OSUILocaleIdentifier','GeoNameIdentifier',\n",
    "   'LocaleEnglishNameIdentifier','Census_FirmwareManufacturerIdentifier']].nunique()"
   ]
  },
  {
   "cell_type": "code",
   "execution_count": 6,
   "metadata": {},
   "outputs": [
    {
     "name": "stdout",
     "output_type": "stream",
     "text": [
      "0.006641666666666666\n"
     ]
    }
   ],
   "source": [
    "#eliminar\n",
    "ms['IeVerIdentifier'].value_counts()\n",
    "print(ms['IeVerIdentifier'].isna().sum() / ms.shape[0])"
   ]
  },
  {
   "cell_type": "code",
   "execution_count": 7,
   "metadata": {},
   "outputs": [
    {
     "name": "stdout",
     "output_type": "stream",
     "text": [
      "228      95059\n",
      "165      60370\n",
      "431      36659\n",
      "285      31494\n",
      "547      23297\n",
      "112      23158\n",
      "371      22183\n",
      "191      15514\n",
      "2189     15024\n",
      "611      14468\n",
      "125      14369\n",
      "17443    13887\n",
      "1176     12198\n",
      "0        11333\n",
      "492      11245\n",
      "309      10270\n",
      "286       9239\n",
      "15        7909\n",
      "254       7455\n",
      "1         7270\n",
      "1266      6894\n",
      "1206      6805\n",
      "192       6628\n",
      "167       5853\n",
      "248       5153\n",
      "137       5147\n",
      "48        4435\n",
      "1088      4232\n",
      "81        3781\n",
      "693       3527\n",
      "         ...  \n",
      "79           4\n",
      "594          4\n",
      "456          4\n",
      "448          4\n",
      "16566        4\n",
      "17673        3\n",
      "1002         3\n",
      "16387        3\n",
      "1230         3\n",
      "242          3\n",
      "17488        2\n",
      "103          2\n",
      "16389        2\n",
      "491          2\n",
      "19102        2\n",
      "16500        1\n",
      "16394        1\n",
      "1005         1\n",
      "1540         1\n",
      "17533        1\n",
      "1417         1\n",
      "639          1\n",
      "1797         1\n",
      "16732        1\n",
      "17609        1\n",
      "842          1\n",
      "201          1\n",
      "17643        1\n",
      "1613         1\n",
      "41736        1\n",
      "Name: Census_OSBuildRevision, Length: 239, dtype: int64\n",
      "0.0\n"
     ]
    }
   ],
   "source": [
    "## eliminar\n",
    "print(ms['Census_OSBuildRevision'].value_counts())\n",
    "print(ms['Census_OSBuildRevision'].isna().sum() / ms.shape[0])"
   ]
  },
  {
   "cell_type": "code",
   "execution_count": 8,
   "metadata": {},
   "outputs": [
    {
     "name": "stdout",
     "output_type": "stream",
     "text": [
      "31     213527\n",
      "34      70193\n",
      "30      34466\n",
      "125     33673\n",
      "49      29018\n",
      "158     27224\n",
      "35      25165\n",
      "119     22656\n",
      "26      17091\n",
      "148     13986\n",
      "160     13747\n",
      "72      12934\n",
      "83      11256\n",
      "109      9632\n",
      "115      8932\n",
      "120      7254\n",
      "5        5701\n",
      "64       5617\n",
      "74       5605\n",
      "20       4892\n",
      "28       3489\n",
      "140      3264\n",
      "58       2843\n",
      "24       2400\n",
      "128      2204\n",
      "105      2040\n",
      "130      1503\n",
      "44       1384\n",
      "11       1248\n",
      "62       1076\n",
      "        ...  \n",
      "39          4\n",
      "152         3\n",
      "139         3\n",
      "121         3\n",
      "7           3\n",
      "110         3\n",
      "122         3\n",
      "21          2\n",
      "124         2\n",
      "8           2\n",
      "129         2\n",
      "19          2\n",
      "76          2\n",
      "60          2\n",
      "80          2\n",
      "89          1\n",
      "6           1\n",
      "69          1\n",
      "81          1\n",
      "138         1\n",
      "84          1\n",
      "102         1\n",
      "33          1\n",
      "95          1\n",
      "41          1\n",
      "98          1\n",
      "25          1\n",
      "99          1\n",
      "132         1\n",
      "50          1\n",
      "Name: Census_OSUILocaleIdentifier, Length: 94, dtype: int64\n",
      "0.0\n"
     ]
    }
   ],
   "source": [
    "## manter \n",
    "print(ms['Census_OSUILocaleIdentifier'].value_counts())\n",
    "print(ms['Census_OSUILocaleIdentifier'].isna().sum() / ms.shape[0])"
   ]
  },
  {
   "cell_type": "code",
   "execution_count": 9,
   "metadata": {},
   "outputs": [
    {
     "name": "stdout",
     "output_type": "stream",
     "text": [
      "0.0\n",
      "53\n",
      "2\n"
     ]
    }
   ],
   "source": [
    "print(ms['OsVer'].isna().sum() / ms.shape[0])\n",
    "print(ms['EngineVersion'].nunique())\n",
    "print(ms['IsBeta'].nunique())"
   ]
  },
  {
   "cell_type": "code",
   "execution_count": 10,
   "metadata": {},
   "outputs": [
    {
     "name": "stdout",
     "output_type": "stream",
     "text": [
      "17134    269321\n",
      "16299    164254\n",
      "15063     53976\n",
      "14393     52678\n",
      "10586     40120\n",
      "10240     18180\n",
      "17692       216\n",
      "17738       201\n",
      "17744       158\n",
      "17758       132\n",
      "17746        88\n",
      "17754        78\n",
      "17735        65\n",
      "17751        64\n",
      "17763        57\n",
      "17741        54\n",
      "17755        46\n",
      "17760        40\n",
      "17686        34\n",
      "17733        32\n",
      "17672        28\n",
      "17133        18\n",
      "17682        17\n",
      "17677        16\n",
      "18234        15\n",
      "17666        13\n",
      "18237        10\n",
      "17661        10\n",
      "18242         9\n",
      "17639         9\n",
      "          ...  \n",
      "17730         3\n",
      "17618         3\n",
      "14390         2\n",
      "14971         2\n",
      "17627         2\n",
      "9600          2\n",
      "17634         2\n",
      "17713         2\n",
      "17761         1\n",
      "17711         1\n",
      "7601          1\n",
      "14915         1\n",
      "14421         1\n",
      "14931         1\n",
      "14936         1\n",
      "14951         1\n",
      "14946         1\n",
      "10565         1\n",
      "14466         1\n",
      "17025         1\n",
      "14474         1\n",
      "14986         1\n",
      "17074         1\n",
      "15055         1\n",
      "15048         1\n",
      "16193         1\n",
      "17115         1\n",
      "14295         1\n",
      "17655         1\n",
      "14332         1\n",
      "Name: Census_OSBuildNumber, Length: 64, dtype: int64\n",
      "0.0\n"
     ]
    }
   ],
   "source": [
    "## manter \n",
    "print(ms['Census_OSBuildNumber'].value_counts())\n",
    "print(ms['Census_OSBuildNumber'].isna().sum() / ms.shape[0])"
   ]
  },
  {
   "cell_type": "markdown",
   "metadata": {},
   "source": [
    "### Variáveis eliminadas por parecerem parecidas a outras variáveis\n",
    "\n",
    "- Census_ChassisTypeName\n",
    "    - Para além das semelhanças existem também valores numéricos que não percebemos\n"
   ]
  },
  {
   "cell_type": "code",
   "execution_count": 11,
   "metadata": {},
   "outputs": [
    {
     "data": {
      "text/plain": [
       "Notebook               352649\n",
       "Desktop                125724\n",
       "Laptop                  46314\n",
       "Portable                24345\n",
       "AllinOne                13689\n",
       "MiniTower                5858\n",
       "Convertible              5714\n",
       "Other                    5143\n",
       "UNKNOWN                  4642\n",
       "Detachable               3448\n",
       "LowProfileDesktop        3385\n",
       "HandHeld                 2956\n",
       "SpaceSaving              2018\n",
       "Tablet                    896\n",
       "Tower                     826\n",
       "Unknown                   687\n",
       "MainServerChassis         658\n",
       "MiniPC                    319\n",
       "LunchBox                  267\n",
       "RackMountChassis          262\n",
       "BusExpansionChassis        49\n",
       "SubNotebook                43\n",
       "30                         19\n",
       "0                          10\n",
       "StickPC                     9\n",
       "Blade                       5\n",
       "SealedCasePC                4\n",
       "PizzaBox                    4\n",
       "35                          3\n",
       "MultisystemChassis          3\n",
       "31                          2\n",
       "ExpansionChassis            1\n",
       "32                          1\n",
       "28                          1\n",
       "88                          1\n",
       "Name: Census_ChassisTypeName, dtype: int64"
      ]
     },
     "execution_count": 11,
     "metadata": {},
     "output_type": "execute_result"
    }
   ],
   "source": [
    "ms['Census_ChassisTypeName'].value_counts()"
   ]
  },
  {
   "cell_type": "code",
   "execution_count": 12,
   "metadata": {},
   "outputs": [],
   "source": [
    "numericos = ['AVProductsInstalled',\n",
    "'AVProductsEnabled',\n",
    "'Census_ProcessorCoreCount',\n",
    "'Census_PrimaryDiskTotalCapacity',\n",
    "'Census_SystemVolumeTotalCapacity',\n",
    "'Census_TotalPhysicalRAM',\n",
    "'Census_InternalPrimaryDiagonalDisplaySizeInInches',\n",
    "'Census_InternalPrimaryDisplayResolutionHorizontal',\n",
    "'Census_InternalPrimaryDisplayResolutionVertical',\n",
    "'Census_InternalBatteryNumberOfCharges']"
   ]
  },
  {
   "cell_type": "code",
   "execution_count": 13,
   "metadata": {},
   "outputs": [],
   "source": [
    "eliminar = ['MachineIdentifier',\n",
    " 'PuaMode',\n",
    " 'DefaultBrowsersIdentifier',\n",
    " 'Census_ProcessorClass',\n",
    " 'CountryIdentifier',\n",
    " 'CityIdentifier',\n",
    " 'GeoNameIdentifier',\n",
    " 'LocaleEnglishNameIdentifier',\n",
    " 'AVProductStatesIdentifier',\n",
    " 'Census_OEMNameIdentifier',\n",
    " 'Census_OEMModelIdentifier',\n",
    " 'Census_ProcessorModelIdentifier',\n",
    " 'Census_FirmwareVersionIdentifier',\n",
    " 'Census_FirmwareManufacturerIdentifier',\n",
    " 'IeVerIdentifier',\n",
    " 'Census_OSBuildRevision',\n",
    " 'OsBuildLab',\n",
    " 'Census_ChassisTypeName',\n",
    " 'Census_IsFlightingInternal',\n",
    " 'Census_IsWIMBootEnabled']"
   ]
  },
  {
   "cell_type": "code",
   "execution_count": 14,
   "metadata": {},
   "outputs": [
    {
     "data": {
      "text/plain": [
       "MachineIdentifier                        600000\n",
       "PuaMode                                       1\n",
       "DefaultBrowsersIdentifier                   610\n",
       "Census_ProcessorClass                         3\n",
       "CountryIdentifier                           222\n",
       "CityIdentifier                            40323\n",
       "GeoNameIdentifier                           266\n",
       "LocaleEnglishNameIdentifier                 241\n",
       "AVProductStatesIdentifier                  6100\n",
       "Census_OEMNameIdentifier                   1664\n",
       "Census_OEMModelIdentifier                 45094\n",
       "Census_ProcessorModelIdentifier            2331\n",
       "Census_FirmwareVersionIdentifier          25074\n",
       "Census_FirmwareManufacturerIdentifier       314\n",
       "IeVerIdentifier                             189\n",
       "Census_OSBuildRevision                      239\n",
       "OsBuildLab                                  472\n",
       "Census_ChassisTypeName                       35\n",
       "Census_IsFlightingInternal                    1\n",
       "Census_IsWIMBootEnabled                       1\n",
       "dtype: int64"
      ]
     },
     "execution_count": 14,
     "metadata": {},
     "output_type": "execute_result"
    }
   ],
   "source": [
    "ms[eliminar].nunique()"
   ]
  },
  {
   "cell_type": "code",
   "execution_count": 15,
   "metadata": {},
   "outputs": [
    {
     "data": {
      "text/plain": [
       "MachineIdentifier                         0.000000\n",
       "PuaMode                                  99.977167\n",
       "DefaultBrowsersIdentifier                95.149000\n",
       "Census_ProcessorClass                    99.586833\n",
       "CountryIdentifier                         0.000000\n",
       "CityIdentifier                            3.611333\n",
       "GeoNameIdentifier                         0.002500\n",
       "LocaleEnglishNameIdentifier               0.000000\n",
       "AVProductStatesIdentifier                 0.400500\n",
       "Census_OEMNameIdentifier                  1.067667\n",
       "Census_OEMModelIdentifier                 1.147833\n",
       "Census_ProcessorModelIdentifier           0.482167\n",
       "Census_FirmwareVersionIdentifier          1.835333\n",
       "Census_FirmwareManufacturerIdentifier     2.109833\n",
       "IeVerIdentifier                           0.664167\n",
       "Census_OSBuildRevision                    0.000000\n",
       "OsBuildLab                                0.000333\n",
       "Census_ChassisTypeName                    0.007500\n",
       "Census_IsFlightingInternal               83.058333\n",
       "Census_IsWIMBootEnabled                  63.452667\n",
       "dtype: float64"
      ]
     },
     "execution_count": 15,
     "metadata": {},
     "output_type": "execute_result"
    }
   ],
   "source": [
    "ms[eliminar].isna().sum() / ms.shape[0] * 100"
   ]
  },
  {
   "cell_type": "code",
   "execution_count": 16,
   "metadata": {},
   "outputs": [],
   "source": [
    "ms = ms.drop(columns = eliminar, errors='ignore')"
   ]
  },
  {
   "cell_type": "code",
   "execution_count": 17,
   "metadata": {},
   "outputs": [
    {
     "data": {
      "text/html": [
       "<div>\n",
       "<style scoped>\n",
       "    .dataframe tbody tr th:only-of-type {\n",
       "        vertical-align: middle;\n",
       "    }\n",
       "\n",
       "    .dataframe tbody tr th {\n",
       "        vertical-align: top;\n",
       "    }\n",
       "\n",
       "    .dataframe thead th {\n",
       "        text-align: right;\n",
       "    }\n",
       "</style>\n",
       "<table border=\"1\" class=\"dataframe\">\n",
       "  <thead>\n",
       "    <tr style=\"text-align: right;\">\n",
       "      <th></th>\n",
       "      <th>AVProductsInstalled</th>\n",
       "      <th>AVProductsEnabled</th>\n",
       "      <th>Census_ProcessorCoreCount</th>\n",
       "      <th>Census_PrimaryDiskTotalCapacity</th>\n",
       "      <th>Census_SystemVolumeTotalCapacity</th>\n",
       "      <th>Census_TotalPhysicalRAM</th>\n",
       "      <th>Census_InternalPrimaryDiagonalDisplaySizeInInches</th>\n",
       "      <th>Census_InternalPrimaryDisplayResolutionHorizontal</th>\n",
       "      <th>Census_InternalPrimaryDisplayResolutionVertical</th>\n",
       "      <th>Census_InternalBatteryNumberOfCharges</th>\n",
       "    </tr>\n",
       "  </thead>\n",
       "  <tbody>\n",
       "    <tr>\n",
       "      <th>count</th>\n",
       "      <td>597597.000000</td>\n",
       "      <td>597597.000000</td>\n",
       "      <td>597107.000000</td>\n",
       "      <td>5.962750e+05</td>\n",
       "      <td>5.962760e+05</td>\n",
       "      <td>594387.000000</td>\n",
       "      <td>596741.000000</td>\n",
       "      <td>596747.000000</td>\n",
       "      <td>596747.000000</td>\n",
       "      <td>5.817450e+05</td>\n",
       "    </tr>\n",
       "    <tr>\n",
       "      <th>mean</th>\n",
       "      <td>1.326059</td>\n",
       "      <td>1.020740</td>\n",
       "      <td>3.992517</td>\n",
       "      <td>5.134265e+05</td>\n",
       "      <td>3.778890e+05</td>\n",
       "      <td>6122.585413</td>\n",
       "      <td>16.680267</td>\n",
       "      <td>1548.203957</td>\n",
       "      <td>897.898362</td>\n",
       "      <td>1.124047e+09</td>\n",
       "    </tr>\n",
       "    <tr>\n",
       "      <th>std</th>\n",
       "      <td>0.522140</td>\n",
       "      <td>0.167313</td>\n",
       "      <td>2.080830</td>\n",
       "      <td>3.731920e+05</td>\n",
       "      <td>3.247680e+05</td>\n",
       "      <td>5215.878857</td>\n",
       "      <td>5.904098</td>\n",
       "      <td>369.372451</td>\n",
       "      <td>215.199986</td>\n",
       "      <td>1.887927e+09</td>\n",
       "    </tr>\n",
       "    <tr>\n",
       "      <th>min</th>\n",
       "      <td>0.000000</td>\n",
       "      <td>0.000000</td>\n",
       "      <td>1.000000</td>\n",
       "      <td>0.000000e+00</td>\n",
       "      <td>0.000000e+00</td>\n",
       "      <td>512.000000</td>\n",
       "      <td>4.900000</td>\n",
       "      <td>-1.000000</td>\n",
       "      <td>-1.000000</td>\n",
       "      <td>0.000000e+00</td>\n",
       "    </tr>\n",
       "    <tr>\n",
       "      <th>25%</th>\n",
       "      <td>1.000000</td>\n",
       "      <td>1.000000</td>\n",
       "      <td>2.000000</td>\n",
       "      <td>2.393720e+05</td>\n",
       "      <td>1.208040e+05</td>\n",
       "      <td>4096.000000</td>\n",
       "      <td>13.900000</td>\n",
       "      <td>1366.000000</td>\n",
       "      <td>768.000000</td>\n",
       "      <td>0.000000e+00</td>\n",
       "    </tr>\n",
       "    <tr>\n",
       "      <th>50%</th>\n",
       "      <td>1.000000</td>\n",
       "      <td>1.000000</td>\n",
       "      <td>4.000000</td>\n",
       "      <td>4.769400e+05</td>\n",
       "      <td>2.498990e+05</td>\n",
       "      <td>4096.000000</td>\n",
       "      <td>15.500000</td>\n",
       "      <td>1366.000000</td>\n",
       "      <td>768.000000</td>\n",
       "      <td>0.000000e+00</td>\n",
       "    </tr>\n",
       "    <tr>\n",
       "      <th>75%</th>\n",
       "      <td>2.000000</td>\n",
       "      <td>1.000000</td>\n",
       "      <td>4.000000</td>\n",
       "      <td>9.538690e+05</td>\n",
       "      <td>4.759780e+05</td>\n",
       "      <td>8192.000000</td>\n",
       "      <td>17.200000</td>\n",
       "      <td>1920.000000</td>\n",
       "      <td>1080.000000</td>\n",
       "      <td>4.294967e+09</td>\n",
       "    </tr>\n",
       "    <tr>\n",
       "      <th>max</th>\n",
       "      <td>6.000000</td>\n",
       "      <td>4.000000</td>\n",
       "      <td>88.000000</td>\n",
       "      <td>6.867302e+07</td>\n",
       "      <td>1.144361e+07</td>\n",
       "      <td>917504.000000</td>\n",
       "      <td>142.000000</td>\n",
       "      <td>11520.000000</td>\n",
       "      <td>4320.000000</td>\n",
       "      <td>4.294967e+09</td>\n",
       "    </tr>\n",
       "  </tbody>\n",
       "</table>\n",
       "</div>"
      ],
      "text/plain": [
       "       AVProductsInstalled  AVProductsEnabled  Census_ProcessorCoreCount  \\\n",
       "count        597597.000000      597597.000000              597107.000000   \n",
       "mean              1.326059           1.020740                   3.992517   \n",
       "std               0.522140           0.167313                   2.080830   \n",
       "min               0.000000           0.000000                   1.000000   \n",
       "25%               1.000000           1.000000                   2.000000   \n",
       "50%               1.000000           1.000000                   4.000000   \n",
       "75%               2.000000           1.000000                   4.000000   \n",
       "max               6.000000           4.000000                  88.000000   \n",
       "\n",
       "       Census_PrimaryDiskTotalCapacity  Census_SystemVolumeTotalCapacity  \\\n",
       "count                     5.962750e+05                      5.962760e+05   \n",
       "mean                      5.134265e+05                      3.778890e+05   \n",
       "std                       3.731920e+05                      3.247680e+05   \n",
       "min                       0.000000e+00                      0.000000e+00   \n",
       "25%                       2.393720e+05                      1.208040e+05   \n",
       "50%                       4.769400e+05                      2.498990e+05   \n",
       "75%                       9.538690e+05                      4.759780e+05   \n",
       "max                       6.867302e+07                      1.144361e+07   \n",
       "\n",
       "       Census_TotalPhysicalRAM  \\\n",
       "count            594387.000000   \n",
       "mean               6122.585413   \n",
       "std                5215.878857   \n",
       "min                 512.000000   \n",
       "25%                4096.000000   \n",
       "50%                4096.000000   \n",
       "75%                8192.000000   \n",
       "max              917504.000000   \n",
       "\n",
       "       Census_InternalPrimaryDiagonalDisplaySizeInInches  \\\n",
       "count                                      596741.000000   \n",
       "mean                                           16.680267   \n",
       "std                                             5.904098   \n",
       "min                                             4.900000   \n",
       "25%                                            13.900000   \n",
       "50%                                            15.500000   \n",
       "75%                                            17.200000   \n",
       "max                                           142.000000   \n",
       "\n",
       "       Census_InternalPrimaryDisplayResolutionHorizontal  \\\n",
       "count                                      596747.000000   \n",
       "mean                                         1548.203957   \n",
       "std                                           369.372451   \n",
       "min                                            -1.000000   \n",
       "25%                                          1366.000000   \n",
       "50%                                          1366.000000   \n",
       "75%                                          1920.000000   \n",
       "max                                         11520.000000   \n",
       "\n",
       "       Census_InternalPrimaryDisplayResolutionVertical  \\\n",
       "count                                    596747.000000   \n",
       "mean                                        897.898362   \n",
       "std                                         215.199986   \n",
       "min                                          -1.000000   \n",
       "25%                                         768.000000   \n",
       "50%                                         768.000000   \n",
       "75%                                        1080.000000   \n",
       "max                                        4320.000000   \n",
       "\n",
       "       Census_InternalBatteryNumberOfCharges  \n",
       "count                           5.817450e+05  \n",
       "mean                            1.124047e+09  \n",
       "std                             1.887927e+09  \n",
       "min                             0.000000e+00  \n",
       "25%                             0.000000e+00  \n",
       "50%                             0.000000e+00  \n",
       "75%                             4.294967e+09  \n",
       "max                             4.294967e+09  "
      ]
     },
     "execution_count": 17,
     "metadata": {},
     "output_type": "execute_result"
    }
   ],
   "source": [
    "ms[numericos].describe()"
   ]
  },
  {
   "cell_type": "code",
   "execution_count": 18,
   "metadata": {},
   "outputs": [
    {
     "data": {
      "text/plain": [
       "AVProductsInstalled                                       7\n",
       "AVProductsEnabled                                         5\n",
       "Census_ProcessorCoreCount                                28\n",
       "Census_PrimaryDiskTotalCapacity                        1193\n",
       "Census_SystemVolumeTotalCapacity                     158820\n",
       "Census_TotalPhysicalRAM                                 626\n",
       "Census_InternalPrimaryDiagonalDisplaySizeInInches       508\n",
       "Census_InternalPrimaryDisplayResolutionHorizontal       539\n",
       "Census_InternalPrimaryDisplayResolutionVertical         568\n",
       "Census_InternalBatteryNumberOfCharges                  5947\n",
       "dtype: int64"
      ]
     },
     "execution_count": 18,
     "metadata": {},
     "output_type": "execute_result"
    }
   ],
   "source": [
    "ms[numericos].nunique()"
   ]
  },
  {
   "cell_type": "code",
   "execution_count": 19,
   "metadata": {},
   "outputs": [
    {
     "name": "stdout",
     "output_type": "stream",
     "text": [
      "count           600000\n",
      "unique               4\n",
      "top       win8defender\n",
      "freq            593588\n",
      "Name: ProductName, dtype: object\n",
      "count          600000\n",
      "unique             53\n",
      "top       1.1.15200.1\n",
      "freq           258455\n",
      "Name: EngineVersion, dtype: object\n",
      "count              600000\n",
      "unique                 97\n",
      "top       4.18.1807.18075\n",
      "freq               345464\n",
      "Name: AppVersion, dtype: object\n",
      "count           600000\n",
      "unique            6713\n",
      "top       1.273.1420.0\n",
      "freq              6926\n",
      "Name: AvSigVersion, dtype: object\n",
      "count    600000.000000\n",
      "mean          0.000010\n",
      "std           0.003162\n",
      "min           0.000000\n",
      "25%           0.000000\n",
      "50%           0.000000\n",
      "75%           0.000000\n",
      "max           1.000000\n",
      "Name: IsBeta, dtype: float64\n",
      "count    597831.000000\n",
      "mean          6.847266\n",
      "std           1.019600\n",
      "min           0.000000\n",
      "25%           7.000000\n",
      "50%           7.000000\n",
      "75%           7.000000\n",
      "max          35.000000\n",
      "Name: RtpStateBitfield, dtype: float64\n",
      "count    600000.000000\n",
      "mean          0.017110\n",
      "std           0.129681\n",
      "min           0.000000\n",
      "25%           0.000000\n",
      "50%           0.000000\n",
      "75%           0.000000\n",
      "max           1.000000\n",
      "Name: IsSxsPassiveMode, dtype: float64\n",
      "count    600000.000000\n",
      "mean          0.987835\n",
      "std           0.109622\n",
      "min           0.000000\n",
      "25%           1.000000\n",
      "50%           1.000000\n",
      "75%           1.000000\n",
      "max           1.000000\n",
      "Name: HasTpm, dtype: float64\n",
      "count    414927.00000\n",
      "mean         24.86730\n",
      "std           5.60165\n",
      "min           1.00000\n",
      "25%          18.00000\n",
      "50%          27.00000\n",
      "75%          27.00000\n",
      "max          52.00000\n",
      "Name: OrganizationIdentifier, dtype: float64\n",
      "count        600000\n",
      "unique            4\n",
      "top       windows10\n",
      "freq         579472\n",
      "Name: Platform, dtype: object\n",
      "count     600000\n",
      "unique         3\n",
      "top          x64\n",
      "freq      545169\n",
      "Name: Processor, dtype: object\n",
      "count       600000\n",
      "unique          23\n",
      "top       10.0.0.0\n",
      "freq        580405\n",
      "Name: OsVer, dtype: object\n",
      "count    600000.000000\n",
      "mean      15717.098590\n",
      "std        2192.824013\n",
      "min        7600.000000\n",
      "25%       15063.000000\n",
      "50%       16299.000000\n",
      "75%       17134.000000\n",
      "max       18242.000000\n",
      "Name: OsBuild, dtype: float64\n",
      "count    600000.000000\n",
      "mean        575.153932\n",
      "std         248.081287\n",
      "min          16.000000\n",
      "25%         256.000000\n",
      "50%         768.000000\n",
      "75%         768.000000\n",
      "max         784.000000\n",
      "Name: OsSuite, dtype: float64\n",
      "count     600000\n",
      "unique         9\n",
      "top          rs4\n",
      "freq      262865\n",
      "Name: OsPlatformSubRelease, dtype: object\n",
      "count     600000\n",
      "unique         8\n",
      "top         Home\n",
      "freq      370801\n",
      "Name: SkuEdition, dtype: object\n",
      "count    597615.000000\n",
      "mean          0.945195\n",
      "std           0.227598\n",
      "min           0.000000\n",
      "25%           1.000000\n",
      "50%           1.000000\n",
      "75%           1.000000\n",
      "max           1.000000\n",
      "Name: IsProtected, dtype: float64\n",
      "count    600000.000000\n",
      "mean          0.000040\n",
      "std           0.006324\n",
      "min           0.000000\n",
      "25%           0.000000\n",
      "50%           0.000000\n",
      "75%           0.000000\n",
      "max           1.000000\n",
      "Name: AutoSampleOptIn, dtype: float64\n",
      "count    563907.000000\n",
      "mean          0.000436\n",
      "std           0.020882\n",
      "min           0.000000\n",
      "25%           0.000000\n",
      "50%           0.000000\n",
      "75%           0.000000\n",
      "max           1.000000\n",
      "Name: SMode, dtype: float64\n",
      "count           386332\n",
      "unique              13\n",
      "top       RequireAdmin\n",
      "freq            290138\n",
      "Name: SmartScreen, dtype: object\n",
      "count    593813.000000\n",
      "mean          0.978500\n",
      "std           0.145044\n",
      "min           0.000000\n",
      "25%           1.000000\n",
      "50%           1.000000\n",
      "75%           1.000000\n",
      "max           1.000000\n",
      "Name: Firewall, dtype: float64\n",
      "count    5.992950e+05\n",
      "mean     3.959819e+01\n",
      "std      2.317561e+04\n",
      "min      0.000000e+00\n",
      "25%      1.000000e+00\n",
      "50%      1.000000e+00\n",
      "75%      1.000000e+00\n",
      "max      1.677722e+07\n",
      "Name: UacLuaenable, dtype: float64\n",
      "count       600000\n",
      "unique          12\n",
      "top       Notebook\n",
      "freq        384655\n",
      "Name: Census_MDC2FormFactor, dtype: object\n",
      "count              600000\n",
      "unique                  3\n",
      "top       Windows.Desktop\n",
      "freq               599020\n",
      "Name: Census_DeviceFamily, dtype: object\n",
      "count    597107.000000\n",
      "mean          4.533188\n",
      "std           1.284904\n",
      "min           1.000000\n",
      "25%           5.000000\n",
      "50%           5.000000\n",
      "75%           5.000000\n",
      "max          10.000000\n",
      "Name: Census_ProcessorManufacturerIdentifier, dtype: float64\n",
      "count     599110\n",
      "unique         4\n",
      "top          HDD\n",
      "freq      390272\n",
      "Name: Census_PrimaryDiskTypeName, dtype: object\n",
      "count    600000.000000\n",
      "mean          0.077443\n",
      "std           0.267294\n",
      "min           0.000000\n",
      "25%           0.000000\n",
      "50%           0.000000\n",
      "75%           0.000000\n",
      "max           1.000000\n",
      "Name: Census_HasOpticalDiskDrive, dtype: float64\n",
      "count     599995\n",
      "unique         9\n",
      "top       Mobile\n",
      "freq      415811\n",
      "Name: Census_PowerPlatformRoleName, dtype: object\n",
      "count     173683\n",
      "unique        30\n",
      "top         lion\n",
      "freq      136134\n",
      "Name: Census_InternalBatteryType, dtype: object\n",
      "count             600000\n",
      "unique               305\n",
      "top       10.0.17134.228\n",
      "freq               95057\n",
      "Name: Census_OSVersion, dtype: object\n",
      "count     600000\n",
      "unique         3\n",
      "top        amd64\n",
      "freq      545210\n",
      "Name: Census_OSArchitecture, dtype: object\n",
      "count          600000\n",
      "unique             16\n",
      "top       rs4_release\n",
      "freq           269344\n",
      "Name: Census_OSBranch, dtype: object\n",
      "count    600000.000000\n",
      "mean      15833.034092\n",
      "std        1962.756873\n",
      "min        7601.000000\n",
      "25%       15063.000000\n",
      "50%       16299.000000\n",
      "75%       17134.000000\n",
      "max       18242.000000\n",
      "Name: Census_OSBuildNumber, dtype: float64\n",
      "count     600000\n",
      "unique        23\n",
      "top         Core\n",
      "freq      233660\n",
      "Name: Census_OSEdition, dtype: object\n",
      "count     600000\n",
      "unique        21\n",
      "top         CORE\n",
      "freq      233648\n",
      "Name: Census_OSSkuName, dtype: object\n",
      "count         600000\n",
      "unique             9\n",
      "top       UUPUpgrade\n",
      "freq          175448\n",
      "Name: Census_OSInstallTypeName, dtype: object\n",
      "count    595770.000000\n",
      "mean         14.601605\n",
      "std          10.205043\n",
      "min           1.000000\n",
      "25%           8.000000\n",
      "50%           9.000000\n",
      "75%          20.000000\n",
      "max          39.000000\n",
      "Name: Census_OSInstallLanguageIdentifier, dtype: float64\n",
      "count    600000.000000\n",
      "mean         60.424083\n",
      "std          45.014461\n",
      "min           5.000000\n",
      "25%          31.000000\n",
      "50%          34.000000\n",
      "75%          92.000000\n",
      "max         161.000000\n",
      "Name: Census_OSUILocaleIdentifier, dtype: float64\n",
      "count       600000\n",
      "unique           6\n",
      "top       FullAuto\n",
      "freq        265944\n",
      "Name: Census_OSWUAutoUpdateOptionsName, dtype: object\n",
      "count    600000.000000\n",
      "mean          0.000535\n",
      "std           0.023124\n",
      "min           0.000000\n",
      "25%           0.000000\n",
      "50%           0.000000\n",
      "75%           0.000000\n",
      "max           1.000000\n",
      "Name: Census_IsPortableOperatingSystem, dtype: float64\n",
      "count         600000\n",
      "unique             4\n",
      "top       IS_GENUINE\n",
      "freq          529248\n",
      "Name: Census_GenuineStateName, dtype: object\n",
      "count     600000\n",
      "unique         6\n",
      "top       Retail\n",
      "freq      317631\n",
      "Name: Census_ActivationChannel, dtype: object\n",
      "count    589021.000000\n",
      "mean          0.000005\n",
      "std           0.002257\n",
      "min           0.000000\n",
      "25%           0.000000\n",
      "50%           0.000000\n",
      "75%           0.000000\n",
      "max           1.000000\n",
      "Name: Census_IsFlightsDisabled, dtype: float64\n",
      "count     600000\n",
      "unique         7\n",
      "top       Retail\n",
      "freq      562189\n",
      "Name: Census_FlightRing, dtype: object\n",
      "count    218763.000000\n",
      "mean          0.000219\n",
      "std           0.014811\n",
      "min           0.000000\n",
      "25%           0.000000\n",
      "50%           0.000000\n",
      "75%           0.000000\n",
      "max           1.000000\n",
      "Name: Census_ThresholdOptIn, dtype: float64\n",
      "count    600000.000000\n",
      "mean          0.486205\n",
      "std           0.499810\n",
      "min           0.000000\n",
      "25%           0.000000\n",
      "50%           0.000000\n",
      "75%           1.000000\n",
      "max           1.000000\n",
      "Name: Census_IsSecureBootEnabled, dtype: float64\n",
      "count    598884.000000\n",
      "mean          0.007103\n",
      "std           0.083981\n",
      "min           0.000000\n",
      "25%           0.000000\n",
      "50%           0.000000\n",
      "75%           0.000000\n",
      "max           1.000000\n",
      "Name: Census_IsVirtualDevice, dtype: float64\n",
      "count    600000.000000\n",
      "mean          0.125738\n",
      "std           0.331555\n",
      "min           0.000000\n",
      "25%           0.000000\n",
      "50%           0.000000\n",
      "75%           0.000000\n",
      "max           1.000000\n",
      "Name: Census_IsTouchEnabled, dtype: float64\n",
      "count    600000.000000\n",
      "mean          0.038247\n",
      "std           0.191791\n",
      "min           0.000000\n",
      "25%           0.000000\n",
      "50%           0.000000\n",
      "75%           0.000000\n",
      "max           1.000000\n",
      "Name: Census_IsPenCapable, dtype: float64\n",
      "count    595067.000000\n",
      "mean          0.057526\n",
      "std           0.232846\n",
      "min           0.000000\n",
      "25%           0.000000\n",
      "50%           0.000000\n",
      "75%           0.000000\n",
      "max           1.000000\n",
      "Name: Census_IsAlwaysOnAlwaysConnectedCapable, dtype: float64\n",
      "count    579508.000000\n",
      "mean          0.283565\n",
      "std           0.450728\n",
      "min           0.000000\n",
      "25%           0.000000\n",
      "50%           0.000000\n",
      "75%           1.000000\n",
      "max           1.000000\n",
      "Name: Wdft_IsGamer, dtype: float64\n",
      "count    579508.000000\n",
      "mean          7.894302\n",
      "std           4.551022\n",
      "min           1.000000\n",
      "25%           3.000000\n",
      "50%          10.000000\n",
      "75%          11.000000\n",
      "max          15.000000\n",
      "Name: Wdft_RegionIdentifier, dtype: float64\n",
      "count    600000.000000\n",
      "mean          0.500128\n",
      "std           0.500000\n",
      "min           0.000000\n",
      "25%           0.000000\n",
      "50%           1.000000\n",
      "75%           1.000000\n",
      "max           1.000000\n",
      "Name: HasDetections, dtype: float64\n"
     ]
    }
   ],
   "source": [
    "for tipo in ms.columns:\n",
    "    if tipo not in numericos:\n",
    "            print(ms[tipo].describe())"
   ]
  },
  {
   "cell_type": "code",
   "execution_count": 20,
   "metadata": {},
   "outputs": [],
   "source": [
    "categoricos = [i for i in ms.columns if i not in numericos]"
   ]
  },
  {
   "cell_type": "code",
   "execution_count": 21,
   "metadata": {},
   "outputs": [
    {
     "data": {
      "text/plain": [
       "RtpStateBitfield                            0.361500\n",
       "OrganizationIdentifier                     30.845500\n",
       "IsProtected                                 0.397500\n",
       "SMode                                       6.015500\n",
       "SmartScreen                                35.611333\n",
       "Firewall                                    1.031167\n",
       "UacLuaenable                                0.117500\n",
       "Census_ProcessorManufacturerIdentifier      0.482167\n",
       "Census_PrimaryDiskTypeName                  0.148333\n",
       "Census_PowerPlatformRoleName                0.000833\n",
       "Census_InternalBatteryType                 71.052833\n",
       "Census_OSInstallLanguageIdentifier          0.705000\n",
       "Census_IsFlightsDisabled                    1.829833\n",
       "Census_ThresholdOptIn                      63.539500\n",
       "Census_IsVirtualDevice                      0.186000\n",
       "Census_IsAlwaysOnAlwaysConnectedCapable     0.822167\n",
       "Wdft_IsGamer                                3.415333\n",
       "Wdft_RegionIdentifier                       3.415333\n",
       "dtype: float64"
      ]
     },
     "execution_count": 21,
     "metadata": {},
     "output_type": "execute_result"
    }
   ],
   "source": [
    "ms[categoricos].isna().sum()[ms[categoricos].isna().sum() != 0] / ms.shape[0] * 100"
   ]
  },
  {
   "cell_type": "code",
   "execution_count": 22,
   "metadata": {},
   "outputs": [],
   "source": [
    "for var in ms.columns:\n",
    "    if len(ms[var].value_counts()) < 2:\n",
    "        print(var)"
   ]
  },
  {
   "cell_type": "code",
   "execution_count": 23,
   "metadata": {
    "scrolled": true
   },
   "outputs": [
    {
     "data": {
      "text/plain": [
       "EngineVersion                    53\n",
       "AppVersion                       97\n",
       "AvSigVersion                   6713\n",
       "OrganizationIdentifier           44\n",
       "OsBuild                          49\n",
       "Census_OSVersion                305\n",
       "Census_OSBuildNumber             64\n",
       "Census_OSUILocaleIdentifier      94\n",
       "dtype: int64"
      ]
     },
     "execution_count": 23,
     "metadata": {},
     "output_type": "execute_result"
    }
   ],
   "source": [
    "ms[categoricos].nunique()[ms[categoricos].nunique() > 40]"
   ]
  },
  {
   "cell_type": "markdown",
   "metadata": {},
   "source": [
    "#### Agrupar classes que têm valores do tipo X.Y.Z.W para X.Y"
   ]
  },
  {
   "cell_type": "code",
   "execution_count": 24,
   "metadata": {
    "scrolled": true
   },
   "outputs": [
    {
     "name": "stdout",
     "output_type": "stream",
     "text": [
      "15\n"
     ]
    },
    {
     "data": {
      "text/plain": [
       "38"
      ]
     },
     "execution_count": 24,
     "metadata": {},
     "output_type": "execute_result"
    }
   ],
   "source": [
    "def trataString(string):\n",
    "    words = string.split(\".\")\n",
    "    palavra= '' + words[0] + '.' + words[1]\n",
    "    return palavra\n",
    "ms['AppVersion'] = ms['AppVersion'].apply(lambda x : trataString(x))\n",
    "print(len(ms['AppVersion'].unique()))\n",
    "ms['AvSigVersion'] = ms['AvSigVersion'].apply(lambda x : trataString(x))\n",
    "len(ms['AvSigVersion'].unique())"
   ]
  },
  {
   "cell_type": "markdown",
   "metadata": {},
   "source": [
    "#### Agrupar classes que têm valores do tipo X.Y.Z.W para X.Y.Z"
   ]
  },
  {
   "cell_type": "code",
   "execution_count": 25,
   "metadata": {},
   "outputs": [
    {
     "name": "stdout",
     "output_type": "stream",
     "text": [
      "64\n"
     ]
    }
   ],
   "source": [
    "def trataString2(string):\n",
    "    words = string.split(\".\")\n",
    "    palavra= '' + words[0] + '.' + words[1] + '.' + words[2]\n",
    "    return palavra\n",
    "ms['Census_OSVersion'] = ms['Census_OSVersion'].apply(lambda x : trataString2(x))\n",
    "print(len(ms['Census_OSVersion'].unique()))"
   ]
  },
  {
   "cell_type": "markdown",
   "metadata": {},
   "source": [
    "## Tratamento de algumas variaveis\n",
    "\n",
    "- SmartScreen\n",
    "- UacLuaenable\n"
   ]
  },
  {
   "cell_type": "code",
   "execution_count": 26,
   "metadata": {},
   "outputs": [],
   "source": [
    "ms['SmartScreen'] = ms['SmartScreen'].replace({\"on\": \"On\", \"off\": \"Off\", \"OFF\": \"Off\"})\n",
    "ms.loc[ms['UacLuaenable'] > 1, 'UacLuaenable'] = 1"
   ]
  },
  {
   "cell_type": "code",
   "execution_count": 27,
   "metadata": {},
   "outputs": [
    {
     "data": {
      "text/plain": [
       "RequireAdmin    290138\n",
       "ExistsNotSet     70339\n",
       "Off              12736\n",
       "Warn              9080\n",
       "Prompt            2425\n",
       "Block             1493\n",
       "On                  73\n",
       "other               48\n",
       "Name: SmartScreen, dtype: int64"
      ]
     },
     "execution_count": 27,
     "metadata": {},
     "output_type": "execute_result"
    }
   ],
   "source": [
    "ms['SmartScreen'] = ms['SmartScreen'].replace({\"&#x02;\": \"other\", \"&#x01;\": \"other\", \"0\": \"other\"})\n",
    "ms['SmartScreen'].value_counts()"
   ]
  },
  {
   "cell_type": "code",
   "execution_count": 28,
   "metadata": {},
   "outputs": [
    {
     "data": {
      "text/plain": [
       "lion    136134\n",
       "li-i     16536\n",
       "#        12488\n",
       "lip       4182\n",
       "liio      2264\n",
       "li p       571\n",
       "li         450\n",
       "nimh       304\n",
       "real       184\n",
       "bq20       163\n",
       "pbac       162\n",
       "vbox        91\n",
       "unkn        43\n",
       "lgi0        31\n",
       "4cel        22\n",
       "lipo        16\n",
       "lhp0        11\n",
       "ithi         6\n",
       "lipp         5\n",
       "batt         4\n",
       "pad0         3\n",
       "virt         2\n",
       "ram          2\n",
       "lit          2\n",
       "bad          2\n",
       "p-sn         1\n",
       "a132         1\n",
       "lio          1\n",
       "ca48         1\n",
       "4lio         1\n",
       "Name: Census_InternalBatteryType, dtype: int64"
      ]
     },
     "execution_count": 28,
     "metadata": {},
     "output_type": "execute_result"
    }
   ],
   "source": [
    "ms['Census_InternalBatteryType'].value_counts()\n",
    "\n",
    "#ms['Census_InternalBatteryType'] = ms['Census_InternalBatteryType'].replace({\"li-i\": \"lion\", \"&#x01;\": \"other\", \"0\": \"other\"})\n",
    "\n"
   ]
  },
  {
   "cell_type": "markdown",
   "metadata": {},
   "source": [
    "### Conversão dos valores para categóricos"
   ]
  },
  {
   "cell_type": "code",
   "execution_count": 29,
   "metadata": {},
   "outputs": [],
   "source": [
    "for tipo in ms.columns:\n",
    "    if tipo not in numericos:\n",
    "            ms[tipo] = ms[tipo].astype('category')    "
   ]
  },
  {
   "cell_type": "code",
   "execution_count": 30,
   "metadata": {
    "scrolled": true
   },
   "outputs": [
    {
     "data": {
      "text/html": [
       "<div>\n",
       "<style scoped>\n",
       "    .dataframe tbody tr th:only-of-type {\n",
       "        vertical-align: middle;\n",
       "    }\n",
       "\n",
       "    .dataframe tbody tr th {\n",
       "        vertical-align: top;\n",
       "    }\n",
       "\n",
       "    .dataframe thead th {\n",
       "        text-align: right;\n",
       "    }\n",
       "</style>\n",
       "<table border=\"1\" class=\"dataframe\">\n",
       "  <thead>\n",
       "    <tr style=\"text-align: right;\">\n",
       "      <th></th>\n",
       "      <th>AVProductsInstalled</th>\n",
       "      <th>AVProductsEnabled</th>\n",
       "      <th>Census_ProcessorCoreCount</th>\n",
       "      <th>Census_PrimaryDiskTotalCapacity</th>\n",
       "      <th>Census_SystemVolumeTotalCapacity</th>\n",
       "      <th>Census_TotalPhysicalRAM</th>\n",
       "      <th>Census_InternalPrimaryDiagonalDisplaySizeInInches</th>\n",
       "      <th>Census_InternalPrimaryDisplayResolutionHorizontal</th>\n",
       "      <th>Census_InternalPrimaryDisplayResolutionVertical</th>\n",
       "      <th>Census_InternalBatteryNumberOfCharges</th>\n",
       "    </tr>\n",
       "  </thead>\n",
       "  <tbody>\n",
       "    <tr>\n",
       "      <th>count</th>\n",
       "      <td>597597.000000</td>\n",
       "      <td>597597.000000</td>\n",
       "      <td>597107.000000</td>\n",
       "      <td>5.962750e+05</td>\n",
       "      <td>5.962760e+05</td>\n",
       "      <td>594387.000000</td>\n",
       "      <td>596741.000000</td>\n",
       "      <td>596747.000000</td>\n",
       "      <td>596747.000000</td>\n",
       "      <td>5.817450e+05</td>\n",
       "    </tr>\n",
       "    <tr>\n",
       "      <th>mean</th>\n",
       "      <td>1.326059</td>\n",
       "      <td>1.020740</td>\n",
       "      <td>3.992517</td>\n",
       "      <td>5.134265e+05</td>\n",
       "      <td>3.778890e+05</td>\n",
       "      <td>6122.585413</td>\n",
       "      <td>16.680267</td>\n",
       "      <td>1548.203957</td>\n",
       "      <td>897.898362</td>\n",
       "      <td>1.124047e+09</td>\n",
       "    </tr>\n",
       "    <tr>\n",
       "      <th>std</th>\n",
       "      <td>0.522140</td>\n",
       "      <td>0.167313</td>\n",
       "      <td>2.080830</td>\n",
       "      <td>3.731920e+05</td>\n",
       "      <td>3.247680e+05</td>\n",
       "      <td>5215.878857</td>\n",
       "      <td>5.904098</td>\n",
       "      <td>369.372451</td>\n",
       "      <td>215.199986</td>\n",
       "      <td>1.887927e+09</td>\n",
       "    </tr>\n",
       "    <tr>\n",
       "      <th>min</th>\n",
       "      <td>0.000000</td>\n",
       "      <td>0.000000</td>\n",
       "      <td>1.000000</td>\n",
       "      <td>0.000000e+00</td>\n",
       "      <td>0.000000e+00</td>\n",
       "      <td>512.000000</td>\n",
       "      <td>4.900000</td>\n",
       "      <td>-1.000000</td>\n",
       "      <td>-1.000000</td>\n",
       "      <td>0.000000e+00</td>\n",
       "    </tr>\n",
       "    <tr>\n",
       "      <th>25%</th>\n",
       "      <td>1.000000</td>\n",
       "      <td>1.000000</td>\n",
       "      <td>2.000000</td>\n",
       "      <td>2.393720e+05</td>\n",
       "      <td>1.208040e+05</td>\n",
       "      <td>4096.000000</td>\n",
       "      <td>13.900000</td>\n",
       "      <td>1366.000000</td>\n",
       "      <td>768.000000</td>\n",
       "      <td>0.000000e+00</td>\n",
       "    </tr>\n",
       "    <tr>\n",
       "      <th>50%</th>\n",
       "      <td>1.000000</td>\n",
       "      <td>1.000000</td>\n",
       "      <td>4.000000</td>\n",
       "      <td>4.769400e+05</td>\n",
       "      <td>2.498990e+05</td>\n",
       "      <td>4096.000000</td>\n",
       "      <td>15.500000</td>\n",
       "      <td>1366.000000</td>\n",
       "      <td>768.000000</td>\n",
       "      <td>0.000000e+00</td>\n",
       "    </tr>\n",
       "    <tr>\n",
       "      <th>75%</th>\n",
       "      <td>2.000000</td>\n",
       "      <td>1.000000</td>\n",
       "      <td>4.000000</td>\n",
       "      <td>9.538690e+05</td>\n",
       "      <td>4.759780e+05</td>\n",
       "      <td>8192.000000</td>\n",
       "      <td>17.200000</td>\n",
       "      <td>1920.000000</td>\n",
       "      <td>1080.000000</td>\n",
       "      <td>4.294967e+09</td>\n",
       "    </tr>\n",
       "    <tr>\n",
       "      <th>max</th>\n",
       "      <td>6.000000</td>\n",
       "      <td>4.000000</td>\n",
       "      <td>88.000000</td>\n",
       "      <td>6.867302e+07</td>\n",
       "      <td>1.144361e+07</td>\n",
       "      <td>917504.000000</td>\n",
       "      <td>142.000000</td>\n",
       "      <td>11520.000000</td>\n",
       "      <td>4320.000000</td>\n",
       "      <td>4.294967e+09</td>\n",
       "    </tr>\n",
       "  </tbody>\n",
       "</table>\n",
       "</div>"
      ],
      "text/plain": [
       "       AVProductsInstalled  AVProductsEnabled  Census_ProcessorCoreCount  \\\n",
       "count        597597.000000      597597.000000              597107.000000   \n",
       "mean              1.326059           1.020740                   3.992517   \n",
       "std               0.522140           0.167313                   2.080830   \n",
       "min               0.000000           0.000000                   1.000000   \n",
       "25%               1.000000           1.000000                   2.000000   \n",
       "50%               1.000000           1.000000                   4.000000   \n",
       "75%               2.000000           1.000000                   4.000000   \n",
       "max               6.000000           4.000000                  88.000000   \n",
       "\n",
       "       Census_PrimaryDiskTotalCapacity  Census_SystemVolumeTotalCapacity  \\\n",
       "count                     5.962750e+05                      5.962760e+05   \n",
       "mean                      5.134265e+05                      3.778890e+05   \n",
       "std                       3.731920e+05                      3.247680e+05   \n",
       "min                       0.000000e+00                      0.000000e+00   \n",
       "25%                       2.393720e+05                      1.208040e+05   \n",
       "50%                       4.769400e+05                      2.498990e+05   \n",
       "75%                       9.538690e+05                      4.759780e+05   \n",
       "max                       6.867302e+07                      1.144361e+07   \n",
       "\n",
       "       Census_TotalPhysicalRAM  \\\n",
       "count            594387.000000   \n",
       "mean               6122.585413   \n",
       "std                5215.878857   \n",
       "min                 512.000000   \n",
       "25%                4096.000000   \n",
       "50%                4096.000000   \n",
       "75%                8192.000000   \n",
       "max              917504.000000   \n",
       "\n",
       "       Census_InternalPrimaryDiagonalDisplaySizeInInches  \\\n",
       "count                                      596741.000000   \n",
       "mean                                           16.680267   \n",
       "std                                             5.904098   \n",
       "min                                             4.900000   \n",
       "25%                                            13.900000   \n",
       "50%                                            15.500000   \n",
       "75%                                            17.200000   \n",
       "max                                           142.000000   \n",
       "\n",
       "       Census_InternalPrimaryDisplayResolutionHorizontal  \\\n",
       "count                                      596747.000000   \n",
       "mean                                         1548.203957   \n",
       "std                                           369.372451   \n",
       "min                                            -1.000000   \n",
       "25%                                          1366.000000   \n",
       "50%                                          1366.000000   \n",
       "75%                                          1920.000000   \n",
       "max                                         11520.000000   \n",
       "\n",
       "       Census_InternalPrimaryDisplayResolutionVertical  \\\n",
       "count                                    596747.000000   \n",
       "mean                                        897.898362   \n",
       "std                                         215.199986   \n",
       "min                                          -1.000000   \n",
       "25%                                         768.000000   \n",
       "50%                                         768.000000   \n",
       "75%                                        1080.000000   \n",
       "max                                        4320.000000   \n",
       "\n",
       "       Census_InternalBatteryNumberOfCharges  \n",
       "count                           5.817450e+05  \n",
       "mean                            1.124047e+09  \n",
       "std                             1.887927e+09  \n",
       "min                             0.000000e+00  \n",
       "25%                             0.000000e+00  \n",
       "50%                             0.000000e+00  \n",
       "75%                             4.294967e+09  \n",
       "max                             4.294967e+09  "
      ]
     },
     "execution_count": 30,
     "metadata": {},
     "output_type": "execute_result"
    }
   ],
   "source": [
    "ms.describe()"
   ]
  },
  {
   "cell_type": "code",
   "execution_count": 31,
   "metadata": {},
   "outputs": [
    {
     "data": {
      "text/plain": [
       "EngineVersion                  53\n",
       "OrganizationIdentifier         44\n",
       "OsBuild                        49\n",
       "Census_OSVersion               64\n",
       "Census_OSBuildNumber           64\n",
       "Census_OSUILocaleIdentifier    94\n",
       "dtype: int64"
      ]
     },
     "execution_count": 31,
     "metadata": {},
     "output_type": "execute_result"
    }
   ],
   "source": [
    "ms[categoricos].nunique()[ms[categoricos].nunique() > 40]"
   ]
  },
  {
   "cell_type": "code",
   "execution_count": 32,
   "metadata": {},
   "outputs": [
    {
     "data": {
      "text/plain": [
       "747"
      ]
     },
     "execution_count": 32,
     "metadata": {},
     "output_type": "execute_result"
    }
   ],
   "source": [
    "ms[categoricos].nunique().sum()"
   ]
  },
  {
   "cell_type": "code",
   "execution_count": 33,
   "metadata": {},
   "outputs": [],
   "source": [
    "verTratar = []\n",
    "for j in [i for i in categoricos]:\n",
    "    if ms[j].isna().sum() > 0:\n",
    "        a = (ms[j].value_counts() / ms[j].value_counts().sum() * 100)\n",
    "        if a.iloc[0] < 99:\n",
    "            verTratar.append(j)"
   ]
  },
  {
   "cell_type": "code",
   "execution_count": 34,
   "metadata": {},
   "outputs": [
    {
     "data": {
      "text/plain": [
       "['RtpStateBitfield',\n",
       " 'OrganizationIdentifier',\n",
       " 'IsProtected',\n",
       " 'SmartScreen',\n",
       " 'Firewall',\n",
       " 'Census_ProcessorManufacturerIdentifier',\n",
       " 'Census_PrimaryDiskTypeName',\n",
       " 'Census_PowerPlatformRoleName',\n",
       " 'Census_InternalBatteryType',\n",
       " 'Census_OSInstallLanguageIdentifier',\n",
       " 'Census_IsAlwaysOnAlwaysConnectedCapable',\n",
       " 'Wdft_IsGamer',\n",
       " 'Wdft_RegionIdentifier']"
      ]
     },
     "execution_count": 34,
     "metadata": {},
     "output_type": "execute_result"
    }
   ],
   "source": [
    "verTratar"
   ]
  },
  {
   "cell_type": "markdown",
   "metadata": {},
   "source": [
    "### Tratar NAs dos restantes valores\n",
    "\n",
    "Ter atenção que existe no mínimo uma coluna que não pode ser tratada com o valor modal\n",
    "\n",
    "* Census_IsAlwaysOnAlwaysConnectedCapable - 6%\n",
    "* Wdft_IsGame - 28%\n",
    "\n",
    "* ainda existem mais, estão no array verTratar\n",
    "\n",
    "##### Depois ver se existe este problema em algum dos vossos"
   ]
  },
  {
   "cell_type": "code",
   "execution_count": 35,
   "metadata": {
    "scrolled": true
   },
   "outputs": [
    {
     "name": "stdout",
     "output_type": "stream",
     "text": [
      "889734\n",
      "0\n",
      "889734\n"
     ]
    }
   ],
   "source": [
    "tratar = [i for i in categoricos if i not in verTratar]\n",
    "moda = ms[tratar].mode()\n",
    "for coluna in tratar:\n",
    "    if(ms[coluna].isna().sum() > 0):\n",
    "        ms[coluna].fillna(moda[coluna][0],inplace=True)\n",
    "print(ms[categoricos].isna().sum().sum())\n",
    "print(ms[tratar].isna().sum().sum())\n",
    "print(ms[verTratar].isna().sum().sum())"
   ]
  },
  {
   "cell_type": "markdown",
   "metadata": {},
   "source": [
    "## Separação do dataset em treino teste\n",
    "\n",
    "Vamos separar porque o restante tratamento dos NA's e a normalização vão ser baseados em métodos paramétricos pelo que é necessário esta separação. Os parametros serão estimados com os dados de teste e posteriormente aplicados aos dados de teste"
   ]
  },
  {
   "cell_type": "code",
   "execution_count": 36,
   "metadata": {},
   "outputs": [],
   "source": [
    "treinoT = 550000\n",
    "testeT = 600000\n",
    "treino = ms[:treinoT]\n",
    "teste = ms[treinoT:testeT]"
   ]
  },
  {
   "cell_type": "code",
   "execution_count": 37,
   "metadata": {},
   "outputs": [
    {
     "name": "stdout",
     "output_type": "stream",
     "text": [
      "(50000, 63)\n",
      "(550000, 63)\n"
     ]
    }
   ],
   "source": [
    "print(teste.shape)\n",
    "print(treino.shape)"
   ]
  },
  {
   "cell_type": "markdown",
   "metadata": {},
   "source": [
    "### Tratar variáveis "
   ]
  },
  {
   "cell_type": "markdown",
   "metadata": {},
   "source": [
    "### Falta tratar aqueles casos de NAs que estão descritos acima\n",
    "Provavelmente será realizado com um modelo (knn ou regressão logística não?)\n",
    "\n",
    "\n",
    "### Falta verificar se as colunas que estão em risco sempre se excluem ou não"
   ]
  },
  {
   "cell_type": "markdown",
   "metadata": {},
   "source": [
    "## Valores numéricos\n",
    "Tratamos agora os valores numéricos"
   ]
  },
  {
   "cell_type": "markdown",
   "metadata": {},
   "source": [
    "### Análise outliars"
   ]
  },
  {
   "cell_type": "code",
   "execution_count": 38,
   "metadata": {},
   "outputs": [
    {
     "name": "stdout",
     "output_type": "stream",
     "text": [
      "AxesSubplot(0.125,0.11;0.775x0.77)\n"
     ]
    }
   ],
   "source": [
    "print((treino[numericos[0]]).plot.box())\n"
   ]
  },
  {
   "cell_type": "code",
   "execution_count": 39,
   "metadata": {},
   "outputs": [
    {
     "name": "stdout",
     "output_type": "stream",
     "text": [
      "AxesSubplot(0.125,0.125;0.775x0.755)\n"
     ]
    },
    {
     "data": {
      "image/png": "[encoded data removed]",
      "text/plain": [
       "<Figure size 432x288 with 1 Axes>"
      ]
     },
     "metadata": {
      "needs_background": "light"
     },
     "output_type": "display_data"
    }
   ],
   "source": [
    "print((treino[numericos[1]]).plot.box())\n"
   ]
  },
  {
   "cell_type": "code",
   "execution_count": 40,
   "metadata": {},
   "outputs": [
    {
     "name": "stdout",
     "output_type": "stream",
     "text": [
      "AxesSubplot(0.125,0.125;0.775x0.755)\n"
     ]
    },
    {
     "data": {
      "image/png": "[encoded data removed]",
      "text/plain": [
       "<Figure size 432x288 with 1 Axes>"
      ]
     },
     "metadata": {
      "needs_background": "light"
     },
     "output_type": "display_data"
    }
   ],
   "source": [
    "print((treino[numericos[2]]).plot.box())\n"
   ]
  },
  {
   "cell_type": "code",
   "execution_count": 41,
   "metadata": {},
   "outputs": [
    {
     "name": "stdout",
     "output_type": "stream",
     "text": [
      "AxesSubplot(0.125,0.125;0.775x0.755)\n"
     ]
    },
    {
     "data": {
      "image/png": "[encoded data removed]",
      "text/plain": [
       "<Figure size 432x288 with 1 Axes>"
      ]
     },
     "metadata": {
      "needs_background": "light"
     },
     "output_type": "display_data"
    }
   ],
   "source": [
    "print((treino[numericos[3]]).plot.box())\n"
   ]
  },
  {
   "cell_type": "code",
   "execution_count": 42,
   "metadata": {},
   "outputs": [
    {
     "name": "stdout",
     "output_type": "stream",
     "text": [
      "AxesSubplot(0.125,0.125;0.775x0.755)\n"
     ]
    },
    {
     "data": {
      "image/png": "[encoded data removed]",
      "text/plain": [
       "<Figure size 432x288 with 1 Axes>"
      ]
     },
     "metadata": {
      "needs_background": "light"
     },
     "output_type": "display_data"
    }
   ],
   "source": [
    "print((treino[numericos[4]]).plot.box())"
   ]
  },
  {
   "cell_type": "code",
   "execution_count": 43,
   "metadata": {},
   "outputs": [
    {
     "name": "stdout",
     "output_type": "stream",
     "text": [
      "AxesSubplot(0.125,0.125;0.775x0.755)\n"
     ]
    },
    {
     "data": {
      "image/png": "[encoded data removed]",
      "text/plain": [
       "<Figure size 432x288 with 1 Axes>"
      ]
     },
     "metadata": {
      "needs_background": "light"
     },
     "output_type": "display_data"
    }
   ],
   "source": [
    "print((treino[numericos[5]]).plot.box())"
   ]
  },
  {
   "cell_type": "code",
   "execution_count": 44,
   "metadata": {},
   "outputs": [
    {
     "name": "stdout",
     "output_type": "stream",
     "text": [
      "AxesSubplot(0.125,0.125;0.775x0.755)\n"
     ]
    },
    {
     "data": {
      "image/png": "[encoded data removed]",
      "text/plain": [
       "<Figure size 432x288 with 1 Axes>"
      ]
     },
     "metadata": {
      "needs_background": "light"
     },
     "output_type": "display_data"
    }
   ],
   "source": [
    "print((treino[numericos[6]]).plot.box())"
   ]
  },
  {
   "cell_type": "code",
   "execution_count": 45,
   "metadata": {},
   "outputs": [
    {
     "name": "stdout",
     "output_type": "stream",
     "text": [
      "AxesSubplot(0.125,0.125;0.775x0.755)\n"
     ]
    },
    {
     "data": {
      "image/png": "[encoded data removed]",
      "text/plain": [
       "<Figure size 432x288 with 1 Axes>"
      ]
     },
     "metadata": {
      "needs_background": "light"
     },
     "output_type": "display_data"
    }
   ],
   "source": [
    "print((treino[numericos[7]]).plot.box())"
   ]
  },
  {
   "cell_type": "code",
   "execution_count": 46,
   "metadata": {},
   "outputs": [
    {
     "name": "stdout",
     "output_type": "stream",
     "text": [
      "AxesSubplot(0.125,0.125;0.775x0.755)\n"
     ]
    },
    {
     "data": {
      "image/png": "[encoded data removed]",
      "text/plain": [
       "<Figure size 432x288 with 1 Axes>"
      ]
     },
     "metadata": {
      "needs_background": "light"
     },
     "output_type": "display_data"
    }
   ],
   "source": [
    "print((treino[numericos[8]]).plot.box())"
   ]
  },
  {
   "cell_type": "code",
   "execution_count": 47,
   "metadata": {},
   "outputs": [
    {
     "name": "stdout",
     "output_type": "stream",
     "text": [
      "AxesSubplot(0.125,0.125;0.775x0.755)\n"
     ]
    },
    {
     "data": {
      "image/png": "[encoded data removed]",
      "text/plain": [
       "<Figure size 432x288 with 1 Axes>"
      ]
     },
     "metadata": {
      "needs_background": "light"
     },
     "output_type": "display_data"
    }
   ],
   "source": [
    "print((treino[numericos[9]]).plot.box())"
   ]
  },
  {
   "cell_type": "markdown",
   "metadata": {},
   "source": [
    "### Tratar NAs das variáveis numéricas/continuas\n",
    "\n",
    "Se a variavel tem outliers substituir por mediana. Caso contrário substituir pela média."
   ]
  },
  {
   "cell_type": "code",
   "execution_count": 48,
   "metadata": {},
   "outputs": [
    {
     "data": {
      "text/plain": [
       "0"
      ]
     },
     "execution_count": 48,
     "metadata": {},
     "output_type": "execute_result"
    }
   ],
   "source": [
    "subNum = treino[numericos].median()\n",
    "subNum['Census_InternalBatteryNumberOfCharges'] = treino['Census_InternalBatteryNumberOfCharges'].mean()\n",
    "subNum['AVProductsInstalled'] = treino['AVProductsInstalled'].mean()\n",
    "subNum['AVProductsEnabled'] = treino['AVProductsEnabled'].mean()\n",
    "q1 = treino[numericos].quantile(0.25)\n",
    "q3 = treino[numericos].quantile(0.75) \n",
    "divisao = q3 - q1\n",
    "divisao['Census_InternalBatteryNumberOfCharges'] = treino['Census_InternalBatteryNumberOfCharges'].std()\n",
    "divisao['AVProductsInstalled'] = treino['AVProductsInstalled'].std()\n",
    "divisao['AVProductsEnabled'] = treino['AVProductsEnabled'].std()\n",
    "for coluna in numericos:\n",
    "    if(ms[coluna].isna().sum() > 0):\n",
    "        ms[coluna].fillna(subNum[coluna],inplace=True)\n",
    "ms[numericos].isna().sum().sum()"
   ]
  },
  {
   "cell_type": "code",
   "execution_count": 49,
   "metadata": {
    "scrolled": true
   },
   "outputs": [
    {
     "data": {
      "text/plain": [
       "889734"
      ]
     },
     "execution_count": 49,
     "metadata": {},
     "output_type": "execute_result"
    }
   ],
   "source": [
    "ms.isna().sum().sum()"
   ]
  },
  {
   "cell_type": "markdown",
   "metadata": {},
   "source": [
    "## Standardização dos dados numéricos"
   ]
  },
  {
   "cell_type": "code",
   "execution_count": 50,
   "metadata": {},
   "outputs": [
    {
     "data": {
      "text/plain": [
       "AVProductsInstalled                                  5.219001e-01\n",
       "AVProductsEnabled                                    1.669732e-01\n",
       "Census_ProcessorCoreCount                            2.000000e+00\n",
       "Census_PrimaryDiskTotalCapacity                      7.144970e+05\n",
       "Census_SystemVolumeTotalCapacity                     3.551630e+05\n",
       "Census_TotalPhysicalRAM                              4.096000e+03\n",
       "Census_InternalPrimaryDiagonalDisplaySizeInInches    3.300000e+00\n",
       "Census_InternalPrimaryDisplayResolutionHorizontal    5.540000e+02\n",
       "Census_InternalPrimaryDisplayResolutionVertical      3.120000e+02\n",
       "Census_InternalBatteryNumberOfCharges                1.888571e+09\n",
       "dtype: float64"
      ]
     },
     "execution_count": 50,
     "metadata": {},
     "output_type": "execute_result"
    }
   ],
   "source": [
    "divisao"
   ]
  },
  {
   "cell_type": "code",
   "execution_count": 51,
   "metadata": {
    "scrolled": false
   },
   "outputs": [
    {
     "data": {
      "text/html": [
       "<div>\n",
       "<style scoped>\n",
       "    .dataframe tbody tr th:only-of-type {\n",
       "        vertical-align: middle;\n",
       "    }\n",
       "\n",
       "    .dataframe tbody tr th {\n",
       "        vertical-align: top;\n",
       "    }\n",
       "\n",
       "    .dataframe thead th {\n",
       "        text-align: right;\n",
       "    }\n",
       "</style>\n",
       "<table border=\"1\" class=\"dataframe\">\n",
       "  <thead>\n",
       "    <tr style=\"text-align: right;\">\n",
       "      <th></th>\n",
       "      <th>AVProductsInstalled</th>\n",
       "      <th>AVProductsEnabled</th>\n",
       "      <th>Census_ProcessorCoreCount</th>\n",
       "      <th>Census_PrimaryDiskTotalCapacity</th>\n",
       "      <th>Census_SystemVolumeTotalCapacity</th>\n",
       "      <th>Census_TotalPhysicalRAM</th>\n",
       "      <th>Census_InternalPrimaryDiagonalDisplaySizeInInches</th>\n",
       "      <th>Census_InternalPrimaryDisplayResolutionHorizontal</th>\n",
       "      <th>Census_InternalPrimaryDisplayResolutionVertical</th>\n",
       "      <th>Census_InternalBatteryNumberOfCharges</th>\n",
       "    </tr>\n",
       "  </thead>\n",
       "  <tbody>\n",
       "    <tr>\n",
       "      <th>count</th>\n",
       "      <td>5.500000e+05</td>\n",
       "      <td>5.500000e+05</td>\n",
       "      <td>550000.000000</td>\n",
       "      <td>550000.000000</td>\n",
       "      <td>550000.000000</td>\n",
       "      <td>550000.000000</td>\n",
       "      <td>550000.000000</td>\n",
       "      <td>550000.000000</td>\n",
       "      <td>550000.000000</td>\n",
       "      <td>5.500000e+05</td>\n",
       "    </tr>\n",
       "    <tr>\n",
       "      <th>mean</th>\n",
       "      <td>7.996836e-18</td>\n",
       "      <td>-3.569379e-16</td>\n",
       "      <td>-0.003455</td>\n",
       "      <td>0.050665</td>\n",
       "      <td>0.358966</td>\n",
       "      <td>0.490818</td>\n",
       "      <td>0.356297</td>\n",
       "      <td>0.327395</td>\n",
       "      <td>0.414398</td>\n",
       "      <td>-7.000784e-17</td>\n",
       "    </tr>\n",
       "    <tr>\n",
       "      <th>std</th>\n",
       "      <td>9.979953e-01</td>\n",
       "      <td>9.979953e-01</td>\n",
       "      <td>1.038988</td>\n",
       "      <td>0.522501</td>\n",
       "      <td>0.911342</td>\n",
       "      <td>1.273850</td>\n",
       "      <td>1.785637</td>\n",
       "      <td>0.665927</td>\n",
       "      <td>0.689072</td>\n",
       "      <td>9.846947e-01</td>\n",
       "    </tr>\n",
       "    <tr>\n",
       "      <th>min</th>\n",
       "      <td>-2.540318e+00</td>\n",
       "      <td>-6.113137e+00</td>\n",
       "      <td>-1.500000</td>\n",
       "      <td>-0.667519</td>\n",
       "      <td>-0.702917</td>\n",
       "      <td>-0.875000</td>\n",
       "      <td>-3.212121</td>\n",
       "      <td>-2.467509</td>\n",
       "      <td>-2.464744</td>\n",
       "      <td>-5.958131e-01</td>\n",
       "    </tr>\n",
       "    <tr>\n",
       "      <th>25%</th>\n",
       "      <td>-6.242425e-01</td>\n",
       "      <td>-1.241535e-01</td>\n",
       "      <td>-1.000000</td>\n",
       "      <td>-0.329289</td>\n",
       "      <td>-0.362715</td>\n",
       "      <td>0.000000</td>\n",
       "      <td>-0.484848</td>\n",
       "      <td>0.000000</td>\n",
       "      <td>0.000000</td>\n",
       "      <td>-5.958131e-01</td>\n",
       "    </tr>\n",
       "    <tr>\n",
       "      <th>50%</th>\n",
       "      <td>-6.242425e-01</td>\n",
       "      <td>-1.241535e-01</td>\n",
       "      <td>0.000000</td>\n",
       "      <td>0.000000</td>\n",
       "      <td>0.000000</td>\n",
       "      <td>0.000000</td>\n",
       "      <td>0.000000</td>\n",
       "      <td>0.000000</td>\n",
       "      <td>0.000000</td>\n",
       "      <td>-5.958131e-01</td>\n",
       "    </tr>\n",
       "    <tr>\n",
       "      <th>75%</th>\n",
       "      <td>1.291833e+00</td>\n",
       "      <td>-1.241535e-01</td>\n",
       "      <td>0.000000</td>\n",
       "      <td>0.667503</td>\n",
       "      <td>0.637220</td>\n",
       "      <td>1.000000</td>\n",
       "      <td>0.515152</td>\n",
       "      <td>1.000000</td>\n",
       "      <td>1.000000</td>\n",
       "      <td>1.678376e+00</td>\n",
       "    </tr>\n",
       "    <tr>\n",
       "      <th>max</th>\n",
       "      <td>8.956135e+00</td>\n",
       "      <td>1.784280e+01</td>\n",
       "      <td>42.000000</td>\n",
       "      <td>95.446285</td>\n",
       "      <td>31.517393</td>\n",
       "      <td>223.000000</td>\n",
       "      <td>38.333333</td>\n",
       "      <td>18.328520</td>\n",
       "      <td>11.384615</td>\n",
       "      <td>1.678376e+00</td>\n",
       "    </tr>\n",
       "  </tbody>\n",
       "</table>\n",
       "</div>"
      ],
      "text/plain": [
       "       AVProductsInstalled  AVProductsEnabled  Census_ProcessorCoreCount  \\\n",
       "count         5.500000e+05       5.500000e+05              550000.000000   \n",
       "mean          7.996836e-18      -3.569379e-16                  -0.003455   \n",
       "std           9.979953e-01       9.979953e-01                   1.038988   \n",
       "min          -2.540318e+00      -6.113137e+00                  -1.500000   \n",
       "25%          -6.242425e-01      -1.241535e-01                  -1.000000   \n",
       "50%          -6.242425e-01      -1.241535e-01                   0.000000   \n",
       "75%           1.291833e+00      -1.241535e-01                   0.000000   \n",
       "max           8.956135e+00       1.784280e+01                  42.000000   \n",
       "\n",
       "       Census_PrimaryDiskTotalCapacity  Census_SystemVolumeTotalCapacity  \\\n",
       "count                    550000.000000                     550000.000000   \n",
       "mean                          0.050665                          0.358966   \n",
       "std                           0.522501                          0.911342   \n",
       "min                          -0.667519                         -0.702917   \n",
       "25%                          -0.329289                         -0.362715   \n",
       "50%                           0.000000                          0.000000   \n",
       "75%                           0.667503                          0.637220   \n",
       "max                          95.446285                         31.517393   \n",
       "\n",
       "       Census_TotalPhysicalRAM  \\\n",
       "count            550000.000000   \n",
       "mean                  0.490818   \n",
       "std                   1.273850   \n",
       "min                  -0.875000   \n",
       "25%                   0.000000   \n",
       "50%                   0.000000   \n",
       "75%                   1.000000   \n",
       "max                 223.000000   \n",
       "\n",
       "       Census_InternalPrimaryDiagonalDisplaySizeInInches  \\\n",
       "count                                      550000.000000   \n",
       "mean                                            0.356297   \n",
       "std                                             1.785637   \n",
       "min                                            -3.212121   \n",
       "25%                                            -0.484848   \n",
       "50%                                             0.000000   \n",
       "75%                                             0.515152   \n",
       "max                                            38.333333   \n",
       "\n",
       "       Census_InternalPrimaryDisplayResolutionHorizontal  \\\n",
       "count                                      550000.000000   \n",
       "mean                                            0.327395   \n",
       "std                                             0.665927   \n",
       "min                                            -2.467509   \n",
       "25%                                             0.000000   \n",
       "50%                                             0.000000   \n",
       "75%                                             1.000000   \n",
       "max                                            18.328520   \n",
       "\n",
       "       Census_InternalPrimaryDisplayResolutionVertical  \\\n",
       "count                                    550000.000000   \n",
       "mean                                          0.414398   \n",
       "std                                           0.689072   \n",
       "min                                          -2.464744   \n",
       "25%                                           0.000000   \n",
       "50%                                           0.000000   \n",
       "75%                                           1.000000   \n",
       "max                                          11.384615   \n",
       "\n",
       "       Census_InternalBatteryNumberOfCharges  \n",
       "count                           5.500000e+05  \n",
       "mean                           -7.000784e-17  \n",
       "std                             9.846947e-01  \n",
       "min                            -5.958131e-01  \n",
       "25%                            -5.958131e-01  \n",
       "50%                            -5.958131e-01  \n",
       "75%                             1.678376e+00  \n",
       "max                             1.678376e+00  "
      ]
     },
     "execution_count": 51,
     "metadata": {},
     "output_type": "execute_result"
    }
   ],
   "source": [
    "treinoStd = ( treino[numericos] - subNum ) / divisao\n",
    "treinoStd.describe()"
   ]
  },
  {
   "cell_type": "markdown",
   "metadata": {},
   "source": [
    "### Realizar one-hot encoding"
   ]
  },
  {
   "cell_type": "code",
   "execution_count": 52,
   "metadata": {},
   "outputs": [],
   "source": [
    "import gc\n",
    "def oneHotEncoding(serie):\n",
    "    colunas = serie.unique()\n",
    "    dic = {}\n",
    "    for coluna in colunas:\n",
    "        dic[serie.name + '_' + str(coluna)] = []\n",
    "    for i in serie:\n",
    "        dic[serie.name + '_' + str(i)].append(1)\n",
    "        for j in colunas:\n",
    "            if j != i:\n",
    "                dic[serie.name + '_' + str(j)].append(0)\n",
    "    r = pd.DataFrame(dic)\n",
    "    del dic\n",
    "    gc.collect()\n",
    "    return r"
   ]
  },
  {
   "cell_type": "code",
   "execution_count": 53,
   "metadata": {},
   "outputs": [
    {
     "name": "stdout",
     "output_type": "stream",
     "text": [
      "['ProductName', 'AppVersion', 'Platform', 'Processor', 'OsSuite', 'OsPlatformSubRelease', 'SkuEdition', 'Census_MDC2FormFactor', 'Census_DeviceFamily', 'Census_OSArchitecture', 'Census_OSBranch', 'Census_OSInstallTypeName', 'Census_OSWUAutoUpdateOptionsName', 'Census_GenuineStateName', 'Census_ActivationChannel', 'Census_FlightRing']\n"
     ]
    },
    {
     "data": {
      "text/plain": [
       "120"
      ]
     },
     "execution_count": 53,
     "metadata": {},
     "output_type": "execute_result"
    }
   ],
   "source": [
    "encode = [i for i in tratar if len(ms[i].unique()) > 2 and len(ms[i].unique()) <= 20]\n",
    "print(encode)\n",
    "ms[encode].nunique().sum()\n",
    "# for var in categoricos:\n",
    "#     if len(ms[var].unique()) < 3:\n",
    "#         aux = oneHotEncoding(ms[var])\n",
    "#         aux.to_csv('./encoding/' + var +'-1hot.csv', sep='\\t', encoding='utf-8')"
   ]
  }
 ],
 "metadata": {
  "kernelspec": {
   "display_name": "Python 3",
   "language": "python",
   "name": "python3"
  },
  "language_info": {
   "codemirror_mode": {
    "name": "ipython",
    "version": 3
   },
   "file_extension": ".py",
   "mimetype": "text/x-python",
   "name": "python",
   "nbconvert_exporter": "python",
   "pygments_lexer": "ipython3",
   "version": "3.6.7"
  }
 },
 "nbformat": 4,
 "nbformat_minor": 2
}
