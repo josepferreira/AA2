{
 "cells": [
  {
   "cell_type": "code",
   "execution_count": 1,
   "metadata": {},
   "outputs": [],
   "source": [
    "import pandas as pd"
   ]
  },
  {
   "cell_type": "code",
   "execution_count": 2,
   "metadata": {},
   "outputs": [],
   "source": [
    "ms = pd.read_csv('../../sample_train.csv', low_memory=False)"
   ]
  },
  {
   "cell_type": "markdown",
   "metadata": {},
   "source": [
    "## Fazer breve desrição do dataset\n",
    "## Explicar que foi impossível conseguir carregar o dataset e por isso decidimos sleecionar apenas 600k linhas"
   ]
  },
  {
   "cell_type": "markdown",
   "metadata": {},
   "source": [
    "## Falar da estratégia que usamos para explorar os dados\n",
    "\n",
    "### Vimos para cada coluna o número de valores nulos e caso fosse muito alto eliminamos\n",
    "### Vimos para cada coluna o número de diferentes atributos e caso fosse demasiado alto eliminamos\n",
    "### Vimos para cada coluna os valores diferentes dos atributos para verificar se era possível serem agrupados\n",
    "### Vimos para cada coluna que continha NAs a percentagem de cada atributo para verificar se alteravamos pelo valor modal ou era necessário prever\n",
    "### Vimos os outliers nas numéricoas para verificar se deviamos alterar pela média ou mediana e o mesmo para a standardização\n",
    "\n",
    "#### Apenas referir detalhadamente os casos relevantes\n",
    "    - ou seja aqueles em que existiam NAs, ou muitos ateributos e n davam para agrupar, os que davam para agrupar e os q era necessário pever\n",
    "    - para além disso falar daquele do peixoto q eliminamos por ser parecido a ouro e o do carlos OS_BUILDQQCOISA por ter valores que os outros estavam contidos nele"
   ]
  },
  {
   "cell_type": "markdown",
   "metadata": {},
   "source": [
    "## Exploração inicial\n",
    "Inicialmente realizmos uma exploração dos dados para verificar as variáveis do conjunto de dados. Primeiro verificamos quantas linhas completas existiam no *dataset* e concluímos que não existia nenhuma. De seguida, e com o auxílio da descrição das variáveis, verificamos quais variáveis são quantitativas e quais são qualitativas. Chegamos à conclusão que existem apenas 10 variáveis quantitativas, o que mostrou ser um pequeno problema visto que a maior parte dos modelos apenas trabalha com valores numéricos, ou seja, era necessário tratar os dados.\n",
    "\n",
    "#### Variáveis qualitativas\n",
    "Para cada coluna qualitativa do dataset verificamos as seguintes informações:\n",
    "    - número de valores nulos\n",
    "    - número total de valores diferentes\n",
    "Após esta análise decidimos eliminar todas as variáveis que continham um número elevado de valores nulos, visto que consideramos que tratar essas variáveis pode ser um erro pelo facto de a informação referente às mesmas ser praticamente nula. Consideramos então que colunas com mais de 95% de NAs seriam intratáveis pelo que optamos por eliminar essas colunas.\n",
    "\n",
    "De seguida verificamos o número total de valores diferentes para cada coluna. Isto demonstra ser importante visto que caso uma variável categórica apresente muitos valores não agrupáveis, além de não ser muito útil para efetuar previsões, dificulta a plicação de métodos tradicionais de *machine learning* dado que após efetuar *One-Hot-Encoding*, esta variável iria gerar demasiadas colunas. Por esta razão decidimos eliminar todas as colunas com muitos valores distintos não agrupáveis. Verificamos que existiam bastantes colunas com um número elevado de valores, pelo que decidimos verificar quais os diferentes valores para cada uma das colunas, visto que alguns valores podiam ser agrupados. Por exemplo:\n",
    "    - caso o identificador de cidade contivesse o nome da cidade este podia ser substituído pelas coordenadas geográficas, em vez de simplesmente ser eliminado. Isto não se verificou pois o identificador era apenas um inteiro.\n",
    "    - em certos casos existiam colunas do tipo X.Y.Z.W que podiam ser agrupadas\n",
    "    - ainda noutros casos existiam valores que eram diferentes mas referem o mesmo (por exemplo: On e ON)\n",
    "Basicamente tentamos tratar os dados, agrupando alguns valores e limpando outros também.\n",
    "Chegamos à conclusão que a maior parte dos identificadores presentes no *dataset* seriam eliminados pelo facto de serem inteiros e não ser possível agrupá-los, pelo que os que continham muitos valores (que definimos como sendo acima de 100 valores diferentes) foram todos eliminados.\n",
    "Eliminamos também atributos que apenas continham 1 valor diferente pelo facto de não acrescentarem nada de novo.\n",
    "\n",
    "Relativamente às colunas que apresentam NAs, é necessário substituí-los. Para isso, verificamos a frequência de cada valor da coluna e caso esta seja superior a 94%, substituímos os NAs pelo valor modal. Caso contrário, prevemos o valor dos NAs.\n",
    "\n",
    "#### Variáveis quantitativas\n",
    "O tratamento das variáveis quantitativas foi bastante mais simples, visto que apenas verificamos a existência de *outliers*. Isto é importante pois deve-se substituir os NAs:\n",
    "    - pela média, se não exisitirem *outliers*;\n",
    "    - pela mediana, caso existam *outliers*.\n",
    "E ainda pelo facto de que a *standardização* deve ser realizada com a seguinte equação:\n",
    "    - (x - média ) / desvio-padrão, caso não existam *outliers*\n",
    "    - (x - mediana ) / intervalo entre quartis, caso existam\n",
    "De referir que neste tratamento dos dados para calcular a média, mediana e os restantes valores não usamos os dados de teste e depois aplicamos a equção e substituição a todo o *dataset*.\n",
    "\n",
    "# FALAR DAS CORRS?"
   ]
  },
  {
   "cell_type": "markdown",
   "metadata": {},
   "source": [
    "### Variáveis eliminadas por apenas conterem 1 valor distinto\n",
    "\n",
    "Eliminamos estas variáveis porque uma variável que apenas contém um valor distinto não acrescenta qualquer informação ao conjunto de dados."
   ]
  },
  {
   "cell_type": "code",
   "execution_count": 3,
   "metadata": {},
   "outputs": [
    {
     "data": {
      "text/plain": [
       "PuaMode                       1\n",
       "Census_IsFlightingInternal    1\n",
       "Census_IsWIMBootEnabled       1\n",
       "dtype: int64"
      ]
     },
     "execution_count": 3,
     "metadata": {},
     "output_type": "execute_result"
    }
   ],
   "source": [
    "ms.nunique()[ms.nunique() == 1]"
   ]
  },
  {
   "cell_type": "markdown",
   "metadata": {},
   "source": [
    "### Variáveis eliminados por excesso de NAs\n",
    "Consideramos este número de valores nulos demasiado elevado para realizarmos qualquer presunção acerca dos dados.\n",
    "Para além disso não temos qualquer noção de algum valor de referência em qualquer variável."
   ]
  },
  {
   "cell_type": "code",
   "execution_count": 4,
   "metadata": {},
   "outputs": [
    {
     "data": {
      "text/plain": [
       "PuaMode                      0.999772\n",
       "DefaultBrowsersIdentifier    0.951490\n",
       "Census_ProcessorClass        0.995868\n",
       "dtype: float64"
      ]
     },
     "execution_count": 4,
     "metadata": {},
     "output_type": "execute_result"
    }
   ],
   "source": [
    "ms[['PuaMode','DefaultBrowsersIdentifier','Census_ProcessorClass']].isna().sum() / ms.shape[0]"
   ]
  },
  {
   "cell_type": "markdown",
   "metadata": {},
   "source": [
    "### Variáveis eliminadas por excesso de valores\n",
    "\n",
    "Eliminamos estas variáveis à partida porque contêm um número demasiado elevado de valores distintos (acima de 1000) onde não é possível agrupar os valores.\n",
    "Como os métodos de *machine learning* tradicional não conseguem tratabalhar eficientemente com tantos valores de *input* como os de *deep learning* tivemos de limitar um pouco esses valores. Caso mantivessemos todas as variáveis ficavamos com um número de *inputs* na ordem das centenas de milhares."
   ]
  },
  {
   "cell_type": "code",
   "execution_count": 5,
   "metadata": {},
   "outputs": [
    {
     "data": {
      "text/plain": [
       "CityIdentifier                      40323\n",
       "AVProductStatesIdentifier            6100\n",
       "Census_OEMNameIdentifier             1664\n",
       "Census_OEMModelIdentifier           45094\n",
       "Census_ProcessorModelIdentifier      2331\n",
       "Census_FirmwareVersionIdentifier    25074\n",
       "dtype: int64"
      ]
     },
     "execution_count": 5,
     "metadata": {},
     "output_type": "execute_result"
    }
   ],
   "source": [
    "ms[['CityIdentifier',\n",
    "'AVProductStatesIdentifier',\n",
    "'Census_OEMNameIdentifier',\n",
    "'Census_OEMModelIdentifier',\n",
    "'Census_ProcessorModelIdentifier',\n",
    "'Census_FirmwareVersionIdentifier']].nunique()"
   ]
  },
  {
   "cell_type": "markdown",
   "metadata": {},
   "source": [
    "### Variáveis em risco de serem eliminadas por um excesso de atributos"
   ]
  },
  {
   "cell_type": "code",
   "execution_count": 6,
   "metadata": {},
   "outputs": [
    {
     "data": {
      "text/plain": [
       "CountryIdentifier                        222\n",
       "IeVerIdentifier                          189\n",
       "Census_OSBuildNumber                      64\n",
       "Census_OSBuildRevision                   239\n",
       "Census_OSUILocaleIdentifier               94\n",
       "GeoNameIdentifier                        266\n",
       "LocaleEnglishNameIdentifier              241\n",
       "Census_FirmwareManufacturerIdentifier    314\n",
       "OsBuildLab                               472\n",
       "dtype: int64"
      ]
     },
     "execution_count": 6,
     "metadata": {},
     "output_type": "execute_result"
    }
   ],
   "source": [
    "risco = ['CountryIdentifier','IeVerIdentifier',\n",
    "    'Census_OSBuildNumber','Census_OSBuildRevision',\n",
    "    'Census_OSUILocaleIdentifier','GeoNameIdentifier',\n",
    "   'LocaleEnglishNameIdentifier','Census_FirmwareManufacturerIdentifier',\n",
    "        'OsBuildLab']\n",
    "ms[risco].nunique()"
   ]
  },
  {
   "cell_type": "code",
   "execution_count": 7,
   "metadata": {},
   "outputs": [
    {
     "name": "stdout",
     "output_type": "stream",
     "text": [
      "43     4.406000\n",
      "29     3.891667\n",
      "141    3.707500\n",
      "93     3.178000\n",
      "171    3.162333\n",
      "60     2.604500\n",
      "201    2.482000\n",
      "207    2.395500\n",
      "66     2.315500\n",
      "89     2.275167\n",
      "97     2.188167\n",
      "214    2.156333\n",
      "158    2.068167\n",
      "44     2.050667\n",
      "9      1.955167\n",
      "107    1.865167\n",
      "203    1.807500\n",
      "51     1.797833\n",
      "41     1.784333\n",
      "68     1.779500\n",
      "35     1.555000\n",
      "160    1.489500\n",
      "195    1.483333\n",
      "142    1.470667\n",
      "149    1.456333\n",
      "205    1.330333\n",
      "155    1.237833\n",
      "164    1.205500\n",
      "173    1.081000\n",
      "159    1.027000\n",
      "         ...   \n",
      "182    0.008667\n",
      "74     0.008333\n",
      "5      0.007833\n",
      "198    0.007833\n",
      "215    0.007667\n",
      "28     0.007333\n",
      "197    0.007333\n",
      "123    0.007000\n",
      "75     0.007000\n",
      "196    0.006833\n",
      "192    0.006167\n",
      "126    0.006167\n",
      "114    0.006167\n",
      "105    0.006000\n",
      "14     0.006000\n",
      "64     0.005333\n",
      "79     0.004833\n",
      "187    0.004500\n",
      "174    0.004500\n",
      "200    0.004167\n",
      "10     0.004000\n",
      "212    0.003833\n",
      "216    0.003500\n",
      "128    0.003167\n",
      "193    0.002667\n",
      "217    0.002500\n",
      "161    0.002500\n",
      "186    0.002500\n",
      "165    0.002333\n",
      "37     0.001667\n",
      "Name: CountryIdentifier, Length: 222, dtype: float64\n",
      "137.0    43.769033\n",
      "117.0    19.927351\n",
      "108.0     5.382750\n",
      "111.0     5.288793\n",
      "98.0      4.005268\n",
      "135.0     2.467220\n",
      "53.0      2.310177\n",
      "74.0      2.284506\n",
      "105.0     1.981158\n",
      "94.0      1.969749\n",
      "333.0     1.779318\n",
      "107.0     1.454829\n",
      "103.0     1.273793\n",
      "96.0      0.930681\n",
      "76.0      0.645454\n",
      "71.0      0.488075\n",
      "114.0     0.381534\n",
      "323.0     0.379185\n",
      "41.0      0.364253\n",
      "335.0     0.272141\n",
      "334.0     0.271134\n",
      "87.0      0.194794\n",
      "81.0      0.158889\n",
      "78.0      0.136909\n",
      "82.0      0.123487\n",
      "73.0      0.120131\n",
      "337.0     0.118118\n",
      "42.0      0.103856\n",
      "302.0     0.086407\n",
      "85.0      0.071642\n",
      "           ...    \n",
      "211.0     0.000336\n",
      "109.0     0.000168\n",
      "146.0     0.000168\n",
      "293.0     0.000168\n",
      "9.0       0.000168\n",
      "428.0     0.000168\n",
      "281.0     0.000168\n",
      "21.0      0.000168\n",
      "150.0     0.000168\n",
      "358.0     0.000168\n",
      "14.0      0.000168\n",
      "279.0     0.000168\n",
      "369.0     0.000168\n",
      "89.0      0.000168\n",
      "378.0     0.000168\n",
      "381.0     0.000168\n",
      "382.0     0.000168\n",
      "376.0     0.000168\n",
      "350.0     0.000168\n",
      "390.0     0.000168\n",
      "395.0     0.000168\n",
      "177.0     0.000168\n",
      "345.0     0.000168\n",
      "56.0      0.000168\n",
      "277.0     0.000168\n",
      "278.0     0.000168\n",
      "427.0     0.000168\n",
      "202.0     0.000168\n",
      "11.0      0.000168\n",
      "291.0     0.000168\n",
      "Name: IeVerIdentifier, Length: 189, dtype: float64\n",
      "17134    44.886833\n",
      "16299    27.375667\n",
      "15063     8.996000\n",
      "14393     8.779667\n",
      "10586     6.686667\n",
      "10240     3.030000\n",
      "17692     0.036000\n",
      "17738     0.033500\n",
      "17744     0.026333\n",
      "17758     0.022000\n",
      "17746     0.014667\n",
      "17754     0.013000\n",
      "17735     0.010833\n",
      "17751     0.010667\n",
      "17763     0.009500\n",
      "17741     0.009000\n",
      "17755     0.007667\n",
      "17760     0.006667\n",
      "17686     0.005667\n",
      "17733     0.005333\n",
      "17672     0.004667\n",
      "17133     0.003000\n",
      "17682     0.002833\n",
      "17677     0.002667\n",
      "18234     0.002500\n",
      "17666     0.002167\n",
      "18237     0.001667\n",
      "17661     0.001667\n",
      "18242     0.001500\n",
      "17639     0.001500\n",
      "           ...    \n",
      "17730     0.000500\n",
      "17618     0.000500\n",
      "14390     0.000333\n",
      "14971     0.000333\n",
      "17627     0.000333\n",
      "9600      0.000333\n",
      "17634     0.000333\n",
      "17713     0.000333\n",
      "17761     0.000167\n",
      "17711     0.000167\n",
      "7601      0.000167\n",
      "14915     0.000167\n",
      "14421     0.000167\n",
      "14931     0.000167\n",
      "14936     0.000167\n",
      "14951     0.000167\n",
      "14946     0.000167\n",
      "10565     0.000167\n",
      "14466     0.000167\n",
      "17025     0.000167\n",
      "14474     0.000167\n",
      "14986     0.000167\n",
      "17074     0.000167\n",
      "15055     0.000167\n",
      "15048     0.000167\n",
      "16193     0.000167\n",
      "17115     0.000167\n",
      "14295     0.000167\n",
      "17655     0.000167\n",
      "14332     0.000167\n",
      "Name: Census_OSBuildNumber, Length: 64, dtype: float64\n",
      "228      15.843167\n",
      "165      10.061667\n",
      "431       6.109833\n",
      "285       5.249000\n",
      "547       3.882833\n",
      "112       3.859667\n",
      "371       3.697167\n",
      "191       2.585667\n",
      "2189      2.504000\n",
      "611       2.411333\n",
      "125       2.394833\n",
      "17443     2.314500\n",
      "1176      2.033000\n",
      "0         1.888833\n",
      "492       1.874167\n",
      "309       1.711667\n",
      "286       1.539833\n",
      "15        1.318167\n",
      "254       1.242500\n",
      "1         1.211667\n",
      "1266      1.149000\n",
      "1206      1.134167\n",
      "192       1.104667\n",
      "167       0.975500\n",
      "248       0.858833\n",
      "137       0.857833\n",
      "48        0.739167\n",
      "1088      0.705333\n",
      "81        0.630167\n",
      "693       0.587833\n",
      "           ...    \n",
      "79        0.000667\n",
      "594       0.000667\n",
      "456       0.000667\n",
      "448       0.000667\n",
      "16566     0.000667\n",
      "17673     0.000500\n",
      "1002      0.000500\n",
      "16387     0.000500\n",
      "1230      0.000500\n",
      "242       0.000500\n",
      "17488     0.000333\n",
      "103       0.000333\n",
      "16389     0.000333\n",
      "491       0.000333\n",
      "19102     0.000333\n",
      "16500     0.000167\n",
      "16394     0.000167\n",
      "1005      0.000167\n",
      "1540      0.000167\n",
      "17533     0.000167\n",
      "1417      0.000167\n",
      "639       0.000167\n",
      "1797      0.000167\n",
      "16732     0.000167\n",
      "17609     0.000167\n",
      "842       0.000167\n",
      "201       0.000167\n",
      "17643     0.000167\n",
      "1613      0.000167\n",
      "41736     0.000167\n",
      "Name: Census_OSBuildRevision, Length: 239, dtype: float64\n",
      "31     35.587833\n",
      "34     11.698833\n",
      "30      5.744333\n",
      "125     5.612167\n",
      "49      4.836333\n",
      "158     4.537333\n",
      "35      4.194167\n",
      "119     3.776000\n",
      "26      2.848500\n",
      "148     2.331000\n",
      "160     2.291167\n",
      "72      2.155667\n",
      "83      1.876000\n",
      "109     1.605333\n",
      "115     1.488667\n",
      "120     1.209000\n",
      "5       0.950167\n",
      "64      0.936167\n",
      "74      0.934167\n",
      "20      0.815333\n",
      "28      0.581500\n",
      "140     0.544000\n",
      "58      0.473833\n",
      "24      0.400000\n",
      "128     0.367333\n",
      "105     0.340000\n",
      "130     0.250500\n",
      "44      0.230667\n",
      "11      0.208000\n",
      "62      0.179333\n",
      "         ...    \n",
      "39      0.000667\n",
      "152     0.000500\n",
      "139     0.000500\n",
      "121     0.000500\n",
      "7       0.000500\n",
      "110     0.000500\n",
      "122     0.000500\n",
      "21      0.000333\n",
      "124     0.000333\n",
      "8       0.000333\n",
      "129     0.000333\n",
      "19      0.000333\n",
      "76      0.000333\n",
      "60      0.000333\n",
      "80      0.000333\n",
      "89      0.000167\n",
      "6       0.000167\n",
      "69      0.000167\n",
      "81      0.000167\n",
      "138     0.000167\n",
      "84      0.000167\n",
      "102     0.000167\n",
      "33      0.000167\n",
      "95      0.000167\n",
      "41      0.000167\n",
      "98      0.000167\n",
      "25      0.000167\n",
      "99      0.000167\n",
      "132     0.000167\n",
      "50      0.000167\n",
      "Name: Census_OSUILocaleIdentifier, Length: 94, dtype: float64\n",
      "277.0    17.184596\n",
      "211.0     4.754619\n",
      "53.0      4.541614\n",
      "89.0      3.980266\n",
      "240.0     3.893931\n",
      "35.0      3.866097\n",
      "167.0     3.777594\n",
      "276.0     3.333750\n",
      "267.0     2.431061\n",
      "126.0     2.227889\n",
      "98.0      2.078552\n",
      "119.0     2.028217\n",
      "138.0     1.905714\n",
      "255.0     1.852213\n",
      "57.0      1.746710\n",
      "10.0      1.623374\n",
      "52.0      1.561706\n",
      "204.0     1.543539\n",
      "120.0     1.462703\n",
      "181.0     1.432369\n",
      "205.0     1.276532\n",
      "45.0      1.275865\n",
      "202.0     1.253198\n",
      "224.0     1.166863\n",
      "157.0     1.123195\n",
      "201.0     1.032526\n",
      "117.0     0.991525\n",
      "258.0     0.960024\n",
      "129.0     0.939857\n",
      "15.0      0.858188\n",
      "           ...    \n",
      "214.0     0.001000\n",
      "238.0     0.001000\n",
      "203.0     0.001000\n",
      "182.0     0.001000\n",
      "190.0     0.001000\n",
      "113.0     0.000833\n",
      "220.0     0.000833\n",
      "216.0     0.000833\n",
      "128.0     0.000667\n",
      "137.0     0.000667\n",
      "213.0     0.000667\n",
      "161.0     0.000667\n",
      "245.0     0.000667\n",
      "56.0      0.000667\n",
      "296.0     0.000500\n",
      "93.0      0.000500\n",
      "47.0      0.000500\n",
      "272.0     0.000500\n",
      "34.0      0.000500\n",
      "84.0      0.000500\n",
      "42.0      0.000333\n",
      "292.0     0.000333\n",
      "95.0      0.000333\n",
      "36.0      0.000333\n",
      "61.0      0.000333\n",
      "231.0     0.000333\n",
      "37.0      0.000167\n",
      "139.0     0.000167\n",
      "215.0     0.000167\n",
      "13.0      0.000167\n",
      "Name: GeoNameIdentifier, Length: 266, dtype: float64\n",
      "75     23.524500\n",
      "182     5.064833\n",
      "74      4.615333\n",
      "42      4.546333\n",
      "88      4.147167\n",
      "171     3.843500\n",
      "233     3.830833\n",
      "227     3.720000\n",
      "251     2.388333\n",
      "124     2.192167\n",
      "103     2.038333\n",
      "134     1.900000\n",
      "64      1.858000\n",
      "46      1.848167\n",
      "218     1.732000\n",
      "214     1.566833\n",
      "217     1.543667\n",
      "170     1.537333\n",
      "56      1.344333\n",
      "172     1.264500\n",
      "70      1.183500\n",
      "68      1.025667\n",
      "231     1.018167\n",
      "60      1.011333\n",
      "115     0.971667\n",
      "126     0.932333\n",
      "16      0.907167\n",
      "58      0.894667\n",
      "51      0.817167\n",
      "72      0.780833\n",
      "         ...    \n",
      "174     0.000333\n",
      "176     0.000333\n",
      "119     0.000333\n",
      "180     0.000333\n",
      "54      0.000333\n",
      "117     0.000333\n",
      "183     0.000333\n",
      "112     0.000333\n",
      "110     0.000333\n",
      "109     0.000333\n",
      "248     0.000167\n",
      "282     0.000167\n",
      "252     0.000167\n",
      "249     0.000167\n",
      "195     0.000167\n",
      "247     0.000167\n",
      "151     0.000167\n",
      "152     0.000167\n",
      "244     0.000167\n",
      "192     0.000167\n",
      "166     0.000167\n",
      "24      0.000167\n",
      "27      0.000167\n",
      "177     0.000167\n",
      "213     0.000167\n",
      "206     0.000167\n",
      "186     0.000167\n",
      "40      0.000167\n",
      "47      0.000167\n",
      "188     0.000167\n",
      "Name: LocaleEnglishNameIdentifier, Length: 241, dtype: float64\n",
      "142.0     30.823661\n",
      "628.0     14.043120\n",
      "554.0     13.465602\n",
      "355.0     10.818758\n",
      "556.0      9.199766\n",
      "500.0      4.416004\n",
      "93.0       2.193615\n",
      "807.0      1.815640\n",
      "513.0      1.639082\n",
      "127.0      1.392036\n",
      "897.0      1.271153\n",
      "486.0      1.209519\n",
      "512.0      1.036025\n",
      "677.0      0.976434\n",
      "168.0      0.941361\n",
      "803.0      0.683930\n",
      "644.0      0.557427\n",
      "559.0      0.525419\n",
      "444.0      0.321619\n",
      "152.0      0.277862\n",
      "809.0      0.268668\n",
      "134.0      0.232744\n",
      "781.0      0.166173\n",
      "440.0      0.153744\n",
      "691.0      0.142847\n",
      "789.0      0.115946\n",
      "798.0      0.108285\n",
      "105.0      0.096026\n",
      "442.0      0.070487\n",
      "633.0      0.065039\n",
      "            ...    \n",
      "1026.0     0.000170\n",
      "800.0      0.000170\n",
      "281.0      0.000170\n",
      "157.0      0.000170\n",
      "528.0      0.000170\n",
      "325.0      0.000170\n",
      "670.0      0.000170\n",
      "79.0       0.000170\n",
      "676.0      0.000170\n",
      "313.0      0.000170\n",
      "678.0      0.000170\n",
      "312.0      0.000170\n",
      "291.0      0.000170\n",
      "693.0      0.000170\n",
      "290.0      0.000170\n",
      "1074.0     0.000170\n",
      "1028.0     0.000170\n",
      "719.0      0.000170\n",
      "721.0      0.000170\n",
      "1070.0     0.000170\n",
      "745.0      0.000170\n",
      "1058.0     0.000170\n",
      "753.0      0.000170\n",
      "756.0      0.000170\n",
      "66.0       0.000170\n",
      "1053.0     0.000170\n",
      "773.0      0.000170\n",
      "1052.0     0.000170\n",
      "1044.0     0.000170\n",
      "568.0      0.000170\n",
      "Name: Census_FirmwareManufacturerIdentifier, Length: 314, dtype: float64\n"
     ]
    },
    {
     "name": "stdout",
     "output_type": "stream",
     "text": [
      "17134.1.amd64fre.rs4_release.180410-1804                 40.942803\n",
      "16299.431.amd64fre.rs3_release_svc_escrow.180502-1908    13.996713\n",
      "16299.15.amd64fre.rs3_release.170928-1534                10.832369\n",
      "15063.0.amd64fre.rs2_release.170317-1834                  8.094027\n",
      "17134.1.x86fre.rs4_release.180410-1804                    2.864343\n",
      "16299.15.x86fre.rs3_release.170928-1534                   2.614509\n",
      "14393.2189.amd64fre.rs1_release.180329-1711               2.173007\n",
      "10240.17443.amd64fre.th1.170602-2340                      1.926840\n",
      "10586.1176.amd64fre.th2_release_sec.170913-1848           1.659339\n",
      "15063.0.x86fre.rs2_release.170317-1834                    0.712002\n",
      "14393.0.amd64fre.rs1_release.160715-1616                  0.651502\n",
      "9600.19101.amd64fre.winblue_ltsb_escrow.180718-1800       0.628502\n",
      "9600.19067.amd64fre.winblue_ltsb_escrow.180619-2033       0.617002\n",
      "16299.637.amd64fre.rs3_release_svc.180808-1748            0.497502\n",
      "14393.2189.x86fre.rs1_release.180329-1711                 0.430168\n",
      "14393.693.amd64fre.rs1_release.161220-1747                0.421668\n",
      "10586.1176.x86fre.th2_release_sec.170913-1848             0.415668\n",
      "10240.17443.x86fre.th1.170602-2340                        0.373001\n",
      "14393.2214.amd64fre.rs1_release_1.180402-1758             0.344834\n",
      "10586.0.amd64fre.th2_release.151029-1700                  0.317001\n",
      "10240.16384.amd64fre.th1.150709-1700                      0.258168\n",
      "14393.2007.amd64fre.rs1_release.171231-1800               0.255001\n",
      "14393.1593.amd64fre.rs1_release.170731-1934               0.254168\n",
      "14393.1944.amd64fre.rs1_release.171129-2100               0.221501\n",
      "14393.447.amd64fre.rs1_release_inmarket.161102-0100       0.214667\n",
      "14393.1770.amd64fre.rs1_release.170917-1700               0.210667\n",
      "10586.672.amd64fre.th2_release_sec.161024-1825            0.206667\n",
      "7601.24214.amd64fre.win7sp1_ldr_escrow.180801-1700        0.206501\n",
      "7601.24168.amd64fre.win7sp1_ldr.180608-0600               0.202667\n",
      "14393.1198.amd64fre.rs1_release_sec.170427-1353           0.201167\n",
      "                                                           ...    \n",
      "10586.639.x86fre.th2_release_inmarket.161014-1749         0.000167\n",
      "17734.1000.amd64fre.rs5_release.180806-1423               0.000167\n",
      "7600.16988.amd64fre.win7_gdr.120401-1505                  0.000167\n",
      "7601.18741.x86fre.win7sp1_gdr.150202-1526                 0.000167\n",
      "10240.17533.amd64fre.th1.170801-1946                      0.000167\n",
      "9600.17031.amd64fre.winblue_gdr.140221-1952               0.000167\n",
      "7601.18526.x86fre.win7sp1_gdr.140706-1506                 0.000167\n",
      "7601.18939.amd64fre.win7sp1_gdr.150722-0600               0.000167\n",
      "17655.1000.amd64fre.rs_prerelease.180420-1850             0.000167\n",
      "17761.1.amd64fre.rs5_release.180912-1340                  0.000167\n",
      "17643.1000.amd64fre.rs_prerelease.180405-1509             0.000167\n",
      "9600.18423.x86fre.winblue_ltsb.160723-0600                0.000167\n",
      "17618.1000.amd64fre.rs_prerelease.180302-1651             0.000167\n",
      "7600.17273.amd64fre.win7_gdr.130318-1532                  0.000167\n",
      "17686.1003.x86fre.rs_prerelease.180603-1447               0.000167\n",
      "17747.1000.x86fre.rs5_release.180822-1441                 0.000167\n",
      "7601.18798.x86fre.win7sp1_gdr.150316-1654                 0.000167\n",
      "17661.1001.x86fre.rs_prerelease.180428-1349               0.000167\n",
      "7601.18409.x86fre.win7sp1_gdr.140303-2144                 0.000167\n",
      "7601.17640.amd64fre.win7sp1_gdr.110622-1506               0.000167\n",
      "7600.17273.x86fre.win7_gdr.130318-1532                    0.000167\n",
      "10586.842.amd64fre.th2_release_inmarket.170318-0600       0.000167\n",
      "17666.1000.x86fre.rs_prerelease.180504-1501               0.000167\n",
      "16299.0.amd64fre.rs3_release.170922-1354                  0.000167\n",
      "14474.1944.amd64fre.rs1_release.171253-2100               0.000167\n",
      "17618.1000.x86fre.rs_prerelease.180302-1651               0.000167\n",
      "7601.18923.amd64fre.win7sp1_gdr.150714-1514               0.000167\n",
      "7601.23250.x86fre.win7sp1_ldr.151019-1255                 0.000167\n",
      "17627.1000.x86fre.rs_prerelease.180315-1512               0.000167\n",
      "9600.18090.x86fre.winblue_ltsb.151014-0600                0.000167\n",
      "Name: OsBuildLab, Length: 472, dtype: float64\n"
     ]
    }
   ],
   "source": [
    "for var in risco:\n",
    "    print(ms[var].value_counts() / ms[var].value_counts().sum() * 100)"
   ]
  },
  {
   "cell_type": "markdown",
   "metadata": {},
   "source": [
    "Decidimos eliminar as variáveis acima descritas, considerando apenas as que aparecem menos de 100 vezes.\n",
    "Num contexto diferente podíamos ter feito uma análise mais refinada, mas visto que já temos centenas de variáveis decidimos manter apenas as que pareciam relevantes.\n",
    "Possivelmente o filtro de variância ia eliminar as outras \"variáveis\" (depois de realizado o *one-hot encoding*) das outras variáveis, mas neste caso optamos por simplificar a análise."
   ]
  },
  {
   "cell_type": "markdown",
   "metadata": {},
   "source": [
    "### Variáveis eliminadas por serem semelhantes a outras variáveis\n",
    "\n",
    "- Census_ChassisTypeName\n",
    "    - Esta variável possui várias semelhanças com outras duas variáveis já existentes no dataset: \"Census_MDC2FormFactor\" e \"Census_PowerPlatformRoleName\". Além disso, esta variável apresenta valores estranhos, tais como \"LunchBox\" ou \"Blade\", além de uma série de valores numéricos sem sentido.\n"
   ]
  },
  {
   "cell_type": "code",
   "execution_count": 8,
   "metadata": {},
   "outputs": [
    {
     "data": {
      "text/plain": [
       "Notebook               352649\n",
       "Desktop                125724\n",
       "Laptop                  46314\n",
       "Portable                24345\n",
       "AllinOne                13689\n",
       "MiniTower                5858\n",
       "Convertible              5714\n",
       "Other                    5143\n",
       "UNKNOWN                  4642\n",
       "Detachable               3448\n",
       "LowProfileDesktop        3385\n",
       "HandHeld                 2956\n",
       "SpaceSaving              2018\n",
       "Tablet                    896\n",
       "Tower                     826\n",
       "Unknown                   687\n",
       "MainServerChassis         658\n",
       "MiniPC                    319\n",
       "LunchBox                  267\n",
       "RackMountChassis          262\n",
       "BusExpansionChassis        49\n",
       "SubNotebook                43\n",
       "30                         19\n",
       "0                          10\n",
       "StickPC                     9\n",
       "Blade                       5\n",
       "SealedCasePC                4\n",
       "PizzaBox                    4\n",
       "35                          3\n",
       "MultisystemChassis          3\n",
       "31                          2\n",
       "32                          1\n",
       "28                          1\n",
       "ExpansionChassis            1\n",
       "88                          1\n",
       "Name: Census_ChassisTypeName, dtype: int64"
      ]
     },
     "execution_count": 8,
     "metadata": {},
     "output_type": "execute_result"
    }
   ],
   "source": [
    "ms['Census_ChassisTypeName'].value_counts()"
   ]
  },
  {
   "cell_type": "markdown",
   "metadata": {},
   "source": [
    "###  Eliminação de variáveis."
   ]
  },
  {
   "cell_type": "markdown",
   "metadata": {},
   "source": [
    "#### Verificação das variáveis a eliminar"
   ]
  },
  {
   "cell_type": "code",
   "execution_count": 9,
   "metadata": {},
   "outputs": [],
   "source": [
    "eliminar = ['MachineIdentifier',\n",
    " 'PuaMode',\n",
    " 'DefaultBrowsersIdentifier',\n",
    " 'Census_ProcessorClass',\n",
    " 'CountryIdentifier',\n",
    " 'CityIdentifier',\n",
    " 'GeoNameIdentifier',\n",
    " 'LocaleEnglishNameIdentifier',\n",
    " 'AVProductStatesIdentifier',\n",
    " 'Census_OEMNameIdentifier',\n",
    " 'Census_OEMModelIdentifier',\n",
    " 'Census_ProcessorModelIdentifier',\n",
    " 'Census_FirmwareVersionIdentifier',\n",
    " 'Census_FirmwareManufacturerIdentifier',\n",
    " 'IeVerIdentifier',\n",
    " 'Census_OSBuildRevision',\n",
    " 'OsBuildLab',\n",
    " 'Census_ChassisTypeName',\n",
    " 'Census_IsFlightingInternal',\n",
    " 'Census_IsWIMBootEnabled']"
   ]
  },
  {
   "cell_type": "code",
   "execution_count": 10,
   "metadata": {},
   "outputs": [
    {
     "data": {
      "text/plain": [
       "MachineIdentifier                        600000\n",
       "PuaMode                                       1\n",
       "DefaultBrowsersIdentifier                   610\n",
       "Census_ProcessorClass                         3\n",
       "CountryIdentifier                           222\n",
       "CityIdentifier                            40323\n",
       "GeoNameIdentifier                           266\n",
       "LocaleEnglishNameIdentifier                 241\n",
       "AVProductStatesIdentifier                  6100\n",
       "Census_OEMNameIdentifier                   1664\n",
       "Census_OEMModelIdentifier                 45094\n",
       "Census_ProcessorModelIdentifier            2331\n",
       "Census_FirmwareVersionIdentifier          25074\n",
       "Census_FirmwareManufacturerIdentifier       314\n",
       "IeVerIdentifier                             189\n",
       "Census_OSBuildRevision                      239\n",
       "OsBuildLab                                  472\n",
       "Census_ChassisTypeName                       35\n",
       "Census_IsFlightingInternal                    1\n",
       "Census_IsWIMBootEnabled                       1\n",
       "dtype: int64"
      ]
     },
     "execution_count": 10,
     "metadata": {},
     "output_type": "execute_result"
    }
   ],
   "source": [
    "ms[eliminar].nunique()"
   ]
  },
  {
   "cell_type": "code",
   "execution_count": 11,
   "metadata": {},
   "outputs": [
    {
     "data": {
      "text/plain": [
       "MachineIdentifier                         0.000000\n",
       "PuaMode                                  99.977167\n",
       "DefaultBrowsersIdentifier                95.149000\n",
       "Census_ProcessorClass                    99.586833\n",
       "CountryIdentifier                         0.000000\n",
       "CityIdentifier                            3.611333\n",
       "GeoNameIdentifier                         0.002500\n",
       "LocaleEnglishNameIdentifier               0.000000\n",
       "AVProductStatesIdentifier                 0.400500\n",
       "Census_OEMNameIdentifier                  1.067667\n",
       "Census_OEMModelIdentifier                 1.147833\n",
       "Census_ProcessorModelIdentifier           0.482167\n",
       "Census_FirmwareVersionIdentifier          1.835333\n",
       "Census_FirmwareManufacturerIdentifier     2.109833\n",
       "IeVerIdentifier                           0.664167\n",
       "Census_OSBuildRevision                    0.000000\n",
       "OsBuildLab                                0.000333\n",
       "Census_ChassisTypeName                    0.007500\n",
       "Census_IsFlightingInternal               83.058333\n",
       "Census_IsWIMBootEnabled                  63.452667\n",
       "dtype: float64"
      ]
     },
     "execution_count": 11,
     "metadata": {},
     "output_type": "execute_result"
    }
   ],
   "source": [
    "ms[eliminar].isna().sum() / ms.shape[0] * 100"
   ]
  },
  {
   "cell_type": "code",
   "execution_count": 12,
   "metadata": {},
   "outputs": [],
   "source": [
    "ms = ms.drop(columns = eliminar, errors='ignore')"
   ]
  },
  {
   "cell_type": "markdown",
   "metadata": {},
   "source": [
    "### Análise variáveis quantitativas"
   ]
  },
  {
   "cell_type": "code",
   "execution_count": 13,
   "metadata": {},
   "outputs": [],
   "source": [
    "numericos = ['AVProductsInstalled',\n",
    "'AVProductsEnabled',\n",
    "'Census_ProcessorCoreCount',\n",
    "'Census_PrimaryDiskTotalCapacity',\n",
    "'Census_SystemVolumeTotalCapacity',\n",
    "'Census_TotalPhysicalRAM',\n",
    "'Census_InternalPrimaryDiagonalDisplaySizeInInches',\n",
    "'Census_InternalPrimaryDisplayResolutionHorizontal',\n",
    "'Census_InternalPrimaryDisplayResolutionVertical',\n",
    "'Census_InternalBatteryNumberOfCharges']"
   ]
  },
  {
   "cell_type": "code",
   "execution_count": 14,
   "metadata": {
    "scrolled": true
   },
   "outputs": [
    {
     "data": {
      "text/html": [
       "<div>\n",
       "<style scoped>\n",
       "    .dataframe tbody tr th:only-of-type {\n",
       "        vertical-align: middle;\n",
       "    }\n",
       "\n",
       "    .dataframe tbody tr th {\n",
       "        vertical-align: top;\n",
       "    }\n",
       "\n",
       "    .dataframe thead th {\n",
       "        text-align: right;\n",
       "    }\n",
       "</style>\n",
       "<table border=\"1\" class=\"dataframe\">\n",
       "  <thead>\n",
       "    <tr style=\"text-align: right;\">\n",
       "      <th></th>\n",
       "      <th>AVProductsInstalled</th>\n",
       "      <th>AVProductsEnabled</th>\n",
       "      <th>Census_ProcessorCoreCount</th>\n",
       "      <th>Census_PrimaryDiskTotalCapacity</th>\n",
       "      <th>Census_SystemVolumeTotalCapacity</th>\n",
       "      <th>Census_TotalPhysicalRAM</th>\n",
       "      <th>Census_InternalPrimaryDiagonalDisplaySizeInInches</th>\n",
       "      <th>Census_InternalPrimaryDisplayResolutionHorizontal</th>\n",
       "      <th>Census_InternalPrimaryDisplayResolutionVertical</th>\n",
       "      <th>Census_InternalBatteryNumberOfCharges</th>\n",
       "    </tr>\n",
       "  </thead>\n",
       "  <tbody>\n",
       "    <tr>\n",
       "      <th>count</th>\n",
       "      <td>597597.000000</td>\n",
       "      <td>597597.000000</td>\n",
       "      <td>597107.000000</td>\n",
       "      <td>5.962750e+05</td>\n",
       "      <td>5.962760e+05</td>\n",
       "      <td>594387.000000</td>\n",
       "      <td>596741.000000</td>\n",
       "      <td>596747.000000</td>\n",
       "      <td>596747.000000</td>\n",
       "      <td>5.817450e+05</td>\n",
       "    </tr>\n",
       "    <tr>\n",
       "      <th>mean</th>\n",
       "      <td>1.326059</td>\n",
       "      <td>1.020740</td>\n",
       "      <td>3.992517</td>\n",
       "      <td>5.134265e+05</td>\n",
       "      <td>3.778890e+05</td>\n",
       "      <td>6122.585413</td>\n",
       "      <td>16.680267</td>\n",
       "      <td>1548.203957</td>\n",
       "      <td>897.898362</td>\n",
       "      <td>1.124047e+09</td>\n",
       "    </tr>\n",
       "    <tr>\n",
       "      <th>std</th>\n",
       "      <td>0.522140</td>\n",
       "      <td>0.167313</td>\n",
       "      <td>2.080830</td>\n",
       "      <td>3.731920e+05</td>\n",
       "      <td>3.247680e+05</td>\n",
       "      <td>5215.878857</td>\n",
       "      <td>5.904098</td>\n",
       "      <td>369.372451</td>\n",
       "      <td>215.199986</td>\n",
       "      <td>1.887927e+09</td>\n",
       "    </tr>\n",
       "    <tr>\n",
       "      <th>min</th>\n",
       "      <td>0.000000</td>\n",
       "      <td>0.000000</td>\n",
       "      <td>1.000000</td>\n",
       "      <td>0.000000e+00</td>\n",
       "      <td>0.000000e+00</td>\n",
       "      <td>512.000000</td>\n",
       "      <td>4.900000</td>\n",
       "      <td>-1.000000</td>\n",
       "      <td>-1.000000</td>\n",
       "      <td>0.000000e+00</td>\n",
       "    </tr>\n",
       "    <tr>\n",
       "      <th>25%</th>\n",
       "      <td>1.000000</td>\n",
       "      <td>1.000000</td>\n",
       "      <td>2.000000</td>\n",
       "      <td>2.393720e+05</td>\n",
       "      <td>1.208040e+05</td>\n",
       "      <td>4096.000000</td>\n",
       "      <td>13.900000</td>\n",
       "      <td>1366.000000</td>\n",
       "      <td>768.000000</td>\n",
       "      <td>0.000000e+00</td>\n",
       "    </tr>\n",
       "    <tr>\n",
       "      <th>50%</th>\n",
       "      <td>1.000000</td>\n",
       "      <td>1.000000</td>\n",
       "      <td>4.000000</td>\n",
       "      <td>4.769400e+05</td>\n",
       "      <td>2.498990e+05</td>\n",
       "      <td>4096.000000</td>\n",
       "      <td>15.500000</td>\n",
       "      <td>1366.000000</td>\n",
       "      <td>768.000000</td>\n",
       "      <td>0.000000e+00</td>\n",
       "    </tr>\n",
       "    <tr>\n",
       "      <th>75%</th>\n",
       "      <td>2.000000</td>\n",
       "      <td>1.000000</td>\n",
       "      <td>4.000000</td>\n",
       "      <td>9.538690e+05</td>\n",
       "      <td>4.759780e+05</td>\n",
       "      <td>8192.000000</td>\n",
       "      <td>17.200000</td>\n",
       "      <td>1920.000000</td>\n",
       "      <td>1080.000000</td>\n",
       "      <td>4.294967e+09</td>\n",
       "    </tr>\n",
       "    <tr>\n",
       "      <th>max</th>\n",
       "      <td>6.000000</td>\n",
       "      <td>4.000000</td>\n",
       "      <td>88.000000</td>\n",
       "      <td>6.867302e+07</td>\n",
       "      <td>1.144361e+07</td>\n",
       "      <td>917504.000000</td>\n",
       "      <td>142.000000</td>\n",
       "      <td>11520.000000</td>\n",
       "      <td>4320.000000</td>\n",
       "      <td>4.294967e+09</td>\n",
       "    </tr>\n",
       "  </tbody>\n",
       "</table>\n",
       "</div>"
      ],
      "text/plain": [
       "       AVProductsInstalled  AVProductsEnabled  Census_ProcessorCoreCount  \\\n",
       "count        597597.000000      597597.000000              597107.000000   \n",
       "mean              1.326059           1.020740                   3.992517   \n",
       "std               0.522140           0.167313                   2.080830   \n",
       "min               0.000000           0.000000                   1.000000   \n",
       "25%               1.000000           1.000000                   2.000000   \n",
       "50%               1.000000           1.000000                   4.000000   \n",
       "75%               2.000000           1.000000                   4.000000   \n",
       "max               6.000000           4.000000                  88.000000   \n",
       "\n",
       "       Census_PrimaryDiskTotalCapacity  Census_SystemVolumeTotalCapacity  \\\n",
       "count                     5.962750e+05                      5.962760e+05   \n",
       "mean                      5.134265e+05                      3.778890e+05   \n",
       "std                       3.731920e+05                      3.247680e+05   \n",
       "min                       0.000000e+00                      0.000000e+00   \n",
       "25%                       2.393720e+05                      1.208040e+05   \n",
       "50%                       4.769400e+05                      2.498990e+05   \n",
       "75%                       9.538690e+05                      4.759780e+05   \n",
       "max                       6.867302e+07                      1.144361e+07   \n",
       "\n",
       "       Census_TotalPhysicalRAM  \\\n",
       "count            594387.000000   \n",
       "mean               6122.585413   \n",
       "std                5215.878857   \n",
       "min                 512.000000   \n",
       "25%                4096.000000   \n",
       "50%                4096.000000   \n",
       "75%                8192.000000   \n",
       "max              917504.000000   \n",
       "\n",
       "       Census_InternalPrimaryDiagonalDisplaySizeInInches  \\\n",
       "count                                      596741.000000   \n",
       "mean                                           16.680267   \n",
       "std                                             5.904098   \n",
       "min                                             4.900000   \n",
       "25%                                            13.900000   \n",
       "50%                                            15.500000   \n",
       "75%                                            17.200000   \n",
       "max                                           142.000000   \n",
       "\n",
       "       Census_InternalPrimaryDisplayResolutionHorizontal  \\\n",
       "count                                      596747.000000   \n",
       "mean                                         1548.203957   \n",
       "std                                           369.372451   \n",
       "min                                            -1.000000   \n",
       "25%                                          1366.000000   \n",
       "50%                                          1366.000000   \n",
       "75%                                          1920.000000   \n",
       "max                                         11520.000000   \n",
       "\n",
       "       Census_InternalPrimaryDisplayResolutionVertical  \\\n",
       "count                                    596747.000000   \n",
       "mean                                        897.898362   \n",
       "std                                         215.199986   \n",
       "min                                          -1.000000   \n",
       "25%                                         768.000000   \n",
       "50%                                         768.000000   \n",
       "75%                                        1080.000000   \n",
       "max                                        4320.000000   \n",
       "\n",
       "       Census_InternalBatteryNumberOfCharges  \n",
       "count                           5.817450e+05  \n",
       "mean                            1.124047e+09  \n",
       "std                             1.887927e+09  \n",
       "min                             0.000000e+00  \n",
       "25%                             0.000000e+00  \n",
       "50%                             0.000000e+00  \n",
       "75%                             4.294967e+09  \n",
       "max                             4.294967e+09  "
      ]
     },
     "execution_count": 14,
     "metadata": {},
     "output_type": "execute_result"
    }
   ],
   "source": [
    "ms[numericos].describe()"
   ]
  },
  {
   "cell_type": "code",
   "execution_count": 15,
   "metadata": {},
   "outputs": [
    {
     "data": {
      "text/plain": [
       "AVProductsInstalled                                       7\n",
       "AVProductsEnabled                                         5\n",
       "Census_ProcessorCoreCount                                28\n",
       "Census_PrimaryDiskTotalCapacity                        1193\n",
       "Census_SystemVolumeTotalCapacity                     158820\n",
       "Census_TotalPhysicalRAM                                 626\n",
       "Census_InternalPrimaryDiagonalDisplaySizeInInches       508\n",
       "Census_InternalPrimaryDisplayResolutionHorizontal       539\n",
       "Census_InternalPrimaryDisplayResolutionVertical         568\n",
       "Census_InternalBatteryNumberOfCharges                  5947\n",
       "dtype: int64"
      ]
     },
     "execution_count": 15,
     "metadata": {},
     "output_type": "execute_result"
    }
   ],
   "source": [
    "ms[numericos].nunique()"
   ]
  },
  {
   "cell_type": "markdown",
   "metadata": {},
   "source": [
    "### Análise variáveis qualitativas"
   ]
  },
  {
   "cell_type": "code",
   "execution_count": 16,
   "metadata": {},
   "outputs": [
    {
     "name": "stdout",
     "output_type": "stream",
     "text": [
      "count           600000\n",
      "unique               4\n",
      "top       win8defender\n",
      "freq            593588\n",
      "Name: ProductName, dtype: object\n",
      "count          600000\n",
      "unique             53\n",
      "top       1.1.15200.1\n",
      "freq           258455\n",
      "Name: EngineVersion, dtype: object\n",
      "count              600000\n",
      "unique                 97\n",
      "top       4.18.1807.18075\n",
      "freq               345464\n",
      "Name: AppVersion, dtype: object\n",
      "count           600000\n",
      "unique            6713\n",
      "top       1.273.1420.0\n",
      "freq              6926\n",
      "Name: AvSigVersion, dtype: object\n",
      "count    600000.000000\n",
      "mean          0.000010\n",
      "std           0.003162\n",
      "min           0.000000\n",
      "25%           0.000000\n",
      "50%           0.000000\n",
      "75%           0.000000\n",
      "max           1.000000\n",
      "Name: IsBeta, dtype: float64\n",
      "count    597831.000000\n",
      "mean          6.847266\n",
      "std           1.019600\n",
      "min           0.000000\n",
      "25%           7.000000\n",
      "50%           7.000000\n",
      "75%           7.000000\n",
      "max          35.000000\n",
      "Name: RtpStateBitfield, dtype: float64\n",
      "count    600000.000000\n",
      "mean          0.017110\n",
      "std           0.129681\n",
      "min           0.000000\n",
      "25%           0.000000\n",
      "50%           0.000000\n",
      "75%           0.000000\n",
      "max           1.000000\n",
      "Name: IsSxsPassiveMode, dtype: float64\n",
      "count    600000.000000\n",
      "mean          0.987835\n",
      "std           0.109622\n",
      "min           0.000000\n",
      "25%           1.000000\n",
      "50%           1.000000\n",
      "75%           1.000000\n",
      "max           1.000000\n",
      "Name: HasTpm, dtype: float64\n",
      "count    414927.00000\n",
      "mean         24.86730\n",
      "std           5.60165\n",
      "min           1.00000\n",
      "25%          18.00000\n",
      "50%          27.00000\n",
      "75%          27.00000\n",
      "max          52.00000\n",
      "Name: OrganizationIdentifier, dtype: float64\n",
      "count        600000\n",
      "unique            4\n",
      "top       windows10\n",
      "freq         579472\n",
      "Name: Platform, dtype: object\n",
      "count     600000\n",
      "unique         3\n",
      "top          x64\n",
      "freq      545169\n",
      "Name: Processor, dtype: object\n",
      "count       600000\n",
      "unique          23\n",
      "top       10.0.0.0\n",
      "freq        580405\n",
      "Name: OsVer, dtype: object\n",
      "count    600000.000000\n",
      "mean      15717.098590\n",
      "std        2192.824013\n",
      "min        7600.000000\n",
      "25%       15063.000000\n",
      "50%       16299.000000\n",
      "75%       17134.000000\n",
      "max       18242.000000\n",
      "Name: OsBuild, dtype: float64\n",
      "count    600000.000000\n",
      "mean        575.153932\n",
      "std         248.081287\n",
      "min          16.000000\n",
      "25%         256.000000\n",
      "50%         768.000000\n",
      "75%         768.000000\n",
      "max         784.000000\n",
      "Name: OsSuite, dtype: float64\n",
      "count     600000\n",
      "unique         9\n",
      "top          rs4\n",
      "freq      262865\n",
      "Name: OsPlatformSubRelease, dtype: object\n",
      "count     600000\n",
      "unique         8\n",
      "top         Home\n",
      "freq      370801\n",
      "Name: SkuEdition, dtype: object\n",
      "count    597615.000000\n",
      "mean          0.945195\n",
      "std           0.227598\n",
      "min           0.000000\n",
      "25%           1.000000\n",
      "50%           1.000000\n",
      "75%           1.000000\n",
      "max           1.000000\n",
      "Name: IsProtected, dtype: float64\n",
      "count    600000.000000\n",
      "mean          0.000040\n",
      "std           0.006324\n",
      "min           0.000000\n",
      "25%           0.000000\n",
      "50%           0.000000\n",
      "75%           0.000000\n",
      "max           1.000000\n",
      "Name: AutoSampleOptIn, dtype: float64\n",
      "count    563907.000000\n",
      "mean          0.000436\n",
      "std           0.020882\n",
      "min           0.000000\n",
      "25%           0.000000\n",
      "50%           0.000000\n",
      "75%           0.000000\n",
      "max           1.000000\n",
      "Name: SMode, dtype: float64\n",
      "count           386332\n",
      "unique              13\n",
      "top       RequireAdmin\n",
      "freq            290138\n",
      "Name: SmartScreen, dtype: object\n",
      "count    593813.000000\n",
      "mean          0.978500\n",
      "std           0.145044\n",
      "min           0.000000\n",
      "25%           1.000000\n",
      "50%           1.000000\n",
      "75%           1.000000\n",
      "max           1.000000\n",
      "Name: Firewall, dtype: float64\n",
      "count    5.992950e+05\n",
      "mean     3.959819e+01\n",
      "std      2.317561e+04\n",
      "min      0.000000e+00\n",
      "25%      1.000000e+00\n",
      "50%      1.000000e+00\n",
      "75%      1.000000e+00\n",
      "max      1.677722e+07\n",
      "Name: UacLuaenable, dtype: float64\n",
      "count       600000\n",
      "unique          12\n",
      "top       Notebook\n",
      "freq        384655\n",
      "Name: Census_MDC2FormFactor, dtype: object\n",
      "count              600000\n",
      "unique                  3\n",
      "top       Windows.Desktop\n",
      "freq               599020\n",
      "Name: Census_DeviceFamily, dtype: object\n",
      "count    597107.000000\n",
      "mean          4.533188\n",
      "std           1.284904\n",
      "min           1.000000\n",
      "25%           5.000000\n",
      "50%           5.000000\n",
      "75%           5.000000\n",
      "max          10.000000\n",
      "Name: Census_ProcessorManufacturerIdentifier, dtype: float64\n",
      "count     599110\n",
      "unique         4\n",
      "top          HDD\n",
      "freq      390272\n",
      "Name: Census_PrimaryDiskTypeName, dtype: object\n",
      "count    600000.000000\n",
      "mean          0.077443\n",
      "std           0.267294\n",
      "min           0.000000\n",
      "25%           0.000000\n",
      "50%           0.000000\n",
      "75%           0.000000\n",
      "max           1.000000\n",
      "Name: Census_HasOpticalDiskDrive, dtype: float64\n",
      "count     599995\n",
      "unique         9\n",
      "top       Mobile\n",
      "freq      415811\n",
      "Name: Census_PowerPlatformRoleName, dtype: object\n",
      "count     173683\n",
      "unique        30\n",
      "top         lion\n",
      "freq      136134\n",
      "Name: Census_InternalBatteryType, dtype: object\n",
      "count             600000\n",
      "unique               305\n",
      "top       10.0.17134.228\n",
      "freq               95057\n",
      "Name: Census_OSVersion, dtype: object\n",
      "count     600000\n",
      "unique         3\n",
      "top        amd64\n",
      "freq      545210\n",
      "Name: Census_OSArchitecture, dtype: object\n",
      "count          600000\n",
      "unique             16\n",
      "top       rs4_release\n",
      "freq           269344\n",
      "Name: Census_OSBranch, dtype: object\n",
      "count    600000.000000\n",
      "mean      15833.034092\n",
      "std        1962.756873\n",
      "min        7601.000000\n",
      "25%       15063.000000\n",
      "50%       16299.000000\n",
      "75%       17134.000000\n",
      "max       18242.000000\n",
      "Name: Census_OSBuildNumber, dtype: float64\n",
      "count     600000\n",
      "unique        23\n",
      "top         Core\n",
      "freq      233660\n",
      "Name: Census_OSEdition, dtype: object\n",
      "count     600000\n",
      "unique        21\n",
      "top         CORE\n",
      "freq      233648\n",
      "Name: Census_OSSkuName, dtype: object\n",
      "count         600000\n",
      "unique             9\n",
      "top       UUPUpgrade\n",
      "freq          175448\n",
      "Name: Census_OSInstallTypeName, dtype: object\n",
      "count    595770.000000\n",
      "mean         14.601605\n",
      "std          10.205043\n",
      "min           1.000000\n",
      "25%           8.000000\n",
      "50%           9.000000\n",
      "75%          20.000000\n",
      "max          39.000000\n",
      "Name: Census_OSInstallLanguageIdentifier, dtype: float64\n",
      "count    600000.000000\n",
      "mean         60.424083\n",
      "std          45.014461\n",
      "min           5.000000\n",
      "25%          31.000000\n",
      "50%          34.000000\n",
      "75%          92.000000\n",
      "max         161.000000\n",
      "Name: Census_OSUILocaleIdentifier, dtype: float64\n",
      "count       600000\n",
      "unique           6\n",
      "top       FullAuto\n",
      "freq        265944\n",
      "Name: Census_OSWUAutoUpdateOptionsName, dtype: object\n",
      "count    600000.000000\n",
      "mean          0.000535\n",
      "std           0.023124\n",
      "min           0.000000\n",
      "25%           0.000000\n",
      "50%           0.000000\n",
      "75%           0.000000\n",
      "max           1.000000\n",
      "Name: Census_IsPortableOperatingSystem, dtype: float64\n"
     ]
    },
    {
     "ename": "KeyboardInterrupt",
     "evalue": "",
     "output_type": "error",
     "traceback": [
      "\u001b[0;31m---------------------------------------------------------------------------\u001b[0m",
      "\u001b[0;31mKeyboardInterrupt\u001b[0m                         Traceback (most recent call last)",
      "\u001b[0;32m<ipython-input-16-c5408bcab2a2>\u001b[0m in \u001b[0;36m<module>\u001b[0;34m\u001b[0m\n\u001b[1;32m      1\u001b[0m \u001b[0;32mfor\u001b[0m \u001b[0mtipo\u001b[0m \u001b[0;32min\u001b[0m \u001b[0mms\u001b[0m\u001b[0;34m.\u001b[0m\u001b[0mcolumns\u001b[0m\u001b[0;34m:\u001b[0m\u001b[0;34m\u001b[0m\u001b[0;34m\u001b[0m\u001b[0m\n\u001b[1;32m      2\u001b[0m     \u001b[0;32mif\u001b[0m \u001b[0mtipo\u001b[0m \u001b[0;32mnot\u001b[0m \u001b[0;32min\u001b[0m \u001b[0mnumericos\u001b[0m\u001b[0;34m:\u001b[0m\u001b[0;34m\u001b[0m\u001b[0;34m\u001b[0m\u001b[0m\n\u001b[0;32m----> 3\u001b[0;31m             \u001b[0mprint\u001b[0m\u001b[0;34m(\u001b[0m\u001b[0mms\u001b[0m\u001b[0;34m[\u001b[0m\u001b[0mtipo\u001b[0m\u001b[0;34m]\u001b[0m\u001b[0;34m.\u001b[0m\u001b[0mdescribe\u001b[0m\u001b[0;34m(\u001b[0m\u001b[0;34m)\u001b[0m\u001b[0;34m)\u001b[0m\u001b[0;34m\u001b[0m\u001b[0;34m\u001b[0m\u001b[0m\n\u001b[0m",
      "\u001b[0;32m~/.local/lib/python3.6/site-packages/pandas/core/generic.py\u001b[0m in \u001b[0;36mdescribe\u001b[0;34m(self, percentiles, include, exclude)\u001b[0m\n\u001b[1;32m   9788\u001b[0m \u001b[0;34m\u001b[0m\u001b[0m\n\u001b[1;32m   9789\u001b[0m         \u001b[0;32mif\u001b[0m \u001b[0mself\u001b[0m\u001b[0;34m.\u001b[0m\u001b[0mndim\u001b[0m \u001b[0;34m==\u001b[0m \u001b[0;36m1\u001b[0m\u001b[0;34m:\u001b[0m\u001b[0;34m\u001b[0m\u001b[0;34m\u001b[0m\u001b[0m\n\u001b[0;32m-> 9790\u001b[0;31m             \u001b[0;32mreturn\u001b[0m \u001b[0mdescribe_1d\u001b[0m\u001b[0;34m(\u001b[0m\u001b[0mself\u001b[0m\u001b[0;34m)\u001b[0m\u001b[0;34m\u001b[0m\u001b[0;34m\u001b[0m\u001b[0m\n\u001b[0m\u001b[1;32m   9791\u001b[0m         \u001b[0;32melif\u001b[0m \u001b[0;34m(\u001b[0m\u001b[0minclude\u001b[0m \u001b[0;32mis\u001b[0m \u001b[0;32mNone\u001b[0m\u001b[0;34m)\u001b[0m \u001b[0;32mand\u001b[0m \u001b[0;34m(\u001b[0m\u001b[0mexclude\u001b[0m \u001b[0;32mis\u001b[0m \u001b[0;32mNone\u001b[0m\u001b[0;34m)\u001b[0m\u001b[0;34m:\u001b[0m\u001b[0;34m\u001b[0m\u001b[0;34m\u001b[0m\u001b[0m\n\u001b[1;32m   9792\u001b[0m             \u001b[0;31m# when some numerics are found, keep only numerics\u001b[0m\u001b[0;34m\u001b[0m\u001b[0;34m\u001b[0m\u001b[0;34m\u001b[0m\u001b[0m\n",
      "\u001b[0;32m~/.local/lib/python3.6/site-packages/pandas/core/generic.py\u001b[0m in \u001b[0;36mdescribe_1d\u001b[0;34m(data)\u001b[0m\n\u001b[1;32m   9785\u001b[0m                 \u001b[0;32mreturn\u001b[0m \u001b[0mdescribe_numeric_1d\u001b[0m\u001b[0;34m(\u001b[0m\u001b[0mdata\u001b[0m\u001b[0;34m)\u001b[0m\u001b[0;34m\u001b[0m\u001b[0;34m\u001b[0m\u001b[0m\n\u001b[1;32m   9786\u001b[0m             \u001b[0;32melse\u001b[0m\u001b[0;34m:\u001b[0m\u001b[0;34m\u001b[0m\u001b[0;34m\u001b[0m\u001b[0m\n\u001b[0;32m-> 9787\u001b[0;31m                 \u001b[0;32mreturn\u001b[0m \u001b[0mdescribe_categorical_1d\u001b[0m\u001b[0;34m(\u001b[0m\u001b[0mdata\u001b[0m\u001b[0;34m)\u001b[0m\u001b[0;34m\u001b[0m\u001b[0;34m\u001b[0m\u001b[0m\n\u001b[0m\u001b[1;32m   9788\u001b[0m \u001b[0;34m\u001b[0m\u001b[0m\n\u001b[1;32m   9789\u001b[0m         \u001b[0;32mif\u001b[0m \u001b[0mself\u001b[0m\u001b[0;34m.\u001b[0m\u001b[0mndim\u001b[0m \u001b[0;34m==\u001b[0m \u001b[0;36m1\u001b[0m\u001b[0;34m:\u001b[0m\u001b[0;34m\u001b[0m\u001b[0;34m\u001b[0m\u001b[0m\n",
      "\u001b[0;32m~/.local/lib/python3.6/site-packages/pandas/core/generic.py\u001b[0m in \u001b[0;36mdescribe_categorical_1d\u001b[0;34m(data)\u001b[0m\n\u001b[1;32m   9752\u001b[0m         \u001b[0;32mdef\u001b[0m \u001b[0mdescribe_categorical_1d\u001b[0m\u001b[0;34m(\u001b[0m\u001b[0mdata\u001b[0m\u001b[0;34m)\u001b[0m\u001b[0;34m:\u001b[0m\u001b[0;34m\u001b[0m\u001b[0;34m\u001b[0m\u001b[0m\n\u001b[1;32m   9753\u001b[0m             \u001b[0mnames\u001b[0m \u001b[0;34m=\u001b[0m \u001b[0;34m[\u001b[0m\u001b[0;34m'count'\u001b[0m\u001b[0;34m,\u001b[0m \u001b[0;34m'unique'\u001b[0m\u001b[0;34m]\u001b[0m\u001b[0;34m\u001b[0m\u001b[0;34m\u001b[0m\u001b[0m\n\u001b[0;32m-> 9754\u001b[0;31m             \u001b[0mobjcounts\u001b[0m \u001b[0;34m=\u001b[0m \u001b[0mdata\u001b[0m\u001b[0;34m.\u001b[0m\u001b[0mvalue_counts\u001b[0m\u001b[0;34m(\u001b[0m\u001b[0;34m)\u001b[0m\u001b[0;34m\u001b[0m\u001b[0;34m\u001b[0m\u001b[0m\n\u001b[0m\u001b[1;32m   9755\u001b[0m             \u001b[0mcount_unique\u001b[0m \u001b[0;34m=\u001b[0m \u001b[0mlen\u001b[0m\u001b[0;34m(\u001b[0m\u001b[0mobjcounts\u001b[0m\u001b[0;34m[\u001b[0m\u001b[0mobjcounts\u001b[0m \u001b[0;34m!=\u001b[0m \u001b[0;36m0\u001b[0m\u001b[0;34m]\u001b[0m\u001b[0;34m)\u001b[0m\u001b[0;34m\u001b[0m\u001b[0;34m\u001b[0m\u001b[0m\n\u001b[1;32m   9756\u001b[0m             \u001b[0mresult\u001b[0m \u001b[0;34m=\u001b[0m \u001b[0;34m[\u001b[0m\u001b[0mdata\u001b[0m\u001b[0;34m.\u001b[0m\u001b[0mcount\u001b[0m\u001b[0;34m(\u001b[0m\u001b[0;34m)\u001b[0m\u001b[0;34m,\u001b[0m \u001b[0mcount_unique\u001b[0m\u001b[0;34m]\u001b[0m\u001b[0;34m\u001b[0m\u001b[0;34m\u001b[0m\u001b[0m\n",
      "\u001b[0;32m~/.local/lib/python3.6/site-packages/pandas/core/base.py\u001b[0m in \u001b[0;36mvalue_counts\u001b[0;34m(self, normalize, sort, ascending, bins, dropna)\u001b[0m\n\u001b[1;32m   1301\u001b[0m         \u001b[0;32mfrom\u001b[0m \u001b[0mpandas\u001b[0m\u001b[0;34m.\u001b[0m\u001b[0mcore\u001b[0m\u001b[0;34m.\u001b[0m\u001b[0malgorithms\u001b[0m \u001b[0;32mimport\u001b[0m \u001b[0mvalue_counts\u001b[0m\u001b[0;34m\u001b[0m\u001b[0;34m\u001b[0m\u001b[0m\n\u001b[1;32m   1302\u001b[0m         result = value_counts(self, sort=sort, ascending=ascending,\n\u001b[0;32m-> 1303\u001b[0;31m                               normalize=normalize, bins=bins, dropna=dropna)\n\u001b[0m\u001b[1;32m   1304\u001b[0m         \u001b[0;32mreturn\u001b[0m \u001b[0mresult\u001b[0m\u001b[0;34m\u001b[0m\u001b[0;34m\u001b[0m\u001b[0m\n\u001b[1;32m   1305\u001b[0m \u001b[0;34m\u001b[0m\u001b[0m\n",
      "\u001b[0;32m~/.local/lib/python3.6/site-packages/pandas/core/algorithms.py\u001b[0m in \u001b[0;36mvalue_counts\u001b[0;34m(values, sort, ascending, normalize, bins, dropna)\u001b[0m\n\u001b[1;32m    703\u001b[0m \u001b[0;34m\u001b[0m\u001b[0m\n\u001b[1;32m    704\u001b[0m         \u001b[0;32melse\u001b[0m\u001b[0;34m:\u001b[0m\u001b[0;34m\u001b[0m\u001b[0;34m\u001b[0m\u001b[0m\n\u001b[0;32m--> 705\u001b[0;31m             \u001b[0mkeys\u001b[0m\u001b[0;34m,\u001b[0m \u001b[0mcounts\u001b[0m \u001b[0;34m=\u001b[0m \u001b[0m_value_counts_arraylike\u001b[0m\u001b[0;34m(\u001b[0m\u001b[0mvalues\u001b[0m\u001b[0;34m,\u001b[0m \u001b[0mdropna\u001b[0m\u001b[0;34m)\u001b[0m\u001b[0;34m\u001b[0m\u001b[0;34m\u001b[0m\u001b[0m\n\u001b[0m\u001b[1;32m    706\u001b[0m \u001b[0;34m\u001b[0m\u001b[0m\n\u001b[1;32m    707\u001b[0m             \u001b[0;32mif\u001b[0m \u001b[0;32mnot\u001b[0m \u001b[0misinstance\u001b[0m\u001b[0;34m(\u001b[0m\u001b[0mkeys\u001b[0m\u001b[0;34m,\u001b[0m \u001b[0mIndex\u001b[0m\u001b[0;34m)\u001b[0m\u001b[0;34m:\u001b[0m\u001b[0;34m\u001b[0m\u001b[0;34m\u001b[0m\u001b[0m\n",
      "\u001b[0;32m~/.local/lib/python3.6/site-packages/pandas/core/algorithms.py\u001b[0m in \u001b[0;36m_value_counts_arraylike\u001b[0;34m(values, dropna)\u001b[0m\n\u001b[1;32m    750\u001b[0m         \u001b[0mkeys\u001b[0m\u001b[0;34m,\u001b[0m \u001b[0mcounts\u001b[0m \u001b[0;34m=\u001b[0m \u001b[0mf\u001b[0m\u001b[0;34m(\u001b[0m\u001b[0mvalues\u001b[0m\u001b[0;34m,\u001b[0m \u001b[0mdropna\u001b[0m\u001b[0;34m)\u001b[0m\u001b[0;34m\u001b[0m\u001b[0;34m\u001b[0m\u001b[0m\n\u001b[1;32m    751\u001b[0m \u001b[0;34m\u001b[0m\u001b[0m\n\u001b[0;32m--> 752\u001b[0;31m         \u001b[0mmask\u001b[0m \u001b[0;34m=\u001b[0m \u001b[0misna\u001b[0m\u001b[0;34m(\u001b[0m\u001b[0mvalues\u001b[0m\u001b[0;34m)\u001b[0m\u001b[0;34m\u001b[0m\u001b[0;34m\u001b[0m\u001b[0m\n\u001b[0m\u001b[1;32m    753\u001b[0m         \u001b[0;32mif\u001b[0m \u001b[0;32mnot\u001b[0m \u001b[0mdropna\u001b[0m \u001b[0;32mand\u001b[0m \u001b[0mmask\u001b[0m\u001b[0;34m.\u001b[0m\u001b[0many\u001b[0m\u001b[0;34m(\u001b[0m\u001b[0;34m)\u001b[0m\u001b[0;34m:\u001b[0m\u001b[0;34m\u001b[0m\u001b[0;34m\u001b[0m\u001b[0m\n\u001b[1;32m    754\u001b[0m             \u001b[0;32mif\u001b[0m \u001b[0;32mnot\u001b[0m \u001b[0misna\u001b[0m\u001b[0;34m(\u001b[0m\u001b[0mkeys\u001b[0m\u001b[0;34m)\u001b[0m\u001b[0;34m.\u001b[0m\u001b[0many\u001b[0m\u001b[0;34m(\u001b[0m\u001b[0;34m)\u001b[0m\u001b[0;34m:\u001b[0m\u001b[0;34m\u001b[0m\u001b[0;34m\u001b[0m\u001b[0m\n",
      "\u001b[0;32m~/.local/lib/python3.6/site-packages/pandas/core/dtypes/missing.py\u001b[0m in \u001b[0;36misna\u001b[0;34m(obj)\u001b[0m\n\u001b[1;32m     97\u001b[0m     \u001b[0mName\u001b[0m\u001b[0;34m:\u001b[0m \u001b[0;36m1\u001b[0m\u001b[0;34m,\u001b[0m \u001b[0mdtype\u001b[0m\u001b[0;34m:\u001b[0m \u001b[0mbool\u001b[0m\u001b[0;34m\u001b[0m\u001b[0;34m\u001b[0m\u001b[0m\n\u001b[1;32m     98\u001b[0m     \"\"\"\n\u001b[0;32m---> 99\u001b[0;31m     \u001b[0;32mreturn\u001b[0m \u001b[0m_isna\u001b[0m\u001b[0;34m(\u001b[0m\u001b[0mobj\u001b[0m\u001b[0;34m)\u001b[0m\u001b[0;34m\u001b[0m\u001b[0;34m\u001b[0m\u001b[0m\n\u001b[0m\u001b[1;32m    100\u001b[0m \u001b[0;34m\u001b[0m\u001b[0m\n\u001b[1;32m    101\u001b[0m \u001b[0;34m\u001b[0m\u001b[0m\n",
      "\u001b[0;32m~/.local/lib/python3.6/site-packages/pandas/core/dtypes/missing.py\u001b[0m in \u001b[0;36m_isna_new\u001b[0;34m(obj)\u001b[0m\n\u001b[1;32m    112\u001b[0m                           \u001b[0mABCExtensionArray\u001b[0m\u001b[0;34m,\u001b[0m\u001b[0;34m\u001b[0m\u001b[0;34m\u001b[0m\u001b[0m\n\u001b[1;32m    113\u001b[0m                           ABCDatetimeArray, ABCTimedeltaArray)):\n\u001b[0;32m--> 114\u001b[0;31m         \u001b[0;32mreturn\u001b[0m \u001b[0m_isna_ndarraylike\u001b[0m\u001b[0;34m(\u001b[0m\u001b[0mobj\u001b[0m\u001b[0;34m)\u001b[0m\u001b[0;34m\u001b[0m\u001b[0;34m\u001b[0m\u001b[0m\n\u001b[0m\u001b[1;32m    115\u001b[0m     \u001b[0;32melif\u001b[0m \u001b[0misinstance\u001b[0m\u001b[0;34m(\u001b[0m\u001b[0mobj\u001b[0m\u001b[0;34m,\u001b[0m \u001b[0mABCGeneric\u001b[0m\u001b[0;34m)\u001b[0m\u001b[0;34m:\u001b[0m\u001b[0;34m\u001b[0m\u001b[0;34m\u001b[0m\u001b[0m\n\u001b[1;32m    116\u001b[0m         \u001b[0;32mreturn\u001b[0m \u001b[0mobj\u001b[0m\u001b[0;34m.\u001b[0m\u001b[0m_constructor\u001b[0m\u001b[0;34m(\u001b[0m\u001b[0mobj\u001b[0m\u001b[0;34m.\u001b[0m\u001b[0m_data\u001b[0m\u001b[0;34m.\u001b[0m\u001b[0misna\u001b[0m\u001b[0;34m(\u001b[0m\u001b[0mfunc\u001b[0m\u001b[0;34m=\u001b[0m\u001b[0misna\u001b[0m\u001b[0;34m)\u001b[0m\u001b[0;34m)\u001b[0m\u001b[0;34m\u001b[0m\u001b[0;34m\u001b[0m\u001b[0m\n",
      "\u001b[0;32m~/.local/lib/python3.6/site-packages/pandas/core/dtypes/missing.py\u001b[0m in \u001b[0;36m_isna_ndarraylike\u001b[0;34m(obj)\u001b[0m\n\u001b[1;32m    211\u001b[0m             \u001b[0;31m# object array of non-strings\u001b[0m\u001b[0;34m\u001b[0m\u001b[0;34m\u001b[0m\u001b[0;34m\u001b[0m\u001b[0m\n\u001b[1;32m    212\u001b[0m             \u001b[0mresult\u001b[0m \u001b[0;34m=\u001b[0m \u001b[0mnp\u001b[0m\u001b[0;34m.\u001b[0m\u001b[0mempty\u001b[0m\u001b[0;34m(\u001b[0m\u001b[0mshape\u001b[0m\u001b[0;34m,\u001b[0m \u001b[0mdtype\u001b[0m\u001b[0;34m=\u001b[0m\u001b[0mbool\u001b[0m\u001b[0;34m)\u001b[0m\u001b[0;34m\u001b[0m\u001b[0;34m\u001b[0m\u001b[0m\n\u001b[0;32m--> 213\u001b[0;31m             \u001b[0mvec\u001b[0m \u001b[0;34m=\u001b[0m \u001b[0mlibmissing\u001b[0m\u001b[0;34m.\u001b[0m\u001b[0misnaobj\u001b[0m\u001b[0;34m(\u001b[0m\u001b[0mvalues\u001b[0m\u001b[0;34m.\u001b[0m\u001b[0mravel\u001b[0m\u001b[0;34m(\u001b[0m\u001b[0;34m)\u001b[0m\u001b[0;34m)\u001b[0m\u001b[0;34m\u001b[0m\u001b[0;34m\u001b[0m\u001b[0m\n\u001b[0m\u001b[1;32m    214\u001b[0m             \u001b[0mresult\u001b[0m\u001b[0;34m[\u001b[0m\u001b[0;34m...\u001b[0m\u001b[0;34m]\u001b[0m \u001b[0;34m=\u001b[0m \u001b[0mvec\u001b[0m\u001b[0;34m.\u001b[0m\u001b[0mreshape\u001b[0m\u001b[0;34m(\u001b[0m\u001b[0mshape\u001b[0m\u001b[0;34m)\u001b[0m\u001b[0;34m\u001b[0m\u001b[0;34m\u001b[0m\u001b[0m\n\u001b[1;32m    215\u001b[0m \u001b[0;34m\u001b[0m\u001b[0m\n",
      "\u001b[0;31mKeyboardInterrupt\u001b[0m: "
     ]
    }
   ],
   "source": [
    "for tipo in ms.columns:\n",
    "    if tipo not in numericos:\n",
    "            print(ms[tipo].describe())"
   ]
  },
  {
   "cell_type": "code",
   "execution_count": null,
   "metadata": {},
   "outputs": [],
   "source": [
    "categoricos = [i for i in ms.columns if i not in numericos]"
   ]
  },
  {
   "cell_type": "code",
   "execution_count": null,
   "metadata": {},
   "outputs": [],
   "source": [
    "ms[categoricos].isna().sum()[ms[categoricos].isna().sum() != 0] / ms.shape[0] * 100"
   ]
  },
  {
   "cell_type": "markdown",
   "metadata": {},
   "source": [
    "##### Verificação de variáveis com apenas 1 valor distinto"
   ]
  },
  {
   "cell_type": "code",
   "execution_count": null,
   "metadata": {},
   "outputs": [],
   "source": [
    "for var in ms.columns:\n",
    "    if len(ms[var].value_counts()) < 2:\n",
    "        print(var)"
   ]
  },
  {
   "cell_type": "code",
   "execution_count": null,
   "metadata": {
    "scrolled": true
   },
   "outputs": [],
   "source": [
    "ms[categoricos].nunique()[ms[categoricos].nunique() > 40]"
   ]
  },
  {
   "cell_type": "markdown",
   "metadata": {},
   "source": [
    "#### Agrupar classes que têm valores do tipo X.Y.Z.W para X.Y"
   ]
  },
  {
   "cell_type": "code",
   "execution_count": null,
   "metadata": {
    "scrolled": true
   },
   "outputs": [],
   "source": [
    "def trataString(string):\n",
    "    words = string.split(\".\")\n",
    "    palavra= '' + words[0] + '.' + words[1]\n",
    "    return palavra\n",
    "ms['AppVersion'] = ms['AppVersion'].apply(lambda x : trataString(x))\n",
    "print(len(ms['AppVersion'].unique()))\n",
    "ms['AvSigVersion'] = ms['AvSigVersion'].apply(lambda x : trataString(x))\n",
    "len(ms['AvSigVersion'].unique())"
   ]
  },
  {
   "cell_type": "markdown",
   "metadata": {},
   "source": [
    "#### Agrupar classes que têm valores do tipo X.Y.Z.W para X.Y.Z"
   ]
  },
  {
   "cell_type": "code",
   "execution_count": null,
   "metadata": {},
   "outputs": [],
   "source": [
    "def trataString2(string):\n",
    "    words = string.split(\".\")\n",
    "    palavra= '' + words[0] + '.' + words[1] + '.' + words[2]\n",
    "    return palavra\n",
    "ms['Census_OSVersion'] = ms['Census_OSVersion'].apply(lambda x : trataString2(x))\n",
    "print(len(ms['Census_OSVersion'].unique()))"
   ]
  },
  {
   "cell_type": "markdown",
   "metadata": {},
   "source": [
    "#### Agrupar alguns valores de variáveis\n",
    "\n",
    "- SmartScreen\n",
    "    - valores on e On significam o mesmo pelo que podem ser agrupados\n",
    "    - o mesmo acontece com off, Off e OFF\n",
    "    - valores que são imperceptíveis são classificados como other\n",
    "- UacLuaenable\n",
    "    - valores acima de 1 são considerados como 1 (a variável é binária)"
   ]
  },
  {
   "cell_type": "code",
   "execution_count": null,
   "metadata": {},
   "outputs": [],
   "source": [
    "ms['SmartScreen'] = ms['SmartScreen'].replace({\"on\": \"On\", \"off\": \"Off\", \"OFF\": \"Off\"})\n",
    "ms['SmartScreen'] = ms['SmartScreen'].replace({\"&#x02;\": \"other\", \"&#x01;\": \"other\", \"0\": \"other\"})\n",
    "ms['SmartScreen'].value_counts()"
   ]
  },
  {
   "cell_type": "code",
   "execution_count": null,
   "metadata": {},
   "outputs": [],
   "source": [
    "ms.loc[ms['UacLuaenable'] > 1, 'UacLuaenable'] = 1\n",
    "ms['UacLuaenable'].value_counts()"
   ]
  },
  {
   "cell_type": "code",
   "execution_count": null,
   "metadata": {},
   "outputs": [],
   "source": [
    "ms['Census_InternalBatteryType'].value_counts()\n",
    "\n",
    "#ms['Census_InternalBatteryType'] = ms['Census_InternalBatteryType'].replace({\"li-i\": \"lion\", \"&#x01;\": \"other\", \"0\": \"other\"})\n",
    "\n"
   ]
  },
  {
   "cell_type": "markdown",
   "metadata": {},
   "source": [
    "### Conversão dos valores para categóricos"
   ]
  },
  {
   "cell_type": "code",
   "execution_count": null,
   "metadata": {},
   "outputs": [],
   "source": [
    "for tipo in ms.columns:\n",
    "    if tipo not in numericos:\n",
    "            ms[tipo] = ms[tipo].astype('category')    "
   ]
  },
  {
   "cell_type": "code",
   "execution_count": null,
   "metadata": {
    "scrolled": true
   },
   "outputs": [],
   "source": [
    "ms.describe()"
   ]
  },
  {
   "cell_type": "code",
   "execution_count": null,
   "metadata": {},
   "outputs": [],
   "source": [
    "ms[categoricos].nunique()[ms[categoricos].nunique() > 40]"
   ]
  },
  {
   "cell_type": "code",
   "execution_count": null,
   "metadata": {},
   "outputs": [],
   "source": [
    "ms[categoricos].nunique().sum()"
   ]
  },
  {
   "cell_type": "code",
   "execution_count": null,
   "metadata": {},
   "outputs": [],
   "source": [
    "ms['Census_InternalBatteryType'].nunique()"
   ]
  },
  {
   "cell_type": "markdown",
   "metadata": {},
   "source": [
    "Apenas podemos substituir diretamente pelo valor modal as variáveis cuja classe modal contenha uma percentagem de valores acima de um *threshold*. \n",
    "O *threshold* que nos pareceu mais adequado foi 94%."
   ]
  },
  {
   "cell_type": "code",
   "execution_count": null,
   "metadata": {},
   "outputs": [],
   "source": [
    "verTratar = []\n",
    "for j in [i for i in categoricos]:\n",
    "    if ms[j].isna().sum() > 0:\n",
    "        a = (ms[j].value_counts() / ms[j].value_counts().sum() * 100)\n",
    "        if a.iloc[0] < 94:\n",
    "            verTratar.append(j)"
   ]
  },
  {
   "cell_type": "code",
   "execution_count": null,
   "metadata": {},
   "outputs": [],
   "source": [
    "verTratar"
   ]
  },
  {
   "cell_type": "markdown",
   "metadata": {},
   "source": [
    "### Tratar NAs dos restantes valores\n",
    "\n",
    "Ter atenção que existe no mínimo uma coluna que não pode ser tratada com o valor modal\n",
    "\n",
    "* Census_IsAlwaysOnAlwaysConnectedCapable - 6%\n",
    "* Wdft_IsGame - 28%\n",
    "\n",
    "* ainda existem mais, estão no array verTratar\n",
    "\n",
    "##### Depois ver se existe este problema em algum dos vossos"
   ]
  },
  {
   "cell_type": "code",
   "execution_count": null,
   "metadata": {
    "scrolled": false
   },
   "outputs": [],
   "source": [
    "tratar = [i for i in categoricos if i not in verTratar]\n",
    "moda = ms[tratar].mode()\n",
    "for coluna in tratar:\n",
    "    if(ms[coluna].isna().sum() > 0):\n",
    "        ms[coluna].fillna(moda[coluna][0],inplace=True)\n",
    "print(ms[categoricos].isna().sum().sum())\n",
    "print(ms[tratar].isna().sum().sum())\n",
    "print(ms[verTratar].isna().sum().sum())"
   ]
  },
  {
   "cell_type": "markdown",
   "metadata": {},
   "source": [
    "## Separação do dataset em treino teste\n",
    "\n",
    "Vamos separar porque o restante tratamento dos NA's e a normalização vão ser baseados em métodos paramétricos pelo que é necessário esta separação. Os parametros serão estimados com os dados de teste e posteriormente aplicados aos dados de teste"
   ]
  },
  {
   "cell_type": "code",
   "execution_count": null,
   "metadata": {},
   "outputs": [],
   "source": [
    "treinoT = 550000\n",
    "testeT = 600000\n",
    "treino = ms[:treinoT]\n",
    "teste = ms[treinoT:testeT]"
   ]
  },
  {
   "cell_type": "code",
   "execution_count": null,
   "metadata": {},
   "outputs": [],
   "source": [
    "print(teste.shape)\n",
    "print(treino.shape)"
   ]
  },
  {
   "cell_type": "markdown",
   "metadata": {},
   "source": [
    "### Tratar variáveis "
   ]
  },
  {
   "cell_type": "markdown",
   "metadata": {},
   "source": [
    "## Valores numéricos\n",
    "Tratamos agora os valores numéricos"
   ]
  },
  {
   "cell_type": "markdown",
   "metadata": {},
   "source": [
    "### Análise outliers\n",
    "\n",
    "Vamos realizar uma análise aos outliers para perceber se a substituição dos valores quantitativos e posterior *standardização* será realizada com a média ou mediana e desvio-padrão ou intervalo entre quartis."
   ]
  },
  {
   "cell_type": "code",
   "execution_count": null,
   "metadata": {},
   "outputs": [],
   "source": [
    "print((treino[numericos[0]]).plot.box())\n"
   ]
  },
  {
   "cell_type": "code",
   "execution_count": null,
   "metadata": {
    "scrolled": true
   },
   "outputs": [],
   "source": [
    "print((treino[numericos[1]]).plot.box())\n"
   ]
  },
  {
   "cell_type": "code",
   "execution_count": null,
   "metadata": {},
   "outputs": [],
   "source": [
    "print((treino[numericos[2]]).plot.box())\n"
   ]
  },
  {
   "cell_type": "code",
   "execution_count": null,
   "metadata": {},
   "outputs": [],
   "source": [
    "print((treino[numericos[3]]).plot.box())\n"
   ]
  },
  {
   "cell_type": "code",
   "execution_count": null,
   "metadata": {},
   "outputs": [],
   "source": [
    "print((treino[numericos[4]]).plot.box())"
   ]
  },
  {
   "cell_type": "code",
   "execution_count": null,
   "metadata": {},
   "outputs": [],
   "source": [
    "print((treino[numericos[5]]).plot.box())"
   ]
  },
  {
   "cell_type": "code",
   "execution_count": null,
   "metadata": {},
   "outputs": [],
   "source": [
    "print((treino[numericos[6]]).plot.box())"
   ]
  },
  {
   "cell_type": "code",
   "execution_count": null,
   "metadata": {},
   "outputs": [],
   "source": [
    "print((treino[numericos[7]]).plot.box())"
   ]
  },
  {
   "cell_type": "code",
   "execution_count": null,
   "metadata": {},
   "outputs": [],
   "source": [
    "print((treino[numericos[8]]).plot.box())"
   ]
  },
  {
   "cell_type": "code",
   "execution_count": null,
   "metadata": {},
   "outputs": [],
   "source": [
    "print((treino[numericos[9]]).plot.box())"
   ]
  },
  {
   "cell_type": "markdown",
   "metadata": {},
   "source": [
    "**Variáveis sem outliers**\n",
    "\n",
    "- Census_InternalBatteryNumberOfCharges\n",
    "- AVProductsInstalled\n",
    "- AVProductsEnabled"
   ]
  },
  {
   "cell_type": "markdown",
   "metadata": {},
   "source": [
    "### Tratar NAs das variáveis numéricas/continuas\n",
    "\n",
    "Se a variavel tem outliers substituir por mediana. Caso contrário substituir pela média."
   ]
  },
  {
   "cell_type": "code",
   "execution_count": null,
   "metadata": {},
   "outputs": [],
   "source": [
    "subNum = treino[numericos].median()\n",
    "subNum['Census_InternalBatteryNumberOfCharges'] = treino['Census_InternalBatteryNumberOfCharges'].mean()\n",
    "subNum['AVProductsInstalled'] = treino['AVProductsInstalled'].mean()\n",
    "subNum['AVProductsEnabled'] = treino['AVProductsEnabled'].mean()\n",
    "q1 = treino[numericos].quantile(0.25)\n",
    "q3 = treino[numericos].quantile(0.75) \n",
    "divisao = q3 - q1\n",
    "divisao['Census_InternalBatteryNumberOfCharges'] = treino['Census_InternalBatteryNumberOfCharges'].std()\n",
    "divisao['AVProductsInstalled'] = treino['AVProductsInstalled'].std()\n",
    "divisao['AVProductsEnabled'] = treino['AVProductsEnabled'].std()\n",
    "for coluna in numericos:\n",
    "    if(ms[coluna].isna().sum() > 0):\n",
    "        ms[coluna].fillna(subNum[coluna],inplace=True)\n",
    "ms[numericos].isna().sum().sum()"
   ]
  },
  {
   "cell_type": "code",
   "execution_count": null,
   "metadata": {
    "scrolled": true
   },
   "outputs": [],
   "source": [
    "ms.isna().sum().sum()"
   ]
  },
  {
   "cell_type": "markdown",
   "metadata": {},
   "source": [
    "## Standardização dos dados numéricos"
   ]
  },
  {
   "cell_type": "code",
   "execution_count": null,
   "metadata": {},
   "outputs": [],
   "source": [
    "divisao"
   ]
  },
  {
   "cell_type": "code",
   "execution_count": null,
   "metadata": {
    "scrolled": false
   },
   "outputs": [],
   "source": [
    "treinoStd = ( treino[numericos] - subNum ) / divisao\n",
    "treinoStd.describe()"
   ]
  },
  {
   "cell_type": "markdown",
   "metadata": {},
   "source": [
    "### Realizar one-hot encoding\n",
    "Decidimos codificar uma função que realiza o one-hot-encoding das variáveis necessárias"
   ]
  },
  {
   "cell_type": "code",
   "execution_count": null,
   "metadata": {},
   "outputs": [],
   "source": [
    "import gc\n",
    "def oneHotEncoding(serie):\n",
    "    colunas = serie.unique()\n",
    "    dic = {}\n",
    "    for coluna in colunas:\n",
    "        dic[serie.name + '_' + str(coluna)] = []\n",
    "    for i in serie:\n",
    "        dic[serie.name + '_' + str(i)].append(1)\n",
    "        for j in colunas:\n",
    "            if j != i:\n",
    "                dic[serie.name + '_' + str(j)].append(0)\n",
    "    r = pd.DataFrame(dic)\n",
    "    del dic\n",
    "    gc.collect()\n",
    "    return r"
   ]
  },
  {
   "cell_type": "markdown",
   "metadata": {},
   "source": [
    "Para cada variável que podia ser tratada e fosse necessário o one-hot encoding realizamos o mesmo e gravamos num ficheiro.\n",
    "<code>encode = [i for i in tratar if len(ms[i].unique()) > 2]\n",
    "for var in encode:\n",
    "        aux = oneHotEncoding(ms[var])\n",
    "        aux.to_csv('./encoding/' + var +'-1hot.csv', sep=',', encoding='utf-8')</code>\n",
    "De seguida juntamos todas as variáveis que já tivessem sido tratadfas num único ficheiro."
   ]
  },
  {
   "cell_type": "markdown",
   "metadata": {},
   "source": [
    "### Prever os restantes com Random Forests\n",
    "De seguida vamos prever os valores dos NAs das variáveis que faltam ser tratadas. \n",
    "Para isso apenas realizamos uma Random Forest e prevemos o valor, sendo que a random forest apenas é treinada com os dados de treino considerados (não pode usar os de teste).\n",
    "\n",
    "Temos plena noção que o ideal seria tentar arranjar o melhor modelo para prever estes NAs fazendo vários modelos e vendo qual seria o melhor (basicamente o mesmo que vamos realizar para prever se tem deteções), no entanto devido à falta de tempo não nos foi possível utilizar esse método."
   ]
  },
  {
   "cell_type": "markdown",
   "metadata": {},
   "source": [
    "## Definir os tipos\n",
    "Tivemos de definir os tipos das variáveis categóricas para ser possível carregar o conjunto de dados"
   ]
  },
  {
   "cell_type": "code",
   "execution_count": null,
   "metadata": {},
   "outputs": [],
   "source": [
    "import pandas as pd\n",
    "numericos = ['AVProductsInstalled',\n",
    "'AVProductsEnabled',\n",
    "'Census_ProcessorCoreCount',\n",
    "'Census_PrimaryDiskTotalCapacity',\n",
    "'Census_SystemVolumeTotalCapacity',\n",
    "'Census_TotalPhysicalRAM',\n",
    "'Census_InternalPrimaryDiagonalDisplaySizeInInches',\n",
    "'Census_InternalPrimaryDisplayResolutionHorizontal',\n",
    "'Census_InternalPrimaryDisplayResolutionVertical',\n",
    "'Census_InternalBatteryNumberOfCharges']\n",
    "dtype = {}\n",
    "for df in pd.read_csv('encoding/final_sembat.csv',low_memory=False,chunksize=10):\n",
    "    for var in df.columns:\n",
    "        if var not in numericos:\n",
    "            dtype[var] = 'int8'\n",
    "    break"
   ]
  },
  {
   "cell_type": "markdown",
   "metadata": {},
   "source": [
    "Tivemos de definir os tipos para int8 para que não ocupe demasiado espaço, caso contrário não era possível carregar o dataset. Para além disso tivemos de ir lendo o dataset em *chunks* e juntando-os pois a função **read_csv** tem problemas de memória."
   ]
  },
  {
   "cell_type": "code",
   "execution_count": null,
   "metadata": {
    "scrolled": true
   },
   "outputs": [],
   "source": [
    "import pandas as pd\n",
    "auxPred = pd.DataFrame()\n",
    "i = 0\n",
    "for tp in pd.read_csv('encoding/final_sembat.csv',low_memory=False,chunksize=50000,dtype=dtype):\n",
    "#     if i == 55:\n",
    "#         break\n",
    "    if i == 0:\n",
    "        auxPred = pd.concat([auxPred,tp])\n",
    "    else:\n",
    "        auxPred = pd.concat([auxPred,tp],ignore_index=True)\n",
    "    i+=1\n",
    "    print(i)\n",
    "#aux = pd.read_csv('encoding/predict.csv',low_memory=False,dtype=dtype)"
   ]
  },
  {
   "cell_type": "markdown",
   "metadata": {},
   "source": [
    "Função que realiza o treino do modelo"
   ]
  },
  {
   "cell_type": "code",
   "execution_count": null,
   "metadata": {},
   "outputs": [],
   "source": [
    "from sklearn.ensemble import RandomForestClassifier\n",
    "def realizaSVM(inp,out):\n",
    "    is_na = out.isna()\n",
    "    indice = [i for i in range(len(is_na)) if is_na[i] == False]\n",
    "    auxI = inp.iloc[indice]\n",
    "    auxO = out.iloc[indice]\n",
    "    neigh = RandomForestClassifier(n_estimators=10, max_depth=50)\n",
    "    print(auxO.shape)\n",
    "    neigh.fit(auxI,auxO)\n",
    "    return neigh"
   ]
  },
  {
   "cell_type": "markdown",
   "metadata": {},
   "source": [
    "Função que preenche os valoers nulos consoante o modelo retornado pela função anterior. De seguida realiza o one-hot encoding e grava num ficheiro."
   ]
  },
  {
   "cell_type": "code",
   "execution_count": null,
   "metadata": {},
   "outputs": [],
   "source": [
    "def realizaPrevEOfC(nome,treinoT,aux,ms):\n",
    "    oi = ms[nome]\n",
    "    oi = oi.astype('category')\n",
    "    svm_oi = realizaSVM(aux[:treinoT],oi[:treinoT])\n",
    "    is_na = oi.isna()\n",
    "    indice = [i for i in range(len(is_na)) if is_na[i] == True]\n",
    "    X_Prev = aux.iloc[indice]\n",
    "    previsto = svm_oi.predict(X_Prev)\n",
    "    for i in range(len(indice)):\n",
    "        oi[indice[i]] = previsto[i]\n",
    "    print(oi.isna().sum())\n",
    "    if oi.nunique() > 2:\n",
    "        gr = oneHotEncoding(oi)\n",
    "    else:\n",
    "        gr = oi\n",
    "    gr.to_csv('./encoding/' + oi.name +'-1hot.csv', sep=',', encoding='utf-8')"
   ]
  },
  {
   "cell_type": "markdown",
   "metadata": {},
   "source": [
    "Percorremos todas as variáveis que faltavam tratar e aplicamos o método descrito anteriormente.\n",
    "\n",
    "<code>for var in verTratar:\n",
    "    treinoT = 550000\n",
    "    realizaPrevEOfC('Wdft_RegionIdentifier',treinoT,auxPred,ms)</code>"
   ]
  },
  {
   "cell_type": "markdown",
   "metadata": {},
   "source": [
    "### Realizar variance threshold\n",
    "### Realizar os modelos\n",
    "    - n se esqueçam dos hiper-parametros\n",
    "    - n se esqueçam de usar tanto o conjuntos de dados todo como do conjunto dado pelo filtro de variância"
   ]
  },
  {
   "cell_type": "code",
   "execution_count": null,
   "metadata": {},
   "outputs": [],
   "source": [
    "trainX = auxPred.loc[:499999, auxPred.columns != 'HasDetections']\n",
    "valX = auxPred.loc[500000:549999, auxPred.columns != 'HasDetections']\n",
    "testX = auxPred.loc[550000:599999, auxPred.columns != 'HasDetections']\n",
    "trainY = auxPred.loc[:499999,'HasDetections']\n",
    "valY = auxPred.loc[500000:549999,'HasDetections']\n",
    "valY = auxPred.loc[550000:599999,'HasDetections']\n",
    "print(trainX.shape)\n",
    "print(valX.shape)\n",
    "print(trainY.shape)\n",
    "print(valY.shape)"
   ]
  },
  {
   "cell_type": "markdown",
   "metadata": {},
   "source": [
    "## Variance threshold\n",
    "Para redução da dimensionalidade realizamos um filtro de variância. Obviamente podíamos ter usado outros métodos como **SelectKBest** ou **SelectPercentile**, no entanto decidimos usar apenas o filtro de variância pelo facto de os modelos lidarem bem com muitas colunas e porque não tínhamos muito tempo para perceber quantos preditores devíamos considerar (podia ser um \"hiper-parâmetro\"). Inicialmente a ideia até passou por usar **PCA**, no entanto a mesma foi logo desconsiderada pelo facto de existirem demasiadas variáveis categóricas.\n",
    "\n",
    "Não quisemos definir um filtro de variância demasiado alto, pois possibilitava a eliminação de demasiadas colunas e definimos o limite em 0.1%."
   ]
  },
  {
   "cell_type": "code",
   "execution_count": null,
   "metadata": {},
   "outputs": [],
   "source": [
    "# import gc\n",
    "# import math\n",
    "# from sklearn.feature_selection import VarianceThreshold\n",
    "# def realizaVarThreshold():\n",
    "#     indices = []\n",
    "#     col = trainX.columns\n",
    "#     total = len(col)\n",
    "#     chunk = math.floor(total / 10)\n",
    "#     print(chunk)\n",
    "#     quantos = 0\n",
    "#     for i in range(chunk):\n",
    "#         sel = VarianceThreshold(threshold=0.001)\n",
    "#         try:\n",
    "#             sel.fit(trainX[col[quantos:quantos+10]])\n",
    "#             aux = [i+quantos for i in sel.get_support(indices=True)]\n",
    "#             indices.extend(aux)\n",
    "#         except:\n",
    "#             pass\n",
    "#         del sel\n",
    "#         gc.collect()\n",
    "#         quantos = quantos+10\n",
    "#     sel = VarianceThreshold(threshold=0.001)\n",
    "#     try:\n",
    "#         sel.fit(trainX[col[quantos:quantos+7]])\n",
    "#         indices.extend(sel.get_support(indices=True))\n",
    "#     except:\n",
    "#         pass\n",
    "#     del sel\n",
    "#     gc.collect()\n",
    "#     return indices"
   ]
  },
  {
   "cell_type": "code",
   "execution_count": null,
   "metadata": {
    "scrolled": false
   },
   "outputs": [],
   "source": [
    "# indices = realizaVarThreshold()\n",
    "# print(len(indices))\n",
    "# col = []\n",
    "# coln = trainX.columns\n",
    "# for i in indices:\n",
    "#     col.append(coln[i])"
   ]
  },
  {
   "cell_type": "code",
   "execution_count": null,
   "metadata": {},
   "outputs": [],
   "source": [
    "# trainX[col]"
   ]
  },
  {
   "cell_type": "markdown",
   "metadata": {},
   "source": [
    "## Seleção de modelos\n",
    "\n",
    "### Otimização de hiper-parâmetros\n",
    "\n",
    "Realizamos uma função que realiza uma pesquisa aleatório para otimização de hyper-parâmetros.\n",
    "\n",
    "Basicamente a função recebe um conjunto (dicionário) dos parâmetros possíveis e seleciona 10 combinações aleatórias retiradas desse conjunto. Depois para cada uma das combinações realiza o fit do modelo (que é passado como parâmetro) e faz o *score* do mesmo consoante os dados de validação. Todos os dados são pasados como parâmetro.\n",
    "\n",
    "Decidimos usar para o *score* o método **AUC** pelo facto de ser este o utilizado na competição na qual este conjunto de dados foi lançado."
   ]
  },
  {
   "cell_type": "code",
   "execution_count": null,
   "metadata": {},
   "outputs": [],
   "source": [
    "from sklearn.model_selection import ParameterSampler\n",
    "import copy\n",
    "import gc\n",
    "from sklearn.metrics import roc_curve, auc\n",
    "def hyper_parameter_optimization(params, modeloG, testX, testY, trainX, trainY):\n",
    "    lista_parametros = list(ParameterSampler(params, n_iter=10, random_state=10))\n",
    "    for elem in lista_parametros:\n",
    "        altera = False\n",
    "        for key, value in elem.items():\n",
    "            if key == 'solver':\n",
    "                if value in ['newton-cg','lbfgs','sag']:\n",
    "                    altera = True\n",
    "        if altera == True:\n",
    "            elem['penalty'] = 'l2'\n",
    "    tabelaFinal = []\n",
    "    for param in lista_parametros:\n",
    "        print(param)\n",
    "        modelo = copy.copy(modeloG)\n",
    "        modelo.set_params(**param)\n",
    "        #print(modelo.get_params())\n",
    "        modelo.fit(trainX,trainY)\n",
    "        pred = modelo.predict(testX)\n",
    "        false_positive_rate, true_positive_rate, thresholds = roc_curve(testY, pred)\n",
    "        score = auc(false_positive_rate, true_positive_rate)\n",
    "        elem = param.copy()\n",
    "        elem['score'] = score\n",
    "        tabelaFinal.append(elem)\n",
    "        del modelo\n",
    "        gc.collect()\n",
    "    return tabelaFinal"
   ]
  },
  {
   "cell_type": "code",
   "execution_count": null,
   "metadata": {},
   "outputs": [],
   "source": [
    "raise"
   ]
  },
  {
   "cell_type": "markdown",
   "metadata": {},
   "source": [
    "### Regressão Logística"
   ]
  },
  {
   "cell_type": "markdown",
   "metadata": {},
   "source": [
    "Devido às limitações de poder computacional do grupo, apenas foi possível realizar o treino dos modelos com 100000 exemplos. Deste modo selecionamos 100000 exemplos dos 500000 definidos para o treino e treinamos os nossos modelos de regressão logística com esses exemplos."
   ]
  },
  {
   "cell_type": "code",
   "execution_count": null,
   "metadata": {},
   "outputs": [],
   "source": [
    "trainX2 = trainX[:99999]\n",
    "trainY2 = trainY[:99999]"
   ]
  },
  {
   "cell_type": "markdown",
   "metadata": {},
   "source": [
    "Com o objetivo de obter vários modelos com parâmetros diferentes, utilizamos a função *hyper_parameter_optimization* descrita acima. Como parâmetros de estimação, decidimos tentar vários valores para o inverso do parâmetro de regularização, **C**, para a norma utilizada na penalização, **penalty**, e para o algoritmo de otimização, **solver**. No excerto de código seguinte é possível verificar a gama de valores na qual variamos cada um destes três parâmetros."
   ]
  },
  {
   "cell_type": "code",
   "execution_count": null,
   "metadata": {},
   "outputs": [],
   "source": [
    "from sklearn.linear_model import LogisticRegression\n",
    "import pandas as pd\n",
    "\n",
    "parametros = {'C':[0.001,0.01,0.1,1],\n",
    "              'penalty':['l1','l2'],\n",
    "              'solver':['newton-cg', 'lbfgs', 'liblinear', 'sag', 'saga']}\n",
    "\n",
    "logisticRegr = LogisticRegression(max_iter=100)\n",
    "\n",
    "modelosRegLog = hyper_parameter_optimization(parametros,logisticRegr,valX,valY,trainX2,trainY2)"
   ]
  },
  {
   "cell_type": "markdown",
   "metadata": {},
   "source": [
    "#### Tabela com os parâmetros dos 10 modelos testados\n",
    "De seguida é possível observar scores de 10 modelos originados por 10 conjuntos de parâmetros. De notar que estes 10 conjuntos são escolhidos aleatoriamente."
   ]
  },
  {
   "cell_type": "code",
   "execution_count": null,
   "metadata": {},
   "outputs": [],
   "source": [
    "tabelaRLog = pd.DataFrame(modelosRegLog)\n",
    "tabelaRLog.sort_values(by='score',ascending=False)"
   ]
  },
  {
   "cell_type": "markdown",
   "metadata": {},
   "source": [
    "De modo a não ser necessário efetuar recorrentemente os mesmos cálculos (muito dispendiosos em termos de tempo de execução), fizemos uma análise mais aprufundada, com 25 combinações diferentes dos parâmetros apresentados acima e armazenamos os resultados dos melhores modelos. Na seguinte tabela podemos observar os 6 modelos que obtiveram melhor pontuação:"
   ]
  },
  {
   "cell_type": "code",
   "execution_count": 23,
   "metadata": {},
   "outputs": [
    {
     "data": {
      "text/html": [
       "<div>\n",
       "<style scoped>\n",
       "    .dataframe tbody tr th:only-of-type {\n",
       "        vertical-align: middle;\n",
       "    }\n",
       "\n",
       "    .dataframe tbody tr th {\n",
       "        vertical-align: top;\n",
       "    }\n",
       "\n",
       "    .dataframe thead th {\n",
       "        text-align: right;\n",
       "    }\n",
       "</style>\n",
       "<table border=\"1\" class=\"dataframe\">\n",
       "  <thead>\n",
       "    <tr style=\"text-align: right;\">\n",
       "      <th></th>\n",
       "      <th>C</th>\n",
       "      <th>penalty</th>\n",
       "      <th>solver</th>\n",
       "      <th>score</th>\n",
       "    </tr>\n",
       "  </thead>\n",
       "  <tbody>\n",
       "    <tr>\n",
       "      <th>0</th>\n",
       "      <td>1.000</td>\n",
       "      <td>l1</td>\n",
       "      <td>liblinear</td>\n",
       "      <td>0.65226</td>\n",
       "    </tr>\n",
       "    <tr>\n",
       "      <th>1</th>\n",
       "      <td>0.010</td>\n",
       "      <td>l1</td>\n",
       "      <td>liblinear</td>\n",
       "      <td>0.64746</td>\n",
       "    </tr>\n",
       "    <tr>\n",
       "      <th>2</th>\n",
       "      <td>0.001</td>\n",
       "      <td>l2</td>\n",
       "      <td>newton-cg</td>\n",
       "      <td>0.62702</td>\n",
       "    </tr>\n",
       "    <tr>\n",
       "      <th>3</th>\n",
       "      <td>0.100</td>\n",
       "      <td>l2</td>\n",
       "      <td>newton-cg</td>\n",
       "      <td>0.61828</td>\n",
       "    </tr>\n",
       "    <tr>\n",
       "      <th>4</th>\n",
       "      <td>0.010</td>\n",
       "      <td>l2</td>\n",
       "      <td>newton-cg</td>\n",
       "      <td>0.60736</td>\n",
       "    </tr>\n",
       "    <tr>\n",
       "      <th>5</th>\n",
       "      <td>1.000</td>\n",
       "      <td>l2</td>\n",
       "      <td>newton-cg</td>\n",
       "      <td>0.54390</td>\n",
       "    </tr>\n",
       "  </tbody>\n",
       "</table>\n",
       "</div>"
      ],
      "text/plain": [
       "       C penalty     solver    score\n",
       "0  1.000      l1  liblinear  0.65226\n",
       "1  0.010      l1  liblinear  0.64746\n",
       "2  0.001      l2  newton-cg  0.62702\n",
       "3  0.100      l2  newton-cg  0.61828\n",
       "4  0.010      l2  newton-cg  0.60736\n",
       "5  1.000      l2  newton-cg  0.54390"
      ]
     },
     "execution_count": 23,
     "metadata": {},
     "output_type": "execute_result"
    }
   ],
   "source": [
    "import pandas as pd\n",
    "d = {'C': [1.000, 0.010, 0.001, 0.100, 0.010, 1.000], \n",
    "     'penalty': ['l1', 'l1', 'l2', 'l2', 'l2', 'l2'],\n",
    "     'solver':['liblinear', 'liblinear', 'newton-cg', 'newton-cg', 'newton-cg', 'newton-cg'],\n",
    "     'score': [0.65226, 0.64746, 0.62702, 0.61828, 0.60736, 0.54390]}\n",
    "df = pd.DataFrame(data=d)\n",
    "df"
   ]
  },
  {
   "cell_type": "markdown",
   "metadata": {},
   "source": [
    "### Regressão Logística: Variance threshold = 0.001\n",
    "\n",
    "Seguem-se os resultados obtidos com os dados de treino após se aplicar um threshold de variância nos mesmos."
   ]
  },
  {
   "cell_type": "code",
   "execution_count": null,
   "metadata": {},
   "outputs": [],
   "source": [
    "parametros = {'C':[0.001,0.01,0.1,1],\n",
    "              'penalty':['l1','l2'],\n",
    "              'solver':['newton-cg', 'lbfgs', 'liblinear', 'sag', 'saga']}\n",
    "\n",
    "logisticRegr = LogisticRegression(max_iter=100)\n",
    "\n",
    "modelosRegLog2 = hyper_parameter_optimization(parametros,logisticRegr,valX[col],valY,trainX2[col],trainY2)"
   ]
  },
  {
   "cell_type": "markdown",
   "metadata": {},
   "source": [
    "#### Tabela com os parâmetros dos 10 modelos testados"
   ]
  },
  {
   "cell_type": "code",
   "execution_count": null,
   "metadata": {},
   "outputs": [],
   "source": [
    "tabelaRLog2 = pd.DataFrame(modelosRegLog2)\n",
    "tabelaRLog2.sort_values(by='score',ascending=False)"
   ]
  },
  {
   "cell_type": "markdown",
   "metadata": {},
   "source": [
    "À semelhança do teste anterior, fizemos uma análise com 25 combinações diferentes dos parâmetros e registamos o valor dos melhores modelos. Na seguinte tabela podemos observar os 6 modelos que obtiveram melhor pontuação:"
   ]
  },
  {
   "cell_type": "code",
   "execution_count": 24,
   "metadata": {},
   "outputs": [
    {
     "data": {
      "text/html": [
       "<div>\n",
       "<style scoped>\n",
       "    .dataframe tbody tr th:only-of-type {\n",
       "        vertical-align: middle;\n",
       "    }\n",
       "\n",
       "    .dataframe tbody tr th {\n",
       "        vertical-align: top;\n",
       "    }\n",
       "\n",
       "    .dataframe thead th {\n",
       "        text-align: right;\n",
       "    }\n",
       "</style>\n",
       "<table border=\"1\" class=\"dataframe\">\n",
       "  <thead>\n",
       "    <tr style=\"text-align: right;\">\n",
       "      <th></th>\n",
       "      <th>C</th>\n",
       "      <th>penalty</th>\n",
       "      <th>solver</th>\n",
       "      <th>score</th>\n",
       "    </tr>\n",
       "  </thead>\n",
       "  <tbody>\n",
       "    <tr>\n",
       "      <th>0</th>\n",
       "      <td>1.000</td>\n",
       "      <td>l1</td>\n",
       "      <td>liblinear</td>\n",
       "      <td>0.65228</td>\n",
       "    </tr>\n",
       "    <tr>\n",
       "      <th>1</th>\n",
       "      <td>0.010</td>\n",
       "      <td>l1</td>\n",
       "      <td>liblinear</td>\n",
       "      <td>0.64738</td>\n",
       "    </tr>\n",
       "    <tr>\n",
       "      <th>2</th>\n",
       "      <td>1.000</td>\n",
       "      <td>l2</td>\n",
       "      <td>newton-cg</td>\n",
       "      <td>0.62150</td>\n",
       "    </tr>\n",
       "    <tr>\n",
       "      <th>3</th>\n",
       "      <td>0.010</td>\n",
       "      <td>l2</td>\n",
       "      <td>newton-cg</td>\n",
       "      <td>0.61460</td>\n",
       "    </tr>\n",
       "    <tr>\n",
       "      <th>4</th>\n",
       "      <td>0.100</td>\n",
       "      <td>l2</td>\n",
       "      <td>newton-cg</td>\n",
       "      <td>0.61294</td>\n",
       "    </tr>\n",
       "    <tr>\n",
       "      <th>5</th>\n",
       "      <td>0.001</td>\n",
       "      <td>l2</td>\n",
       "      <td>newton-cg</td>\n",
       "      <td>0.54404</td>\n",
       "    </tr>\n",
       "  </tbody>\n",
       "</table>\n",
       "</div>"
      ],
      "text/plain": [
       "       C penalty     solver    score\n",
       "0  1.000      l1  liblinear  0.65228\n",
       "1  0.010      l1  liblinear  0.64738\n",
       "2  1.000      l2  newton-cg  0.62150\n",
       "3  0.010      l2  newton-cg  0.61460\n",
       "4  0.100      l2  newton-cg  0.61294\n",
       "5  0.001      l2  newton-cg  0.54404"
      ]
     },
     "execution_count": 24,
     "metadata": {},
     "output_type": "execute_result"
    }
   ],
   "source": [
    "import pandas as pd\n",
    "d = {'C': [1.000, 0.010, 1.000, 0.010, 0.100, 0.001], \n",
    "     'penalty': ['l1', 'l1', 'l2', 'l2', 'l2', 'l2'],\n",
    "     'solver':['liblinear', 'liblinear', 'newton-cg', 'newton-cg', 'newton-cg', 'newton-cg'],\n",
    "     'score': [0.65228, 0.64738, 0.62150, 0.61460, 0.61294, 0.54404]}\n",
    "df = pd.DataFrame(data=d)\n",
    "df"
   ]
  },
  {
   "cell_type": "markdown",
   "metadata": {},
   "source": [
    "## Random forests\n",
    "\n",
    "Relativamente aos hiper-parâmetros que foram considerados para o método de **Random Forests** os mesmos foram os seguintes:\n",
    "    - *n_estimators* - o número de árvores usadas para prever\n",
    "    - *max_features* - o máximo número de preditores considerado (apenas consideramos 2 valores, que correspondem à raiz quadrada ou ao logaritmo)\n",
    "    - *max_depth* - a profundidade máxima da árvore\n",
    "    - *criterion* - o critério de seleção na decisão\n",
    "\n",
    "Estes foram os parâmteros que nos pareceram mais interessantes, talvez por ordem de insteresse. Não conseguimos utilizar muito bem o que queríamos, porque por exemplo gostavamos de ter utilizado números mais elevados de estimadores ou não definindo limites ao número de variáveis. Não foi possível pelo facto de o conjunto de dados ser demasiado grande o que não permitia que o modelo conseguisse realizar o *fit*.\n",
    "De referir apenas que com os dados obtidos com o filtro de variância conseguimos utilizar 100 estimadores pois eram menos dados."
   ]
  },
  {
   "cell_type": "markdown",
   "metadata": {},
   "source": [
    "#### Com todos os atributos"
   ]
  },
  {
   "cell_type": "code",
   "execution_count": 19,
   "metadata": {},
   "outputs": [],
   "source": [
    "from sklearn.ensemble import RandomForestClassifier\n",
    "n_estimators = [4, 8, 16, 32, 64]#, 100, 200]\n",
    "max_features = ['auto','log2']\n",
    "max_depth = [32,64,128,None]\n",
    "criterion = ['gini','entropy']\n",
    "parametros = {'n_estimators':n_estimators,'max_features':max_features,'max_depth':max_depth,'criterion':criterion}\n",
    "m = RandomForestClassifier()\n",
    "tabela = hyper_parameter_optimization(parametros,m,valX,valY,trainX,trainY)"
   ]
  },
  {
   "cell_type": "code",
   "execution_count": 20,
   "metadata": {},
   "outputs": [
    {
     "data": {
      "text/html": [
       "<div>\n",
       "<style scoped>\n",
       "    .dataframe tbody tr th:only-of-type {\n",
       "        vertical-align: middle;\n",
       "    }\n",
       "\n",
       "    .dataframe tbody tr th {\n",
       "        vertical-align: top;\n",
       "    }\n",
       "\n",
       "    .dataframe thead th {\n",
       "        text-align: right;\n",
       "    }\n",
       "</style>\n",
       "<table border=\"1\" class=\"dataframe\">\n",
       "  <thead>\n",
       "    <tr style=\"text-align: right;\">\n",
       "      <th></th>\n",
       "      <th>criterion</th>\n",
       "      <th>max_depth</th>\n",
       "      <th>max_features</th>\n",
       "      <th>n_estimators</th>\n",
       "      <th>score</th>\n",
       "    </tr>\n",
       "  </thead>\n",
       "  <tbody>\n",
       "    <tr>\n",
       "      <th>7</th>\n",
       "      <td>gini</td>\n",
       "      <td>32.0</td>\n",
       "      <td>auto</td>\n",
       "      <td>32</td>\n",
       "      <td>0.661923</td>\n",
       "    </tr>\n",
       "    <tr>\n",
       "      <th>9</th>\n",
       "      <td>gini</td>\n",
       "      <td>64.0</td>\n",
       "      <td>log2</td>\n",
       "      <td>64</td>\n",
       "      <td>0.655149</td>\n",
       "    </tr>\n",
       "    <tr>\n",
       "      <th>0</th>\n",
       "      <td>entropy</td>\n",
       "      <td>32.0</td>\n",
       "      <td>auto</td>\n",
       "      <td>8</td>\n",
       "      <td>0.646573</td>\n",
       "    </tr>\n",
       "    <tr>\n",
       "      <th>3</th>\n",
       "      <td>gini</td>\n",
       "      <td>NaN</td>\n",
       "      <td>auto</td>\n",
       "      <td>16</td>\n",
       "      <td>0.644740</td>\n",
       "    </tr>\n",
       "    <tr>\n",
       "      <th>8</th>\n",
       "      <td>gini</td>\n",
       "      <td>NaN</td>\n",
       "      <td>log2</td>\n",
       "      <td>16</td>\n",
       "      <td>0.636702</td>\n",
       "    </tr>\n",
       "    <tr>\n",
       "      <th>1</th>\n",
       "      <td>entropy</td>\n",
       "      <td>32.0</td>\n",
       "      <td>log2</td>\n",
       "      <td>8</td>\n",
       "      <td>0.633819</td>\n",
       "    </tr>\n",
       "    <tr>\n",
       "      <th>6</th>\n",
       "      <td>gini</td>\n",
       "      <td>128.0</td>\n",
       "      <td>auto</td>\n",
       "      <td>8</td>\n",
       "      <td>0.628578</td>\n",
       "    </tr>\n",
       "    <tr>\n",
       "      <th>2</th>\n",
       "      <td>gini</td>\n",
       "      <td>128.0</td>\n",
       "      <td>log2</td>\n",
       "      <td>8</td>\n",
       "      <td>0.615860</td>\n",
       "    </tr>\n",
       "    <tr>\n",
       "      <th>5</th>\n",
       "      <td>entropy</td>\n",
       "      <td>128.0</td>\n",
       "      <td>log2</td>\n",
       "      <td>4</td>\n",
       "      <td>0.601088</td>\n",
       "    </tr>\n",
       "    <tr>\n",
       "      <th>4</th>\n",
       "      <td>gini</td>\n",
       "      <td>NaN</td>\n",
       "      <td>log2</td>\n",
       "      <td>4</td>\n",
       "      <td>0.596266</td>\n",
       "    </tr>\n",
       "  </tbody>\n",
       "</table>\n",
       "</div>"
      ],
      "text/plain": [
       "  criterion  max_depth max_features  n_estimators     score\n",
       "7      gini       32.0         auto            32  0.661923\n",
       "9      gini       64.0         log2            64  0.655149\n",
       "0   entropy       32.0         auto             8  0.646573\n",
       "3      gini        NaN         auto            16  0.644740\n",
       "8      gini        NaN         log2            16  0.636702\n",
       "1   entropy       32.0         log2             8  0.633819\n",
       "6      gini      128.0         auto             8  0.628578\n",
       "2      gini      128.0         log2             8  0.615860\n",
       "5   entropy      128.0         log2             4  0.601088\n",
       "4      gini        NaN         log2             4  0.596266"
      ]
     },
     "execution_count": 20,
     "metadata": {},
     "output_type": "execute_result"
    }
   ],
   "source": [
    "import pandas as pd\n",
    "tab = pd.DataFrame(tabela)\n",
    "tab.sort_values(by='score',ascending=False)"
   ]
  },
  {
   "cell_type": "markdown",
   "metadata": {},
   "source": [
    "#### Apenas com os atributos que passaram o filtro de variância"
   ]
  },
  {
   "cell_type": "code",
   "execution_count": null,
   "metadata": {},
   "outputs": [],
   "source": [
    "trainX = auxPred.loc[:499999, col]\n",
    "valX = auxPred.loc[500000:549999, col]\n",
    "from sklearn.ensemble import RandomForestClassifier\n",
    "n_estimators = [8, 16, 32, 64, 100]\n",
    "max_features = ['auto','log2']\n",
    "max_depth = [32,64,128,None]\n",
    "criterion = ['gini','entropy']\n",
    "parametros = {'n_estimators':n_estimators,'max_features':max_features,'max_depth':max_depth,'criterion':criterion}\n",
    "m = RandomForestClassifier()\n",
    "tabelaVT = hyper_parameter_optimization(parametros,m,valX,valY,trainX,trainY)"
   ]
  },
  {
   "cell_type": "code",
   "execution_count": 22,
   "metadata": {},
   "outputs": [
    {
     "data": {
      "text/html": [
       "<div>\n",
       "<style scoped>\n",
       "    .dataframe tbody tr th:only-of-type {\n",
       "        vertical-align: middle;\n",
       "    }\n",
       "\n",
       "    .dataframe tbody tr th {\n",
       "        vertical-align: top;\n",
       "    }\n",
       "\n",
       "    .dataframe thead th {\n",
       "        text-align: right;\n",
       "    }\n",
       "</style>\n",
       "<table border=\"1\" class=\"dataframe\">\n",
       "  <thead>\n",
       "    <tr style=\"text-align: right;\">\n",
       "      <th></th>\n",
       "      <th>criterion</th>\n",
       "      <th>max_depth</th>\n",
       "      <th>max_features</th>\n",
       "      <th>n_estimators</th>\n",
       "      <th>score</th>\n",
       "    </tr>\n",
       "  </thead>\n",
       "  <tbody>\n",
       "    <tr>\n",
       "      <th>7</th>\n",
       "      <td>gini</td>\n",
       "      <td>32.0</td>\n",
       "      <td>auto</td>\n",
       "      <td>64</td>\n",
       "      <td>0.667463</td>\n",
       "    </tr>\n",
       "    <tr>\n",
       "      <th>9</th>\n",
       "      <td>gini</td>\n",
       "      <td>64.0</td>\n",
       "      <td>log2</td>\n",
       "      <td>100</td>\n",
       "      <td>0.658444</td>\n",
       "    </tr>\n",
       "    <tr>\n",
       "      <th>0</th>\n",
       "      <td>entropy</td>\n",
       "      <td>32.0</td>\n",
       "      <td>auto</td>\n",
       "      <td>16</td>\n",
       "      <td>0.657307</td>\n",
       "    </tr>\n",
       "    <tr>\n",
       "      <th>3</th>\n",
       "      <td>gini</td>\n",
       "      <td>NaN</td>\n",
       "      <td>auto</td>\n",
       "      <td>32</td>\n",
       "      <td>0.655033</td>\n",
       "    </tr>\n",
       "    <tr>\n",
       "      <th>1</th>\n",
       "      <td>entropy</td>\n",
       "      <td>32.0</td>\n",
       "      <td>log2</td>\n",
       "      <td>16</td>\n",
       "      <td>0.652853</td>\n",
       "    </tr>\n",
       "    <tr>\n",
       "      <th>8</th>\n",
       "      <td>gini</td>\n",
       "      <td>NaN</td>\n",
       "      <td>log2</td>\n",
       "      <td>32</td>\n",
       "      <td>0.649633</td>\n",
       "    </tr>\n",
       "    <tr>\n",
       "      <th>6</th>\n",
       "      <td>gini</td>\n",
       "      <td>128.0</td>\n",
       "      <td>auto</td>\n",
       "      <td>16</td>\n",
       "      <td>0.643742</td>\n",
       "    </tr>\n",
       "    <tr>\n",
       "      <th>2</th>\n",
       "      <td>gini</td>\n",
       "      <td>128.0</td>\n",
       "      <td>log2</td>\n",
       "      <td>16</td>\n",
       "      <td>0.640022</td>\n",
       "    </tr>\n",
       "    <tr>\n",
       "      <th>5</th>\n",
       "      <td>entropy</td>\n",
       "      <td>128.0</td>\n",
       "      <td>log2</td>\n",
       "      <td>8</td>\n",
       "      <td>0.629723</td>\n",
       "    </tr>\n",
       "    <tr>\n",
       "      <th>4</th>\n",
       "      <td>gini</td>\n",
       "      <td>NaN</td>\n",
       "      <td>log2</td>\n",
       "      <td>8</td>\n",
       "      <td>0.626342</td>\n",
       "    </tr>\n",
       "  </tbody>\n",
       "</table>\n",
       "</div>"
      ],
      "text/plain": [
       "  criterion  max_depth max_features  n_estimators     score\n",
       "7      gini       32.0         auto            64  0.667463\n",
       "9      gini       64.0         log2           100  0.658444\n",
       "0   entropy       32.0         auto            16  0.657307\n",
       "3      gini        NaN         auto            32  0.655033\n",
       "1   entropy       32.0         log2            16  0.652853\n",
       "8      gini        NaN         log2            32  0.649633\n",
       "6      gini      128.0         auto            16  0.643742\n",
       "2      gini      128.0         log2            16  0.640022\n",
       "5   entropy      128.0         log2             8  0.629723\n",
       "4      gini        NaN         log2             8  0.626342"
      ]
     },
     "execution_count": 22,
     "metadata": {},
     "output_type": "execute_result"
    }
   ],
   "source": [
    "import pandas as pd\n",
    "tabVT = pd.DataFrame(tabelaVT)\n",
    "tabVT.sort_values(by='score',ascending=False)"
   ]
  }
 ],
 "metadata": {
  "kernelspec": {
   "display_name": "Python 3",
   "language": "python",
   "name": "python3"
  },
  "language_info": {
   "codemirror_mode": {
    "name": "ipython",
    "version": 3
   },
   "file_extension": ".py",
   "mimetype": "text/x-python",
   "name": "python",
   "nbconvert_exporter": "python",
   "pygments_lexer": "ipython3",
   "version": "3.6.7"
  }
 },
 "nbformat": 4,
 "nbformat_minor": 2
}
