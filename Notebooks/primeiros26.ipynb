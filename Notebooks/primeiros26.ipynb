{
 "cells": [
  {
   "cell_type": "markdown",
   "metadata": {},
   "source": [
    "### Variavéis a analisar (primeiras 26):\n",
    "- ProductName - Defender state information e.g. win8defender\n",
    "- EngineVersion - Defender state information e.g. 1.1.12603.0\n",
    "- AppVersion - Defender state information e.g. 4.9.10586.0\n",
    "- AvSigVersion - Defender state information e.g. 1.217.1014.0\n",
    "- IsBeta - Defender state information e.g. false\n",
    "- RtpStateBitfield - NA\n",
    "- IsSxsPassiveMode - NA\n",
    "- DefaultBrowsersIdentifier - ID for the machine's default browser\n",
    "- AVProductStatesIdentifier - ID for the specific configuration of a user's antivirus software\n",
    "- AVProductsInstalled - NA\n",
    "- AVProductsEnabled - NA\n",
    "- HasTpm - True if machine has tpm\n",
    "- CountryIdentifier - ID for the country the machine is located in\n",
    "- CityIdentifier - ID for the city the machine is located in\n",
    "- OrganizationIdentifier - ID for the organization the machine belongs in, organization ID is mapped to both specific companies and broad industries\n",
    "- GeoNameIdentifier - ID for the geographic region a machine is located in\n",
    "- LocaleEnglishNameIdentifier - English name of Locale ID of the current user\n",
    "- Platform - Calculates platform name (of OS related properties and processor property)\n",
    "- Processor - This is the process architecture of the installed operating system\n",
    "- OsVer - Version of the current operating system\n",
    "- OsBuild - Build of the current operating system\n",
    "- OsSuite - Product suite mask for the current operating system.\n",
    "- OsPlatformSubRelease - Returns the OS Platform sub-release (Windows Vista, Windows 7, Windows 8, TH1, TH2)\n",
    "- OsBuildLab - Build lab that generated the current OS. Example: 9600.17630.amd64fre.winblue_r7.150109-2022\n",
    "- SkuEdition - \n",
    "- AutoSampleOptIn - This is the SubmitSamplesConsent value passed in from the service, available on CAMP 9+\n",
    "- PuaMode\n"
   ]
  },
  {
   "cell_type": "code",
   "execution_count": 33,
   "metadata": {},
   "outputs": [],
   "source": [
    "primeiros = ['ProductName','EngineVersion','AppVersion','AvSigVersion','IsBeta','RtpStateBitfield','IsSxsPassiveMode','DefaultBrowsersIdentifier','AVProductStatesIdentifier','AVProductsInstalled','AVProductsEnabled','HasTpm','CountryIdentifier','CityIdentifier','OrganizationIdentifier','GeoNameIdentifier','LocaleEnglishNameIdentifier','Platform','Processor','OsVer','OsBuild','OsSuite','OsPlatformSubRelease','OsBuildLab','SkuEdition','AutoSampleOptIn','PuaMode']"
   ]
  },
  {
   "cell_type": "code",
   "execution_count": 34,
   "metadata": {},
   "outputs": [],
   "source": [
    "## Carregar os dados:\n",
    "import pandas as pd\n",
    "df = pd.read_csv('../train_100k.csv',low_memory=False)"
   ]
  },
  {
   "cell_type": "code",
   "execution_count": 35,
   "metadata": {},
   "outputs": [
    {
     "data": {
      "text/plain": [
       "(99999, 27)"
      ]
     },
     "execution_count": 35,
     "metadata": {},
     "output_type": "execute_result"
    }
   ],
   "source": [
    "## selecionar as primeiras 26 colunas:\n",
    "df = df[primeiros]\n",
    "df.shape"
   ]
  },
  {
   "cell_type": "code",
   "execution_count": 36,
   "metadata": {
    "scrolled": true
   },
   "outputs": [
    {
     "name": "stdout",
     "output_type": "stream",
     "text": [
      "Coluna: RtpStateBitfieldPercentagem NAs: 0.3610036100361004\n",
      "Coluna: DefaultBrowsersIdentifierPercentagem NAs: 95.109951099511\n",
      "Coluna: AVProductStatesIdentifierPercentagem NAs: 0.3930039300393004\n",
      "Coluna: AVProductsInstalledPercentagem NAs: 0.3930039300393004\n",
      "Coluna: AVProductsEnabledPercentagem NAs: 0.3930039300393004\n",
      "Coluna: CityIdentifierPercentagem NAs: 3.6150361503615036\n",
      "Coluna: OrganizationIdentifierPercentagem NAs: 30.66330663306633\n",
      "Coluna: GeoNameIdentifierPercentagem NAs: 0.001000010000100001\n",
      "Coluna: OsBuildLabPercentagem NAs: 0.001000010000100001\n",
      "Coluna: PuaModePercentagem NAs: 99.9689996899969\n",
      "Numero de colunas com Nas:10\n"
     ]
    }
   ],
   "source": [
    "### ver os valores nulos\n",
    "percent_missing = df['EngineVersion'].isnull().sum() * 100 / len(df)\n",
    "i=0;\n",
    "for col in df:\n",
    "    \n",
    "    percent_missing = df[col].isnull().sum() * 100 / len(df)\n",
    "    if (percent_missing >0):\n",
    "        i=i+1\n",
    "        print(\"Coluna: \" + str(col) + \"Percentagem NAs: \" + str(percent_missing))\n",
    "print(\"Numero de colunas com Nas:\" + str(i))"
   ]
  },
  {
   "cell_type": "markdown",
   "metadata": {},
   "source": [
    "#### NaN:\n",
    "Podemos ver então que existem 9 colunas com Nas, sendo o *DefaultBrowsersIdentifierPercentagem* e *PuaMode* um valor muito significativo. "
   ]
  },
  {
   "cell_type": "code",
   "execution_count": 41,
   "metadata": {},
   "outputs": [
    {
     "name": "stdout",
     "output_type": "stream",
     "text": [
      "A coluna ProductNametem: 2 valores diferentes\n",
      "A coluna EngineVersiontem: 42 valores diferentes\n",
      "A coluna AppVersiontem: 80 valores diferentes\n",
      "A coluna AvSigVersiontem: 4027 valores diferentes\n",
      "A coluna IsBetatem: 1 valores diferentes\n",
      "A coluna RtpStateBitfieldtem: 7 valores diferentes\n",
      "A coluna IsSxsPassiveModetem: 2 valores diferentes\n",
      "A coluna DefaultBrowsersIdentifiertem: 289 valores diferentes\n",
      "A coluna AVProductStatesIdentifiertem: 2070 valores diferentes\n",
      "A coluna AVProductsInstalledtem: 6 valores diferentes\n",
      "A coluna AVProductsEnabledtem: 6 valores diferentes\n",
      "A coluna HasTpmtem: 2 valores diferentes\n",
      "A coluna CountryIdentifiertem: 221 valores diferentes\n",
      "A coluna CityIdentifiertem: 15813 valores diferentes\n",
      "A coluna OrganizationIdentifiertem: 38 valores diferentes\n",
      "A coluna GeoNameIdentifiertem: 243 valores diferentes\n",
      "A coluna LocaleEnglishNameIdentifiertem: 186 valores diferentes\n",
      "A coluna Platformtem: 4 valores diferentes\n",
      "A coluna Processortem: 3 valores diferentes\n",
      "A coluna OsVertem: 11 valores diferentes\n",
      "A coluna OsBuildtem: 43 valores diferentes\n",
      "A coluna OsSuitetem: 7 valores diferentes\n",
      "A coluna OsPlatformSubReleasetem: 9 valores diferentes\n",
      "A coluna OsBuildLabtem: 370 valores diferentes\n",
      "A coluna SkuEditiontem: 8 valores diferentes\n",
      "A coluna AutoSampleOptIntem: 2 valores diferentes\n",
      "A coluna PuaModetem: 2 valores diferentes\n"
     ]
    }
   ],
   "source": [
    "### ver o tipo e a diversidade de valores\n",
    "\n",
    "for col in df:\n",
    "    nome = df[col].unique()\n",
    "    print(\"A coluna \" + str(col) + \"tem: \" + str(len(nome)) + \" valores diferentes\")  "
   ]
  },
  {
   "cell_type": "code",
   "execution_count": null,
   "metadata": {},
   "outputs": [],
   "source": []
  }
 ],
 "metadata": {
  "kernelspec": {
   "display_name": "Python 3",
   "language": "python",
   "name": "python3"
  },
  "language_info": {
   "codemirror_mode": {
    "name": "ipython",
    "version": 3
   },
   "file_extension": ".py",
   "mimetype": "text/x-python",
   "name": "python",
   "nbconvert_exporter": "python",
   "pygments_lexer": "ipython3",
   "version": "3.6.7"
  }
 },
 "nbformat": 4,
 "nbformat_minor": 2
}
