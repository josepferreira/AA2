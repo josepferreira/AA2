{
 "cells": [
  {
   "cell_type": "markdown",
   "metadata": {},
   "source": [
    "### Variavéis a analisar (primeiras 26):\n",
    "- ProductName - Defender state information e.g. win8defender\n",
    "- EngineVersion - Defender state information e.g. 1.1.12603.0\n",
    "- AppVersion - Defender state information e.g. 4.9.10586.0\n",
    "- AvSigVersion - Defender state information e.g. 1.217.1014.0\n",
    "- IsBeta - Defender state information e.g. false\n",
    "- RtpStateBitfield - NA\n",
    "- IsSxsPassiveMode - NA\n",
    "- DefaultBrowsersIdentifier - ID for the machine's default browser\n",
    "- AVProductStatesIdentifier - ID for the specific configuration of a user's antivirus software\n",
    "- AVProductsInstalled - NA\n",
    "- AVProductsEnabled - NA\n",
    "- HasTpm - True if machine has tpm\n",
    "- CountryIdentifier - ID for the country the machine is located in\n",
    "- CityIdentifier - ID for the city the machine is located in\n",
    "- OrganizationIdentifier - ID for the organization the machine belongs in, organization ID is mapped to both specific companies and broad industries\n",
    "- GeoNameIdentifier - ID for the geographic region a machine is located in\n",
    "- LocaleEnglishNameIdentifier - English name of Locale ID of the current user\n",
    "- Platform - Calculates platform name (of OS related properties and processor property)\n",
    "- Processor - This is the process architecture of the installed operating system\n",
    "- OsVer - Version of the current operating system\n",
    "- OsBuild - Build of the current operating system\n",
    "- OsSuite - Product suite mask for the current operating system.\n",
    "- OsPlatformSubRelease - Returns the OS Platform sub-release (Windows Vista, Windows 7, Windows 8, TH1, TH2)\n",
    "- OsBuildLab - Build lab that generated the current OS. Example: 9600.17630.amd64fre.winblue_r7.150109-2022\n",
    "- SkuEdition - \n",
    "- AutoSampleOptIn - This is the SubmitSamplesConsent value passed in from the service, available on CAMP 9+\n",
    "- PuaMode\n",
    "- IsProtected\n"
   ]
  },
  {
   "cell_type": "code",
   "execution_count": 1,
   "metadata": {},
   "outputs": [],
   "source": [
    "primeiros = ['ProductName','EngineVersion','AppVersion','AvSigVersion','IsBeta','RtpStateBitfield','IsSxsPassiveMode','DefaultBrowsersIdentifier','AVProductStatesIdentifier','AVProductsInstalled','AVProductsEnabled','HasTpm','CountryIdentifier','CityIdentifier','OrganizationIdentifier','GeoNameIdentifier','LocaleEnglishNameIdentifier','Platform','Processor','OsVer','OsBuild','OsSuite','OsPlatformSubRelease','OsBuildLab','SkuEdition','AutoSampleOptIn','PuaMode','IsProtected']"
   ]
  },
  {
   "cell_type": "code",
   "execution_count": 2,
   "metadata": {},
   "outputs": [],
   "source": [
    "## Carregar os dados:\n",
    "import pandas as pd\n",
    "df = pd.read_csv('../sample_train.csv',low_memory=False)"
   ]
  },
  {
   "cell_type": "code",
   "execution_count": 3,
   "metadata": {},
   "outputs": [
    {
     "data": {
      "text/plain": [
       "(600000, 28)"
      ]
     },
     "execution_count": 3,
     "metadata": {},
     "output_type": "execute_result"
    }
   ],
   "source": [
    "## selecionar as primeiras 26 colunas:\n",
    "df = df[primeiros]\n",
    "df.shape"
   ]
  },
  {
   "cell_type": "code",
   "execution_count": 4,
   "metadata": {},
   "outputs": [
    {
     "name": "stdout",
     "output_type": "stream",
     "text": [
      "Coluna: RtpStateBitfieldPercentagem NAs: 0.3615\n",
      "Coluna: DefaultBrowsersIdentifierPercentagem NAs: 95.149\n",
      "Coluna: AVProductStatesIdentifierPercentagem NAs: 0.4005\n",
      "Coluna: AVProductsInstalledPercentagem NAs: 0.4005\n",
      "Coluna: AVProductsEnabledPercentagem NAs: 0.4005\n",
      "Coluna: CityIdentifierPercentagem NAs: 3.6113333333333335\n",
      "Coluna: OrganizationIdentifierPercentagem NAs: 30.8455\n",
      "Coluna: GeoNameIdentifierPercentagem NAs: 0.0025\n",
      "Coluna: OsBuildLabPercentagem NAs: 0.0003333333333333333\n",
      "Coluna: PuaModePercentagem NAs: 99.97716666666666\n",
      "Coluna: IsProtectedPercentagem NAs: 0.3975\n",
      "Numero de colunas com Nas:11\n"
     ]
    }
   ],
   "source": [
    "### ver os valores nulos\n",
    "percent_missing = df['EngineVersion'].isnull().sum() * 100 / len(df)\n",
    "i=0;\n",
    "for col in df:\n",
    "    \n",
    "    percent_missing = df[col].isnull().sum() * 100 / len(df)\n",
    "    if (percent_missing >0):\n",
    "        i=i+1\n",
    "        print(\"Coluna: \" + str(col) + \"Percentagem NAs: \" + str(percent_missing))\n",
    "print(\"Numero de colunas com Nas:\" + str(i))"
   ]
  },
  {
   "cell_type": "markdown",
   "metadata": {},
   "source": [
    "#### NaN:\n",
    "Podemos ver então que existem 9 colunas com Nas, sendo o *DefaultBrowsersIdentifierPercentagem* e *PuaMode* um valor muito significativo. "
   ]
  },
  {
   "cell_type": "code",
   "execution_count": 5,
   "metadata": {},
   "outputs": [
    {
     "name": "stdout",
     "output_type": "stream",
     "text": [
      "A coluna ProductName tem: 4 valores diferentes\n",
      "A coluna EngineVersion tem: 53 valores diferentes\n",
      "A coluna AppVersion tem: 97 valores diferentes\n",
      "A coluna AvSigVersion tem: 6713 valores diferentes\n",
      "A coluna IsBeta tem: 2 valores diferentes\n",
      "A coluna RtpStateBitfield tem: 8 valores diferentes\n",
      "A coluna IsSxsPassiveMode tem: 2 valores diferentes\n",
      "A coluna DefaultBrowsersIdentifier tem: 611 valores diferentes\n",
      "A coluna AVProductStatesIdentifier tem: 6101 valores diferentes\n",
      "A coluna AVProductsInstalled tem: 8 valores diferentes\n",
      "A coluna AVProductsEnabled tem: 6 valores diferentes\n",
      "A coluna HasTpm tem: 2 valores diferentes\n",
      "A coluna CountryIdentifier tem: 222 valores diferentes\n",
      "A coluna CityIdentifier tem: 40324 valores diferentes\n",
      "A coluna OrganizationIdentifier tem: 45 valores diferentes\n",
      "A coluna GeoNameIdentifier tem: 267 valores diferentes\n",
      "A coluna LocaleEnglishNameIdentifier tem: 241 valores diferentes\n",
      "A coluna Platform tem: 4 valores diferentes\n",
      "A coluna Processor tem: 3 valores diferentes\n",
      "A coluna OsVer tem: 23 valores diferentes\n",
      "A coluna OsBuild tem: 49 valores diferentes\n",
      "A coluna OsSuite tem: 11 valores diferentes\n",
      "A coluna OsPlatformSubRelease tem: 9 valores diferentes\n",
      "A coluna OsBuildLab tem: 473 valores diferentes\n",
      "A coluna SkuEdition tem: 8 valores diferentes\n",
      "A coluna AutoSampleOptIn tem: 2 valores diferentes\n",
      "A coluna PuaMode tem: 2 valores diferentes\n",
      "A coluna IsProtected tem: 3 valores diferentes\n"
     ]
    }
   ],
   "source": [
    "### ver o tipo e a diversidade de valores\n",
    "\n",
    "for col in df:\n",
    "    nome = df[col].unique()\n",
    "    print(\"A coluna \" + str(col) + \" tem: \" + str(len(nome)) + \" valores diferentes\")  "
   ]
  },
  {
   "cell_type": "markdown",
   "metadata": {},
   "source": [
    "### Ver se a variável é numérica"
   ]
  },
  {
   "cell_type": "code",
   "execution_count": 6,
   "metadata": {},
   "outputs": [
    {
     "name": "stdout",
     "output_type": "stream",
     "text": [
      "Variável ProductNameÉ numérico: False\n",
      "Variável EngineVersionÉ numérico: False\n",
      "Variável AppVersionÉ numérico: False\n",
      "Variável AvSigVersionÉ numérico: False\n",
      "Variável IsBetaÉ numérico: True\n",
      "Variável RtpStateBitfieldÉ numérico: True\n",
      "Variável IsSxsPassiveModeÉ numérico: True\n",
      "Variável DefaultBrowsersIdentifierÉ numérico: True\n",
      "Variável AVProductStatesIdentifierÉ numérico: True\n",
      "Variável AVProductsInstalledÉ numérico: True\n",
      "Variável AVProductsEnabledÉ numérico: True\n",
      "Variável HasTpmÉ numérico: True\n",
      "Variável CountryIdentifierÉ numérico: True\n",
      "Variável CityIdentifierÉ numérico: True\n",
      "Variável OrganizationIdentifierÉ numérico: True\n",
      "Variável GeoNameIdentifierÉ numérico: True\n",
      "Variável LocaleEnglishNameIdentifierÉ numérico: True\n",
      "Variável PlatformÉ numérico: False\n",
      "Variável ProcessorÉ numérico: False\n",
      "Variável OsVerÉ numérico: False\n",
      "Variável OsBuildÉ numérico: True\n",
      "Variável OsSuiteÉ numérico: True\n",
      "Variável OsPlatformSubReleaseÉ numérico: False\n",
      "Variável OsBuildLabÉ numérico: False\n",
      "Variável SkuEditionÉ numérico: False\n",
      "Variável AutoSampleOptInÉ numérico: True\n",
      "Variável PuaModeÉ numérico: False\n",
      "Variável IsProtectedÉ numérico: True\n",
      "Numero de numéricas:17\n"
     ]
    }
   ],
   "source": [
    "## Ver o tipo dos dados\n",
    "from pandas.api.types import is_string_dtype\n",
    "from pandas.api.types import is_numeric_dtype\n",
    "i = 0\n",
    "numericas=[]\n",
    "for col in df:\n",
    "    tipo = is_numeric_dtype(df[col])\n",
    "    if (tipo):\n",
    "        numericas.append(col)\n",
    "        i=i+1\n",
    "    print (\"Variável \" + str(col) + \"É numérico: \" + str(tipo))\n",
    "print (\"Numero de numéricas:\" + str(i))"
   ]
  },
  {
   "cell_type": "code",
   "execution_count": 7,
   "metadata": {},
   "outputs": [
    {
     "data": {
      "text/plain": [
       "(600000, 17)"
      ]
     },
     "execution_count": 7,
     "metadata": {},
     "output_type": "execute_result"
    }
   ],
   "source": [
    "## tem apenas numericas\n",
    "dfNum = df[numericas]\n",
    "dfNum.shape"
   ]
  },
  {
   "cell_type": "markdown",
   "metadata": {},
   "source": [
    "### Aqui vamos tratar de tentar reduzir o numero de valores diferentes que cada coluna tem\n",
    "Faremos isto agrupando os valores em classes semelhantes\n",
    "\n",
    "Exemplo 1.2.3 e 1.2.4 = 1.2"
   ]
  },
  {
   "cell_type": "code",
   "execution_count": 8,
   "metadata": {},
   "outputs": [
    {
     "data": {
      "text/plain": [
       "array([      nan, 2.725e+03, 3.176e+03, 1.823e+03, 1.460e+02, 3.195e+03,\n",
       "       1.390e+02, 1.160e+03, 3.000e+03, 2.390e+02, 1.632e+03, 2.170e+03,\n",
       "       1.078e+03, 1.910e+03, 1.616e+03, 2.719e+03, 1.536e+03, 1.870e+03,\n",
       "       2.369e+03, 1.909e+03, 1.357e+03, 1.623e+03, 2.273e+03, 2.388e+03,\n",
       "       6.140e+02, 1.980e+03, 2.064e+03, 1.066e+03, 2.300e+02, 2.460e+03,\n",
       "       1.727e+03, 2.910e+03, 1.079e+03, 2.290e+03, 1.497e+03, 4.800e+01,\n",
       "       4.310e+02, 2.169e+03, 1.926e+03, 2.403e+03, 1.429e+03, 7.880e+02,\n",
       "       3.031e+03, 2.434e+03, 5.080e+02, 2.168e+03, 6.420e+02, 2.270e+03,\n",
       "       2.230e+02, 8.900e+02, 1.628e+03, 9.470e+02, 2.987e+03, 2.182e+03,\n",
       "       6.450e+02, 2.726e+03, 1.622e+03, 1.161e+03, 1.344e+03, 2.520e+02,\n",
       "       2.110e+03, 7.730e+02, 2.593e+03, 5.930e+02, 2.189e+03, 2.157e+03,\n",
       "       1.351e+03, 3.029e+03, 2.890e+03, 2.466e+03, 1.719e+03, 2.600e+02,\n",
       "       1.430e+03, 2.247e+03, 2.373e+03, 4.940e+02, 8.670e+02, 2.730e+03,\n",
       "       8.830e+02, 1.624e+03, 1.071e+03, 2.637e+03, 1.280e+03, 1.352e+03,\n",
       "       7.210e+02, 1.991e+03, 2.537e+03, 5.970e+02, 3.010e+03, 3.110e+02,\n",
       "       1.916e+03, 1.118e+03, 1.952e+03, 2.422e+03, 2.712e+03, 3.390e+02,\n",
       "       2.495e+03, 1.818e+03, 2.452e+03, 5.190e+02, 2.654e+03, 1.241e+03,\n",
       "       2.620e+03, 1.899e+03, 1.579e+03, 1.320e+02, 2.521e+03, 1.272e+03,\n",
       "       2.889e+03, 2.952e+03, 2.850e+03, 9.400e+01, 3.510e+02, 9.860e+02,\n",
       "       6.620e+02, 1.083e+03, 8.600e+02, 3.055e+03, 1.762e+03, 1.552e+03,\n",
       "       2.603e+03, 2.032e+03, 1.000e+01, 1.602e+03, 4.300e+02, 1.207e+03,\n",
       "       2.304e+03, 1.233e+03, 2.724e+03, 1.950e+03, 2.179e+03, 1.550e+03,\n",
       "       2.550e+03, 2.202e+03, 1.258e+03, 1.285e+03, 2.418e+03, 2.132e+03,\n",
       "       2.220e+02, 1.984e+03, 1.521e+03, 2.146e+03, 2.530e+02, 1.235e+03,\n",
       "       2.869e+03, 1.212e+03, 2.659e+03, 1.684e+03, 1.981e+03, 2.265e+03,\n",
       "       3.073e+03, 3.186e+03, 1.529e+03, 2.483e+03, 2.077e+03, 2.934e+03,\n",
       "       1.184e+03, 3.185e+03, 2.421e+03, 2.444e+03, 6.500e+01, 1.680e+02,\n",
       "       1.413e+03, 1.750e+03, 2.847e+03, 2.272e+03, 5.430e+02, 2.287e+03,\n",
       "       1.458e+03, 1.282e+03, 2.190e+03, 5.490e+02, 2.954e+03, 2.447e+03,\n",
       "       1.197e+03, 1.219e+03, 4.170e+02, 4.080e+02, 1.492e+03, 5.060e+02,\n",
       "       1.912e+03, 5.720e+02, 2.710e+02, 3.024e+03, 9.000e+00, 2.599e+03,\n",
       "       1.471e+03, 3.088e+03, 1.250e+02, 2.400e+01, 2.595e+03, 4.960e+02,\n",
       "       1.240e+03, 3.163e+03, 6.660e+02, 2.411e+03, 3.087e+03, 2.065e+03,\n",
       "       2.746e+03, 2.285e+03, 2.210e+02, 2.291e+03, 1.336e+03, 2.071e+03,\n",
       "       1.868e+03, 2.888e+03, 3.045e+03, 2.400e+02, 1.239e+03, 4.290e+02,\n",
       "       1.651e+03, 1.479e+03, 1.768e+03, 9.630e+02, 1.548e+03, 2.575e+03,\n",
       "       1.329e+03, 1.900e+02, 1.522e+03, 2.740e+02, 2.131e+03, 3.025e+03,\n",
       "       6.390e+02, 7.550e+02, 9.650e+02, 2.468e+03, 3.085e+03, 1.050e+02,\n",
       "       6.270e+02, 2.174e+03, 2.056e+03, 2.533e+03, 2.339e+03, 2.924e+03,\n",
       "       2.181e+03, 3.082e+03, 2.109e+03, 2.106e+03, 5.340e+02, 7.130e+02,\n",
       "       1.929e+03, 2.790e+02, 2.750e+03, 2.103e+03, 4.570e+02, 8.410e+02,\n",
       "       1.397e+03, 1.109e+03, 2.101e+03, 1.559e+03, 1.130e+03, 1.687e+03,\n",
       "       2.634e+03, 1.400e+03, 1.911e+03, 2.219e+03, 1.467e+03, 3.180e+03,\n",
       "       2.877e+03, 2.536e+03, 2.843e+03, 6.490e+02, 1.341e+03, 9.840e+02,\n",
       "       3.040e+03, 1.153e+03, 7.650e+02, 1.054e+03, 1.495e+03, 4.330e+02,\n",
       "       5.100e+02, 2.499e+03, 2.903e+03, 2.988e+03, 2.829e+03, 3.148e+03,\n",
       "       2.672e+03, 1.798e+03, 3.000e+02, 1.168e+03, 1.820e+03, 1.006e+03,\n",
       "       9.580e+02, 6.080e+02, 8.690e+02, 1.660e+02, 5.350e+02, 2.039e+03,\n",
       "       1.263e+03, 1.427e+03, 1.951e+03, 7.280e+02, 5.250e+02, 5.570e+02,\n",
       "       2.850e+02, 1.796e+03, 2.384e+03, 5.470e+02, 1.496e+03, 9.030e+02,\n",
       "       2.365e+03, 2.022e+03, 1.472e+03, 1.300e+02, 2.697e+03, 6.700e+01,\n",
       "       9.220e+02, 1.024e+03, 2.560e+02, 3.119e+03, 3.067e+03, 1.807e+03,\n",
       "       5.260e+02, 1.453e+03, 1.295e+03, 2.485e+03, 1.600e+02, 1.549e+03,\n",
       "       2.994e+03, 3.480e+02, 2.457e+03, 2.760e+02, 2.738e+03, 4.970e+02,\n",
       "       8.800e+01, 1.703e+03, 1.360e+02, 3.260e+02, 2.710e+03, 5.090e+02,\n",
       "       6.530e+02, 1.070e+03, 5.130e+02, 2.532e+03, 5.800e+01, 1.366e+03,\n",
       "       2.563e+03, 1.943e+03, 2.226e+03, 2.997e+03, 8.190e+02, 1.918e+03,\n",
       "       1.323e+03, 9.910e+02, 3.063e+03, 1.756e+03, 1.123e+03, 9.070e+02,\n",
       "       6.510e+02, 2.023e+03, 2.154e+03, 2.491e+03, 1.191e+03, 2.957e+03,\n",
       "       2.668e+03, 3.059e+03, 2.175e+03, 6.190e+02, 1.372e+03, 3.196e+03,\n",
       "       2.618e+03, 1.000e+00, 9.830e+02, 1.477e+03, 1.348e+03, 1.742e+03,\n",
       "       8.450e+02, 2.200e+02, 4.920e+02, 2.105e+03, 6.200e+02, 7.430e+02,\n",
       "       4.600e+02, 5.050e+02, 9.790e+02, 1.226e+03, 3.181e+03, 2.059e+03,\n",
       "       3.086e+03, 1.539e+03, 1.949e+03, 2.240e+02, 3.075e+03, 1.020e+03,\n",
       "       3.116e+03, 9.460e+02, 2.803e+03, 1.717e+03, 1.913e+03, 1.507e+03,\n",
       "       1.331e+03, 2.800e+03, 2.904e+03, 2.543e+03, 3.550e+02, 7.960e+02,\n",
       "       2.542e+03, 2.680e+03, 2.898e+03, 1.350e+03, 1.692e+03, 2.394e+03,\n",
       "       9.990e+02, 1.339e+03, 2.359e+03, 4.220e+02, 2.119e+03, 2.453e+03,\n",
       "       2.110e+02, 3.040e+02, 1.314e+03, 4.060e+02, 8.010e+02, 9.140e+02,\n",
       "       2.950e+03, 2.516e+03, 8.260e+02, 2.231e+03, 1.036e+03, 7.230e+02,\n",
       "       5.700e+01, 1.915e+03, 1.065e+03, 1.474e+03, 2.178e+03, 1.874e+03,\n",
       "       3.150e+02, 1.218e+03, 3.610e+02, 2.173e+03, 2.733e+03, 2.303e+03,\n",
       "       9.940e+02, 1.860e+03, 2.362e+03, 5.800e+02, 3.147e+03, 1.567e+03,\n",
       "       1.555e+03, 1.897e+03, 1.231e+03, 8.860e+02, 2.814e+03, 3.113e+03,\n",
       "       2.312e+03, 1.305e+03, 3.071e+03, 8.380e+02, 9.850e+02, 3.140e+02,\n",
       "       1.535e+03, 2.300e+01, 1.234e+03, 1.370e+02, 1.777e+03, 3.194e+03,\n",
       "       1.580e+03, 2.730e+02, 2.548e+03, 1.025e+03, 1.733e+03, 2.802e+03,\n",
       "       1.081e+03, 3.017e+03, 1.102e+03, 1.481e+03, 2.832e+03, 3.870e+02,\n",
       "       2.657e+03, 1.213e+03, 2.074e+03, 3.101e+03, 1.286e+03, 1.209e+03,\n",
       "       1.433e+03, 1.966e+03, 2.761e+03, 2.842e+03, 2.875e+03, 1.082e+03,\n",
       "       9.800e+01, 1.445e+03, 6.880e+02, 6.980e+02, 3.112e+03, 2.100e+03,\n",
       "       1.290e+03, 7.400e+02, 2.484e+03, 7.080e+02, 2.396e+03, 2.502e+03,\n",
       "       9.560e+02, 3.210e+02, 1.885e+03, 2.245e+03, 1.720e+02, 1.026e+03,\n",
       "       2.430e+02, 1.775e+03, 2.611e+03, 3.134e+03, 9.300e+02, 6.180e+02,\n",
       "       1.244e+03, 6.090e+02, 2.786e+03, 2.344e+03, 2.901e+03, 4.740e+02,\n",
       "       9.700e+01, 2.368e+03, 4.700e+01, 1.883e+03, 2.960e+02, 2.108e+03,\n",
       "       2.066e+03, 2.989e+03, 2.649e+03, 2.711e+03, 1.906e+03, 2.094e+03,\n",
       "       2.289e+03, 9.900e+01, 1.215e+03, 8.920e+02, 2.050e+02, 2.277e+03,\n",
       "       2.917e+03, 9.000e+02, 5.200e+02, 8.020e+02, 1.515e+03, 2.167e+03,\n",
       "       1.844e+03, 2.524e+03, 3.064e+03, 1.630e+02, 1.192e+03, 2.894e+03,\n",
       "       2.125e+03, 1.679e+03, 1.718e+03, 1.301e+03, 2.556e+03, 5.500e+01,\n",
       "       2.000e+00, 1.434e+03, 1.914e+03, 1.289e+03, 1.310e+03, 3.500e+02,\n",
       "       2.316e+03, 2.685e+03, 1.782e+03, 2.600e+01, 2.459e+03, 1.813e+03,\n",
       "       9.010e+02, 2.713e+03, 3.122e+03, 9.000e+01, 1.620e+02, 1.510e+02,\n",
       "       2.526e+03, 6.440e+02, 2.370e+03, 5.960e+02, 2.028e+03, 2.207e+03,\n",
       "       3.066e+03, 1.310e+02, 1.701e+03, 8.800e+02, 3.520e+02, 2.205e+03,\n",
       "       2.398e+03, 2.862e+03, 2.722e+03, 1.698e+03, 2.386e+03, 2.127e+03,\n",
       "       1.982e+03, 2.866e+03, 9.270e+02, 9.540e+02, 1.132e+03, 5.610e+02,\n",
       "       1.443e+03, 2.264e+03, 6.590e+02, 9.090e+02, 3.015e+03, 2.550e+02,\n",
       "       2.701e+03, 1.428e+03, 1.864e+03, 1.043e+03, 8.650e+02, 8.530e+02,\n",
       "       7.600e+02, 1.175e+03, 2.129e+03, 6.610e+02, 8.200e+02, 2.486e+03,\n",
       "       2.286e+03, 1.523e+03, 5.870e+02, 2.188e+03, 2.646e+03])"
      ]
     },
     "execution_count": 8,
     "metadata": {},
     "output_type": "execute_result"
    }
   ],
   "source": [
    "## DefaultBrowsersIdentifier 289 valores diferentes\n",
    "df['DefaultBrowsersIdentifier'].unique()"
   ]
  },
  {
   "cell_type": "code",
   "execution_count": 9,
   "metadata": {},
   "outputs": [],
   "source": [
    "def trataString(string):\n",
    "    words = string.split(\".\")\n",
    "    palavra= '' + words[0] + '.' + words[1]\n",
    "    return palavra"
   ]
  },
  {
   "cell_type": "code",
   "execution_count": 10,
   "metadata": {},
   "outputs": [
    {
     "data": {
      "text/plain": [
       "15"
      ]
     },
     "execution_count": 10,
     "metadata": {},
     "output_type": "execute_result"
    }
   ],
   "source": [
    "##App version: 97 valores diferentes\n",
    "df['AppVersion'] = df['AppVersion'].apply(lambda x : trataString(x))\n",
    "len(df['AppVersion'].unique())\n",
    "## Final: 15 valores"
   ]
  },
  {
   "cell_type": "code",
   "execution_count": 11,
   "metadata": {},
   "outputs": [
    {
     "data": {
      "text/plain": [
       "38"
      ]
     },
     "execution_count": 11,
     "metadata": {},
     "output_type": "execute_result"
    }
   ],
   "source": [
    "## AvSigVersion 4027 valores diferentes\n",
    "\n",
    "df['AvSigVersion'].unique()\n",
    "df['AvSigVersion'] = df['AvSigVersion'].apply(lambda x : trataString(x))\n",
    "len(df['AvSigVersion'].unique())\n",
    "## 4027 a 31"
   ]
  },
  {
   "cell_type": "code",
   "execution_count": 12,
   "metadata": {},
   "outputs": [
    {
     "data": {
      "text/plain": [
       "array([53447., 46162., 59764., ..., 27191.,  5546.,  7743.])"
      ]
     },
     "execution_count": 12,
     "metadata": {},
     "output_type": "execute_result"
    }
   ],
   "source": [
    "### AVProductStatesIdentifier 2070 \n",
    "df['AVProductStatesIdentifier'].unique()\n",
    "#df['AVProductStatesIdentifier']"
   ]
  },
  {
   "cell_type": "code",
   "execution_count": 13,
   "metadata": {},
   "outputs": [
    {
     "data": {
      "text/plain": [
       "array([17134, 14393, 16299, 15063,  9600, 10586, 17733, 10240,  7601,\n",
       "       17755, 17746, 17639, 17754, 17751, 17760, 17666, 17738, 17763,\n",
       "       17735, 17744, 17692, 17713, 17758, 17650, 17672, 17686, 17677,\n",
       "       18242,  7600, 17741, 18237, 18234, 17682, 17661, 17730, 17723,\n",
       "       17711, 17747, 17627, 18219, 17704, 17618, 17655, 17734, 17634,\n",
       "       17728, 18214, 17643, 17761])"
      ]
     },
     "execution_count": 13,
     "metadata": {},
     "output_type": "execute_result"
    }
   ],
   "source": [
    "### OsBuild 43 valores mas não parece dar para agrupar.\n",
    "len(df['OsBuild'].unique())\n",
    "df['OsBuild'].unique()\n"
   ]
  },
  {
   "cell_type": "code",
   "execution_count": 14,
   "metadata": {},
   "outputs": [],
   "source": [
    "def trataString2(string):\n",
    "    #string = str(string)\n",
    "    words = string.split(\".\")\n",
    "    return words[0]"
   ]
  },
  {
   "cell_type": "code",
   "execution_count": 15,
   "metadata": {},
   "outputs": [],
   "source": [
    "def trataString3(string):\n",
    "    words = string.split(\".\")\n",
    "    palavra= '' + words[0] + '.' + words[1] + '.' + words[2]\n",
    "    return palavra"
   ]
  },
  {
   "cell_type": "code",
   "execution_count": 16,
   "metadata": {},
   "outputs": [
    {
     "ename": "AttributeError",
     "evalue": "'float' object has no attribute 'split'",
     "output_type": "error",
     "traceback": [
      "\u001b[0;31m---------------------------------------------------------------------------\u001b[0m",
      "\u001b[0;31mAttributeError\u001b[0m                            Traceback (most recent call last)",
      "\u001b[0;32m<ipython-input-16-73a422d4a993>\u001b[0m in \u001b[0;36m<module>\u001b[0;34m\u001b[0m\n\u001b[1;32m      3\u001b[0m \u001b[0;34m\u001b[0m\u001b[0m\n\u001b[1;32m      4\u001b[0m \u001b[0;31m## agrupar\u001b[0m\u001b[0;34m\u001b[0m\u001b[0;34m\u001b[0m\u001b[0;34m\u001b[0m\u001b[0m\n\u001b[0;32m----> 5\u001b[0;31m \u001b[0mdf\u001b[0m\u001b[0;34m[\u001b[0m\u001b[0;34m'OsBuildLab'\u001b[0m\u001b[0;34m]\u001b[0m \u001b[0;34m=\u001b[0m \u001b[0mdf\u001b[0m\u001b[0;34m[\u001b[0m\u001b[0;34m'OsBuildLab'\u001b[0m\u001b[0;34m]\u001b[0m\u001b[0;34m.\u001b[0m\u001b[0mapply\u001b[0m\u001b[0;34m(\u001b[0m\u001b[0;32mlambda\u001b[0m \u001b[0mx\u001b[0m \u001b[0;34m:\u001b[0m \u001b[0mtrataString2\u001b[0m\u001b[0;34m(\u001b[0m\u001b[0mx\u001b[0m\u001b[0;34m)\u001b[0m\u001b[0;34m)\u001b[0m\u001b[0;34m\u001b[0m\u001b[0;34m\u001b[0m\u001b[0m\n\u001b[0m\u001b[1;32m      6\u001b[0m \u001b[0mlen\u001b[0m\u001b[0;34m(\u001b[0m\u001b[0mdf\u001b[0m\u001b[0;34m[\u001b[0m\u001b[0;34m'OsBuildLab'\u001b[0m\u001b[0;34m]\u001b[0m\u001b[0;34m.\u001b[0m\u001b[0munique\u001b[0m\u001b[0;34m(\u001b[0m\u001b[0;34m)\u001b[0m\u001b[0;34m)\u001b[0m\u001b[0;34m\u001b[0m\u001b[0;34m\u001b[0m\u001b[0m\n\u001b[1;32m      7\u001b[0m \u001b[0;31m## Final 45 valores\u001b[0m\u001b[0;34m\u001b[0m\u001b[0;34m\u001b[0m\u001b[0;34m\u001b[0m\u001b[0m\n",
      "\u001b[0;32m~/.local/lib/python3.6/site-packages/pandas/core/series.py\u001b[0m in \u001b[0;36mapply\u001b[0;34m(self, func, convert_dtype, args, **kwds)\u001b[0m\n\u001b[1;32m   3589\u001b[0m             \u001b[0;32melse\u001b[0m\u001b[0;34m:\u001b[0m\u001b[0;34m\u001b[0m\u001b[0;34m\u001b[0m\u001b[0m\n\u001b[1;32m   3590\u001b[0m                 \u001b[0mvalues\u001b[0m \u001b[0;34m=\u001b[0m \u001b[0mself\u001b[0m\u001b[0;34m.\u001b[0m\u001b[0mastype\u001b[0m\u001b[0;34m(\u001b[0m\u001b[0mobject\u001b[0m\u001b[0;34m)\u001b[0m\u001b[0;34m.\u001b[0m\u001b[0mvalues\u001b[0m\u001b[0;34m\u001b[0m\u001b[0;34m\u001b[0m\u001b[0m\n\u001b[0;32m-> 3591\u001b[0;31m                 \u001b[0mmapped\u001b[0m \u001b[0;34m=\u001b[0m \u001b[0mlib\u001b[0m\u001b[0;34m.\u001b[0m\u001b[0mmap_infer\u001b[0m\u001b[0;34m(\u001b[0m\u001b[0mvalues\u001b[0m\u001b[0;34m,\u001b[0m \u001b[0mf\u001b[0m\u001b[0;34m,\u001b[0m \u001b[0mconvert\u001b[0m\u001b[0;34m=\u001b[0m\u001b[0mconvert_dtype\u001b[0m\u001b[0;34m)\u001b[0m\u001b[0;34m\u001b[0m\u001b[0;34m\u001b[0m\u001b[0m\n\u001b[0m\u001b[1;32m   3592\u001b[0m \u001b[0;34m\u001b[0m\u001b[0m\n\u001b[1;32m   3593\u001b[0m         \u001b[0;32mif\u001b[0m \u001b[0mlen\u001b[0m\u001b[0;34m(\u001b[0m\u001b[0mmapped\u001b[0m\u001b[0;34m)\u001b[0m \u001b[0;32mand\u001b[0m \u001b[0misinstance\u001b[0m\u001b[0;34m(\u001b[0m\u001b[0mmapped\u001b[0m\u001b[0;34m[\u001b[0m\u001b[0;36m0\u001b[0m\u001b[0;34m]\u001b[0m\u001b[0;34m,\u001b[0m \u001b[0mSeries\u001b[0m\u001b[0;34m)\u001b[0m\u001b[0;34m:\u001b[0m\u001b[0;34m\u001b[0m\u001b[0;34m\u001b[0m\u001b[0m\n",
      "\u001b[0;32mpandas/_libs/lib.pyx\u001b[0m in \u001b[0;36mpandas._libs.lib.map_infer\u001b[0;34m()\u001b[0m\n",
      "\u001b[0;32m<ipython-input-16-73a422d4a993>\u001b[0m in \u001b[0;36m<lambda>\u001b[0;34m(x)\u001b[0m\n\u001b[1;32m      3\u001b[0m \u001b[0;34m\u001b[0m\u001b[0m\n\u001b[1;32m      4\u001b[0m \u001b[0;31m## agrupar\u001b[0m\u001b[0;34m\u001b[0m\u001b[0;34m\u001b[0m\u001b[0;34m\u001b[0m\u001b[0m\n\u001b[0;32m----> 5\u001b[0;31m \u001b[0mdf\u001b[0m\u001b[0;34m[\u001b[0m\u001b[0;34m'OsBuildLab'\u001b[0m\u001b[0;34m]\u001b[0m \u001b[0;34m=\u001b[0m \u001b[0mdf\u001b[0m\u001b[0;34m[\u001b[0m\u001b[0;34m'OsBuildLab'\u001b[0m\u001b[0;34m]\u001b[0m\u001b[0;34m.\u001b[0m\u001b[0mapply\u001b[0m\u001b[0;34m(\u001b[0m\u001b[0;32mlambda\u001b[0m \u001b[0mx\u001b[0m \u001b[0;34m:\u001b[0m \u001b[0mtrataString2\u001b[0m\u001b[0;34m(\u001b[0m\u001b[0mx\u001b[0m\u001b[0;34m)\u001b[0m\u001b[0;34m)\u001b[0m\u001b[0;34m\u001b[0m\u001b[0;34m\u001b[0m\u001b[0m\n\u001b[0m\u001b[1;32m      6\u001b[0m \u001b[0mlen\u001b[0m\u001b[0;34m(\u001b[0m\u001b[0mdf\u001b[0m\u001b[0;34m[\u001b[0m\u001b[0;34m'OsBuildLab'\u001b[0m\u001b[0;34m]\u001b[0m\u001b[0;34m.\u001b[0m\u001b[0munique\u001b[0m\u001b[0;34m(\u001b[0m\u001b[0;34m)\u001b[0m\u001b[0;34m)\u001b[0m\u001b[0;34m\u001b[0m\u001b[0;34m\u001b[0m\u001b[0m\n\u001b[1;32m      7\u001b[0m \u001b[0;31m## Final 45 valores\u001b[0m\u001b[0;34m\u001b[0m\u001b[0;34m\u001b[0m\u001b[0;34m\u001b[0m\u001b[0m\n",
      "\u001b[0;32m<ipython-input-14-a880cd6bbd7c>\u001b[0m in \u001b[0;36mtrataString2\u001b[0;34m(string)\u001b[0m\n\u001b[1;32m      1\u001b[0m \u001b[0;32mdef\u001b[0m \u001b[0mtrataString2\u001b[0m\u001b[0;34m(\u001b[0m\u001b[0mstring\u001b[0m\u001b[0;34m)\u001b[0m\u001b[0;34m:\u001b[0m\u001b[0;34m\u001b[0m\u001b[0;34m\u001b[0m\u001b[0m\n\u001b[1;32m      2\u001b[0m     \u001b[0;31m#string = str(string)\u001b[0m\u001b[0;34m\u001b[0m\u001b[0;34m\u001b[0m\u001b[0;34m\u001b[0m\u001b[0m\n\u001b[0;32m----> 3\u001b[0;31m     \u001b[0mwords\u001b[0m \u001b[0;34m=\u001b[0m \u001b[0mstring\u001b[0m\u001b[0;34m.\u001b[0m\u001b[0msplit\u001b[0m\u001b[0;34m(\u001b[0m\u001b[0;34m\".\"\u001b[0m\u001b[0;34m)\u001b[0m\u001b[0;34m\u001b[0m\u001b[0;34m\u001b[0m\u001b[0m\n\u001b[0m\u001b[1;32m      4\u001b[0m     \u001b[0;32mreturn\u001b[0m \u001b[0mwords\u001b[0m\u001b[0;34m[\u001b[0m\u001b[0;36m0\u001b[0m\u001b[0;34m]\u001b[0m\u001b[0;34m\u001b[0m\u001b[0;34m\u001b[0m\u001b[0m\n",
      "\u001b[0;31mAttributeError\u001b[0m: 'float' object has no attribute 'split'"
     ]
    }
   ],
   "source": [
    "### OsBuildLab 370 valores mas não parece dar para agrupar.\n",
    "len(df['OsBuildLab'].unique())\n",
    "\n",
    "## agrupar\n",
    "df['OsBuildLab'] = df['OsBuildLab'].apply(lambda x : trataString2(x))\n",
    "len(df['OsBuildLab'].unique())\n",
    "## Final 45 valores \n",
    "\n"
   ]
  },
  {
   "cell_type": "code",
   "execution_count": null,
   "metadata": {},
   "outputs": [],
   "source": [
    "## CountryIdentifier 221 valores diferentes\n",
    "len(df['CountryIdentifier'].unique())\n",
    "df['CountryIdentifier'].unique()\n",
    "## Nao ha nada a fazer aqui."
   ]
  },
  {
   "cell_type": "code",
   "execution_count": 18,
   "metadata": {},
   "outputs": [
    {
     "data": {
      "text/plain": [
       "46"
      ]
     },
     "execution_count": 18,
     "metadata": {},
     "output_type": "execute_result"
    }
   ],
   "source": [
    "## EngineVersion 42 valores diferentes\n",
    "\n",
    "df['EngineVersion'] = df['EngineVersion'].apply(lambda x : trataString3(x))\n",
    "\n",
    "len(df['EngineVersion'].unique())\n",
    "#df['EngineVersion'].unique()\n",
    "\n",
    "## Passamos a 35\n"
   ]
  },
  {
   "cell_type": "code",
   "execution_count": 17,
   "metadata": {},
   "outputs": [
    {
     "data": {
      "text/plain": [
       "array(['10', '6'], dtype=object)"
      ]
     },
     "execution_count": 17,
     "metadata": {},
     "output_type": "execute_result"
    }
   ],
   "source": [
    "## OsVer 11 valores diferentes\n",
    "len(df['OsVer'].unique())\n",
    "df['OsVer'] = df['OsVer'].apply(lambda x : trataString2(x))\n",
    "df['OsVer'].unique()\n",
    "## Passamos a ter apenas dois"
   ]
  },
  {
   "cell_type": "code",
   "execution_count": null,
   "metadata": {},
   "outputs": [],
   "source": [
    "len(df['OsSuite'].unique())\n",
    "df['OsSuite'].unique()"
   ]
  },
  {
   "cell_type": "code",
   "execution_count": null,
   "metadata": {},
   "outputs": [],
   "source": [
    "len(df['SkuEdition'].unique())\n",
    "df['SkuEdition'].unique()"
   ]
  },
  {
   "cell_type": "code",
   "execution_count": null,
   "metadata": {},
   "outputs": [],
   "source": [
    "len(df['IsBeta'].unique())\n",
    "df['IsBeta'].unique()"
   ]
  },
  {
   "cell_type": "code",
   "execution_count": null,
   "metadata": {},
   "outputs": [],
   "source": [
    "len(df['RtpStateBitfield'].unique())\n",
    "#df['RtpStateBitfield'].unique()"
   ]
  },
  {
   "cell_type": "code",
   "execution_count": null,
   "metadata": {},
   "outputs": [],
   "source": [
    "len(df['OsPlatformSubRelease'].unique())\n",
    "df['OsPlatformSubRelease'].unique()"
   ]
  },
  {
   "cell_type": "code",
   "execution_count": null,
   "metadata": {},
   "outputs": [],
   "source": [
    "## Ver as correlações entre as variaveis.\n",
    "dfNum.corr(method ='pearson') \n"
   ]
  },
  {
   "cell_type": "markdown",
   "metadata": {},
   "source": [
    "### Ver, para as variavéis com poucos valores diferentes quantas vezes aparecem cada valor\n",
    "\n",
    "Variaveis a analisar: ProductName, RtpStateBitfield, IsSxsPassiveMode,AVProductsInstalled,AVProductsEnabled,HasTpm,Platform,Processor,OsVer,AutoSampleOptIn\n",
    "\n",
    "### Conclusão:\n",
    "Concluimos então que na variável ProductName podemos substituir os missing por wind8defender\n",
    "\n",
    "*IsSxsPassiveMode* :  substituir os missing por 0  \n",
    "*AVProductsInstalled*: substituir os missing por 1  \n",
    "*AVProductsEnabled*: substituir os missing por 1   \n",
    "*HasTpm*: substituir os missing por 1    \n",
    "*Platform*:  substituir missing por windows10  \n",
    "*Processor* substituir os missing por x64  \n",
    "*AutoSampleOptIn*: substituir os missing por 0  \n"
   ]
  },
  {
   "cell_type": "code",
   "execution_count": null,
   "metadata": {},
   "outputs": [],
   "source": [
    "lista = ['ProductName','RtpStateBitfield','IsSxsPassiveMode','AVProductsInstalled','AVProductsEnabled','HasTpm','Platform','Processor','OsVer','AutoSampleOptIn','IsProtected']\n",
    "\n",
    "for elem in lista:\n",
    "    print(df[elem].value_counts())\n"
   ]
  },
  {
   "cell_type": "markdown",
   "metadata": {},
   "source": [
    "## Ponto de situação\n",
    "\n",
    "**Variáveis excluidas por excesso de NA's**\n",
    "\n",
    "- DefaultBrowsersIdentifier\n",
    "- PuaModePercentagem\n",
    "\n",
    "**Variáveis excluidas por excesso de atributos não tratáveis**\n",
    "\n",
    "- CountryIdentifier\n",
    "- CityIdentifier\n",
    "- OrganizationIdentifier\n",
    "- GeoNameIdentifier\n",
    "- LocaleEnglishNameIdentifier\n",
    "- AVProductStatesIdentifier\n",
    "\n",
    "**Variáveis onde já se decidiu como tratas os Na's**\n",
    "\n",
    "- *ProductName* : substituir missings por win8defender\n",
    "- *IsSxsPassiveMode* :  substituir os missing por 0  \n",
    "- *AVProductsInstalled*: substituir os missing por 1  \n",
    "- *AVProductsEnabled*: substituir os missing por 1   \n",
    "- *HasTpm*: substituir os missing por 1    \n",
    "- *Platform*:  substituir missing por windows10  \n",
    "- *Processor* substituir os missing por x64  \n",
    "- *AutoSampleOptIn*: substituir os missing por 0  \n",
    "- *OsVer* :  substituir missing por 10\n",
    "- *IsProtected* : substituir missing por 1\n",
    "\n",
    "**Variáveis sem Na's**\n",
    "- OsSuite: 7 atributos\n",
    "- AvSigVersion: 4027 a 31 atributos\n",
    "- OsBuild: 43 atributos\n",
    "- OsBuildLab: de 370 a 42 atributos\n",
    "- SkuEdition: 9 atributos\n",
    "- IsBeta: 1 atributo aqui\n",
    "- RtpStateBitfield: 7 atributos\n",
    "- AppVersion: de 80 a 15 atributos\n",
    "- OsPlatformSubRelease: 9 atributos\n",
    "- EngineVersion: passamos a 46\n",
    "\n",
    "*De salientar apenas que todas as variavéis são categóricas à exceção da **AVProductsInstalled** e **AVProductsEnabled** que são discretas*"
   ]
  },
  {
   "cell_type": "markdown",
   "metadata": {},
   "source": [
    "### Tentar ver a correlação entre as variáveis discretas\n",
    "\n",
    "O valor obtido é relativamente baixo, aproximadamente 28%"
   ]
  },
  {
   "cell_type": "code",
   "execution_count": null,
   "metadata": {},
   "outputs": [],
   "source": [
    "df['AVProductsInstalled'].corr(df['AVProductsEnabled'])"
   ]
  },
  {
   "cell_type": "markdown",
   "metadata": {},
   "source": [
    "### Tratar Na's variáveis indicas anteriormente"
   ]
  },
  {
   "cell_type": "code",
   "execution_count": null,
   "metadata": {},
   "outputs": [],
   "source": [
    "df['ProductName'] = df['ProductName'].fillna('win8defender')\n",
    "df['IsSxsPassiveMode'] = df['IsSxsPassiveMode'].fillna(0)\n",
    "df['AVProductsInstalled'] = df['AVProductsInstalled'].fillna(1)\n",
    "df['AVProductsEnabled'] = df['AVProductsEnabled'].fillna(1)\n",
    "df['HasTpm'] = df['HasTpm'].fillna(1)\n",
    "df['Platform'] = df['Platform'].fillna('windows10')\n",
    "df['Processor'] = df['Processor'].fillna('x64')\n",
    "df['AutoSampleOptIn'] = df['AutoSampleOptIn'].fillna(0)\n",
    "df['OsVer'] = df['OsVer'].fillna(10)\n",
    "df['IsProtected'] = df['IsProtected'].fillna(1)\n",
    "\n",
    "tratados = ['IsSxsPassiveMode','AVProductsInstalled','AVProductsEnabled', 'HasTpm', 'Platform','Processor' , 'AutoSampleOptIn', 'OsVer' , 'IsProtected']\n",
    "soma=0\n",
    "for elem in tratados:\n",
    "       soma = soma + df[elem].isnull().sum()\n",
    "\n",
    "print(\"Nulls encontrados: \" + str(soma))"
   ]
  },
  {
   "cell_type": "markdown",
   "metadata": {},
   "source": [
    "### Criar um modelo para tentar prever as restantes\n",
    "\n",
    "- OsSuite: 7 atributos\n",
    "- AvSigVersion: 4027 a 31 atributos\n",
    "- OsBuild: 43 atributos\n",
    "- OsBuildLab: de 370 a 42 atributos\n",
    "- SkuEdition: 9 atributos\n",
    "- IsBeta: 1 atributo aqui\n",
    "- RtpStateBitfield: 7 atributos\n",
    "- AppVersion: de 80 a 15 atributos\n",
    "- OsPlatformSubRelease: 9 atributos\n"
   ]
  },
  {
   "cell_type": "code",
   "execution_count": null,
   "metadata": {},
   "outputs": [],
   "source": [
    "from sklearn import preprocessing\n",
    "import matplotlib.pyplot as plt \n",
    "from sklearn.linear_model import LogisticRegression\n",
    "from sklearn.model_selection import train_test_split\n",
    "import seaborn as sns\n",
    "\n",
    "## preparar o dataset \n",
    "parametros=['IsSxsPassiveMode','AVProductsInstalled','AVProductsEnabled', 'HasTpm', 'Platform','Processor' , 'AutoSampleOptIn', 'OsVer' , 'IsProtected']\n",
    "\n",
    "dfLog = df[parametros]\n",
    "prever=df['']\n",
    "\n",
    "x_train, x_test, y_train, y_test = train_test_split(dfLog, prever, test_size=0.25, random_state=0)\n",
    "logisticRegr = LogisticRegression()\n",
    "\n",
    "logisticRegr.fit(x_train, y_train)\n",
    "\n"
   ]
  },
  {
   "cell_type": "code",
   "execution_count": null,
   "metadata": {},
   "outputs": [],
   "source": []
  }
 ],
 "metadata": {
  "kernelspec": {
   "display_name": "Python 3",
   "language": "python",
   "name": "python3"
  },
  "language_info": {
   "codemirror_mode": {
    "name": "ipython",
    "version": 3
   },
   "file_extension": ".py",
   "mimetype": "text/x-python",
   "name": "python",
   "nbconvert_exporter": "python",
   "pygments_lexer": "ipython3",
   "version": "3.6.7"
  }
 },
 "nbformat": 4,
 "nbformat_minor": 2
}
