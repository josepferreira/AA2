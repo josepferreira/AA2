{
 "cells": [
  {
   "cell_type": "markdown",
   "metadata": {},
   "source": [
    "### Variavéis a analisar (primeiras 26):\n",
    "- ProductName - Defender state information e.g. win8defender\n",
    "- EngineVersion - Defender state information e.g. 1.1.12603.0\n",
    "- AppVersion - Defender state information e.g. 4.9.10586.0\n",
    "- AvSigVersion - Defender state information e.g. 1.217.1014.0\n",
    "- IsBeta - Defender state information e.g. false\n",
    "- RtpStateBitfield - NA\n",
    "- IsSxsPassiveMode - NA\n",
    "- DefaultBrowsersIdentifier - ID for the machine's default browser\n",
    "- AVProductStatesIdentifier - ID for the specific configuration of a user's antivirus software\n",
    "- AVProductsInstalled - NA\n",
    "- AVProductsEnabled - NA\n",
    "- HasTpm - True if machine has tpm\n",
    "- CountryIdentifier - ID for the country the machine is located in\n",
    "- CityIdentifier - ID for the city the machine is located in\n",
    "- OrganizationIdentifier - ID for the organization the machine belongs in, organization ID is mapped to both specific companies and broad industries\n",
    "- GeoNameIdentifier - ID for the geographic region a machine is located in\n",
    "- LocaleEnglishNameIdentifier - English name of Locale ID of the current user\n",
    "- Platform - Calculates platform name (of OS related properties and processor property)\n",
    "- Processor - This is the process architecture of the installed operating system\n",
    "- OsVer - Version of the current operating system\n",
    "- OsBuild - Build of the current operating system\n",
    "- OsSuite - Product suite mask for the current operating system.\n",
    "- OsPlatformSubRelease - Returns the OS Platform sub-release (Windows Vista, Windows 7, Windows 8, TH1, TH2)\n",
    "- OsBuildLab - Build lab that generated the current OS. Example: 9600.17630.amd64fre.winblue_r7.150109-2022\n",
    "- SkuEdition - \n",
    "- AutoSampleOptIn - This is the SubmitSamplesConsent value passed in from the service, available on CAMP 9+\n",
    "- PuaMode\n",
    "- IsProtected\n"
   ]
  },
  {
   "cell_type": "code",
   "execution_count": 2,
   "metadata": {},
   "outputs": [],
   "source": [
    "primeiros = ['ProductName','EngineVersion','AppVersion','AvSigVersion','IsBeta','RtpStateBitfield','IsSxsPassiveMode','DefaultBrowsersIdentifier','AVProductStatesIdentifier','AVProductsInstalled','AVProductsEnabled','HasTpm','CountryIdentifier','CityIdentifier','OrganizationIdentifier','GeoNameIdentifier','LocaleEnglishNameIdentifier','Platform','Processor','OsVer','OsBuild','OsSuite','OsPlatformSubRelease','OsBuildLab','SkuEdition','AutoSampleOptIn','PuaMode','IsProtected']"
   ]
  },
  {
   "cell_type": "code",
   "execution_count": 4,
   "metadata": {},
   "outputs": [],
   "source": [
    "## Carregar os dados:\n",
    "import pandas as pd\n",
    "df = pd.read_csv('../../sample_train.csv',low_memory=False)"
   ]
  },
  {
   "cell_type": "code",
   "execution_count": 7,
   "metadata": {},
   "outputs": [
    {
     "data": {
      "text/plain": [
       "(600000, 28)"
      ]
     },
     "execution_count": 7,
     "metadata": {},
     "output_type": "execute_result"
    }
   ],
   "source": [
    "## selecionar as primeiras 26 colunas:\n",
    "df = df[primeiros]\n",
    "df.shape"
   ]
  },
  {
   "cell_type": "code",
   "execution_count": 4,
   "metadata": {},
   "outputs": [
    {
     "name": "stdout",
     "output_type": "stream",
     "text": [
      "Coluna: RtpStateBitfieldPercentagem NAs: 0.3610036100361004\n",
      "Coluna: DefaultBrowsersIdentifierPercentagem NAs: 95.109951099511\n",
      "Coluna: AVProductStatesIdentifierPercentagem NAs: 0.3930039300393004\n",
      "Coluna: AVProductsInstalledPercentagem NAs: 0.3930039300393004\n",
      "Coluna: AVProductsEnabledPercentagem NAs: 0.3930039300393004\n",
      "Coluna: CityIdentifierPercentagem NAs: 3.6150361503615036\n",
      "Coluna: OrganizationIdentifierPercentagem NAs: 30.66330663306633\n",
      "Coluna: GeoNameIdentifierPercentagem NAs: 0.001000010000100001\n",
      "Coluna: OsBuildLabPercentagem NAs: 0.001000010000100001\n",
      "Coluna: PuaModePercentagem NAs: 99.9689996899969\n",
      "Numero de colunas com Nas:10\n"
     ]
    }
   ],
   "source": [
    "### ver os valores nulos\n",
    "percent_missing = df['EngineVersion'].isnull().sum() * 100 / len(df)\n",
    "i=0;\n",
    "for col in df:\n",
    "    \n",
    "    percent_missing = df[col].isnull().sum() * 100 / len(df)\n",
    "    if (percent_missing >0):\n",
    "        i=i+1\n",
    "        print(\"Coluna: \" + str(col) + \"Percentagem NAs: \" + str(percent_missing))\n",
    "print(\"Numero de colunas com Nas:\" + str(i))"
   ]
  },
  {
   "cell_type": "markdown",
   "metadata": {},
   "source": [
    "#### NaN:\n",
    "Podemos ver então que existem 9 colunas com Nas, sendo o *DefaultBrowsersIdentifierPercentagem* e *PuaMode* um valor muito significativo. "
   ]
  },
  {
   "cell_type": "code",
   "execution_count": 5,
   "metadata": {},
   "outputs": [
    {
     "name": "stdout",
     "output_type": "stream",
     "text": [
      "A coluna ProductName tem: 2 valores diferentes\n",
      "A coluna EngineVersion tem: 42 valores diferentes\n",
      "A coluna AppVersion tem: 80 valores diferentes\n",
      "A coluna AvSigVersion tem: 4027 valores diferentes\n",
      "A coluna IsBeta tem: 1 valores diferentes\n",
      "A coluna RtpStateBitfield tem: 7 valores diferentes\n",
      "A coluna IsSxsPassiveMode tem: 2 valores diferentes\n",
      "A coluna DefaultBrowsersIdentifier tem: 289 valores diferentes\n",
      "A coluna AVProductStatesIdentifier tem: 2070 valores diferentes\n",
      "A coluna AVProductsInstalled tem: 6 valores diferentes\n",
      "A coluna AVProductsEnabled tem: 6 valores diferentes\n",
      "A coluna HasTpm tem: 2 valores diferentes\n",
      "A coluna CountryIdentifier tem: 221 valores diferentes\n",
      "A coluna CityIdentifier tem: 15813 valores diferentes\n",
      "A coluna OrganizationIdentifier tem: 38 valores diferentes\n",
      "A coluna GeoNameIdentifier tem: 243 valores diferentes\n",
      "A coluna LocaleEnglishNameIdentifier tem: 186 valores diferentes\n",
      "A coluna Platform tem: 4 valores diferentes\n",
      "A coluna Processor tem: 3 valores diferentes\n",
      "A coluna OsVer tem: 11 valores diferentes\n",
      "A coluna OsBuild tem: 43 valores diferentes\n",
      "A coluna OsSuite tem: 7 valores diferentes\n",
      "A coluna OsPlatformSubRelease tem: 9 valores diferentes\n",
      "A coluna OsBuildLab tem: 370 valores diferentes\n",
      "A coluna SkuEdition tem: 8 valores diferentes\n",
      "A coluna AutoSampleOptIn tem: 2 valores diferentes\n",
      "A coluna PuaMode tem: 2 valores diferentes\n"
     ]
    }
   ],
   "source": [
    "### ver o tipo e a diversidade de valores\n",
    "\n",
    "for col in df:\n",
    "    nome = df[col].unique()\n",
    "    print(\"A coluna \" + str(col) + \" tem: \" + str(len(nome)) + \" valores diferentes\")  "
   ]
  },
  {
   "cell_type": "markdown",
   "metadata": {},
   "source": [
    "### Ver se a variável é numérica"
   ]
  },
  {
   "cell_type": "code",
   "execution_count": 8,
   "metadata": {},
   "outputs": [
    {
     "name": "stdout",
     "output_type": "stream",
     "text": [
      "Variável ProductNameÉ numérico: False\n",
      "Variável EngineVersionÉ numérico: False\n",
      "Variável AppVersionÉ numérico: False\n",
      "Variável AvSigVersionÉ numérico: False\n",
      "Variável IsBetaÉ numérico: True\n",
      "Variável RtpStateBitfieldÉ numérico: True\n",
      "Variável IsSxsPassiveModeÉ numérico: True\n",
      "Variável DefaultBrowsersIdentifierÉ numérico: True\n",
      "Variável AVProductStatesIdentifierÉ numérico: True\n",
      "Variável AVProductsInstalledÉ numérico: True\n",
      "Variável AVProductsEnabledÉ numérico: True\n",
      "Variável HasTpmÉ numérico: True\n",
      "Variável CountryIdentifierÉ numérico: True\n",
      "Variável CityIdentifierÉ numérico: True\n",
      "Variável OrganizationIdentifierÉ numérico: True\n",
      "Variável GeoNameIdentifierÉ numérico: True\n",
      "Variável LocaleEnglishNameIdentifierÉ numérico: True\n",
      "Variável PlatformÉ numérico: False\n",
      "Variável ProcessorÉ numérico: False\n",
      "Variável OsVerÉ numérico: False\n",
      "Variável OsBuildÉ numérico: True\n",
      "Variável OsSuiteÉ numérico: True\n",
      "Variável OsPlatformSubReleaseÉ numérico: False\n",
      "Variável OsBuildLabÉ numérico: False\n",
      "Variável SkuEditionÉ numérico: False\n",
      "Variável AutoSampleOptInÉ numérico: True\n",
      "Variável PuaModeÉ numérico: False\n",
      "Variável IsProtectedÉ numérico: True\n",
      "Numero de numéricas:17\n"
     ]
    }
   ],
   "source": [
    "## Ver o tipo dos dados\n",
    "from pandas.api.types import is_string_dtype\n",
    "from pandas.api.types import is_numeric_dtype\n",
    "i = 0\n",
    "numericas=[]\n",
    "for col in df:\n",
    "    tipo = is_numeric_dtype(df[col])\n",
    "    if (tipo):\n",
    "        numericas.append(col)\n",
    "        i=i+1\n",
    "    print (\"Variável \" + str(col) + \"É numérico: \" + str(tipo))\n",
    "print (\"Numero de numéricas:\" + str(i))"
   ]
  },
  {
   "cell_type": "code",
   "execution_count": 7,
   "metadata": {},
   "outputs": [
    {
     "data": {
      "text/plain": [
       "(99999, 16)"
      ]
     },
     "execution_count": 7,
     "metadata": {},
     "output_type": "execute_result"
    }
   ],
   "source": [
    "## tem apenas numericas\n",
    "dfNum = df[numericas]\n",
    "dfNum.shape"
   ]
  },
  {
   "cell_type": "markdown",
   "metadata": {},
   "source": [
    "### Aqui vamos tratar de tentar reduzir o numero de valores diferentes que cada coluna tem\n",
    "Faremos isto agrupando os valores em classes semelhantes\n",
    "\n",
    "Exemplo 1.2.3 e 1.2.4 = 1.2"
   ]
  },
  {
   "cell_type": "code",
   "execution_count": 8,
   "metadata": {
    "collapsed": true
   },
   "outputs": [
    {
     "data": {
      "text/plain": [
       "array([      nan, 1.950e+03, 1.460e+02, 2.390e+02, 1.910e+03, 1.161e+03,\n",
       "       7.880e+02, 2.064e+03, 6.140e+02, 1.632e+03, 2.290e+03, 5.080e+02,\n",
       "       1.727e+03, 3.195e+03, 2.726e+03, 2.170e+03, 1.616e+03, 1.536e+03,\n",
       "       3.000e+03, 2.434e+03, 1.952e+03, 1.926e+03, 3.176e+03, 2.169e+03,\n",
       "       2.168e+03, 1.066e+03, 1.823e+03, 2.240e+02, 7.730e+02, 2.725e+03,\n",
       "       2.182e+03, 2.521e+03, 8.900e+02, 1.622e+03, 1.623e+03, 1.680e+02,\n",
       "       1.184e+03, 1.160e+03, 2.388e+03, 2.847e+03, 3.110e+02, 1.390e+02,\n",
       "       1.000e+01, 2.273e+03, 3.510e+02, 1.266e+03, 1.079e+03, 2.452e+03,\n",
       "       1.250e+02, 1.078e+03, 1.628e+03, 2.460e+03, 1.874e+03, 1.719e+03,\n",
       "       2.373e+03, 1.687e+03, 2.600e+02, 1.350e+03, 8.860e+02, 8.690e+02,\n",
       "       5.970e+02, 4.800e+01, 2.595e+03, 1.241e+03, 1.233e+03, 5.100e+02,\n",
       "       1.918e+03, 2.603e+03, 3.550e+02, 1.118e+03, 2.230e+02, 2.300e+02,\n",
       "       2.724e+03, 2.189e+03, 2.987e+03, 1.991e+03, 1.870e+03, 9.830e+02,\n",
       "       2.403e+03, 2.501e+03, 2.430e+02, 1.762e+03, 2.210e+02, 2.723e+03,\n",
       "       1.071e+03, 3.186e+03, 3.031e+03, 1.240e+03, 1.351e+03, 2.635e+03,\n",
       "       1.258e+03, 1.006e+03, 9.400e+01, 2.109e+03, 1.320e+02, 2.369e+03,\n",
       "       1.909e+03, 2.220e+02, 4.300e+02, 5.490e+02, 1.164e+03, 2.291e+03,\n",
       "       2.889e+03, 4.940e+02, 2.486e+03, 1.207e+03, 2.247e+03, 2.530e+02,\n",
       "       5.060e+02, 2.152e+03, 2.272e+03, 2.659e+03, 1.718e+03, 4.920e+02,\n",
       "       1.336e+03, 1.366e+03, 3.101e+03, 2.202e+03, 2.154e+03, 1.984e+03,\n",
       "       7.490e+02, 1.860e+03, 1.899e+03, 2.101e+03, 2.910e+03, 2.740e+02,\n",
       "       5.260e+02, 5.350e+02, 5.930e+02, 6.450e+02, 7.210e+02, 4.310e+02,\n",
       "       1.153e+03, 1.768e+03, 6.660e+02, 3.108e+03, 2.190e+03, 5.240e+02,\n",
       "       2.850e+03, 2.265e+03, 2.869e+03, 2.550e+03, 2.287e+03, 9.630e+02,\n",
       "       2.181e+03, 2.056e+03, 2.952e+03, 1.949e+03, 1.521e+03, 1.054e+03,\n",
       "       2.754e+03, 2.957e+03, 2.634e+03, 2.746e+03, 1.000e+00, 2.753e+03,\n",
       "       6.200e+02, 8.380e+02, 3.122e+03, 1.900e+02, 3.172e+03, 1.529e+03,\n",
       "       2.620e+03, 7.650e+02, 2.077e+03, 2.277e+03, 2.421e+03, 5.190e+02,\n",
       "       2.032e+03, 2.954e+03, 3.073e+03, 2.132e+03, 3.163e+03, 1.297e+03,\n",
       "       2.917e+03, 8.000e+01, 3.105e+03, 8.800e+01, 1.465e+03, 2.652e+03,\n",
       "       2.422e+03, 2.710e+02, 5.340e+02, 2.175e+03, 1.511e+03, 5.110e+02,\n",
       "       3.000e+02, 1.981e+03, 6.030e+02, 1.942e+03, 2.131e+03, 7.940e+02,\n",
       "       2.934e+03, 3.025e+03, 1.522e+03, 1.929e+03, 2.697e+03, 1.235e+03,\n",
       "       2.068e+03, 3.185e+03, 2.593e+03, 2.242e+03, 3.119e+03, 2.575e+03,\n",
       "       5.570e+02, 1.429e+03, 1.285e+03, 5.310e+02, 1.263e+03, 2.468e+03,\n",
       "       2.520e+02, 1.300e+02, 2.022e+03, 3.390e+02, 2.712e+03, 1.352e+03,\n",
       "       2.400e+01, 8.670e+02, 8.010e+02, 1.219e+03, 1.272e+03, 6.280e+02,\n",
       "       2.444e+03, 2.483e+03, 9.220e+02, 1.943e+03, 4.080e+02, 2.386e+03,\n",
       "       1.430e+03, 2.599e+03, 2.443e+03, 2.099e+03, 1.624e+03, 1.980e+03,\n",
       "       2.711e+03, 2.106e+03, 2.877e+03, 8.600e+02, 2.730e+03, 7.430e+02,\n",
       "       3.720e+02, 1.550e+03, 2.999e+03, 2.536e+03, 3.126e+03, 4.330e+02,\n",
       "       2.110e+03, 2.890e+03, 2.625e+03, 1.726e+03, 9.000e+00, 4.540e+02,\n",
       "       2.010e+03, 2.829e+03, 2.157e+03, 9.860e+02, 1.109e+03, 3.190e+02,\n",
       "       8.790e+02, 1.951e+03, 9.110e+02, 1.856e+03, 2.710e+03, 1.966e+03,\n",
       "       3.136e+03, 9.470e+02, 1.414e+03, 9.650e+02, 1.290e+03, 1.507e+03,\n",
       "       1.213e+03, 2.446e+03, 5.430e+02, 1.911e+03, 3.071e+03, 2.219e+03,\n",
       "       2.418e+03, 2.244e+03, 1.496e+03, 3.020e+03, 1.914e+03, 2.514e+03,\n",
       "       2.457e+03, 2.074e+03, 2.532e+03, 2.475e+03, 2.672e+03, 6.620e+02,\n",
       "       9.070e+02])"
      ]
     },
     "execution_count": 8,
     "metadata": {},
     "output_type": "execute_result"
    }
   ],
   "source": [
    "## DefaultBrowsersIdentifier 289 valores diferentes\n",
    "df['DefaultBrowsersIdentifier'].unique()"
   ]
  },
  {
   "cell_type": "code",
   "execution_count": 9,
   "metadata": {},
   "outputs": [],
   "source": [
    "def trataString(string):\n",
    "    words = string.split(\".\")\n",
    "    palavra= '' + words[0] + '.' + words[1]\n",
    "    return palavra"
   ]
  },
  {
   "cell_type": "code",
   "execution_count": 10,
   "metadata": {},
   "outputs": [
    {
     "data": {
      "text/plain": [
       "15"
      ]
     },
     "execution_count": 10,
     "metadata": {},
     "output_type": "execute_result"
    }
   ],
   "source": [
    "##App version: 80 valores diferentes\n",
    "df['AppVersion'] = df['AppVersion'].apply(lambda x : trataString(x))\n",
    "len(df['AppVersion'].unique())\n",
    "## Final: 15 valores"
   ]
  },
  {
   "cell_type": "code",
   "execution_count": 54,
   "metadata": {},
   "outputs": [
    {
     "data": {
      "text/plain": [
       "31"
      ]
     },
     "execution_count": 54,
     "metadata": {},
     "output_type": "execute_result"
    }
   ],
   "source": [
    "## AvSigVersion 4027 valores diferentes\n",
    "\n",
    "df['AvSigVersion'].unique()\n",
    "df['AvSigVersion'] = df['AvSigVersion'].apply(lambda x : trataString(x))\n",
    "len(df['AvSigVersion'].unique())\n",
    "## 4027 a 31"
   ]
  },
  {
   "cell_type": "code",
   "execution_count": 12,
   "metadata": {},
   "outputs": [
    {
     "data": {
      "text/plain": [
       "array([53447., 43927., 46413., ...,  8832., 22602., 43654.])"
      ]
     },
     "execution_count": 12,
     "metadata": {},
     "output_type": "execute_result"
    }
   ],
   "source": [
    "### AVProductStatesIdentifier 2070 \n",
    "df['AVProductStatesIdentifier'].unique()\n",
    "#df['AVProductStatesIdentifier']"
   ]
  },
  {
   "cell_type": "code",
   "execution_count": 55,
   "metadata": {},
   "outputs": [
    {
     "data": {
      "text/plain": [
       "array([17134, 14393, 16299,  7601,  9600, 10240, 15063, 10586, 17744,\n",
       "       17692, 17738, 17751, 17755, 17730, 17733, 17746, 17735, 17754,\n",
       "       17741, 17713, 17740, 17672, 17758, 17763,  7600, 17666, 17677,\n",
       "       17686, 17747, 17760, 17759, 17682, 17761, 17704, 17661, 17643,\n",
       "       18234, 17618, 18204, 17639, 17634, 17728, 18237])"
      ]
     },
     "execution_count": 55,
     "metadata": {},
     "output_type": "execute_result"
    }
   ],
   "source": [
    "### OsBuild 43 valores mas não parece dar para agrupar.\n",
    "len(df['OsBuild'].unique())\n",
    "df['OsBuild'].unique()\n"
   ]
  },
  {
   "cell_type": "code",
   "execution_count": 18,
   "metadata": {},
   "outputs": [],
   "source": [
    "def trataString2(string):\n",
    "    string = str(string)\n",
    "    words = string.split(\".\")\n",
    "    return words[0]"
   ]
  },
  {
   "cell_type": "code",
   "execution_count": 19,
   "metadata": {},
   "outputs": [
    {
     "data": {
      "text/plain": [
       "45"
      ]
     },
     "execution_count": 19,
     "metadata": {},
     "output_type": "execute_result"
    }
   ],
   "source": [
    "### OsBuildLab 370 valores mas não parece dar para agrupar.\n",
    "len(df['OsBuildLab'].unique())\n",
    "\n",
    "## agrupar\n",
    "df['OsBuildLab'] = df['OsBuildLab'].apply(lambda x : trataString2(x))\n",
    "len(df['OsBuildLab'].unique())\n",
    "## Final 45 valores \n",
    "\n"
   ]
  },
  {
   "cell_type": "code",
   "execution_count": null,
   "metadata": {},
   "outputs": [],
   "source": [
    "## CountryIdentifier 221 valores diferentes\n",
    "len(df['CountryIdentifier'].unique())\n",
    "df['CountryIdentifier'].unique()\n",
    "## Nao ha nada a fazer aqui."
   ]
  },
  {
   "cell_type": "code",
   "execution_count": null,
   "metadata": {},
   "outputs": [],
   "source": [
    "## EngineVersion 42 valores diferentes\n",
    "\n",
    "df['EngineVersion'] = df['EngineVersion'].apply(lambda x : trataString3(x))\n",
    "len(df['EngineVersion'].unique())\n",
    "df['EngineVersion'].unique()\n",
    "\n",
    "## Passamos a 35\n"
   ]
  },
  {
   "cell_type": "code",
   "execution_count": 49,
   "metadata": {},
   "outputs": [
    {
     "data": {
      "text/plain": [
       "array(['10', '6'], dtype=object)"
      ]
     },
     "execution_count": 49,
     "metadata": {},
     "output_type": "execute_result"
    }
   ],
   "source": [
    "## OsVer 11 valores diferentes\n",
    "len(df['OsVer'].unique())\n",
    "df['OsVer'] = df['OsVer'].apply(lambda x : trataString2(x))\n",
    "df['OsVer'].unique()\n",
    "## Passamos a ter apenas dois"
   ]
  },
  {
   "cell_type": "code",
   "execution_count": 51,
   "metadata": {},
   "outputs": [
    {
     "data": {
      "text/plain": [
       "array([256, 768, 272,  16, 400, 784, 305])"
      ]
     },
     "execution_count": 51,
     "metadata": {},
     "output_type": "execute_result"
    }
   ],
   "source": [
    "len(df['OsSuite'].unique())\n",
    "df['OsSuite'].unique()"
   ]
  },
  {
   "cell_type": "code",
   "execution_count": 56,
   "metadata": {},
   "outputs": [
    {
     "data": {
      "text/plain": [
       "array(['Pro', 'Home', 'Invalid', 'Enterprise LTSB', 'Enterprise',\n",
       "       'Education', 'Cloud', 'Server'], dtype=object)"
      ]
     },
     "execution_count": 56,
     "metadata": {},
     "output_type": "execute_result"
    }
   ],
   "source": [
    "len(df['SkuEdition'].unique())\n",
    "df['SkuEdition'].unique()"
   ]
  },
  {
   "cell_type": "code",
   "execution_count": 57,
   "metadata": {},
   "outputs": [
    {
     "data": {
      "text/plain": [
       "array([0])"
      ]
     },
     "execution_count": 57,
     "metadata": {},
     "output_type": "execute_result"
    }
   ],
   "source": [
    "len(df['IsBeta'].unique())\n",
    "df['IsBeta'].unique()"
   ]
  },
  {
   "cell_type": "code",
   "execution_count": 59,
   "metadata": {},
   "outputs": [
    {
     "data": {
      "text/plain": [
       "7"
      ]
     },
     "execution_count": 59,
     "metadata": {},
     "output_type": "execute_result"
    }
   ],
   "source": [
    "len(df['RtpStateBitfield'].unique())\n",
    "#df['RtpStateBitfield'].unique()"
   ]
  },
  {
   "cell_type": "code",
   "execution_count": 63,
   "metadata": {},
   "outputs": [
    {
     "data": {
      "text/plain": [
       "array(['rs4', 'rs1', 'rs3', 'windows7', 'windows8.1', 'th1', 'rs2', 'th2',\n",
       "       'prers5'], dtype=object)"
      ]
     },
     "execution_count": 63,
     "metadata": {},
     "output_type": "execute_result"
    }
   ],
   "source": [
    "len(df['OsPlatformSubRelease'].unique())\n",
    "df['OsPlatformSubRelease'].unique()"
   ]
  },
  {
   "cell_type": "code",
   "execution_count": null,
   "metadata": {},
   "outputs": [],
   "source": [
    "## Ver as correlações entre as variaveis.\n",
    "dfNum.corr(method ='pearson') \n"
   ]
  },
  {
   "cell_type": "markdown",
   "metadata": {},
   "source": [
    "### Ver, para as variavéis com poucos valores diferentes quantas vezes aparecem cada valor\n",
    "\n",
    "Variaveis a analisar: ProductName, RtpStateBitfield, IsSxsPassiveMode,AVProductsInstalled,AVProductsEnabled,HasTpm,Platform,Processor,OsVer,AutoSampleOptIn\n",
    "\n",
    "### Conclusão:\n",
    "Concluimos então que na variável ProductName podemos substituir os missing por wind8defender\n",
    "\n",
    "*IsSxsPassiveMode* :  substituir os missing por 0  \n",
    "*AVProductsInstalled*: substituir os missing por 1  \n",
    "*AVProductsEnabled*: substituir os missing por 1   \n",
    "*HasTpm*: substituir os missing por 1    \n",
    "*Platform*:  substituir missing por windows10  \n",
    "*Processor* substituir os missing por x64  \n",
    "*AutoSampleOptIn*: substituir os missing por 0  \n"
   ]
  },
  {
   "cell_type": "code",
   "execution_count": 50,
   "metadata": {},
   "outputs": [
    {
     "name": "stdout",
     "output_type": "stream",
     "text": [
      "win8defender    98879\n",
      "mse              1120\n",
      "Name: ProductName, dtype: int64\n",
      "7.0    96964\n",
      "0.0     2143\n",
      "8.0      269\n",
      "5.0      215\n",
      "3.0       32\n",
      "1.0       15\n",
      "Name: RtpStateBitfield, dtype: int64\n",
      "0    98236\n",
      "1     1763\n",
      "Name: IsSxsPassiveMode, dtype: int64\n",
      "1.0    69904\n",
      "2.0    27345\n",
      "3.0     2266\n",
      "4.0       87\n",
      "5.0        4\n",
      "Name: AVProductsInstalled, dtype: int64\n",
      "1.0    97114\n",
      "2.0     2153\n",
      "0.0      281\n",
      "3.0       55\n",
      "4.0        3\n",
      "Name: AVProductsEnabled, dtype: int64\n",
      "1    98726\n",
      "0     1273\n",
      "Name: HasTpm, dtype: int64\n",
      "windows10      96618\n",
      "windows8        2139\n",
      "windows7        1103\n",
      "windows2016      139\n",
      "Name: Platform, dtype: int64\n",
      "x64      90931\n",
      "x86       9063\n",
      "arm64        5\n",
      "Name: Processor, dtype: int64\n",
      "10    96757\n",
      "6      3242\n",
      "Name: OsVer, dtype: int64\n",
      "0    99996\n",
      "1        3\n",
      "Name: AutoSampleOptIn, dtype: int64\n",
      "1.0    94116\n",
      "0.0     5492\n",
      "Name: IsProtected, dtype: int64\n"
     ]
    }
   ],
   "source": [
    "lista = ['ProductName','RtpStateBitfield','IsSxsPassiveMode','AVProductsInstalled','AVProductsEnabled','HasTpm','Platform','Processor','OsVer','AutoSampleOptIn','IsProtected']\n",
    "\n",
    "for elem in lista:\n",
    "    print(df[elem].value_counts())\n"
   ]
  },
  {
   "cell_type": "markdown",
   "metadata": {},
   "source": [
    "## Ponto de situação\n",
    "\n",
    "**Variáveis excluidas por excesso de NA's**\n",
    "\n",
    "- DefaultBrowsersIdentifier\n",
    "- PuaModePercentagem\n",
    "\n",
    "**Variáveis excluidas por excesso de atributos não tratáveis**\n",
    "\n",
    "- CountryIdentifier\n",
    "- CityIdentifier\n",
    "- OrganizationIdentifier\n",
    "- GeoNameIdentifier\n",
    "- LocaleEnglishNameIdentifier\n",
    "- AVProductStatesIdentifier\n",
    "\n",
    "**Variáveis onde já se decidiu como tratas os Na's**\n",
    "\n",
    "- *ProductName* : substituir missings por win8defender\n",
    "- *IsSxsPassiveMode* :  substituir os missing por 0  \n",
    "- *AVProductsInstalled*: substituir os missing por 1  \n",
    "- *AVProductsEnabled*: substituir os missing por 1   \n",
    "- *HasTpm*: substituir os missing por 1    \n",
    "- *Platform*:  substituir missing por windows10  \n",
    "- *Processor* substituir os missing por x64  \n",
    "- *AutoSampleOptIn*: substituir os missing por 0  \n",
    "- *OsVer* :  substituir missing por 10\n",
    "- *IsProtected* : substituir missing por 1\n",
    "\n",
    "**Variáveis por tratar**\n",
    "- OsSuite: 7 atributos\n",
    "- AvSigVersion: 4027 a 31 atributos\n",
    "- OsBuild: 43 atributos\n",
    "- OsBuildLab: de 370 a 42 atributos\n",
    "- SkuEdition: 9 atributos\n",
    "- IsBeta: 1 atributo aqui\n",
    "- RtpStateBitfield: 7 atributos\n",
    "- AppVersion: de 80 a 15 atributos\n",
    "- OsPlatformSubRelease: 9 atributos\n",
    "\n",
    "\n",
    "*De salientar apenas que todas as variavéis são categóricas à exceção da **AVProductsInstalled** e **AVProductsEnabled** que são discretas*"
   ]
  },
  {
   "cell_type": "markdown",
   "metadata": {},
   "source": [
    "### Tentar ver a correlação entre as variáveis discretas\n",
    "\n",
    "O valor obtido é relativamente baixo, aproximadamente 27%"
   ]
  },
  {
   "cell_type": "code",
   "execution_count": 64,
   "metadata": {},
   "outputs": [
    {
     "data": {
      "text/plain": [
       "0.27741209666405814"
      ]
     },
     "execution_count": 64,
     "metadata": {},
     "output_type": "execute_result"
    }
   ],
   "source": [
    "df['AVProductsInstalled'].corr(df['AVProductsEnabled'])"
   ]
  },
  {
   "cell_type": "markdown",
   "metadata": {},
   "source": [
    "### Tratar Na's variáveis indicas anteriormente"
   ]
  },
  {
   "cell_type": "code",
   "execution_count": 74,
   "metadata": {},
   "outputs": [
    {
     "name": "stdout",
     "output_type": "stream",
     "text": [
      "Nulls encontrados: 0\n"
     ]
    }
   ],
   "source": [
    "df['ProductName'] = df['ProductName'].fillna('win8defender')\n",
    "df['IsSxsPassiveMode'] = df['IsSxsPassiveMode'].fillna(0)\n",
    "df['AVProductsInstalled'] = df['AVProductsInstalled'].fillna(1)\n",
    "df['AVProductsEnabled'] = df['AVProductsEnabled'].fillna(1)\n",
    "df['HasTpm'] = df['HasTpm'].fillna(1)\n",
    "df['Platform'] = df['Platform'].fillna('windows10')\n",
    "df['Processor'] = df['Processor'].fillna('x64')\n",
    "df['AutoSampleOptIn'] = df['AutoSampleOptIn'].fillna(0)\n",
    "df['OsVer'] = df['OsVer'].fillna(10)\n",
    "df['IsProtected'] = df['IsProtected'].fillna(1)\n",
    "\n",
    "\n",
    "tratados = ['IsSxsPassiveMode' ,  'AVProductsInstalled', 'AVProductsEnabled',  'HasTpm',   'Platform','Processor' , 'AutoSampleOptIn', 'OsVer' , 'IsProtected']\n",
    "soma=0\n",
    "for elem in tratados:\n",
    "       soma = soma + df[elem].isnull().sum()\n",
    "\n",
    "print(\"Nulls encontrados: \" + str(soma))"
   ]
  },
  {
   "cell_type": "code",
   "execution_count": null,
   "metadata": {},
   "outputs": [],
   "source": []
  }
 ],
 "metadata": {
  "kernelspec": {
   "display_name": "Python 3",
   "language": "python",
   "name": "python3"
  },
  "language_info": {
   "codemirror_mode": {
    "name": "ipython",
    "version": 3
   },
   "file_extension": ".py",
   "mimetype": "text/x-python",
   "name": "python",
   "nbconvert_exporter": "python",
   "pygments_lexer": "ipython3",
   "version": "3.6.7"
  }
 },
 "nbformat": 4,
 "nbformat_minor": 2
}
