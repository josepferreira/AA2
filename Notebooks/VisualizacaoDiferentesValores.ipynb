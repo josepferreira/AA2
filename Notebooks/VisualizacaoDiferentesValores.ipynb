{
 "cells": [
  {
   "cell_type": "code",
   "execution_count": 2,
   "metadata": {},
   "outputs": [],
   "source": [
    "import pandas as pd"
   ]
  },
  {
   "cell_type": "code",
   "execution_count": 3,
   "metadata": {},
   "outputs": [],
   "source": [
    "def processa_chunk(ms, unico):\n",
    "    if(unico is None):\n",
    "        unico = {}\n",
    "        for v in ms.columns:\n",
    "            unico.update({v:set()})\n",
    "    for v in ms.columns:\n",
    "        unico[v].update(ms[v].unique())\n",
    "    return unico"
   ]
  },
  {
   "cell_type": "code",
   "execution_count": 4,
   "metadata": {},
   "outputs": [],
   "source": [
    "unico = None\n",
    "i = 0\n",
    "ms = pd.read_csv('../../sample_train.csv', low_memory=False)\n",
    "unico = processa_chunk(ms,unico)"
   ]
  },
  {
   "cell_type": "code",
   "execution_count": 5,
   "metadata": {},
   "outputs": [],
   "source": [
    "for key, value in unico.items():\n",
    "    unico[key] = len(value)"
   ]
  },
  {
   "cell_type": "code",
   "execution_count": 6,
   "metadata": {
    "scrolled": true
   },
   "outputs": [
    {
     "data": {
      "text/plain": [
       "MachineIdentifier                          600000\n",
       "ProductName                                     4\n",
       "EngineVersion                                  53\n",
       "AppVersion                                     97\n",
       "AvSigVersion                                 6713\n",
       "IsBeta                                          2\n",
       "RtpStateBitfield                                8\n",
       "IsSxsPassiveMode                                2\n",
       "DefaultBrowsersIdentifier                     611\n",
       "AVProductStatesIdentifier                    6101\n",
       "HasTpm                                          2\n",
       "CountryIdentifier                             222\n",
       "CityIdentifier                              40324\n",
       "OrganizationIdentifier                         45\n",
       "GeoNameIdentifier                             267\n",
       "LocaleEnglishNameIdentifier                   241\n",
       "Platform                                        4\n",
       "Processor                                       3\n",
       "OsVer                                          23\n",
       "OsBuild                                        49\n",
       "OsSuite                                        11\n",
       "OsPlatformSubRelease                            9\n",
       "OsBuildLab                                    473\n",
       "SkuEdition                                      8\n",
       "IsProtected                                     3\n",
       "AutoSampleOptIn                                 2\n",
       "PuaMode                                         2\n",
       "SMode                                           3\n",
       "IeVerIdentifier                               190\n",
       "SmartScreen                                    14\n",
       "                                            ...  \n",
       "Census_InternalBatteryType                     31\n",
       "Census_OSVersion                              305\n",
       "Census_OSArchitecture                           3\n",
       "Census_OSBranch                                16\n",
       "Census_OSBuildNumber                           64\n",
       "Census_OSBuildRevision                        239\n",
       "Census_OSEdition                               23\n",
       "Census_OSSkuName                               21\n",
       "Census_OSInstallTypeName                        9\n",
       "Census_OSInstallLanguageIdentifier             40\n",
       "Census_OSUILocaleIdentifier                    94\n",
       "Census_OSWUAutoUpdateOptionsName                6\n",
       "Census_IsPortableOperatingSystem                2\n",
       "Census_GenuineStateName                         4\n",
       "Census_ActivationChannel                        6\n",
       "Census_IsFlightingInternal                      2\n",
       "Census_IsFlightsDisabled                        3\n",
       "Census_FlightRing                               7\n",
       "Census_ThresholdOptIn                           3\n",
       "Census_FirmwareManufacturerIdentifier         315\n",
       "Census_FirmwareVersionIdentifier            25075\n",
       "Census_IsSecureBootEnabled                      2\n",
       "Census_IsWIMBootEnabled                         2\n",
       "Census_IsVirtualDevice                          3\n",
       "Census_IsTouchEnabled                           2\n",
       "Census_IsPenCapable                             2\n",
       "Census_IsAlwaysOnAlwaysConnectedCapable         3\n",
       "Wdft_IsGamer                                    3\n",
       "Wdft_RegionIdentifier                          16\n",
       "HasDetections                                   2\n",
       "Length: 73, dtype: int64"
      ]
     },
     "execution_count": 6,
     "metadata": {},
     "output_type": "execute_result"
    }
   ],
   "source": [
    "unico = pd.Series(unico)\n",
    "unico = unico.drop(labels = ['AVProductsInstalled',\n",
    "'AVProductsEnabled',\n",
    "'Census_ProcessorCoreCount',\n",
    "'Census_PrimaryDiskTotalCapacity',\n",
    "'Census_SystemVolumeTotalCapacity',\n",
    "'Census_TotalPhysicalRAM',\n",
    "'Census_InternalPrimaryDiagonalDisplaySizeInInches',\n",
    "'Census_InternalPrimaryDisplayResolutionHorizontal',\n",
    "'Census_InternalPrimaryDisplayResolutionVertical',\n",
    "'Census_InternalBatteryNumberOfCharges'])\n",
    "unico"
   ]
  },
  {
   "cell_type": "code",
   "execution_count": 7,
   "metadata": {},
   "outputs": [
    {
     "name": "stdout",
     "output_type": "stream",
     "text": [
      "30\n"
     ]
    },
    {
     "data": {
      "text/plain": [
       "ProductName                                4\n",
       "IsBeta                                     2\n",
       "IsSxsPassiveMode                           2\n",
       "HasTpm                                     2\n",
       "Platform                                   4\n",
       "Processor                                  3\n",
       "IsProtected                                3\n",
       "AutoSampleOptIn                            2\n",
       "PuaMode                                    2\n",
       "SMode                                      3\n",
       "Firewall                                   3\n",
       "Census_DeviceFamily                        3\n",
       "Census_ProcessorManufacturerIdentifier     5\n",
       "Census_ProcessorClass                      4\n",
       "Census_PrimaryDiskTypeName                 5\n",
       "Census_HasOpticalDiskDrive                 2\n",
       "Census_OSArchitecture                      3\n",
       "Census_IsPortableOperatingSystem           2\n",
       "Census_GenuineStateName                    4\n",
       "Census_IsFlightingInternal                 2\n",
       "Census_IsFlightsDisabled                   3\n",
       "Census_ThresholdOptIn                      3\n",
       "Census_IsSecureBootEnabled                 2\n",
       "Census_IsWIMBootEnabled                    2\n",
       "Census_IsVirtualDevice                     3\n",
       "Census_IsTouchEnabled                      2\n",
       "Census_IsPenCapable                        2\n",
       "Census_IsAlwaysOnAlwaysConnectedCapable    3\n",
       "Wdft_IsGamer                               3\n",
       "HasDetections                              2\n",
       "dtype: int64"
      ]
     },
     "execution_count": 7,
     "metadata": {},
     "output_type": "execute_result"
    }
   ],
   "source": [
    "unicoM6 = unico[unico < 6]\n",
    "print(len(unicoM6))\n",
    "unicoM6"
   ]
  },
  {
   "cell_type": "code",
   "execution_count": 8,
   "metadata": {},
   "outputs": [
    {
     "name": "stdout",
     "output_type": "stream",
     "text": [
      "10\n"
     ]
    },
    {
     "data": {
      "text/plain": [
       "RtpStateBitfield                     8\n",
       "OsSuite                             11\n",
       "OsPlatformSubRelease                 9\n",
       "SkuEdition                           8\n",
       "UacLuaenable                         8\n",
       "Census_PowerPlatformRoleName        10\n",
       "Census_OSInstallTypeName             9\n",
       "Census_OSWUAutoUpdateOptionsName     6\n",
       "Census_ActivationChannel             6\n",
       "Census_FlightRing                    7\n",
       "dtype: int64"
      ]
     },
     "execution_count": 8,
     "metadata": {},
     "output_type": "execute_result"
    }
   ],
   "source": [
    "unicoM12 = unico[(unico < 12) & (unico >= 6)]\n",
    "print(len(unicoM12))\n",
    "unicoM12"
   ]
  },
  {
   "cell_type": "code",
   "execution_count": 9,
   "metadata": {},
   "outputs": [
    {
     "name": "stdout",
     "output_type": "stream",
     "text": [
      "4\n"
     ]
    },
    {
     "data": {
      "text/plain": [
       "SmartScreen              14\n",
       "Census_MDC2FormFactor    12\n",
       "Census_OSBranch          16\n",
       "Wdft_RegionIdentifier    16\n",
       "dtype: int64"
      ]
     },
     "execution_count": 9,
     "metadata": {},
     "output_type": "execute_result"
    }
   ],
   "source": [
    "unicoM20 = unico[(unico < 20) & (unico >= 12)]\n",
    "print(len(unicoM20))\n",
    "unicoM20"
   ]
  },
  {
   "cell_type": "code",
   "execution_count": 10,
   "metadata": {},
   "outputs": [
    {
     "name": "stdout",
     "output_type": "stream",
     "text": [
      "5\n"
     ]
    },
    {
     "data": {
      "text/plain": [
       "OsVer                         23\n",
       "Census_ChassisTypeName        36\n",
       "Census_InternalBatteryType    31\n",
       "Census_OSEdition              23\n",
       "Census_OSSkuName              21\n",
       "dtype: int64"
      ]
     },
     "execution_count": 10,
     "metadata": {},
     "output_type": "execute_result"
    }
   ],
   "source": [
    "unicoM40 = unico[(unico < 40) & (unico >= 20)]\n",
    "print(len(unicoM40))\n",
    "unicoM40"
   ]
  },
  {
   "cell_type": "code",
   "execution_count": 11,
   "metadata": {},
   "outputs": [
    {
     "name": "stdout",
     "output_type": "stream",
     "text": [
      "14\n"
     ]
    },
    {
     "data": {
      "text/plain": [
       "EngineVersion                             53\n",
       "AppVersion                                97\n",
       "CountryIdentifier                        222\n",
       "OrganizationIdentifier                    45\n",
       "GeoNameIdentifier                        267\n",
       "LocaleEnglishNameIdentifier              241\n",
       "OsBuild                                   49\n",
       "IeVerIdentifier                          190\n",
       "Census_OSVersion                         305\n",
       "Census_OSBuildNumber                      64\n",
       "Census_OSBuildRevision                   239\n",
       "Census_OSInstallLanguageIdentifier        40\n",
       "Census_OSUILocaleIdentifier               94\n",
       "Census_FirmwareManufacturerIdentifier    315\n",
       "dtype: int64"
      ]
     },
     "execution_count": 11,
     "metadata": {},
     "output_type": "execute_result"
    }
   ],
   "source": [
    "unicoM450 = unico[(unico < 450) & (unico >= 40)]\n",
    "print(len(unicoM450))\n",
    "unicoM450"
   ]
  },
  {
   "cell_type": "code",
   "execution_count": 12,
   "metadata": {},
   "outputs": [
    {
     "name": "stdout",
     "output_type": "stream",
     "text": [
      "10\n"
     ]
    },
    {
     "data": {
      "text/plain": [
       "MachineIdentifier                   600000\n",
       "AvSigVersion                          6713\n",
       "DefaultBrowsersIdentifier              611\n",
       "AVProductStatesIdentifier             6101\n",
       "CityIdentifier                       40324\n",
       "OsBuildLab                             473\n",
       "Census_OEMNameIdentifier              1665\n",
       "Census_OEMModelIdentifier            45095\n",
       "Census_ProcessorModelIdentifier       2332\n",
       "Census_FirmwareVersionIdentifier     25075\n",
       "dtype: int64"
      ]
     },
     "execution_count": 12,
     "metadata": {},
     "output_type": "execute_result"
    }
   ],
   "source": [
    "unicoMM450 = unico[(unico >= 450)]\n",
    "print(len(unicoMM450))\n",
    "unicoMM450"
   ]
  },
  {
   "cell_type": "code",
   "execution_count": 17,
   "metadata": {},
   "outputs": [
    {
     "data": {
      "text/plain": [
       "130969"
      ]
     },
     "execution_count": 17,
     "metadata": {},
     "output_type": "execute_result"
    }
   ],
   "source": [
    "cenas = unico.index.tolist()\n",
    "cenas.remove('MachineIdentifier')\n",
    "unico[cenas].sum()"
   ]
  },
  {
   "cell_type": "code",
   "execution_count": 18,
   "metadata": {
    "scrolled": true
   },
   "outputs": [
    {
     "data": {
      "text/plain": [
       "274"
      ]
     },
     "execution_count": 18,
     "metadata": {},
     "output_type": "execute_result"
    }
   ],
   "source": [
    "unicoM12.sum()+unicoM20.sum()+unicoM40.sum()"
   ]
  },
  {
   "cell_type": "code",
   "execution_count": 19,
   "metadata": {
    "scrolled": true
   },
   "outputs": [
    {
     "data": {
      "text/plain": [
       "2221"
      ]
     },
     "execution_count": 19,
     "metadata": {},
     "output_type": "execute_result"
    }
   ],
   "source": [
    "unicoM450.sum()"
   ]
  },
  {
   "cell_type": "code",
   "execution_count": 20,
   "metadata": {
    "scrolled": true
   },
   "outputs": [
    {
     "data": {
      "text/plain": [
       "7186"
      ]
     },
     "execution_count": 20,
     "metadata": {},
     "output_type": "execute_result"
    }
   ],
   "source": [
    "cenas = unicoMM450.index.tolist()\n",
    "for x in ['MachineIdentifier',\n",
    "              'DefaultBrowsersIdentifier', 'AVProductStatesIdentifier',\n",
    "              'CityIdentifier', 'Census_OEMNameIdentifier', 'Census_OEMModelIdentifier', 'Census_ProcessorModelIdentifier', \n",
    "              'Census_FirmwareVersionIdentifier']:\n",
    "    cenas.remove(x)\n",
    "cenas\n",
    "unicoMM450[cenas].sum()"
   ]
  }
 ],
 "metadata": {
  "kernelspec": {
   "display_name": "Python 3",
   "language": "python",
   "name": "python3"
  },
  "language_info": {
   "codemirror_mode": {
    "name": "ipython",
    "version": 3
   },
   "file_extension": ".py",
   "mimetype": "text/x-python",
   "name": "python",
   "nbconvert_exporter": "python",
   "pygments_lexer": "ipython3",
   "version": "3.6.7"
  }
 },
 "nbformat": 4,
 "nbformat_minor": 2
}
