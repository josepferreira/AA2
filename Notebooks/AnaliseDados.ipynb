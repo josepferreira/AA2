{
 "cells": [
  {
   "cell_type": "code",
   "execution_count": 1,
   "metadata": {},
   "outputs": [],
   "source": [
    "import pandas as pd\n",
    "ms = pd.read_csv('../../sample_train.csv',low_memory=False)\n",
    "numericos = ['AVProductsInstalled',\n",
    "'AVProductsEnabled',\n",
    "'Census_ProcessorCoreCount',\n",
    "'Census_PrimaryDiskTotalCapacity',\n",
    "'Census_SystemVolumeTotalCapacity',\n",
    "'Census_TotalPhysicalRAM',\n",
    "'Census_InternalPrimaryDiagonalDisplaySizeInInches',\n",
    "'Census_InternalPrimaryDisplayResolutionHorizontal',\n",
    "'Census_InternalPrimaryDisplayResolutionVertical',\n",
    "'Census_InternalBatteryNumberOfCharges']\n",
    "categoricos = [i for i in ms.columns if i not in numericos]"
   ]
  },
  {
   "cell_type": "markdown",
   "metadata": {},
   "source": [
    "### Análise dos dados\n",
    "\n",
    "Para a análise dos dados seguimos a estratégia explicada no relatório, sendo que neste ficheiro vamos mostrar um pouco como a mesma foi realizada. De referir apenas que como existiam 83 colunas (sendo uma o identificador da máquina que não varia e uma a variável resposta) decidimos dividir 27 colunas para cada elemento do grupo analisar."
   ]
  },
  {
   "cell_type": "markdown",
   "metadata": {},
   "source": [
    "Verificamos a percentagem de NAs presentes em cada coluna.\n",
    "Podemos ver que algumas colunas contêm bastantes valores de NA e como foi referido foram eliminadas."
   ]
  },
  {
   "cell_type": "code",
   "execution_count": 2,
   "metadata": {
    "scrolled": true
   },
   "outputs": [
    {
     "data": {
      "text/plain": [
       "PuaMode                                    99.977167\n",
       "Census_ProcessorClass                      99.586833\n",
       "DefaultBrowsersIdentifier                  95.149000\n",
       "Census_IsFlightingInternal                 83.058333\n",
       "Census_InternalBatteryType                 71.052833\n",
       "Census_ThresholdOptIn                      63.539500\n",
       "Census_IsWIMBootEnabled                    63.452667\n",
       "SmartScreen                                35.611333\n",
       "OrganizationIdentifier                     30.845500\n",
       "SMode                                       6.015500\n",
       "CityIdentifier                              3.611333\n",
       "Wdft_IsGamer                                3.415333\n",
       "Wdft_RegionIdentifier                       3.415333\n",
       "Census_FirmwareManufacturerIdentifier       2.109833\n",
       "Census_FirmwareVersionIdentifier            1.835333\n",
       "Census_IsFlightsDisabled                    1.829833\n",
       "Census_OEMModelIdentifier                   1.147833\n",
       "Census_OEMNameIdentifier                    1.067667\n",
       "Firewall                                    1.031167\n",
       "Census_IsAlwaysOnAlwaysConnectedCapable     0.822167\n",
       "Census_OSInstallLanguageIdentifier          0.705000\n",
       "IeVerIdentifier                             0.664167\n",
       "Census_ProcessorManufacturerIdentifier      0.482167\n",
       "Census_ProcessorModelIdentifier             0.482167\n",
       "AVProductStatesIdentifier                   0.400500\n",
       "IsProtected                                 0.397500\n",
       "RtpStateBitfield                            0.361500\n",
       "Census_IsVirtualDevice                      0.186000\n",
       "Census_PrimaryDiskTypeName                  0.148333\n",
       "UacLuaenable                                0.117500\n",
       "Census_ChassisTypeName                      0.007500\n",
       "GeoNameIdentifier                           0.002500\n",
       "Census_PowerPlatformRoleName                0.000833\n",
       "OsBuildLab                                  0.000333\n",
       "dtype: float64"
      ]
     },
     "execution_count": 2,
     "metadata": {},
     "output_type": "execute_result"
    }
   ],
   "source": [
    "ms[categoricos].isna().sum()[ms[categoricos].isna().sum() != 0].sort_values(ascending=False) / ms.shape[0] * 100"
   ]
  },
  {
   "cell_type": "markdown",
   "metadata": {},
   "source": [
    "Verificamos também o número de diferentes valores presentes em cada coluna.\n",
    "As que contêm um número elevado foram eliminadas.\n",
    "\n",
    "(Apenas apresentamos as maiores do que 10 senão ficaria muito extenso)"
   ]
  },
  {
   "cell_type": "code",
   "execution_count": 3,
   "metadata": {},
   "outputs": [
    {
     "data": {
      "text/plain": [
       "MachineIdentifier                        600000\n",
       "Census_OEMModelIdentifier                 45094\n",
       "CityIdentifier                            40323\n",
       "Census_FirmwareVersionIdentifier          25074\n",
       "AvSigVersion                               6713\n",
       "AVProductStatesIdentifier                  6100\n",
       "Census_ProcessorModelIdentifier            2331\n",
       "Census_OEMNameIdentifier                   1664\n",
       "DefaultBrowsersIdentifier                   610\n",
       "OsBuildLab                                  472\n",
       "Census_FirmwareManufacturerIdentifier       314\n",
       "Census_OSVersion                            305\n",
       "GeoNameIdentifier                           266\n",
       "LocaleEnglishNameIdentifier                 241\n",
       "Census_OSBuildRevision                      239\n",
       "CountryIdentifier                           222\n",
       "IeVerIdentifier                             189\n",
       "AppVersion                                   97\n",
       "Census_OSUILocaleIdentifier                  94\n",
       "Census_OSBuildNumber                         64\n",
       "EngineVersion                                53\n",
       "OsBuild                                      49\n",
       "OrganizationIdentifier                       44\n",
       "Census_OSInstallLanguageIdentifier           39\n",
       "Census_ChassisTypeName                       35\n",
       "Census_InternalBatteryType                   30\n",
       "OsVer                                        23\n",
       "Census_OSEdition                             23\n",
       "Census_OSSkuName                             21\n",
       "Census_OSBranch                              16\n",
       "Wdft_RegionIdentifier                        15\n",
       "SmartScreen                                  13\n",
       "Census_MDC2FormFactor                        12\n",
       "OsSuite                                      11\n",
       "dtype: int64"
      ]
     },
     "execution_count": 3,
     "metadata": {},
     "output_type": "execute_result"
    }
   ],
   "source": [
    "ms[categoricos].nunique()[ms[categoricos].nunique() > 10].sort_values(ascending=False)"
   ]
  },
  {
   "cell_type": "markdown",
   "metadata": {},
   "source": [
    "Verificamos também as variáveis que apenas continham 1 valor distinto (constantes), pois não acrescentam informação nenhuma aos dados."
   ]
  },
  {
   "cell_type": "code",
   "execution_count": 4,
   "metadata": {},
   "outputs": [
    {
     "data": {
      "text/plain": [
       "PuaMode                       1\n",
       "Census_IsFlightingInternal    1\n",
       "Census_IsWIMBootEnabled       1\n",
       "dtype: int64"
      ]
     },
     "execution_count": 4,
     "metadata": {},
     "output_type": "execute_result"
    }
   ],
   "source": [
    "ms.nunique()[ms.nunique() == 1]"
   ]
  },
  {
   "cell_type": "markdown",
   "metadata": {},
   "source": [
    "Fizemos uma análise semelhante à seguinte a cada variável verificando os seus diferentes valores. Esta análise teve um objetivo principail: verificar se os dados eram agrupáveis. \n",
    "\n",
    "Apresentamos apenas um exemplor porque apresentar todos seria demasiado extenso. Neste caso podemos verificar que existem dados que podem ser agrupados, nomeadamente os seguintes:\n",
    "- Off, off e OFF podem ser agrupados apenas em Off\n",
    "- On e on podem ser agrupados em On\n",
    "- os valores com carateres anormais podem ser agrupados em other"
   ]
  },
  {
   "cell_type": "code",
   "execution_count": 5,
   "metadata": {},
   "outputs": [
    {
     "data": {
      "text/plain": [
       "RequireAdmin    290138\n",
       "ExistsNotSet     70339\n",
       "Off              12629\n",
       "Warn              9080\n",
       "Prompt            2425\n",
       "Block             1493\n",
       "off                106\n",
       "On                  59\n",
       "&#x02;              24\n",
       "&#x01;              23\n",
       "on                  14\n",
       "OFF                  1\n",
       "0                    1\n",
       "Name: SmartScreen, dtype: int64"
      ]
     },
     "execution_count": 5,
     "metadata": {},
     "output_type": "execute_result"
    }
   ],
   "source": [
    "ms['SmartScreen'].value_counts()"
   ]
  },
  {
   "cell_type": "markdown",
   "metadata": {},
   "source": [
    "Verifica as diferenças entre os 2 valores possíveis da variável resposta.\n",
    "\n",
    "Concluímos que é balanceado (importante porque assim o modelo não cai num caso de prever apenas 1 classe pela outra ser rara)."
   ]
  },
  {
   "cell_type": "code",
   "execution_count": 6,
   "metadata": {},
   "outputs": [
    {
     "name": "stdout",
     "output_type": "stream",
     "text": [
      "(299923, 83)\n"
     ]
    },
    {
     "data": {
      "text/plain": [
       "(300077, 83)"
      ]
     },
     "execution_count": 6,
     "metadata": {},
     "output_type": "execute_result"
    }
   ],
   "source": [
    "print(ms[ms['HasDetections']  == 0].shape)\n",
    "ms[ms['HasDetections']  == 1].shape"
   ]
  },
  {
   "cell_type": "markdown",
   "metadata": {},
   "source": [
    "Verificamos também as correlações entre as variáveis quantitativas. No entanto pelo facto de estas serem poucas e apenas parecer haver evidencia de uma correlação alta decidimos não efetuar qualquer procedimento que diz respeito a este caso.\n",
    "\n",
    "Possivelmente era algo que devíamos ter olhado com mais cuidado."
   ]
  },
  {
   "cell_type": "code",
   "execution_count": 7,
   "metadata": {},
   "outputs": [
    {
     "name": "stdout",
     "output_type": "stream",
     "text": [
      "0.9012683591985728\n"
     ]
    },
    {
     "data": {
      "text/plain": [
       "<matplotlib.axes._subplots.AxesSubplot at 0x7f7643407198>"
      ]
     },
     "execution_count": 7,
     "metadata": {},
     "output_type": "execute_result"
    }
   ],
   "source": [
    "msN = ms[numericos]\n",
    "print(msN.corr()['Census_InternalPrimaryDisplayResolutionHorizontal']['Census_InternalPrimaryDisplayResolutionVertical'])\n",
    "import seaborn as sns\n",
    "import numpy as np\n",
    "cmap = sns.diverging_palette(220, 10, as_cmap=True)\n",
    "mask = np.zeros_like(msN.corr(), dtype=np.bool)\n",
    "mask[np.triu_indices_from(mask)] = True\n",
    "sns.heatmap(msN.corr(), cmap=cmap, mask=mask)"
   ]
  }
 ],
 "metadata": {
  "kernelspec": {
   "display_name": "Python 3",
   "language": "python",
   "name": "python3"
  },
  "language_info": {
   "codemirror_mode": {
    "name": "ipython",
    "version": 3
   },
   "file_extension": ".py",
   "mimetype": "text/x-python",
   "name": "python",
   "nbconvert_exporter": "python",
   "pygments_lexer": "ipython3",
   "version": "3.6.7"
  }
 },
 "nbformat": 4,
 "nbformat_minor": 2
}
