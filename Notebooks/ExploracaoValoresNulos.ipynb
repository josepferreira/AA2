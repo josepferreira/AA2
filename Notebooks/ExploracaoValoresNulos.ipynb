{
 "cells": [
  {
   "cell_type": "markdown",
   "metadata": {},
   "source": [
    "## Carregamento dos dados\n",
    "\n",
    "* **Foi ser necessário carregar por fases, visto que são muitos dados**"
   ]
  },
  {
   "cell_type": "code",
   "execution_count": 1,
   "metadata": {},
   "outputs": [],
   "source": [
    "import pandas as pd"
   ]
  },
  {
   "cell_type": "markdown",
   "metadata": {},
   "source": [
    "### Função que verifica a existencia de valores nulos e conta-os por coluna. Para além disso junta as linhas completas"
   ]
  },
  {
   "cell_type": "code",
   "execution_count": 2,
   "metadata": {},
   "outputs": [],
   "source": [
    "def processa_chunk(ms, valores, ds):\n",
    "    if(valores is None): valores = ms.isnull().sum()\n",
    "    else: valores += ms.isnull().sum()\n",
    "        \n",
    "    if(ds is None): ds = ms.dropna()\n",
    "    else: ds = pd.concat([ds,ms.dropna()],ignore_index=True)\n",
    "    print('feito')\n",
    "    return (valores, ds)"
   ]
  },
  {
   "cell_type": "code",
   "execution_count": 3,
   "metadata": {},
   "outputs": [
    {
     "name": "stdout",
     "output_type": "stream",
     "text": [
      "feito\n"
     ]
    }
   ],
   "source": [
    "chunksize = 0.5 * (10 ** 6)\n",
    "nlinhas = 0\n",
    "valores = None\n",
    "ds = None\n",
    "'''for ms in pd.read_csv('../train.csv', low_memory=False, chunksize = chunksize):\n",
    "    nlinhas += ms.shape[0]\n",
    "    (valores, ds) = processa_chunk(ms, valores, ds)\n",
    "'''\n",
    "ms = pd.read_csv('../../sample_train.csv', low_memory=False)\n",
    "(valores, ds) = processa_chunk(ms, valores, ds)"
   ]
  },
  {
   "cell_type": "code",
   "execution_count": 4,
   "metadata": {},
   "outputs": [
    {
     "data": {
      "text/plain": [
       "600000"
      ]
     },
     "execution_count": 4,
     "metadata": {},
     "output_type": "execute_result"
    }
   ],
   "source": [
    "nlinhas = ms.shape[0]\n",
    "nlinhas"
   ]
  },
  {
   "cell_type": "markdown",
   "metadata": {},
   "source": [
    "#### Transforma o número de valores nulos em percentagem"
   ]
  },
  {
   "cell_type": "code",
   "execution_count": 5,
   "metadata": {},
   "outputs": [
    {
     "name": "stdout",
     "output_type": "stream",
     "text": [
      "MachineIdentifier                               0\n",
      "ProductName                                     0\n",
      "EngineVersion                                   0\n",
      "AppVersion                                      0\n",
      "AvSigVersion                                    0\n",
      "IsBeta                                          0\n",
      "RtpStateBitfield                             2169\n",
      "IsSxsPassiveMode                                0\n",
      "DefaultBrowsersIdentifier                  570894\n",
      "AVProductStatesIdentifier                    2403\n",
      "AVProductsInstalled                          2403\n",
      "AVProductsEnabled                            2403\n",
      "HasTpm                                          0\n",
      "CountryIdentifier                               0\n",
      "CityIdentifier                              21668\n",
      "OrganizationIdentifier                     185073\n",
      "GeoNameIdentifier                              15\n",
      "LocaleEnglishNameIdentifier                     0\n",
      "Platform                                        0\n",
      "Processor                                       0\n",
      "OsVer                                           0\n",
      "OsBuild                                         0\n",
      "OsSuite                                         0\n",
      "OsPlatformSubRelease                            0\n",
      "OsBuildLab                                      2\n",
      "SkuEdition                                      0\n",
      "IsProtected                                  2385\n",
      "AutoSampleOptIn                                 0\n",
      "PuaMode                                    599863\n",
      "SMode                                       36093\n",
      "                                            ...  \n",
      "Census_InternalBatteryNumberOfCharges       18255\n",
      "Census_OSVersion                                0\n",
      "Census_OSArchitecture                           0\n",
      "Census_OSBranch                                 0\n",
      "Census_OSBuildNumber                            0\n",
      "Census_OSBuildRevision                          0\n",
      "Census_OSEdition                                0\n",
      "Census_OSSkuName                                0\n",
      "Census_OSInstallTypeName                        0\n",
      "Census_OSInstallLanguageIdentifier           4230\n",
      "Census_OSUILocaleIdentifier                     0\n",
      "Census_OSWUAutoUpdateOptionsName                0\n",
      "Census_IsPortableOperatingSystem                0\n",
      "Census_GenuineStateName                         0\n",
      "Census_ActivationChannel                        0\n",
      "Census_IsFlightingInternal                 498350\n",
      "Census_IsFlightsDisabled                    10979\n",
      "Census_FlightRing                               0\n",
      "Census_ThresholdOptIn                      381237\n",
      "Census_FirmwareManufacturerIdentifier       12659\n",
      "Census_FirmwareVersionIdentifier            11012\n",
      "Census_IsSecureBootEnabled                      0\n",
      "Census_IsWIMBootEnabled                    380716\n",
      "Census_IsVirtualDevice                       1116\n",
      "Census_IsTouchEnabled                           0\n",
      "Census_IsPenCapable                             0\n",
      "Census_IsAlwaysOnAlwaysConnectedCapable      4933\n",
      "Wdft_IsGamer                                20492\n",
      "Wdft_RegionIdentifier                       20492\n",
      "HasDetections                                   0\n",
      "Length: 83, dtype: int64\n"
     ]
    }
   ],
   "source": [
    "print(valores)\n",
    "percentagem = valores / nlinhas"
   ]
  },
  {
   "cell_type": "markdown",
   "metadata": {},
   "source": [
    "#### Remove as que têm 0 valores nulos"
   ]
  },
  {
   "cell_type": "code",
   "execution_count": 6,
   "metadata": {},
   "outputs": [],
   "source": [
    "type(percentagem)\n",
    "percentagem = percentagem[percentagem != 0]"
   ]
  },
  {
   "cell_type": "markdown",
   "metadata": {},
   "source": [
    "#### Divide as colunas em percentagem de valores nulos:\n",
    "\n",
    "- 0% a 25%: baixa\n",
    "- 25% a 50%: média baixa\n",
    "- 50% a 75%: média alta\n",
    "- 75% a 100%: alta"
   ]
  },
  {
   "cell_type": "code",
   "execution_count": 7,
   "metadata": {},
   "outputs": [],
   "source": [
    "alta = percentagem[percentagem >= 0.75]\n",
    "mediaAlta = percentagem[(percentagem >= 0.5) & (percentagem < 0.75)]\n",
    "mediaBaixa = percentagem[(percentagem >= 0.25) & (percentagem < 0.5)]\n",
    "baixa = percentagem[percentagem < 0.25]"
   ]
  },
  {
   "cell_type": "code",
   "execution_count": 8,
   "metadata": {
    "scrolled": true
   },
   "outputs": [
    {
     "data": {
      "text/plain": [
       "DefaultBrowsersIdentifier     0.951490\n",
       "PuaMode                       0.999772\n",
       "Census_ProcessorClass         0.995868\n",
       "Census_IsFlightingInternal    0.830583\n",
       "dtype: float64"
      ]
     },
     "execution_count": 8,
     "metadata": {},
     "output_type": "execute_result"
    }
   ],
   "source": [
    "alta"
   ]
  },
  {
   "cell_type": "code",
   "execution_count": 9,
   "metadata": {
    "scrolled": true
   },
   "outputs": [
    {
     "data": {
      "text/plain": [
       "Census_InternalBatteryType    0.710528\n",
       "Census_ThresholdOptIn         0.635395\n",
       "Census_IsWIMBootEnabled       0.634527\n",
       "dtype: float64"
      ]
     },
     "execution_count": 9,
     "metadata": {},
     "output_type": "execute_result"
    }
   ],
   "source": [
    "mediaAlta"
   ]
  },
  {
   "cell_type": "code",
   "execution_count": 10,
   "metadata": {},
   "outputs": [
    {
     "data": {
      "text/plain": [
       "OrganizationIdentifier    0.308455\n",
       "SmartScreen               0.356113\n",
       "dtype: float64"
      ]
     },
     "execution_count": 10,
     "metadata": {},
     "output_type": "execute_result"
    }
   ],
   "source": [
    "mediaBaixa"
   ]
  },
  {
   "cell_type": "code",
   "execution_count": 11,
   "metadata": {},
   "outputs": [
    {
     "data": {
      "text/plain": [
       "RtpStateBitfield                                     0.003615\n",
       "AVProductStatesIdentifier                            0.004005\n",
       "AVProductsInstalled                                  0.004005\n",
       "AVProductsEnabled                                    0.004005\n",
       "CityIdentifier                                       0.036113\n",
       "GeoNameIdentifier                                    0.000025\n",
       "OsBuildLab                                           0.000003\n",
       "IsProtected                                          0.003975\n",
       "SMode                                                0.060155\n",
       "IeVerIdentifier                                      0.006642\n",
       "Firewall                                             0.010312\n",
       "UacLuaenable                                         0.001175\n",
       "Census_OEMNameIdentifier                             0.010677\n",
       "Census_OEMModelIdentifier                            0.011478\n",
       "Census_ProcessorCoreCount                            0.004822\n",
       "Census_ProcessorManufacturerIdentifier               0.004822\n",
       "Census_ProcessorModelIdentifier                      0.004822\n",
       "Census_PrimaryDiskTotalCapacity                      0.006208\n",
       "Census_PrimaryDiskTypeName                           0.001483\n",
       "Census_SystemVolumeTotalCapacity                     0.006207\n",
       "Census_TotalPhysicalRAM                              0.009355\n",
       "Census_ChassisTypeName                               0.000075\n",
       "Census_InternalPrimaryDiagonalDisplaySizeInInches    0.005432\n",
       "Census_InternalPrimaryDisplayResolutionHorizontal    0.005422\n",
       "Census_InternalPrimaryDisplayResolutionVertical      0.005422\n",
       "Census_PowerPlatformRoleName                         0.000008\n",
       "Census_InternalBatteryNumberOfCharges                0.030425\n",
       "Census_OSInstallLanguageIdentifier                   0.007050\n",
       "Census_IsFlightsDisabled                             0.018298\n",
       "Census_FirmwareManufacturerIdentifier                0.021098\n",
       "Census_FirmwareVersionIdentifier                     0.018353\n",
       "Census_IsVirtualDevice                               0.001860\n",
       "Census_IsAlwaysOnAlwaysConnectedCapable              0.008222\n",
       "Wdft_IsGamer                                         0.034153\n",
       "Wdft_RegionIdentifier                                0.034153\n",
       "dtype: float64"
      ]
     },
     "execution_count": 11,
     "metadata": {},
     "output_type": "execute_result"
    }
   ],
   "source": [
    "baixa"
   ]
  },
  {
   "cell_type": "markdown",
   "metadata": {},
   "source": [
    "### Verifica quantas linhas completas existem no dataset"
   ]
  },
  {
   "cell_type": "code",
   "execution_count": 12,
   "metadata": {},
   "outputs": [
    {
     "data": {
      "text/html": [
       "<div>\n",
       "<style scoped>\n",
       "    .dataframe tbody tr th:only-of-type {\n",
       "        vertical-align: middle;\n",
       "    }\n",
       "\n",
       "    .dataframe tbody tr th {\n",
       "        vertical-align: top;\n",
       "    }\n",
       "\n",
       "    .dataframe thead th {\n",
       "        text-align: right;\n",
       "    }\n",
       "</style>\n",
       "<table border=\"1\" class=\"dataframe\">\n",
       "  <thead>\n",
       "    <tr style=\"text-align: right;\">\n",
       "      <th></th>\n",
       "      <th>MachineIdentifier</th>\n",
       "      <th>ProductName</th>\n",
       "      <th>EngineVersion</th>\n",
       "      <th>AppVersion</th>\n",
       "      <th>AvSigVersion</th>\n",
       "      <th>IsBeta</th>\n",
       "      <th>RtpStateBitfield</th>\n",
       "      <th>IsSxsPassiveMode</th>\n",
       "      <th>DefaultBrowsersIdentifier</th>\n",
       "      <th>AVProductStatesIdentifier</th>\n",
       "      <th>...</th>\n",
       "      <th>Census_FirmwareVersionIdentifier</th>\n",
       "      <th>Census_IsSecureBootEnabled</th>\n",
       "      <th>Census_IsWIMBootEnabled</th>\n",
       "      <th>Census_IsVirtualDevice</th>\n",
       "      <th>Census_IsTouchEnabled</th>\n",
       "      <th>Census_IsPenCapable</th>\n",
       "      <th>Census_IsAlwaysOnAlwaysConnectedCapable</th>\n",
       "      <th>Wdft_IsGamer</th>\n",
       "      <th>Wdft_RegionIdentifier</th>\n",
       "      <th>HasDetections</th>\n",
       "    </tr>\n",
       "  </thead>\n",
       "  <tbody>\n",
       "  </tbody>\n",
       "</table>\n",
       "<p>0 rows × 83 columns</p>\n",
       "</div>"
      ],
      "text/plain": [
       "Empty DataFrame\n",
       "Columns: [MachineIdentifier, ProductName, EngineVersion, AppVersion, AvSigVersion, IsBeta, RtpStateBitfield, IsSxsPassiveMode, DefaultBrowsersIdentifier, AVProductStatesIdentifier, AVProductsInstalled, AVProductsEnabled, HasTpm, CountryIdentifier, CityIdentifier, OrganizationIdentifier, GeoNameIdentifier, LocaleEnglishNameIdentifier, Platform, Processor, OsVer, OsBuild, OsSuite, OsPlatformSubRelease, OsBuildLab, SkuEdition, IsProtected, AutoSampleOptIn, PuaMode, SMode, IeVerIdentifier, SmartScreen, Firewall, UacLuaenable, Census_MDC2FormFactor, Census_DeviceFamily, Census_OEMNameIdentifier, Census_OEMModelIdentifier, Census_ProcessorCoreCount, Census_ProcessorManufacturerIdentifier, Census_ProcessorModelIdentifier, Census_ProcessorClass, Census_PrimaryDiskTotalCapacity, Census_PrimaryDiskTypeName, Census_SystemVolumeTotalCapacity, Census_HasOpticalDiskDrive, Census_TotalPhysicalRAM, Census_ChassisTypeName, Census_InternalPrimaryDiagonalDisplaySizeInInches, Census_InternalPrimaryDisplayResolutionHorizontal, Census_InternalPrimaryDisplayResolutionVertical, Census_PowerPlatformRoleName, Census_InternalBatteryType, Census_InternalBatteryNumberOfCharges, Census_OSVersion, Census_OSArchitecture, Census_OSBranch, Census_OSBuildNumber, Census_OSBuildRevision, Census_OSEdition, Census_OSSkuName, Census_OSInstallTypeName, Census_OSInstallLanguageIdentifier, Census_OSUILocaleIdentifier, Census_OSWUAutoUpdateOptionsName, Census_IsPortableOperatingSystem, Census_GenuineStateName, Census_ActivationChannel, Census_IsFlightingInternal, Census_IsFlightsDisabled, Census_FlightRing, Census_ThresholdOptIn, Census_FirmwareManufacturerIdentifier, Census_FirmwareVersionIdentifier, Census_IsSecureBootEnabled, Census_IsWIMBootEnabled, Census_IsVirtualDevice, Census_IsTouchEnabled, Census_IsPenCapable, Census_IsAlwaysOnAlwaysConnectedCapable, Wdft_IsGamer, Wdft_RegionIdentifier, HasDetections]\n",
       "Index: []\n",
       "\n",
       "[0 rows x 83 columns]"
      ]
     },
     "execution_count": 12,
     "metadata": {},
     "output_type": "execute_result"
    }
   ],
   "source": [
    "ds"
   ]
  },
  {
   "cell_type": "code",
   "execution_count": 13,
   "metadata": {
    "scrolled": true
   },
   "outputs": [
    {
     "data": {
      "text/plain": [
       "(299923, 83)"
      ]
     },
     "execution_count": 13,
     "metadata": {},
     "output_type": "execute_result"
    }
   ],
   "source": [
    "ms[ms['HasDetections']  == 0].shape"
   ]
  },
  {
   "cell_type": "code",
   "execution_count": 14,
   "metadata": {},
   "outputs": [
    {
     "data": {
      "text/plain": [
       "(300077, 83)"
      ]
     },
     "execution_count": 14,
     "metadata": {},
     "output_type": "execute_result"
    }
   ],
   "source": [
    "ms[ms['HasDetections']  == 1].shape"
   ]
  },
  {
   "cell_type": "code",
   "execution_count": 15,
   "metadata": {},
   "outputs": [],
   "source": [
    "msN = ms[['AVProductsInstalled',\n",
    "'AVProductsEnabled',\n",
    "'Census_ProcessorCoreCount',\n",
    "'Census_PrimaryDiskTotalCapacity',\n",
    "'Census_SystemVolumeTotalCapacity',\n",
    "'Census_TotalPhysicalRAM',\n",
    "'Census_InternalPrimaryDiagonalDisplaySizeInInches',\n",
    "'Census_InternalPrimaryDisplayResolutionHorizontal',\n",
    "'Census_InternalPrimaryDisplayResolutionVertical',\n",
    "'Census_InternalBatteryNumberOfCharges']]"
   ]
  },
  {
   "cell_type": "code",
   "execution_count": 16,
   "metadata": {
    "scrolled": false
   },
   "outputs": [
    {
     "name": "stdout",
     "output_type": "stream",
     "text": [
      "(600000, 10)\n"
     ]
    },
    {
     "data": {
      "text/plain": [
       "<matplotlib.axes._subplots.AxesSubplot at 0x7ff1e5b28e80>"
      ]
     },
     "execution_count": 16,
     "metadata": {},
     "output_type": "execute_result"
    }
   ],
   "source": [
    "print(msN.shape)\n",
    "import seaborn as sns\n",
    "import numpy as np\n",
    "cmap = sns.diverging_palette(220, 10, as_cmap=True)\n",
    "mask = np.zeros_like(msN.corr(), dtype=np.bool)\n",
    "mask[np.triu_indices_from(mask)] = True\n",
    "sns.heatmap(msN.corr(), cmap=cmap, mask=mask)"
   ]
  },
  {
   "cell_type": "code",
   "execution_count": 108,
   "metadata": {},
   "outputs": [],
   "source": [
    "ms = ms.drop(columns = ['MachineIdentifier','AVProductsInstalled',\n",
    "'AVProductsEnabled',\n",
    "'Census_ProcessorCoreCount',\n",
    "'Census_PrimaryDiskTotalCapacity',\n",
    "'Census_SystemVolumeTotalCapacity',\n",
    "'Census_TotalPhysicalRAM',\n",
    "'Census_InternalPrimaryDiagonalDisplaySizeInInches',\n",
    "'Census_InternalPrimaryDisplayResolutionHorizontal',\n",
    "'Census_InternalPrimaryDisplayResolutionVertical',\n",
    "'Census_InternalBatteryNumberOfCharges',\n",
    "'PuaMode',\n",
    "'DefaultBrowsersIdentifier',\n",
    "'Census_ProcessorClass',\n",
    "'CountryIdentifier',\n",
    "'CityIdentifier',\n",
    "'OrganizationIdentifier',\n",
    "'GeoNameIdentifier',\n",
    "'LocaleEnglishNameIdentifier',\n",
    "'AVProductStatesIdentifier',\n",
    "'Census_OEMNameIdentifier',\n",
    "'Census_OEMModelIdentifier',\n",
    "'Census_ProcessorModelIdentifier',\n",
    "'Census_FirmwareVersionIdentifier',\n",
    "'Census_FirmwareManufacturerIdentifier',\n",
    "'IeVerIdentifier',\n",
    "'Census_OSBuildNumber',\n",
    "'Census_OSBuildRevision',\n",
    "'Census_OSUILocaleIdentifier',\n",
    "'OsBuildLab'], errors='ignore')"
   ]
  },
  {
   "cell_type": "code",
   "execution_count": 105,
   "metadata": {},
   "outputs": [
    {
     "data": {
      "text/plain": [
       "30"
      ]
     },
     "execution_count": 105,
     "metadata": {},
     "output_type": "execute_result"
    }
   ],
   "source": [
    "len(['MachineIdentifier','AVProductsInstalled',\n",
    "'AVProductsEnabled',\n",
    "'Census_ProcessorCoreCount',\n",
    "'Census_PrimaryDiskTotalCapacity',\n",
    "'Census_SystemVolumeTotalCapacity',\n",
    "'Census_TotalPhysicalRAM',\n",
    "'Census_InternalPrimaryDiagonalDisplaySizeInInches',\n",
    "'Census_InternalPrimaryDisplayResolutionHorizontal',\n",
    "'Census_InternalPrimaryDisplayResolutionVertical',\n",
    "'Census_InternalBatteryNumberOfCharges',\n",
    "'PuaMode',\n",
    "'DefaultBrowsersIdentifier',\n",
    "'Census_ProcessorClass',\n",
    "'CountryIdentifier',\n",
    "'CityIdentifier',\n",
    "'OrganizationIdentifier',\n",
    "'GeoNameIdentifier',\n",
    "'LocaleEnglishNameIdentifier',\n",
    "'AVProductStatesIdentifier',\n",
    "'Census_OEMNameIdentifier',\n",
    "'Census_OEMModelIdentifier',\n",
    "'Census_ProcessorModelIdentifier',\n",
    "'Census_FirmwareVersionIdentifier',\n",
    "'Census_FirmwareManufacturerIdentifier',\n",
    "'IeVerIdentifier',\n",
    "'Census_OSBuildNumber',\n",
    "'Census_OSBuildRevision',\n",
    "'Census_OSUILocaleIdentifier',\n",
    "'OsBuildLab'])"
   ]
  },
  {
   "cell_type": "code",
   "execution_count": 109,
   "metadata": {},
   "outputs": [
    {
     "data": {
      "text/plain": [
       "ProductName                                   4\n",
       "EngineVersion                                53\n",
       "AppVersion                                   97\n",
       "AvSigVersion                               6713\n",
       "IsBeta                                        2\n",
       "RtpStateBitfield                              7\n",
       "IsSxsPassiveMode                              2\n",
       "HasTpm                                        2\n",
       "Platform                                      4\n",
       "Processor                                     3\n",
       "OsVer                                        23\n",
       "OsBuild                                      49\n",
       "OsSuite                                      11\n",
       "OsPlatformSubRelease                          9\n",
       "SkuEdition                                    8\n",
       "IsProtected                                   2\n",
       "AutoSampleOptIn                               2\n",
       "SMode                                         2\n",
       "SmartScreen                                  13\n",
       "Firewall                                      2\n",
       "UacLuaenable                                  7\n",
       "Census_MDC2FormFactor                        12\n",
       "Census_DeviceFamily                           3\n",
       "Census_ProcessorManufacturerIdentifier        4\n",
       "Census_PrimaryDiskTypeName                    4\n",
       "Census_HasOpticalDiskDrive                    2\n",
       "Census_ChassisTypeName                       35\n",
       "Census_PowerPlatformRoleName                  9\n",
       "Census_InternalBatteryType                   30\n",
       "Census_OSVersion                            305\n",
       "Census_OSArchitecture                         3\n",
       "Census_OSBranch                              16\n",
       "Census_OSEdition                             23\n",
       "Census_OSSkuName                             21\n",
       "Census_OSInstallTypeName                      9\n",
       "Census_OSInstallLanguageIdentifier           39\n",
       "Census_OSWUAutoUpdateOptionsName              6\n",
       "Census_IsPortableOperatingSystem              2\n",
       "Census_GenuineStateName                       4\n",
       "Census_ActivationChannel                      6\n",
       "Census_IsFlightingInternal                    1\n",
       "Census_IsFlightsDisabled                      2\n",
       "Census_FlightRing                             7\n",
       "Census_ThresholdOptIn                         2\n",
       "Census_IsSecureBootEnabled                    2\n",
       "Census_IsWIMBootEnabled                       1\n",
       "Census_IsVirtualDevice                        2\n",
       "Census_IsTouchEnabled                         2\n",
       "Census_IsPenCapable                           2\n",
       "Census_IsAlwaysOnAlwaysConnectedCapable       2\n",
       "Wdft_IsGamer                                  2\n",
       "Wdft_RegionIdentifier                        15\n",
       "HasDetections                                 2\n",
       "dtype: int64"
      ]
     },
     "execution_count": 109,
     "metadata": {},
     "output_type": "execute_result"
    }
   ],
   "source": [
    "ms.nunique()"
   ]
  },
  {
   "cell_type": "code",
   "execution_count": 48,
   "metadata": {},
   "outputs": [
    {
     "data": {
      "text/plain": [
       "38"
      ]
     },
     "execution_count": 48,
     "metadata": {},
     "output_type": "execute_result"
    }
   ],
   "source": [
    "ms['AvSigVersion'].apply(lambda x: trataString(x)).unique().size"
   ]
  },
  {
   "cell_type": "code",
   "execution_count": 110,
   "metadata": {},
   "outputs": [
    {
     "data": {
      "text/plain": [
       "845"
      ]
     },
     "execution_count": 110,
     "metadata": {},
     "output_type": "execute_result"
    }
   ],
   "source": [
    "ms.nunique().sum() - 6713 - 97 + 38 + 15 + 12"
   ]
  }
 ],
 "metadata": {
  "kernelspec": {
   "display_name": "Python 3",
   "language": "python",
   "name": "python3"
  },
  "language_info": {
   "codemirror_mode": {
    "name": "ipython",
    "version": 3
   },
   "file_extension": ".py",
   "mimetype": "text/x-python",
   "name": "python",
   "nbconvert_exporter": "python",
   "pygments_lexer": "ipython3",
   "version": "3.6.7"
  }
 },
 "nbformat": 4,
 "nbformat_minor": 2
}
