{
 "cells": [
  {
   "cell_type": "code",
   "execution_count": 1,
   "metadata": {},
   "outputs": [],
   "source": [
    "import pandas as pd"
   ]
  },
  {
   "cell_type": "code",
   "execution_count": 2,
   "metadata": {},
   "outputs": [],
   "source": [
    "def processa_chunk(ms, valores):\n",
    "    if(valores is None):\n",
    "        valores = {}\n",
    "        for v in ms.columns:\n",
    "            valores.update({v: ms[v].value_counts(dropna=False)})\n",
    "    else:\n",
    "        for v in ms.columns:\n",
    "            valores[v] =  pd.concat([valores[v],ms[v].value_counts(dropna=False)]).groupby(level=0).sum()\n",
    "    return valores"
   ]
  },
  {
   "cell_type": "code",
   "execution_count": 3,
   "metadata": {},
   "outputs": [
    {
     "name": "stdout",
     "output_type": "stream",
     "text": [
      "0\n",
      "1\n",
      "2\n",
      "3\n",
      "4\n",
      "5\n",
      "6\n",
      "7\n",
      "8\n",
      "9\n",
      "10\n",
      "11\n",
      "12\n",
      "13\n",
      "14\n",
      "15\n",
      "16\n",
      "17\n"
     ]
    }
   ],
   "source": [
    "chunksize = 0.5 * (10 ** 6)\n",
    "valores = None\n",
    "nlinhas = 0\n",
    "i = 0\n",
    "for ms in pd.read_csv('../train.csv', low_memory=False, chunksize = chunksize):\n",
    "    print(i)\n",
    "    i += 1\n",
    "    nlinhas += ms.shape[0]\n",
    "    valores = processa_chunk(ms,valores)"
   ]
  },
  {
   "cell_type": "markdown",
   "metadata": {},
   "source": [
    "# Depois dividir os valores pelo numero de linhas para ter percentagens"
   ]
  },
  {
   "cell_type": "code",
   "execution_count": 4,
   "metadata": {
    "scrolled": true
   },
   "outputs": [
    {
     "name": "stdout",
     "output_type": "stream",
     "text": [
      "0    0.999992\n",
      "1    0.000008\n",
      "Name: IsBeta, dtype: float64\n",
      "0    0.982666\n",
      "1    0.017334\n",
      "Name: IsSxsPassiveMode, dtype: float64\n",
      "0    0.012029\n",
      "1    0.987971\n",
      "Name: HasTpm, dtype: float64\n",
      "0.0    0.054157\n",
      "1.0    0.941803\n",
      "Name: IsProtected, dtype: float64\n",
      "0    0.999971\n",
      "1    0.000029\n",
      "Name: AutoSampleOptIn, dtype: float64\n",
      "audit    2.241780e-07\n",
      "on       2.585893e-04\n",
      "Name: PuaMode, dtype: float64\n",
      "0.0    0.939288\n",
      "1.0    0.000435\n",
      "Name: SMode, dtype: float64\n",
      "0.0    0.021198\n",
      "1.0    0.968563\n",
      "Name: Firewall, dtype: float64\n",
      "0    0.922813\n",
      "1    0.077187\n",
      "Name: Census_HasOpticalDiskDrive, dtype: float64\n",
      "0    0.999455\n",
      "1    0.000545\n",
      "Name: Census_IsPortableOperatingSystem, dtype: float64\n",
      "0.0    0.169557\n",
      "1.0    0.000002\n",
      "Name: Census_IsFlightingInternal, dtype: float64\n",
      "0.0    0.981997\n",
      "1.0    0.000010\n",
      "Name: Census_IsFlightsDisabled, dtype: float64\n",
      "0.0    0.364664\n",
      "1.0    0.000091\n",
      "Name: Census_ThresholdOptIn, dtype: float64\n",
      "0    0.513977\n",
      "1    0.486023\n",
      "Name: Census_IsSecureBootEnabled, dtype: float64\n",
      "0.0    3.656095e-01\n",
      "1.0    1.120890e-07\n",
      "Name: Census_IsWIMBootEnabled, dtype: float64\n",
      "0.0    0.991185\n",
      "1.0    0.007027\n",
      "Name: Census_IsVirtualDevice, dtype: float64\n",
      "0    0.874457\n",
      "1    0.125543\n",
      "Name: Census_IsTouchEnabled, dtype: float64\n",
      "0    0.961929\n",
      "1    0.038071\n",
      "Name: Census_IsPenCapable, dtype: float64\n",
      "0.0    0.935043\n",
      "1.0    0.056960\n",
      "Name: Census_IsAlwaysOnAlwaysConnectedCapable, dtype: float64\n",
      "0.0    0.692053\n",
      "1.0    0.273933\n",
      "Name: Wdft_IsGamer, dtype: float64\n",
      "0    0.500207\n",
      "1    0.499793\n",
      "Name: HasDetections, dtype: float64\n"
     ]
    }
   ],
   "source": [
    "for key, value in valores.items():\n",
    "    if(value.shape[0] < 3): \n",
    "        print(value/nlinhas)"
   ]
  },
  {
   "cell_type": "markdown",
   "metadata": {},
   "source": [
    "## Visualização dos valores diferentes dos que têm muitos valores nulos"
   ]
  },
  {
   "cell_type": "code",
   "execution_count": 5,
   "metadata": {},
   "outputs": [
    {
     "data": {
      "text/plain": [
       "audit       2\n",
       "on       2307\n",
       "Name: PuaMode, dtype: int64"
      ]
     },
     "execution_count": 5,
     "metadata": {},
     "output_type": "execute_result"
    }
   ],
   "source": [
    "valores['PuaMode']"
   ]
  },
  {
   "cell_type": "code",
   "execution_count": 6,
   "metadata": {},
   "outputs": [
    {
     "data": {
      "text/plain": [
       "high     6096\n",
       "low      9621\n",
       "mid     20914\n",
       "Name: Census_ProcessorClass, dtype: int64"
      ]
     },
     "execution_count": 6,
     "metadata": {},
     "output_type": "execute_result"
    }
   ],
   "source": [
    "valores['Census_ProcessorClass']"
   ]
  },
  {
   "cell_type": "code",
   "execution_count": 17,
   "metadata": {},
   "outputs": [
    {
     "data": {
      "text/plain": [
       "139.0      4246\n",
       "146.0     20756\n",
       "168.0      1288\n",
       "223.0      1522\n",
       "239.0     46056\n",
       "311.0      1445\n",
       "508.0      1690\n",
       "597.0      2386\n",
       "614.0      6539\n",
       "773.0      5900\n",
       "788.0     11302\n",
       "890.0      1989\n",
       "1071.0     1511\n",
       "1078.0    10267\n",
       "1079.0     1459\n",
       "1160.0    12594\n",
       "1161.0     4891\n",
       "1351.0     1164\n",
       "1536.0    11306\n",
       "1616.0     3696\n",
       "1622.0     5332\n",
       "1623.0    10406\n",
       "1628.0     1826\n",
       "1632.0    28751\n",
       "1727.0    17393\n",
       "1823.0     7397\n",
       "1870.0     1490\n",
       "1910.0    19416\n",
       "1926.0     4098\n",
       "1991.0     1858\n",
       "2064.0    13990\n",
       "2168.0     4975\n",
       "2169.0     2750\n",
       "2170.0     2903\n",
       "2182.0     2184\n",
       "2189.0     1359\n",
       "2273.0     6877\n",
       "2290.0     6758\n",
       "2388.0     6370\n",
       "2434.0     3491\n",
       "2460.0     1743\n",
       "2724.0     1189\n",
       "2725.0    13338\n",
       "2726.0     2016\n",
       "2987.0     1840\n",
       "3176.0    24220\n",
       "3195.0    42692\n",
       "Name: DefaultBrowsersIdentifier, dtype: int64"
      ]
     },
     "execution_count": 17,
     "metadata": {},
     "output_type": "execute_result"
    }
   ],
   "source": [
    "valores['DefaultBrowsersIdentifier']"
   ]
  },
  {
   "cell_type": "code",
   "execution_count": 8,
   "metadata": {},
   "outputs": [
    {
     "data": {
      "text/plain": [
       "0.0    1512703\n",
       "1.0         21\n",
       "Name: Census_IsFlightingInternal, dtype: int64"
      ]
     },
     "execution_count": 8,
     "metadata": {},
     "output_type": "execute_result"
    }
   ],
   "source": [
    "valores['Census_IsFlightingInternal']"
   ]
  },
  {
   "cell_type": "code",
   "execution_count": 19,
   "metadata": {},
   "outputs": [
    {
     "data": {
      "text/plain": [
       "0.0013882241572157248"
      ]
     },
     "execution_count": 19,
     "metadata": {},
     "output_type": "execute_result"
    }
   ],
   "source": [
    "21/(21+1512703)*100"
   ]
  },
  {
   "cell_type": "code",
   "execution_count": 9,
   "metadata": {},
   "outputs": [
    {
     "data": {
      "text/plain": [
       "\u0003ip            1\n",
       "\u0004ion           1\n",
       "\u0004lio           4\n",
       "\u001f˙˙˙           1\n",
       "#         183998\n",
       "#TAB#          1\n",
       "0ts0           1\n",
       "0x0b           3\n",
       "2337           1\n",
       "3500           1\n",
       "3ion           2\n",
       "4cel         170\n",
       "4ion           1\n",
       "4lio           4\n",
       "5nm1           2\n",
       "6ion           1\n",
       "8              1\n",
       "@i           1\n",
       "a130           1\n",
       "a132          10\n",
       "a138           2\n",
       "a140           2\n",
       "asmb           4\n",
       "bad           33\n",
       "batt          60\n",
       "bq20        2302\n",
       "ca48          16\n",
       "cl53           1\n",
       "d              1\n",
       "h00j           2\n",
       "          ...   \n",
       "li?            1\n",
       "liio       32635\n",
       "lilo           1\n",
       "lio            5\n",
       "lion     2028256\n",
       "lip        62099\n",
       "lipo         198\n",
       "lipp          83\n",
       "lit           16\n",
       "lio           1\n",
       "liÿÿ           1\n",
       "lp             1\n",
       "lÿÿÿ           1\n",
       "nimh        4614\n",
       "ots0           9\n",
       "p-sn           1\n",
       "pa50           1\n",
       "pad0          22\n",
       "pbac        2274\n",
       "pbso           1\n",
       "ram           35\n",
       "real        2744\n",
       "sail           1\n",
       "sams           1\n",
       "unkn         533\n",
       "vbox        1454\n",
       "virt          33\n",
       "í\u0003-i           1\n",
       "÷ÿóö           1\n",
       "ÿÿÿÿ           8\n",
       "Name: Census_InternalBatteryType, Length: 78, dtype: int64"
      ]
     },
     "execution_count": 9,
     "metadata": {},
     "output_type": "execute_result"
    }
   ],
   "source": [
    "valores['Census_InternalBatteryType']"
   ]
  },
  {
   "cell_type": "markdown",
   "metadata": {},
   "source": [
    "## Visualização dos diferentes valores dos que têm muitos \\#valores diferentes"
   ]
  },
  {
   "cell_type": "code",
   "execution_count": 10,
   "metadata": {},
   "outputs": [
    {
     "data": {
      "text/plain": [
       "5.0            2\n",
       "7.0           33\n",
       "8.0            3\n",
       "9.0            7\n",
       "11.0           6\n",
       "12.0          22\n",
       "15.0           2\n",
       "16.0           2\n",
       "19.0           4\n",
       "22.0           3\n",
       "23.0          20\n",
       "24.0          16\n",
       "25.0           1\n",
       "29.0           7\n",
       "30.0          42\n",
       "31.0           2\n",
       "32.0          11\n",
       "34.0          38\n",
       "35.0           1\n",
       "36.0           1\n",
       "38.0          27\n",
       "39.0           2\n",
       "40.0          15\n",
       "41.0        1007\n",
       "42.0           1\n",
       "44.0          42\n",
       "46.0           2\n",
       "47.0           8\n",
       "50.0           9\n",
       "51.0           1\n",
       "            ... \n",
       "167924.0       5\n",
       "167925.0       2\n",
       "167926.0       5\n",
       "167928.0       1\n",
       "167929.0       4\n",
       "167930.0       5\n",
       "167931.0       3\n",
       "167932.0       5\n",
       "167933.0      50\n",
       "167934.0     168\n",
       "167935.0       1\n",
       "167938.0      32\n",
       "167939.0      27\n",
       "167940.0       1\n",
       "167941.0      48\n",
       "167942.0       4\n",
       "167943.0       1\n",
       "167944.0      16\n",
       "167945.0       4\n",
       "167946.0      60\n",
       "167950.0       3\n",
       "167952.0       2\n",
       "167953.0      79\n",
       "167954.0      20\n",
       "167955.0       4\n",
       "167957.0       2\n",
       "167958.0       1\n",
       "167959.0       8\n",
       "167961.0       1\n",
       "167962.0      16\n",
       "Name: CityIdentifier, Length: 107366, dtype: int64"
      ]
     },
     "execution_count": 10,
     "metadata": {},
     "output_type": "execute_result"
    }
   ],
   "source": [
    "valores['CityIdentifier']"
   ]
  }
 ],
 "metadata": {
  "kernelspec": {
   "display_name": "Python 3",
   "language": "python",
   "name": "python3"
  },
  "language_info": {
   "codemirror_mode": {
    "name": "ipython",
    "version": 3
   },
   "file_extension": ".py",
   "mimetype": "text/x-python",
   "name": "python",
   "nbconvert_exporter": "python",
   "pygments_lexer": "ipython3",
   "version": "3.6.7"
  }
 },
 "nbformat": 4,
 "nbformat_minor": 2
}
