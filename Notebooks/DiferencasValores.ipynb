{
 "cells": [
  {
   "cell_type": "code",
   "execution_count": 1,
   "metadata": {},
   "outputs": [],
   "source": [
    "import pandas as pd"
   ]
  },
  {
   "cell_type": "code",
   "execution_count": 2,
   "metadata": {},
   "outputs": [],
   "source": [
    "def processa_chunk(ms, valores):\n",
    "    if(valores is None):\n",
    "        valores = {}\n",
    "        for v in ms.columns:\n",
    "            valores.update({v: ms[v].value_counts(dropna=False)})\n",
    "    else:\n",
    "        for v in ms.columns:\n",
    "            valores[v] =  pd.concat([valores[v],ms[v].value_counts(dropna=False)]).groupby(level=0).sum()\n",
    "    return valores"
   ]
  },
  {
   "cell_type": "code",
   "execution_count": 3,
   "metadata": {},
   "outputs": [
    {
     "name": "stdout",
     "output_type": "stream",
     "text": [
      "0\n",
      "1\n",
      "2\n",
      "3\n",
      "4\n",
      "5\n",
      "6\n",
      "7\n",
      "8\n",
      "9\n",
      "10\n",
      "11\n",
      "12\n",
      "13\n",
      "14\n",
      "15\n",
      "16\n",
      "17\n"
     ]
    }
   ],
   "source": [
    "chunksize = 0.5 * (10 ** 6)\n",
    "valores = None\n",
    "nlinhas = 0\n",
    "i = 0\n",
    "for ms in pd.read_csv('../../train.csv', low_memory=False, chunksize = chunksize):\n",
    "    print(i)\n",
    "    i += 1\n",
    "    nlinhas += ms.shape[0]\n",
    "    valores = processa_chunk(ms,valores)"
   ]
  },
  {
   "cell_type": "markdown",
   "metadata": {},
   "source": [
    "# Depois dividir os valores pelo numero de linhas para ter percentagens"
   ]
  },
  {
   "cell_type": "code",
   "execution_count": 4,
   "metadata": {
    "scrolled": true
   },
   "outputs": [
    {
     "name": "stdout",
     "output_type": "stream",
     "text": [
      "0    0.999992\n",
      "1    0.000008\n",
      "Name: IsBeta, dtype: float64\n",
      "0    0.982666\n",
      "1    0.017334\n",
      "Name: IsSxsPassiveMode, dtype: float64\n",
      "0    0.012029\n",
      "1    0.987971\n",
      "Name: HasTpm, dtype: float64\n",
      "0.0    0.054157\n",
      "1.0    0.941803\n",
      "Name: IsProtected, dtype: float64\n",
      "0    0.999971\n",
      "1    0.000029\n",
      "Name: AutoSampleOptIn, dtype: float64\n",
      "audit    2.241780e-07\n",
      "on       2.585893e-04\n",
      "Name: PuaMode, dtype: float64\n",
      "0.0    0.939288\n",
      "1.0    0.000435\n",
      "Name: SMode, dtype: float64\n",
      "0.0    0.021198\n",
      "1.0    0.968563\n",
      "Name: Firewall, dtype: float64\n",
      "0    0.922813\n",
      "1    0.077187\n",
      "Name: Census_HasOpticalDiskDrive, dtype: float64\n",
      "0    0.999455\n",
      "1    0.000545\n",
      "Name: Census_IsPortableOperatingSystem, dtype: float64\n",
      "0.0    0.169557\n",
      "1.0    0.000002\n",
      "Name: Census_IsFlightingInternal, dtype: float64\n",
      "0.0    0.981997\n",
      "1.0    0.000010\n",
      "Name: Census_IsFlightsDisabled, dtype: float64\n",
      "0.0    0.364664\n",
      "1.0    0.000091\n",
      "Name: Census_ThresholdOptIn, dtype: float64\n",
      "0    0.513977\n",
      "1    0.486023\n",
      "Name: Census_IsSecureBootEnabled, dtype: float64\n",
      "0.0    3.656095e-01\n",
      "1.0    1.120890e-07\n",
      "Name: Census_IsWIMBootEnabled, dtype: float64\n",
      "0.0    0.991185\n",
      "1.0    0.007027\n",
      "Name: Census_IsVirtualDevice, dtype: float64\n",
      "0    0.874457\n",
      "1    0.125543\n",
      "Name: Census_IsTouchEnabled, dtype: float64\n",
      "0    0.961929\n",
      "1    0.038071\n",
      "Name: Census_IsPenCapable, dtype: float64\n",
      "0.0    0.935043\n",
      "1.0    0.056960\n",
      "Name: Census_IsAlwaysOnAlwaysConnectedCapable, dtype: float64\n",
      "0.0    0.692053\n",
      "1.0    0.273933\n",
      "Name: Wdft_IsGamer, dtype: float64\n",
      "0    0.500207\n",
      "1    0.499793\n",
      "Name: HasDetections, dtype: float64\n"
     ]
    }
   ],
   "source": [
    "for key, value in valores.items():\n",
    "    if(value.shape[0] < 3): \n",
    "        print(value/nlinhas)"
   ]
  },
  {
   "cell_type": "markdown",
   "metadata": {},
   "source": [
    "## Visualização dos valores diferentes dos que têm muitos valores nulos"
   ]
  },
  {
   "cell_type": "code",
   "execution_count": 5,
   "metadata": {},
   "outputs": [
    {
     "data": {
      "text/plain": [
       "audit       2\n",
       "on       2307\n",
       "Name: PuaMode, dtype: int64"
      ]
     },
     "execution_count": 5,
     "metadata": {},
     "output_type": "execute_result"
    }
   ],
   "source": [
    "valores['PuaMode']"
   ]
  },
  {
   "cell_type": "code",
   "execution_count": 6,
   "metadata": {},
   "outputs": [
    {
     "data": {
      "text/plain": [
       "high     6096\n",
       "low      9621\n",
       "mid     20914\n",
       "Name: Census_ProcessorClass, dtype: int64"
      ]
     },
     "execution_count": 6,
     "metadata": {},
     "output_type": "execute_result"
    }
   ],
   "source": [
    "valores['Census_ProcessorClass']"
   ]
  },
  {
   "cell_type": "code",
   "execution_count": 7,
   "metadata": {},
   "outputs": [
    {
     "data": {
      "text/plain": [
       "1.0          39\n",
       "2.0           3\n",
       "3.0           2\n",
       "5.0           1\n",
       "6.0           1\n",
       "7.0           6\n",
       "8.0          13\n",
       "9.0          19\n",
       "10.0        255\n",
       "11.0          1\n",
       "14.0          1\n",
       "15.0          1\n",
       "16.0          3\n",
       "19.0          1\n",
       "20.0          1\n",
       "23.0         10\n",
       "24.0        152\n",
       "25.0          1\n",
       "26.0          5\n",
       "27.0          1\n",
       "28.0          5\n",
       "29.0          1\n",
       "32.0          3\n",
       "33.0          1\n",
       "34.0          1\n",
       "35.0          1\n",
       "38.0          1\n",
       "41.0          1\n",
       "43.0          1\n",
       "44.0          1\n",
       "          ...  \n",
       "3167.0        1\n",
       "3169.0        1\n",
       "3171.0        1\n",
       "3172.0        1\n",
       "3173.0        1\n",
       "3175.0        1\n",
       "3176.0    24220\n",
       "3177.0        1\n",
       "3179.0        1\n",
       "3180.0        1\n",
       "3181.0        1\n",
       "3183.0        1\n",
       "3185.0       11\n",
       "3186.0        7\n",
       "3188.0        1\n",
       "3191.0        1\n",
       "3192.0        2\n",
       "3193.0        2\n",
       "3194.0       18\n",
       "3195.0    42692\n",
       "3196.0        1\n",
       "3197.0        1\n",
       "3203.0        1\n",
       "3204.0        8\n",
       "3205.0        1\n",
       "3206.0        1\n",
       "3207.0        2\n",
       "3209.0        1\n",
       "3211.0        3\n",
       "3213.0        1\n",
       "Name: DefaultBrowsersIdentifier, Length: 2017, dtype: int64"
      ]
     },
     "execution_count": 7,
     "metadata": {},
     "output_type": "execute_result"
    }
   ],
   "source": [
    "valores['DefaultBrowsersIdentifier']"
   ]
  },
  {
   "cell_type": "code",
   "execution_count": 8,
   "metadata": {},
   "outputs": [
    {
     "data": {
      "text/plain": [
       "0.0    1512703\n",
       "1.0         21\n",
       "Name: Census_IsFlightingInternal, dtype: int64"
      ]
     },
     "execution_count": 8,
     "metadata": {},
     "output_type": "execute_result"
    }
   ],
   "source": [
    "valores['Census_IsFlightingInternal']"
   ]
  },
  {
   "cell_type": "code",
   "execution_count": 9,
   "metadata": {},
   "outputs": [
    {
     "data": {
      "text/plain": [
       "0.0013882241572157248"
      ]
     },
     "execution_count": 9,
     "metadata": {},
     "output_type": "execute_result"
    }
   ],
   "source": [
    "21/(21+1512703)*100"
   ]
  },
  {
   "cell_type": "code",
   "execution_count": 10,
   "metadata": {},
   "outputs": [
    {
     "data": {
      "text/plain": [
       "\u0003ip            1\n",
       "\u0004ion           1\n",
       "\u0004lio           4\n",
       "\u001f˙˙˙           1\n",
       "#         183998\n",
       "#TAB#          1\n",
       "0ts0           1\n",
       "0x0b           3\n",
       "2337           1\n",
       "3500           1\n",
       "3ion           2\n",
       "4cel         170\n",
       "4ion           1\n",
       "4lio           4\n",
       "5nm1           2\n",
       "6ion           1\n",
       "8              1\n",
       "@i           1\n",
       "a130           1\n",
       "a132          10\n",
       "a138           2\n",
       "a140           2\n",
       "asmb           4\n",
       "bad           33\n",
       "batt          60\n",
       "bq20        2302\n",
       "ca48          16\n",
       "cl53           1\n",
       "d              1\n",
       "h00j           2\n",
       "          ...   \n",
       "li?            1\n",
       "liio       32635\n",
       "lilo           1\n",
       "lio            5\n",
       "lion     2028256\n",
       "lip        62099\n",
       "lipo         198\n",
       "lipp          83\n",
       "lit           16\n",
       "lio           1\n",
       "liÿÿ           1\n",
       "lp             1\n",
       "lÿÿÿ           1\n",
       "nimh        4614\n",
       "ots0           9\n",
       "p-sn           1\n",
       "pa50           1\n",
       "pad0          22\n",
       "pbac        2274\n",
       "pbso           1\n",
       "ram           35\n",
       "real        2744\n",
       "sail           1\n",
       "sams           1\n",
       "unkn         533\n",
       "vbox        1454\n",
       "virt          33\n",
       "í\u0003-i           1\n",
       "÷ÿóö           1\n",
       "ÿÿÿÿ           8\n",
       "Name: Census_InternalBatteryType, Length: 78, dtype: int64"
      ]
     },
     "execution_count": 10,
     "metadata": {},
     "output_type": "execute_result"
    }
   ],
   "source": [
    "valores['Census_InternalBatteryType']"
   ]
  },
  {
   "cell_type": "markdown",
   "metadata": {},
   "source": [
    "## Visualização dos diferentes valores dos que têm muitos \\#valores diferentes"
   ]
  },
  {
   "cell_type": "code",
   "execution_count": 11,
   "metadata": {},
   "outputs": [
    {
     "data": {
      "text/plain": [
       "1.0          4\n",
       "3.0          1\n",
       "8.0          1\n",
       "14.0         1\n",
       "15.0         1\n",
       "17.0         1\n",
       "22.0        37\n",
       "23.0        65\n",
       "29.0         1\n",
       "30.0         1\n",
       "31.0         2\n",
       "33.0         1\n",
       "34.0         1\n",
       "36.0         1\n",
       "39.0         1\n",
       "54.0         1\n",
       "55.0         3\n",
       "56.0         3\n",
       "57.0         1\n",
       "61.0         1\n",
       "64.0         1\n",
       "66.0         1\n",
       "71.0         1\n",
       "78.0         1\n",
       "83.0         1\n",
       "87.0         1\n",
       "88.0         1\n",
       "89.0         1\n",
       "93.0         1\n",
       "95.0         1\n",
       "            ..\n",
       "345437.0     1\n",
       "345443.0     1\n",
       "345444.0     1\n",
       "345448.0     1\n",
       "345449.0     1\n",
       "345451.0     1\n",
       "345456.0     1\n",
       "345458.0     1\n",
       "345461.0     1\n",
       "345462.0     1\n",
       "345463.0     1\n",
       "345464.0    21\n",
       "345470.0     5\n",
       "345473.0    12\n",
       "345475.0     1\n",
       "345476.0     2\n",
       "345478.0     1\n",
       "345479.0     4\n",
       "345480.0    16\n",
       "345481.0     1\n",
       "345485.0     5\n",
       "345488.0     1\n",
       "345489.0     2\n",
       "345490.0    31\n",
       "345491.0     1\n",
       "345493.0     2\n",
       "345494.0     7\n",
       "345495.0     1\n",
       "345496.0     1\n",
       "345498.0     1\n",
       "Name: Census_OEMModelIdentifier, Length: 175365, dtype: int64"
      ]
     },
     "execution_count": 11,
     "metadata": {},
     "output_type": "execute_result"
    }
   ],
   "source": [
    "valores['Census_OEMModelIdentifier']"
   ]
  },
  {
   "cell_type": "code",
   "execution_count": 12,
   "metadata": {},
   "outputs": [
    {
     "data": {
      "text/plain": [
       "5.0            2\n",
       "7.0           33\n",
       "8.0            3\n",
       "9.0            7\n",
       "11.0           6\n",
       "12.0          22\n",
       "15.0           2\n",
       "16.0           2\n",
       "19.0           4\n",
       "22.0           3\n",
       "23.0          20\n",
       "24.0          16\n",
       "25.0           1\n",
       "29.0           7\n",
       "30.0          42\n",
       "31.0           2\n",
       "32.0          11\n",
       "34.0          38\n",
       "35.0           1\n",
       "36.0           1\n",
       "38.0          27\n",
       "39.0           2\n",
       "40.0          15\n",
       "41.0        1007\n",
       "42.0           1\n",
       "44.0          42\n",
       "46.0           2\n",
       "47.0           8\n",
       "50.0           9\n",
       "51.0           1\n",
       "            ... \n",
       "167924.0       5\n",
       "167925.0       2\n",
       "167926.0       5\n",
       "167928.0       1\n",
       "167929.0       4\n",
       "167930.0       5\n",
       "167931.0       3\n",
       "167932.0       5\n",
       "167933.0      50\n",
       "167934.0     168\n",
       "167935.0       1\n",
       "167938.0      32\n",
       "167939.0      27\n",
       "167940.0       1\n",
       "167941.0      48\n",
       "167942.0       4\n",
       "167943.0       1\n",
       "167944.0      16\n",
       "167945.0       4\n",
       "167946.0      60\n",
       "167950.0       3\n",
       "167952.0       2\n",
       "167953.0      79\n",
       "167954.0      20\n",
       "167955.0       4\n",
       "167957.0       2\n",
       "167958.0       1\n",
       "167959.0       8\n",
       "167961.0       1\n",
       "167962.0      16\n",
       "Name: CityIdentifier, Length: 107366, dtype: int64"
      ]
     },
     "execution_count": 12,
     "metadata": {},
     "output_type": "execute_result"
    }
   ],
   "source": [
    "valores['CityIdentifier']"
   ]
  },
  {
   "cell_type": "code",
   "execution_count": 13,
   "metadata": {},
   "outputs": [
    {
     "data": {
      "text/plain": [
       "3.0         1\n",
       "5.0         1\n",
       "7.0         1\n",
       "10.0        2\n",
       "11.0        1\n",
       "12.0        3\n",
       "13.0        1\n",
       "15.0        2\n",
       "16.0        1\n",
       "18.0        2\n",
       "19.0        4\n",
       "20.0        1\n",
       "21.0        6\n",
       "22.0        1\n",
       "23.0        1\n",
       "24.0        1\n",
       "25.0        4\n",
       "26.0        1\n",
       "27.0        3\n",
       "29.0        3\n",
       "30.0        1\n",
       "31.0        2\n",
       "32.0        1\n",
       "33.0        9\n",
       "34.0        6\n",
       "36.0        4\n",
       "37.0        7\n",
       "38.0       15\n",
       "39.0        9\n",
       "40.0       12\n",
       "           ..\n",
       "72062.0    44\n",
       "72063.0     3\n",
       "72065.0     1\n",
       "72066.0     1\n",
       "72070.0    21\n",
       "72071.0     3\n",
       "72072.0    17\n",
       "72073.0    27\n",
       "72074.0    65\n",
       "72075.0     8\n",
       "72076.0     5\n",
       "72077.0    44\n",
       "72078.0     9\n",
       "72079.0    19\n",
       "72080.0    86\n",
       "72081.0     1\n",
       "72082.0     1\n",
       "72085.0     1\n",
       "72087.0    10\n",
       "72088.0     6\n",
       "72089.0    14\n",
       "72090.0    15\n",
       "72091.0    50\n",
       "72092.0     1\n",
       "72094.0     1\n",
       "72096.0     4\n",
       "72097.0     1\n",
       "72100.0     1\n",
       "72102.0     3\n",
       "72105.0     1\n",
       "Name: Census_FirmwareVersionIdentifier, Length: 50494, dtype: int64"
      ]
     },
     "execution_count": 13,
     "metadata": {},
     "output_type": "execute_result"
    }
   ],
   "source": [
    "valores['Census_FirmwareVersionIdentifier']"
   ]
  },
  {
   "cell_type": "code",
   "execution_count": 14,
   "metadata": {},
   "outputs": [
    {
     "data": {
      "text/plain": [
       "3.0          1\n",
       "6.0          1\n",
       "7.0          1\n",
       "14.0         1\n",
       "16.0        13\n",
       "17.0         1\n",
       "20.0         1\n",
       "23.0         2\n",
       "24.0         1\n",
       "25.0         1\n",
       "31.0         1\n",
       "34.0         2\n",
       "35.0         1\n",
       "38.0         1\n",
       "39.0        96\n",
       "40.0         1\n",
       "41.0         1\n",
       "43.0         5\n",
       "48.0        21\n",
       "49.0         5\n",
       "51.0        11\n",
       "54.0         1\n",
       "55.0         9\n",
       "57.0         1\n",
       "58.0         1\n",
       "59.0         1\n",
       "62.0         2\n",
       "65.0         2\n",
       "66.0         1\n",
       "67.0         3\n",
       "          ... \n",
       "70421.0      3\n",
       "70422.0      1\n",
       "70424.0      2\n",
       "70431.0      1\n",
       "70432.0      1\n",
       "70433.0      1\n",
       "70434.0      1\n",
       "70439.0      1\n",
       "70440.0      1\n",
       "70441.0      8\n",
       "70443.0      1\n",
       "70444.0      4\n",
       "70446.0      1\n",
       "70447.0      1\n",
       "70450.0      2\n",
       "70458.0      2\n",
       "70459.0      2\n",
       "70460.0      1\n",
       "70461.0      1\n",
       "70468.0      2\n",
       "70469.0    133\n",
       "70475.0      1\n",
       "70476.0      2\n",
       "70486.0    101\n",
       "70490.0      3\n",
       "70492.0     12\n",
       "70493.0      1\n",
       "70496.0      1\n",
       "70498.0      1\n",
       "70507.0      1\n",
       "Name: AVProductStatesIdentifier, Length: 28970, dtype: int64"
      ]
     },
     "execution_count": 14,
     "metadata": {},
     "output_type": "execute_result"
    }
   ],
   "source": [
    "valores['AVProductStatesIdentifier']"
   ]
  },
  {
   "cell_type": "code",
   "execution_count": 15,
   "metadata": {},
   "outputs": [
    {
     "data": {
      "text/plain": [
       "0.0.0.0                 68\n",
       "1.155.266.0             10\n",
       "1.167.387.0              3\n",
       "1.169.1625.0             1\n",
       "1.169.55.0               4\n",
       "1.177.229.0              1\n",
       "1.187.1121.0             1\n",
       "1.189.189.0              1\n",
       "1.193.185.0              1\n",
       "1.193.1928.0             1\n",
       "1.193.418.0              4\n",
       "1.195.109.0              3\n",
       "1.195.1107.0             1\n",
       "1.195.2226.0             1\n",
       "1.195.3092.0             2\n",
       "1.195.3225.0             1\n",
       "1.197.1076.0             1\n",
       "1.197.1237.0             1\n",
       "1.197.2142.0             1\n",
       "1.197.2441.0             1\n",
       "1.197.2843.0             1\n",
       "1.197.52.0               4\n",
       "1.199.1324.0             1\n",
       "1.199.1615.0            80\n",
       "1.199.1981.0             1\n",
       "1.199.2088.0             1\n",
       "1.199.2708.0             1\n",
       "1.199.3370.0             1\n",
       "1.199.3431.0             1\n",
       "1.2&#x17;3.1144.0        1\n",
       "                     ...  \n",
       "1.275.974.0          30195\n",
       "1.275.975.0            743\n",
       "1.275.977.0           1227\n",
       "1.275.98.0            7362\n",
       "1.275.981.0          31003\n",
       "1.275.985.0            774\n",
       "1.275.988.0          19960\n",
       "1.275.992.0            522\n",
       "1.275.993.0            472\n",
       "1.275.995.0          14833\n",
       "1.275.997.0            686\n",
       "1.275.998.0            604\n",
       "1.277.13.0            2154\n",
       "1.277.15.0            2364\n",
       "1.277.18.0            2873\n",
       "1.277.2.0             1060\n",
       "1.277.20.0            3052\n",
       "1.277.23.0            3495\n",
       "1.277.25.0           21328\n",
       "1.277.4.0            11532\n",
       "1.277.41.0            3137\n",
       "1.277.43.0            3166\n",
       "1.277.46.0            4093\n",
       "1.277.48.0            6778\n",
       "1.277.49.0            2901\n",
       "1.277.51.0            7394\n",
       "1.277.58.0            1495\n",
       "1.277.62.0            1380\n",
       "1.277.64.0            1327\n",
       "1.277.67.0             190\n",
       "Name: AvSigVersion, Length: 8531, dtype: int64"
      ]
     },
     "execution_count": 15,
     "metadata": {},
     "output_type": "execute_result"
    }
   ],
   "source": [
    "valores['AvSigVersion']"
   ]
  },
  {
   "cell_type": "code",
   "execution_count": 19,
   "metadata": {},
   "outputs": [
    {
     "data": {
      "text/plain": [
       "1.0         3\n",
       "2.0         1\n",
       "3.0         1\n",
       "9.0         1\n",
       "10.0        1\n",
       "12.0        1\n",
       "14.0        1\n",
       "15.0        2\n",
       "16.0        1\n",
       "20.0        2\n",
       "23.0        2\n",
       "31.0        1\n",
       "33.0        1\n",
       "34.0        1\n",
       "43.0        1\n",
       "44.0        1\n",
       "46.0        1\n",
       "47.0        3\n",
       "50.0        1\n",
       "54.0        1\n",
       "59.0        1\n",
       "64.0        1\n",
       "70.0        1\n",
       "73.0        1\n",
       "74.0      264\n",
       "75.0        3\n",
       "76.0        1\n",
       "77.0        1\n",
       "80.0        1\n",
       "81.0        4\n",
       "         ... \n",
       "6068.0      1\n",
       "6073.0      1\n",
       "6075.0      1\n",
       "6076.0     27\n",
       "6080.0      1\n",
       "6082.0      1\n",
       "6086.0     12\n",
       "6089.0      2\n",
       "6091.0      1\n",
       "6095.0      2\n",
       "6103.0      1\n",
       "6109.0      1\n",
       "6121.0      1\n",
       "6122.0      1\n",
       "6126.0      1\n",
       "6131.0      1\n",
       "6132.0      1\n",
       "6133.0      1\n",
       "6134.0      1\n",
       "6135.0      1\n",
       "6136.0      2\n",
       "6137.0      1\n",
       "6138.0     21\n",
       "6139.0      5\n",
       "6140.0     12\n",
       "6141.0     16\n",
       "6142.0      5\n",
       "6143.0     31\n",
       "6144.0      7\n",
       "6145.0      1\n",
       "Name: Census_OEMNameIdentifier, Length: 3832, dtype: int64"
      ]
     },
     "execution_count": 19,
     "metadata": {},
     "output_type": "execute_result"
    }
   ],
   "source": [
    "valores['Census_OEMNameIdentifier']"
   ]
  },
  {
   "cell_type": "code",
   "execution_count": 21,
   "metadata": {},
   "outputs": [
    {
     "data": {
      "text/plain": [
       "2.0          1\n",
       "3.0          7\n",
       "6.0          2\n",
       "7.0          3\n",
       "10.0         1\n",
       "15.0         1\n",
       "17.0         1\n",
       "19.0      1005\n",
       "20.0         2\n",
       "22.0         1\n",
       "23.0       244\n",
       "24.0         8\n",
       "25.0       220\n",
       "26.0         3\n",
       "27.0        92\n",
       "28.0         2\n",
       "29.0      3945\n",
       "30.0       354\n",
       "31.0      2001\n",
       "32.0       187\n",
       "33.0         1\n",
       "34.0      1156\n",
       "35.0       140\n",
       "36.0         1\n",
       "37.0      6147\n",
       "38.0       514\n",
       "39.0      3989\n",
       "40.0       477\n",
       "41.0       955\n",
       "42.0       116\n",
       "          ... \n",
       "4435.0       1\n",
       "4436.0       1\n",
       "4437.0      90\n",
       "4438.0       3\n",
       "4439.0       2\n",
       "4440.0      13\n",
       "4441.0      26\n",
       "4442.0       3\n",
       "4446.0      14\n",
       "4447.0       1\n",
       "4450.0       4\n",
       "4451.0      25\n",
       "4453.0       1\n",
       "4454.0       1\n",
       "4455.0       1\n",
       "4456.0       3\n",
       "4458.0       4\n",
       "4459.0       9\n",
       "4460.0       1\n",
       "4461.0       3\n",
       "4462.0       2\n",
       "4463.0       1\n",
       "4467.0      24\n",
       "4468.0      85\n",
       "4469.0      83\n",
       "4471.0      16\n",
       "4472.0     100\n",
       "4477.0       1\n",
       "4478.0       1\n",
       "4479.0       1\n",
       "Name: Census_ProcessorModelIdentifier, Length: 3428, dtype: int64"
      ]
     },
     "execution_count": 21,
     "metadata": {},
     "output_type": "execute_result"
    }
   ],
   "source": [
    "valores['Census_ProcessorModelIdentifier']"
   ]
  }
 ],
 "metadata": {
  "kernelspec": {
   "display_name": "Python 3",
   "language": "python",
   "name": "python3"
  },
  "language_info": {
   "codemirror_mode": {
    "name": "ipython",
    "version": 3
   },
   "file_extension": ".py",
   "mimetype": "text/x-python",
   "name": "python",
   "nbconvert_exporter": "python",
   "pygments_lexer": "ipython3",
   "version": "3.6.7"
  }
 },
 "nbformat": 4,
 "nbformat_minor": 2
}
