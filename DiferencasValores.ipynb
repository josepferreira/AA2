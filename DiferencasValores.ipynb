{
 "cells": [
  {
   "cell_type": "code",
   "execution_count": 1,
   "metadata": {},
   "outputs": [],
   "source": [
    "import pandas as pd"
   ]
  },
  {
   "cell_type": "code",
   "execution_count": 2,
   "metadata": {},
   "outputs": [],
   "source": [
    "def processa_chunk(ms, valores):\n",
    "    if(valores is None):\n",
    "        valores = {}\n",
    "        for v in ms.columns:\n",
    "            valores.update({v: ms[v].value_counts(dropna=False)})\n",
    "    else:\n",
    "        for v in ms.columns:\n",
    "            valores[v] =  pd.concat([valores[v],ms[v].value_counts(dropna=False)]).groupby(level=0).sum()\n",
    "    return valores"
   ]
  },
  {
   "cell_type": "code",
   "execution_count": 3,
   "metadata": {},
   "outputs": [
    {
     "name": "stdout",
     "output_type": "stream",
     "text": [
      "0\n",
      "1\n",
      "2\n",
      "3\n",
      "4\n",
      "5\n",
      "6\n",
      "7\n",
      "8\n",
      "9\n",
      "10\n",
      "11\n",
      "12\n",
      "13\n",
      "14\n",
      "15\n",
      "16\n",
      "17\n"
     ]
    }
   ],
   "source": [
    "chunksize = 0.5 * (10 ** 6)\n",
    "valores = None\n",
    "nlinhas = 0\n",
    "i = 0\n",
    "for ms in pd.read_csv('../train.csv', low_memory=False, chunksize = chunksize):\n",
    "    print(i)\n",
    "    i += 1\n",
    "    nlinhas += ms.shape[0]\n",
    "    valores = processa_chunk(ms,valores)"
   ]
  },
  {
   "cell_type": "markdown",
   "metadata": {},
   "source": [
    "# Depois dividir os valores pelo numero de linhas para ter percentagens"
   ]
  },
  {
   "cell_type": "code",
   "execution_count": 4,
   "metadata": {
    "scrolled": true
   },
   "outputs": [
    {
     "name": "stdout",
     "output_type": "stream",
     "text": [
      "0    0.999992\n",
      "1    0.000008\n",
      "Name: IsBeta, dtype: float64\n",
      "0    0.982666\n",
      "1    0.017334\n",
      "Name: IsSxsPassiveMode, dtype: float64\n",
      "0    0.012029\n",
      "1    0.987971\n",
      "Name: HasTpm, dtype: float64\n",
      "0.0    0.054157\n",
      "1.0    0.941803\n",
      "Name: IsProtected, dtype: float64\n",
      "0    0.999971\n",
      "1    0.000029\n",
      "Name: AutoSampleOptIn, dtype: float64\n",
      "audit    2.241780e-07\n",
      "on       2.585893e-04\n",
      "Name: PuaMode, dtype: float64\n",
      "0.0    0.939288\n",
      "1.0    0.000435\n",
      "Name: SMode, dtype: float64\n",
      "0.0    0.021198\n",
      "1.0    0.968563\n",
      "Name: Firewall, dtype: float64\n",
      "0    0.922813\n",
      "1    0.077187\n",
      "Name: Census_HasOpticalDiskDrive, dtype: float64\n",
      "0    0.999455\n",
      "1    0.000545\n",
      "Name: Census_IsPortableOperatingSystem, dtype: float64\n",
      "0.0    0.169557\n",
      "1.0    0.000002\n",
      "Name: Census_IsFlightingInternal, dtype: float64\n",
      "0.0    0.981997\n",
      "1.0    0.000010\n",
      "Name: Census_IsFlightsDisabled, dtype: float64\n",
      "0.0    0.364664\n",
      "1.0    0.000091\n",
      "Name: Census_ThresholdOptIn, dtype: float64\n",
      "0    0.513977\n",
      "1    0.486023\n",
      "Name: Census_IsSecureBootEnabled, dtype: float64\n",
      "0.0    3.656095e-01\n",
      "1.0    1.120890e-07\n",
      "Name: Census_IsWIMBootEnabled, dtype: float64\n",
      "0.0    0.991185\n",
      "1.0    0.007027\n",
      "Name: Census_IsVirtualDevice, dtype: float64\n",
      "0    0.874457\n",
      "1    0.125543\n",
      "Name: Census_IsTouchEnabled, dtype: float64\n",
      "0    0.961929\n",
      "1    0.038071\n",
      "Name: Census_IsPenCapable, dtype: float64\n",
      "0.0    0.935043\n",
      "1.0    0.056960\n",
      "Name: Census_IsAlwaysOnAlwaysConnectedCapable, dtype: float64\n",
      "0.0    0.692053\n",
      "1.0    0.273933\n",
      "Name: Wdft_IsGamer, dtype: float64\n",
      "0    0.500207\n",
      "1    0.499793\n",
      "Name: HasDetections, dtype: float64\n"
     ]
    }
   ],
   "source": [
    "for key, value in valores.items():\n",
    "    if(value.shape[0] < 3): \n",
    "        print(value/nlinhas)"
   ]
  },
  {
   "cell_type": "code",
   "execution_count": 5,
   "metadata": {},
   "outputs": [
    {
     "data": {
      "text/plain": [
       "audit       2\n",
       "on       2307\n",
       "Name: PuaMode, dtype: int64"
      ]
     },
     "execution_count": 5,
     "metadata": {},
     "output_type": "execute_result"
    }
   ],
   "source": [
    "valores['PuaMode']"
   ]
  },
  {
   "cell_type": "code",
   "execution_count": 6,
   "metadata": {},
   "outputs": [
    {
     "data": {
      "text/plain": [
       "high     6096\n",
       "low      9621\n",
       "mid     20914\n",
       "Name: Census_ProcessorClass, dtype: int64"
      ]
     },
     "execution_count": 6,
     "metadata": {},
     "output_type": "execute_result"
    }
   ],
   "source": [
    "valores['Census_ProcessorClass']"
   ]
  },
  {
   "cell_type": "code",
   "execution_count": 7,
   "metadata": {},
   "outputs": [
    {
     "data": {
      "text/plain": [
       "1.0          39\n",
       "2.0           3\n",
       "3.0           2\n",
       "5.0           1\n",
       "6.0           1\n",
       "7.0           6\n",
       "8.0          13\n",
       "9.0          19\n",
       "10.0        255\n",
       "11.0          1\n",
       "14.0          1\n",
       "15.0          1\n",
       "16.0          3\n",
       "19.0          1\n",
       "20.0          1\n",
       "23.0         10\n",
       "24.0        152\n",
       "25.0          1\n",
       "26.0          5\n",
       "27.0          1\n",
       "28.0          5\n",
       "29.0          1\n",
       "32.0          3\n",
       "33.0          1\n",
       "34.0          1\n",
       "35.0          1\n",
       "38.0          1\n",
       "41.0          1\n",
       "43.0          1\n",
       "44.0          1\n",
       "          ...  \n",
       "3167.0        1\n",
       "3169.0        1\n",
       "3171.0        1\n",
       "3172.0        1\n",
       "3173.0        1\n",
       "3175.0        1\n",
       "3176.0    24220\n",
       "3177.0        1\n",
       "3179.0        1\n",
       "3180.0        1\n",
       "3181.0        1\n",
       "3183.0        1\n",
       "3185.0       11\n",
       "3186.0        7\n",
       "3188.0        1\n",
       "3191.0        1\n",
       "3192.0        2\n",
       "3193.0        2\n",
       "3194.0       18\n",
       "3195.0    42692\n",
       "3196.0        1\n",
       "3197.0        1\n",
       "3203.0        1\n",
       "3204.0        8\n",
       "3205.0        1\n",
       "3206.0        1\n",
       "3207.0        2\n",
       "3209.0        1\n",
       "3211.0        3\n",
       "3213.0        1\n",
       "Name: DefaultBrowsersIdentifier, Length: 2017, dtype: int64"
      ]
     },
     "execution_count": 7,
     "metadata": {},
     "output_type": "execute_result"
    }
   ],
   "source": [
    "valores['DefaultBrowsersIdentifier']"
   ]
  },
  {
   "cell_type": "code",
   "execution_count": 8,
   "metadata": {},
   "outputs": [
    {
     "data": {
      "text/plain": [
       "5.0            2\n",
       "7.0           33\n",
       "8.0            3\n",
       "9.0            7\n",
       "11.0           6\n",
       "12.0          22\n",
       "15.0           2\n",
       "16.0           2\n",
       "19.0           4\n",
       "22.0           3\n",
       "23.0          20\n",
       "24.0          16\n",
       "25.0           1\n",
       "29.0           7\n",
       "30.0          42\n",
       "31.0           2\n",
       "32.0          11\n",
       "34.0          38\n",
       "35.0           1\n",
       "36.0           1\n",
       "38.0          27\n",
       "39.0           2\n",
       "40.0          15\n",
       "41.0        1007\n",
       "42.0           1\n",
       "44.0          42\n",
       "46.0           2\n",
       "47.0           8\n",
       "50.0           9\n",
       "51.0           1\n",
       "            ... \n",
       "167924.0       5\n",
       "167925.0       2\n",
       "167926.0       5\n",
       "167928.0       1\n",
       "167929.0       4\n",
       "167930.0       5\n",
       "167931.0       3\n",
       "167932.0       5\n",
       "167933.0      50\n",
       "167934.0     168\n",
       "167935.0       1\n",
       "167938.0      32\n",
       "167939.0      27\n",
       "167940.0       1\n",
       "167941.0      48\n",
       "167942.0       4\n",
       "167943.0       1\n",
       "167944.0      16\n",
       "167945.0       4\n",
       "167946.0      60\n",
       "167950.0       3\n",
       "167952.0       2\n",
       "167953.0      79\n",
       "167954.0      20\n",
       "167955.0       4\n",
       "167957.0       2\n",
       "167958.0       1\n",
       "167959.0       8\n",
       "167961.0       1\n",
       "167962.0      16\n",
       "Name: CityIdentifier, Length: 107366, dtype: int64"
      ]
     },
     "execution_count": 8,
     "metadata": {},
     "output_type": "execute_result"
    }
   ],
   "source": [
    "valores['CityIdentifier']"
   ]
  }
 ],
 "metadata": {
  "kernelspec": {
   "display_name": "Python 3",
   "language": "python",
   "name": "python3"
  },
  "language_info": {
   "codemirror_mode": {
    "name": "ipython",
    "version": 3
   },
   "file_extension": ".py",
   "mimetype": "text/x-python",
   "name": "python",
   "nbconvert_exporter": "python",
   "pygments_lexer": "ipython3",
   "version": "3.6.7"
  }
 },
 "nbformat": 4,
 "nbformat_minor": 2
}
