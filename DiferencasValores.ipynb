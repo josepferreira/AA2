{
 "cells": [
  {
   "cell_type": "code",
   "execution_count": 1,
   "metadata": {},
   "outputs": [],
   "source": [
    "import pandas as pd"
   ]
  },
  {
   "cell_type": "code",
   "execution_count": 2,
   "metadata": {},
   "outputs": [],
   "source": [
    "def processa_chunk(ms, valores):\n",
    "    if(valores is None):\n",
    "        valores = {}\n",
    "        for v in ms.columns:\n",
    "            valores.update({v: ms[v].value_counts(dropna=False)})\n",
    "    else:\n",
    "        for v in ms.columns:\n",
    "            valores[v] =  pd.concat([valores[v],ms[v].value_counts(dropna=False)]).groupby(level=0).sum()\n",
    "    return valores"
   ]
  },
  {
   "cell_type": "code",
   "execution_count": 3,
   "metadata": {},
   "outputs": [
    {
     "name": "stdout",
     "output_type": "stream",
     "text": [
      "0\n",
      "1\n",
      "2\n",
      "3\n",
      "4\n",
      "5\n",
      "6\n",
      "7\n",
      "8\n",
      "9\n",
      "10\n",
      "11\n",
      "12\n",
      "13\n",
      "14\n",
      "15\n",
      "16\n",
      "17\n"
     ]
    }
   ],
   "source": [
    "chunksize = 0.5 * (10 ** 6)\n",
    "valores = None\n",
    "nlinhas = 0\n",
    "i = 0\n",
    "for ms in pd.read_csv('../train_lessNAs.csv', low_memory=False, chunksize = chunksize):\n",
    "    print(i)\n",
    "    i += 1\n",
    "    nlinhas += ms.shape[0]\n",
    "    valores = processa_chunk(ms,valores)"
   ]
  },
  {
   "cell_type": "code",
   "execution_count": 4,
   "metadata": {},
   "outputs": [],
   "source": [
    "# Depois dividir os valores pelo numero de linhas para ter percentagens\n"
   ]
  },
  {
   "cell_type": "code",
   "execution_count": 6,
   "metadata": {},
   "outputs": [
    {
     "name": "stdout",
     "output_type": "stream",
     "text": [
      "0    0.999992\n",
      "1    0.000008\n",
      "Name: IsBeta, dtype: float64\n",
      "0    0.982666\n",
      "1    0.017334\n",
      "Name: IsSxsPassiveMode, dtype: float64\n",
      "0    0.012029\n",
      "1    0.987971\n",
      "Name: HasTpm, dtype: float64\n",
      "0.0    0.054157\n",
      "1.0    0.941803\n",
      "Name: IsProtected, dtype: float64\n",
      "0    0.999971\n",
      "1    0.000029\n",
      "Name: AutoSampleOptIn, dtype: float64\n",
      "0.0    0.939288\n",
      "1.0    0.000435\n",
      "Name: SMode, dtype: float64\n",
      "0.0    0.021198\n",
      "1.0    0.968563\n",
      "Name: Firewall, dtype: float64\n",
      "0    0.922813\n",
      "1    0.077187\n",
      "Name: Census_HasOpticalDiskDrive, dtype: float64\n",
      "0    0.999455\n",
      "1    0.000545\n",
      "Name: Census_IsPortableOperatingSystem, dtype: float64\n",
      "0.0    0.169557\n",
      "1.0    0.000002\n",
      "Name: Census_IsFlightingInternal, dtype: float64\n",
      "0.0    0.981997\n",
      "1.0    0.000010\n",
      "Name: Census_IsFlightsDisabled, dtype: float64\n",
      "0.0    0.364664\n",
      "1.0    0.000091\n",
      "Name: Census_ThresholdOptIn, dtype: float64\n",
      "0    0.513977\n",
      "1    0.486023\n",
      "Name: Census_IsSecureBootEnabled, dtype: float64\n",
      "0.0    3.656095e-01\n",
      "1.0    1.120890e-07\n",
      "Name: Census_IsWIMBootEnabled, dtype: float64\n",
      "0.0    0.991185\n",
      "1.0    0.007027\n",
      "Name: Census_IsVirtualDevice, dtype: float64\n",
      "0    0.874457\n",
      "1    0.125543\n",
      "Name: Census_IsTouchEnabled, dtype: float64\n",
      "0    0.961929\n",
      "1    0.038071\n",
      "Name: Census_IsPenCapable, dtype: float64\n",
      "0.0    0.935043\n",
      "1.0    0.056960\n",
      "Name: Census_IsAlwaysOnAlwaysConnectedCapable, dtype: float64\n",
      "0.0    0.692053\n",
      "1.0    0.273933\n",
      "Name: Wdft_IsGamer, dtype: float64\n",
      "0    0.500207\n",
      "1    0.499793\n",
      "Name: HasDetections, dtype: float64\n"
     ]
    }
   ],
   "source": [
    "for key, value in valores.items():\n",
    "    if(value.shape[0] < 3): \n",
    "        print(value/nlinhas)"
   ]
  }
 ],
 "metadata": {
  "kernelspec": {
   "display_name": "Python 3",
   "language": "python",
   "name": "python3"
  },
  "language_info": {
   "codemirror_mode": {
    "name": "ipython",
    "version": 3
   },
   "file_extension": ".py",
   "mimetype": "text/x-python",
   "name": "python",
   "nbconvert_exporter": "python",
   "pygments_lexer": "ipython3",
   "version": "3.6.7"
  }
 },
 "nbformat": 4,
 "nbformat_minor": 2
}
